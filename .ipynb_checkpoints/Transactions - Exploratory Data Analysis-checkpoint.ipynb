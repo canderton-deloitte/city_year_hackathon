{
 "cells": [
  {
   "cell_type": "markdown",
   "id": "27afbf04",
   "metadata": {},
   "source": [
    "# Giving Transaction Exploratory Data Analysis"
   ]
  },
  {
   "cell_type": "markdown",
   "id": "17fb0a23",
   "metadata": {},
   "source": [
    "### Section I: Data Cleaning"
   ]
  },
  {
   "cell_type": "markdown",
   "id": "bafddf04",
   "metadata": {},
   "source": [
    "The purpose of this code is to clean the giving transactions data by conducting the following steps:\n",
    "\n",
    "1. Identify all NaN values and NaN-heavy features\n",
    "2. Drop NaN-heavy features\n",
    "3. Drop observations w/ NaN values if the % of observations is <0.01% of the total observations\n",
    "4. Convert all non-numeric datatypes to numeric"
   ]
  },
  {
   "cell_type": "code",
   "execution_count": 4,
   "id": "b5385d6d",
   "metadata": {},
   "outputs": [],
   "source": [
    "# import all necessary libraries\n",
    "import pandas as pd"
   ]
  },
  {
   "cell_type": "code",
   "execution_count": 5,
   "id": "b9ba4d56",
   "metadata": {},
   "outputs": [],
   "source": [
    "# import data\n",
    "gt_df = pd.read_csv('./Payment Transactions 1999_2017.csv', encoding='cp437')"
   ]
  },
  {
   "cell_type": "code",
   "execution_count": 6,
   "id": "cc24a5bc",
   "metadata": {
    "scrolled": true
   },
   "outputs": [
    {
     "name": "stdout",
     "output_type": "stream",
     "text": [
      "  Staff Member   Amount Payment Number GAU Allocation Name Scheduled Date  \\\n",
      "0          NaN    18.75     PMT-197286           ALL-99497            NaN   \n",
      "1          NaN   300.00     PMT-201371          ALL-119924            NaN   \n",
      "2          NaN   500.00      PMT-68703          ALL-119925            NaN   \n",
      "3          NaN  3756.84      PMT-08521          ALL-119926            NaN   \n",
      "4          NaN  1000.00      PMT-73062          ALL-262685            NaN   \n",
      "\n",
      "  Payment Date Stage is Pipeline or Committed/Completed  \\\n",
      "0     4/1/2016                      Committed/Completed   \n",
      "1    3/23/2016                      Committed/Completed   \n",
      "2    3/23/2016                      Committed/Completed   \n",
      "3    3/23/2016                      Committed/Completed   \n",
      "4    3/23/2016                      Committed/Completed   \n",
      "\n",
      "  Opportunity: Primary Campaign Source: Campaign Name  \\\n",
      "0                    BOS-MA: FY16 Ambassadors Giving    \n",
      "1                                  COL-SC: FY16 Gala    \n",
      "2                                  COL-SC: FY16 Gala    \n",
      "3                COL-SC: FY16 Capacity Solicitations    \n",
      "4                                  PRV-RI: FY16 Gala    \n",
      "\n",
      "  Opportunity: Legacy SF ID Opportunity: Opportunity ID Opportunity: Donor Id  \\\n",
      "0        006U000000XorgHIAR             0065Y00001Yp7gk       0035Y000042aKlJ   \n",
      "1        006U000000X8X6BIAV             0065Y00001Yp9DQ       0035Y000042aMKB   \n",
      "2        006U000000X8X6DIAV             0065Y00001YpJkS       0035Y000042Zwke   \n",
      "3        006U000000X8X6QIAV             0065Y00001Yp9aH       0015Y00002sBbme   \n",
      "4        006U000000X8X6gIAF             0065Y00001YpMRB       0035Y000042ZzoO   \n",
      "\n",
      "         Legacy SF ID      Legacy SF ID.1 Payment Status  \n",
      "0  006U000000XorgIIAR  a450d000000aBOSAA2           Paid  \n",
      "1  006U000000X8X6CIAV  a450d000000a9SJAAY           Paid  \n",
      "2  006U000000X8X6EIAV  a450d000000a9SZAAY           Paid  \n",
      "3  006U000000X8X6RIAV  a450d000000a9SyAAI           Paid  \n",
      "4  006U000000X8X6hIAF  a450d000000REExAAO           Paid  \n"
     ]
    }
   ],
   "source": [
    "# display data head\n",
    "print(gt_df.head())"
   ]
  },
  {
   "cell_type": "code",
   "execution_count": 7,
   "id": "38d9c948",
   "metadata": {},
   "outputs": [
    {
     "name": "stdout",
     "output_type": "stream",
     "text": [
      "Staff Member                                              919\n",
      "Amount                                                      0\n",
      "Payment Number                                              0\n",
      "GAU Allocation Name                                         0\n",
      "Scheduled Date                                         189831\n",
      "Payment Date                                                2\n",
      "Stage is Pipeline or Committed/Completed                    0\n",
      "Opportunity: Primary Campaign Source: Campaign Name        12\n",
      "Opportunity: Legacy SF ID                                   0\n",
      "Opportunity: Opportunity ID                                 0\n",
      "Opportunity: Donor Id                                       0\n",
      "Legacy SF ID                                                7\n",
      "Legacy SF ID.1                                              7\n",
      "Payment Status                                              0\n",
      "dtype: int64\n",
      "(189833, 14)\n"
     ]
    }
   ],
   "source": [
    "# display sum of nulls & dataframe shape\n",
    "print(gt_df.isnull().sum())\n",
    "print(gt_df.shape)"
   ]
  },
  {
   "cell_type": "markdown",
   "id": "3705752f",
   "metadata": {},
   "source": [
    "Since only one feature contains a significant number of NaNs, we can eliminate that feature for future use.\n",
    "\n",
    "We can also eliminate the remaining observations that contain NaNs since they only contain <0.01% of our total data."
   ]
  },
  {
   "cell_type": "code",
   "execution_count": 8,
   "id": "3166f57d",
   "metadata": {},
   "outputs": [
    {
     "name": "stdout",
     "output_type": "stream",
     "text": [
      "Staff Member                                           0\n",
      "Amount                                                 0\n",
      "Payment Number                                         0\n",
      "GAU Allocation Name                                    0\n",
      "Payment Date                                           0\n",
      "Stage is Pipeline or Committed/Completed               0\n",
      "Opportunity: Primary Campaign Source: Campaign Name    0\n",
      "Opportunity: Legacy SF ID                              0\n",
      "Opportunity: Opportunity ID                            0\n",
      "Opportunity: Donor Id                                  0\n",
      "Legacy SF ID                                           0\n",
      "Legacy SF ID.1                                         0\n",
      "Payment Status                                         0\n",
      "dtype: int64\n"
     ]
    }
   ],
   "source": [
    "gt_df = gt_df.loc[:, gt_df.columns != 'Scheduled Date']\n",
    "gt_df = gt_df.dropna()\n",
    "print(gt_df.isnull().sum())"
   ]
  },
  {
   "cell_type": "markdown",
   "id": "d41ceb4e",
   "metadata": {},
   "source": [
    "We now see that all observations w/ NaNs have been eliminated and the feature containing >50% NaNs has been dropped, our data is mostly 'clean'\n",
    "\n",
    "Now, we must convert all non-numeric values (object-based categoricals, for example) so we can run our clustering algorithms."
   ]
  },
  {
   "cell_type": "code",
   "execution_count": 9,
   "id": "5b129fcf",
   "metadata": {},
   "outputs": [
    {
     "name": "stdout",
     "output_type": "stream",
     "text": [
      "<class 'pandas.core.frame.DataFrame'>\n",
      "Int64Index: 188895 entries, 561 to 189832\n",
      "Data columns (total 13 columns):\n",
      " #   Column                                               Non-Null Count   Dtype  \n",
      "---  ------                                               --------------   -----  \n",
      " 0   Staff Member                                         188895 non-null  object \n",
      " 1   Amount                                               188895 non-null  float64\n",
      " 2   Payment Number                                       188895 non-null  object \n",
      " 3   GAU Allocation Name                                  188895 non-null  object \n",
      " 4   Payment Date                                         188895 non-null  object \n",
      " 5   Stage is Pipeline or Committed/Completed             188895 non-null  object \n",
      " 6   Opportunity: Primary Campaign Source: Campaign Name  188895 non-null  object \n",
      " 7   Opportunity: Legacy SF ID                            188895 non-null  object \n",
      " 8   Opportunity: Opportunity ID                          188895 non-null  object \n",
      " 9   Opportunity: Donor Id                                188895 non-null  object \n",
      " 10  Legacy SF ID                                         188895 non-null  object \n",
      " 11  Legacy SF ID.1                                       188895 non-null  object \n",
      " 12  Payment Status                                       188895 non-null  object \n",
      "dtypes: float64(1), object(12)\n",
      "memory usage: 20.2+ MB\n",
      "None\n"
     ]
    }
   ],
   "source": [
    "# dispaly datatypes of existing DF\n",
    "print(gt_df.info())"
   ]
  },
  {
   "cell_type": "code",
   "execution_count": 10,
   "id": "2f1c16de",
   "metadata": {},
   "outputs": [
    {
     "data": {
      "text/plain": [
       "561        7.0\n",
       "562        7.0\n",
       "563        7.0\n",
       "564        7.0\n",
       "565        7.0\n",
       "          ... \n",
       "189821    26.0\n",
       "189822    26.0\n",
       "189830    27.0\n",
       "189831    27.0\n",
       "189832    27.0\n",
       "Name: Staff Member, Length: 188895, dtype: float64"
      ]
     },
     "execution_count": 10,
     "metadata": {},
     "output_type": "execute_result"
    }
   ],
   "source": [
    "# clean & convert the staff member #s to integers\n",
    "gt_df['Staff Member'] = gt_df['Staff Member'].str[6:-1]\n",
    "gt_df['Staff Member'] = pd.to_numeric(gt_df['Staff Member'])\n",
    "\n",
    "# print new integer based staff member column\n",
    "gt_df['Staff Member']"
   ]
  },
  {
   "cell_type": "code",
   "execution_count": 11,
   "id": "ac4ef15f",
   "metadata": {},
   "outputs": [
    {
     "data": {
      "text/plain": [
       "561        1169\n",
       "562        6709\n",
       "563        6709\n",
       "564        7109\n",
       "565        6709\n",
       "          ...  \n",
       "189821     4837\n",
       "189822     4837\n",
       "189830     1940\n",
       "189831    13448\n",
       "189832     8459\n",
       "Name: Payment Number, Length: 188895, dtype: int64"
      ]
     },
     "execution_count": 11,
     "metadata": {},
     "output_type": "execute_result"
    }
   ],
   "source": [
    "# clean & convert the Payment Number to integers\n",
    "gt_df['Payment Number'] = gt_df['Payment Number'].str[4:-1]\n",
    "gt_df['Payment Number'] = pd.to_numeric(gt_df['Payment Number'])\n",
    "\n",
    "# print new integer based Payment Number column\n",
    "gt_df['Payment Number']"
   ]
  },
  {
   "cell_type": "code",
   "execution_count": 12,
   "id": "ac056cc6",
   "metadata": {},
   "outputs": [
    {
     "data": {
      "text/plain": [
       "561       15674\n",
       "562        8201\n",
       "563        8201\n",
       "564       14341\n",
       "565        8202\n",
       "          ...  \n",
       "189821    16739\n",
       "189822    16780\n",
       "189830    19311\n",
       "189831    24103\n",
       "189832    24188\n",
       "Name: GAU Allocation Name, Length: 188895, dtype: int64"
      ]
     },
     "execution_count": 12,
     "metadata": {},
     "output_type": "execute_result"
    }
   ],
   "source": [
    "# clean & convert the GAU Allocation Name to integers\n",
    "gt_df['GAU Allocation Name'] = gt_df['GAU Allocation Name'].str[4:-1]\n",
    "gt_df['GAU Allocation Name'] = pd.to_numeric(gt_df['GAU Allocation Name'])\n",
    "\n",
    "# print new integer based GAU Allocation Name column\n",
    "gt_df['GAU Allocation Name']"
   ]
  },
  {
   "cell_type": "code",
   "execution_count": 13,
   "id": "711b59c6",
   "metadata": {},
   "outputs": [
    {
     "data": {
      "text/plain": [
       "561      2004-06-08\n",
       "562      2015-04-13\n",
       "563      2015-04-13\n",
       "564      2015-07-16\n",
       "565      2015-04-13\n",
       "            ...    \n",
       "189821   2017-04-25\n",
       "189822   2016-10-27\n",
       "189830   2017-03-31\n",
       "189831   2013-08-28\n",
       "189832   2013-02-11\n",
       "Name: Payment Date, Length: 188895, dtype: datetime64[ns]"
      ]
     },
     "execution_count": 13,
     "metadata": {},
     "output_type": "execute_result"
    }
   ],
   "source": [
    "# convert Payment Date to datetime format\n",
    "gt_df['Payment Date'] =  pd.to_datetime(gt_df['Payment Date'], format = '%m/%d/%Y')\n",
    "\n",
    "# display new datetime column to cross check\n",
    "gt_df['Payment Date']"
   ]
  },
  {
   "cell_type": "code",
   "execution_count": 14,
   "id": "d02027ac",
   "metadata": {},
   "outputs": [
    {
     "data": {
      "text/plain": [
       "{'Committed/Completed'}"
      ]
     },
     "execution_count": 14,
     "metadata": {},
     "output_type": "execute_result"
    }
   ],
   "source": [
    "# print new integer based Stage is Pipeline or Committed/Completed Name column\n",
    "set(gt_df['Stage is Pipeline or Committed/Completed'])"
   ]
  },
  {
   "cell_type": "markdown",
   "id": "4ea3fddf",
   "metadata": {},
   "source": [
    "This tells us that every entry has 'Committed/Completed', with 0 variance. We can eliminate that feature simply because it will provide no value."
   ]
  },
  {
   "cell_type": "code",
   "execution_count": 15,
   "id": "72eeaaad",
   "metadata": {
    "scrolled": true
   },
   "outputs": [
    {
     "name": "stdout",
     "output_type": "stream",
     "text": [
      "<class 'pandas.core.frame.DataFrame'>\n",
      "Int64Index: 188895 entries, 561 to 189832\n",
      "Data columns (total 12 columns):\n",
      " #   Column                                               Non-Null Count   Dtype         \n",
      "---  ------                                               --------------   -----         \n",
      " 0   Staff Member                                         188802 non-null  float64       \n",
      " 1   Amount                                               188895 non-null  float64       \n",
      " 2   Payment Number                                       188895 non-null  int64         \n",
      " 3   GAU Allocation Name                                  188895 non-null  int64         \n",
      " 4   Payment Date                                         188895 non-null  datetime64[ns]\n",
      " 5   Opportunity: Primary Campaign Source: Campaign Name  188895 non-null  object        \n",
      " 6   Opportunity: Legacy SF ID                            188895 non-null  object        \n",
      " 7   Opportunity: Opportunity ID                          188895 non-null  object        \n",
      " 8   Opportunity: Donor Id                                188895 non-null  object        \n",
      " 9   Legacy SF ID                                         188895 non-null  object        \n",
      " 10  Legacy SF ID.1                                       188895 non-null  object        \n",
      " 11  Payment Status                                       188895 non-null  object        \n",
      "dtypes: datetime64[ns](1), float64(2), int64(2), object(7)\n",
      "memory usage: 18.7+ MB\n",
      "None\n"
     ]
    }
   ],
   "source": [
    "gt_df = gt_df.loc[:, gt_df.columns != 'Stage is Pipeline or Committed/Completed']\n",
    "print(gt_df.info())"
   ]
  },
  {
   "cell_type": "code",
   "execution_count": 16,
   "id": "238514e2",
   "metadata": {},
   "outputs": [
    {
     "name": "stdout",
     "output_type": "stream",
     "text": [
      "561                              04 NAT EVT\n",
      "562                                   UNSOL\n",
      "563                                   UNSOL\n",
      "564           DET-MI: FY16 Team Sponsorship\n",
      "565                                   UNSOL\n",
      "                        ...                \n",
      "189821    JAX-FL: FY17 Program Sponsorships\n",
      "189822    JAX-FL: FY17 Program Sponsorships\n",
      "189830                    MWK-WI: FY17 Gala\n",
      "189831              FY13 Team Sponsors HALF\n",
      "189832                                 WSWC\n",
      "Name: Campaign Name, Length: 188895, dtype: object\n"
     ]
    }
   ],
   "source": [
    "# also we are gonna rename this column because its too long and it annoys me\n",
    "gt_df = gt_df.rename(columns={\"Opportunity: Primary Campaign Source: Campaign Name\": \"Campaign Name\"})\n",
    "print(gt_df['Campaign Name'])"
   ]
  },
  {
   "cell_type": "code",
   "execution_count": 17,
   "id": "0dca9d2d",
   "metadata": {},
   "outputs": [
    {
     "name": "stdout",
     "output_type": "stream",
     "text": [
      "{'05 CSC DIN:05 Gold', 'BOS-MA: FY14 Fam Fall', 'CHI-IL: FY16 Sustainable Personalized Ask', '62000:SPRCAMP', 'DEN-CO: FY14 Women Lead', '05 BOS ANPM', 'DET-MI: FY14 Spring', '06 NH DIN:06 Presenting', 'FY09 OTHER INCOME:ALUMBRDDUES', '07 NAT IGC:LAAFFF', '05 SEA DIN:05 Bronze', '08 NYC SPPM', '05 CHI APP:SPRINGA', '09ATL MTCH (NP)', '06 COL APP:SPRINGD', \"BOS-MA: FY15 Women's Bfast\", 'NOL-LA: FY16 Program Support Solicitations', 'Endowment', 'CLE-OH: FY16 Team Sponsorships', 'LOS-CA: FY16 Board Giving', '07 BOS APPNI', '05 SAN AFT', '07 SEA SFC', '80010-LSA09F:POTDNR', '07 COL APP:FALLAP', 'MIA: FY13 Women Lun', '09 COL CMPSP', '08 DET APPNI:SPRINGPD', '06 RHI APPNI', '04 NAT EVT', 'NYC-NY: FY17 Gala Ripples of Hope', '07 BOS TSP:Co-Team', '07 NYC SFC', 'NH: FY13 Bike Race:Jersey', 'CLE-OH: FY17 Micro Campaign', '80000-RHI10:Donation', '80000-COL08:08 Donation', 'JAX-FL: FY17 Sustainable', 'SAC-CA: FY15 Gala Auction', '80000-MIA12:Night of Ask', '08 NAT SRV', 'BCM Play', 'MIA-FL: FY15 Capacity Program Support Solicitations', '05 WDC GOV', 'COL-OH: FY15 EOY Campaign', '05 NYC EVT', '07 BOS SRV:100HOP', '08 CSC SPP', 'EBR-LA: FY16 Associate Board Fundraiser', '07 PHL APP:FALLCP', 'BOS-MA: FY16 July Appeal to FY15 Parents', 'PHL-PA: FY16 Spring Appeal', 'COL-OH: FY16 EOY Appeal', '08 BOS AFT', 'UNSOL:TRIBUTE', '08 PHL WSWC', 'MAN-NH: FY14 Winter', '05 CHI ERND', '06 CLE SPPM', '09 CHI IGC:ALUM/FRND CMPN', '06 BOS EVT:GOLFS', '06 CSC SPPM', '07 BOS DIN:07 Presenting', 'EBR-LA: FY15 Graduation', '08 LRA CMPSP', 'MWK-WI: FY17 Gala', '04 INT CYSA', '80000-DET09:VIPTKT', 'CHI-IL: FY15 Capacity Solicitations', 'DET-MI: FY14 Gala Sustainable Sponsorships', 'PHL-PA: FY16 October Appeal', '08 LRA APPNI:SPRINGD', '10 NH IGC:ALUM/FRND CMPN', '09 DET G', '04 CLE SERV', '05 DET CAP', '80010-RHI10F:DNR', 'WDC-DC: FY16 Spring Break - Anacostia', '05 CSC CAMP', 'WDC: FY13 Do More 24', 'COL-OH: FY15 Board Campaign', '07 NAT ERND', '07 DET IGC:NSM', '05 RADIO', 'LOS-CA: FY16 Associates Board Giving', '05 CLE DIN:05 Bronze', 'FY09 OTHER INCOME:AssBrdDues', '08 PHL CFC', '06 LSA APP:FALLD', '80000-WDC10:80000-WDC10', 'PHL-PA: FY15 Fall Appeal', '80000-CLE08:08 Bronze', \"BOS-MA: FY16 Women's Bfast\", 'NYC: FY13 Gala:Night of Ask', '04 NAT CYZ:REG', '80010-CLE09F:POTDNR', '08 CSC IGC:ALUM/FRND CMPN', '06 RHI DIN:06 Silver', '80010-RHI09F:ALUM PRNTS', '80010-RHI09F:RENTED', '08 SEA YH:YHOTHER', 'San12 - 5100', '08 CSC ERND', 'DET-MI: FY13 Gala:VIP Sponsor', '05 PHL PROG:RADIO', '09 NYC IGC:ALUM/FRND CMPN', '07 WDC PROG', 'CHI-IL: FY17 Team Sponsorships', 'SAC-CA: FY16 Sustainable Personalized Ask', 'BOS-MA: FY17 Spring Appeal Current Donor Email 1', '08 RHI SPS', '06 DET DIN', '06 NYC DIN:06 Individual', '05 COL DIN:05 Bronze', '80010-HQ09S:DNR', '04 COL CAMP', '06 SANJ CYZ', '06 SAN YH', '06 SAN DIN:06 Silver', 'Building Campaign:ALUM/FRND CMPN', '80000-SEA08:08 Silver', 'LOS-CA: FY16 Team Sponsorships', 'Combined Federal Campaign', '05 BOS DIN (2004)', 'FIB', '07 BOS APP:SPRINGAP', '04 CSC CARE', 'LOS-CA: FY15 Gala New/Tickets', '06 CLE SRVSP', '05 BOS GEN:STAFIB', '05 NH DIN:05 General Donations', '08 LAX IGC', '07 NYC EVT', \"SAN-TX: FY16 Women's Luncheon\", '06 RHI APPNI:SPRINGD', 'PHL-PA: FY14 Gala:Night of Ask', '07 CHI DIN', '80000-HQ08:08 Plantinum', '05 CLE MAJ', '05 COL APP', 'DET-MI: FY13 Gala:Donation', '05 COL YH', '07 WDC SRVSP', 'NYC-NY: FY15 Sustainable Personalized Ask', 'FY13 Team Sponsorships FULL', '03NB SSN:FF B', '80000-DET09:INDTKT', '08 PHL DIN (2007):Corporate Leadership', '08 SEA APP', '80000-SANJ12:Sponsor', '07 CHI SRV', '07 NAT G:VFNS', 'DEN-CO: FY16 Women?s Breakfast', 'CLE-OH: FY16 Strong Circle', 'PHL: FY13 Gala:donations', 'HQI-MA: FY16 Einhorn Bridge Match', '08 CSC YH:Young Heroes Fundrai', '04 NYC CAMP:SPON', 'LTR-AR: FY15 Sustainable Personalized Ask', '05 SEA IGC', 'NYC: FY11 AssocBrd:Superbowl Raffle', 'WDC: FY13 Sig Serv', '06 NYC TSP', '09 NAT G', '08 SANJ CMPSP', '09 COL TSP:Full Team', '07 NAT IGC:Los Angeles', '06 LRA GRAD', '04 CHI PROG', '07 WDC APP:FALLPD', 'SAC-CA: FY14 Spring', '07 PHL SRVSP', '04 CHI SPPM', 'EBR-LA: FY17 Flood Relief', '07 BOS ERND', 'RHI: FY14 PBN Article', 'LOS-CA: FY17 Alumni Board Giving', '08 PHL OPEN', '10 BLD:ALUM/FRND CMPN', '05 CHI SRVSP', '80000-RHI08:08 Donation', '07 RHI APP:FALL', 'SNJ-CA: FY17 STEAM', '80010-PHL11F', 'NYC: FY12 PEVC', '05 CLE SPPM', '10 PHL TSP:Full Team', 'PHL: FY13 Gala:Deloitte Copeland', '08 DET DIN (2007):Individual Tickets (', 'DET-MI: FY15 Gala Night of Ask', 'DEN-CO: FY17 CO Gives Day', '08 CLE IGC:ALUM/FRND CMPN', 'TUL-OK: FY17 Graduation', 'Annual Dinner-LSA11', '80000-SEA09:TABLESPSR', '06 NAT PROG', 'SEA: FY13 Gala:Auction', 'SEA-WA: FY14 Gala: Night of Ask', '06 PHL APP:FALLA', '07 CSC DIN', 'LOS-CA: FY16 Micro Campaigns', '05 WDC GEN', '80010-DET09F:POTDNR', '09 CSC IGC:ALUM/FRND CMPN', 'EBR-LA: FY16 10th Anniversary', '07 BOS APPNI:SPRINGD', '06 NYC OPEN', '05 SANJ GOV', 'WDC-DC: FY16 DC United Event', 'COL-SC: FY15 Gala Night of Ask', 'PHL-PA: FY16 Gala', 'NYC: FY13 Gala:Tickets', '06 NAT PROG:SACT', '80010-NYC11BTS:CORPS PRNTS', 'Building Campaign', 'CHI-IL: FY17 Alumni Board Dues and Donations', '08 SEA SRVSP', '06 CLE TSP', '08 SANJ APP:FALL', 'LOS-CA: FY16 Service Day', '06 NAT APPNI:FALLOS', 'SAN-TX: FY14 Golf', '08 NYC SRV', 'CLE-OH: FY16 Program Support Solicitations', '80040:Spring Fundraiser', 'WDC-DC: FY12 Gala Tickets', '06 NAT EVT:VFNS', 'WDC-DC: FY13 Camp CY', 'NYC-NY: FY17 Alumni & Friends Fundraiser', '02 RHI TSP', 'City Day:REG', 'CHI-IL: FY17 Individual Annual Fund', 'NYC-NY: FY13 Associte Board', '07 BOS IGC:Honor/Memory', 'NYC: FY13 Alumni:Tickets', '08 LSA OPEN', '07 NH AFT', '07 COL PROG', '05 DET DIN:05 Platinum', '04 NYC TSP', '06 NYC IGC', '04 COL PROG:Reading Success', 'COL-OH: FY16 Program Support Solicitations', '05 SANJ GRAD', '08 SEA IGC:ALUM/FRND CMPN', '06 LRA APP:SPRINGPD', 'NOL-LA: FY16 Gala New/Tickets', \"04 Int'l\", 'CHI-IL: FY17 Gala - Individual', 'MWK-WI: FY15 Capacity Solicitations', '10 LRA TSP:Full Team', '80010-DET10S:RENTED', 'NYC-NY: FY13 Bain Cares Auction', 'BOS-MA: FY15 Spring Appeal Regular CD (Current Donor) Letter', 'MAN-NH: FY16 Camps', 'WDC-DC: FY17 Legal Breakfast', '08 PHL APP', '64000-SPR', '07 NYC IGC', '06 NYC EVT', 'SEA-WA: FY16 Alumni Giving Challenge', 'DET-MI: FY17 Team Sponsorships', '06 COL DIN:PLAT', '04 COL YH', '10 SANJ PROG', '80010-WDC11F:ALUM PRNTS', '80010-HQ09F:DNR', '06 WDC APP:FALLAP', 'Mje', 'HQI-MA: 25th Anniversary Alumni--Strong Circle Day of Giving', '08 CHI EVT', '05 WDC TSP', '80000-HQ10', '08 BOS EVT', '05 CSC APP', '05 LRA DIN:05 CIT', 'SEA: FY13 Gala:ticket', '05 CHI APP:SPRINGPD', 'BOS-MA: FY17 Team Sponsorships', '05 CHI IGC', 'HQI-MA: FY17 Einhorn Bridge Match', '06 SANJ TSP:Co-Team', '10 CLE IGC:ALUM/FRND CMPN', '07 NAT NSD', '07 COL EVT', 'ORL-FL: DV:ECA$:FY15:140812: 2014 Community Giving Campaign', '06 WDC IGC', '05 INT SUS', '07 JBG TSP:Co-Team', '08 LSA IGC', 'MWK-WI: FY17 Program Sponsorships', '06 SEA PROG', '06 BOS G', '08 DET APP:SPRINGPD', '08 WDC APP:FALLPD', '07 NAT NLS', '07 RHI DIN:RTKT', 'BOS-MA: FY13 Gala:donation', '03NB SSN', '09 RHI G', '05 COL APP:FALLYH', '07 SFCI SFC:MFT', 'SAT', '10 LRA IGC:ALUM/FRND CMPN', '05 INT IGC:NSD', '04 CLE PROG', 'TUL-OK: FY17 Sustainable', 'MIA-FL: FY16 Alumni Brunch', '07 SANJ TSP:Co-Team', '09 SANJ IGC:ALUM/FRND CMPN', '10 WDC G', '08 BOS CMPSP', '05 PHL GEN', '08 NYC IGC:ALUM/FRND CMPN', '09 LAX IGC:Founding Citizens', '04 PHL SAT', 'HQI-MA: 25th Anniversary Alumni', '80010-SAN08S:DNR', 'EBR-LA: FY15 EOY Campaign', '80010-PHL09S:DNR', '06 BOS DIN:ALUM', '80000-CHI09', 'FY13 Team Sponsors HALF', 'HQI-MA: FY16 Sustainable Personalized Ask', '08 LAX TSP:Co-Team', 'WSWC:Radiothon', '07 RHI DIN:CMPREV', 'SEA-WA: FY17 Alumni Giving Challenge', '08 WDC SRV', 'GENSOL:Payroll Deduction', '10 BOS APP:FALL', 'MIA: FY12 Women:Donation', '06 CHI DIN:Presenting', '08 PHL CH', '08 DET G', '10 SEA PROG', '08 NAT AFT', 'BOS-MA: FY17 Legal Bfast', 'ORL-FL: FY15 Sustainable Personalized Ask', '05 CSC DIN:500SPON', '80010-PHL12F', 'Local Government', 'DET-MI: FY15 Sustainable Personalized Ask', 'HQI-MA: FY16 Cause Marketing', '08 RHI G', \"TUL-OK: FY15 Women's Event\", 'PHL-PA: FY17 ING Appeals - LYBUNT', '04 NYC IGC:FOUND', '80010-WDC11F', '80000-RHI09:DONATION', '05 SEA EVT', 'SANJ: FY13 Gala:Tickets', 'SEA-WA: FY17 Give BIG', '04 CHI IGC', '80010-PHL09F:CORPS PRNTS', 'MIA: FY13 After Part', 'EBR-LA: FY15 Sustainable Personalized Ask', '05 SANJ PROG:Clinton Innovation A', 'MIA: FY13 DTD:26 Seconds', 'MWK-WI: FY18 Sustainable', '04 PHL YH', 'MWK-WI: FY16 Team Sponsorships', 'JAX-FL: FY15 Team Sponsorships', '05 COL CMPSP', 'TUL-OK: FY15 EOY Mailing', '80000-NH10:Tkts & Tbles', '80000-NYC09:80000-NYC09', 'HQI-MA: 25th Anniversary Alumni--National Board', 'DEN-CO: FY17 Sustainable', 'LOS-CA: FY15 Sustainable Personalized Ask', '06 SAN OPEN', '08 PHL YH:YHTSP', '08 INT APP', '80000-NH09:SPONSOR', 'ORL-FL: FY17 Gala- Red Jackets Rock', 'MIA-FL: FY14 Gala Paint the Town Red', '08 BOS ERND', 'NYC:FY11 Alum', '06 WDC CARE', 'BOS-MA: FY17 Spring Appeal Parent Email 2', '06 BOS PROG:YEARAD', '07 PHL SRV', 'HQI-MA: FY15 CauseMark.WinstonFlowers', '05 BOS SRV:SAT', '80000-CLE12:Sponsor', 'CHI-IL: 25th Anniversary', 'EBR-LA: FY14 Gala:Night of Ask', 'NSD:ORL', 'BOS-MA: FY13 Spring', 'PHL-PA: FY14 Spring', 'COL-OH: FY15 Team Sponsorships', '06 BOS APPNI:FALLD', '10 DET APP:FALL', 'CHI-IL: FY15 Back to School Soiree', '09 NYC G', '05 SEA DIN (2004)', '06 CLE AFT', '06 LSA TSP:Full Team', 'TSP FY09HALF', 'JAX-FL:FY16 Board Giving', 'NYC-NY: FY16 Winter Appeal', 'BOS-MA: FY16 EOY/Winter Appeal', '80010-SANJ12F', '05 CLE EVT', '80010-NH09F:DNR', '04 CLE GEN', '04 CHI PROG:Clinton Innovation A', '80000-SEA09:Donations', 'WDC-DC: FY17 Zipcar Promotion', 'EBR-LA: FY14 Gala Sustainable Sponsorships', 'DEN-CO: FY16 Sustainable Personalized Ask', '80000-RHI08:08 Silver', 'DET: FY16 Gala', 'LOS-CA: FY17 Service Day', '04 CLE GEN:BOARD', '07 SANJ APP:SPRINGD', 'BOS-MA: FY16 Ambassadors Spring Event', 'WDC: FY11 AlumBrd', 'PRV-RI: FY14 Gala:Tickets', 'RHI: FY13 Gala:table', 'MAN-NH: FY17 Alumni Holiday', '07 NYC DIN:07 Individual', 'LDD', '02 RHI CAMP', '06 SEA DIN:06 Individual', '04 SEA EVT', 'PRV-RI: FY16 Sustainable Personalized Ask', 'MIA-FL: FY15 Gala', '05 CHI APP', '07 SEA SRVSP', '07 SANJ AFT', '80010-Acq FY11Fall:A1', '80010-CHI10S:POTDNR', '06 LRA DIN:BRO', 'PHL: FY14 Marathon', '06 COL AFT', '07 DET DIN', '08 SAN CFC', 'DET-MI: FY15 Gala', '80010-CHI08S:CORPS PRNTS', '05 BOS APP:05-FAPD-BOS', '07 DET APP:FALL', '05 DET EVT', 'LTR-AR: FY14 Gala:Auction', '08 SANJ IGC', '06 NYC YH', '06 COL OPEN', '80000-CSC12:Sponsor', 'COL-SC: FY14 Gala:Night of Ask', 'MAN-NH: FY16 Program Support Solicitation', 'MAN-NH: FY15 Red Jacket Society', 'EBR-LA: FY18 Red Jacket Society', 'SANJ: FY13 Gala:Night of Ask', '05 RHI AFT', '07 NAT G', 'BOS-MA: FY16 Investment Bfast', '06 COL DIN:DON', 'LRA: FY13 Gala', '07 SEA ERND', 'MIA-FL: FY15 Board Gifts', 'SAC-CA: FY15 Gala Sustainable/Sponsorships', '80010-COL09S:DNR', '06 NAT PROG:Clinton Innovation A', 'ORL-FL: FY15 Staff Giving Campaign', 'SAN-TX: FY15 Tee It Up Golf Tournament', '08 SEA APP:FALLAP', '80010-HQ10F:POTDNR', 'CHI-IL: FY13 ServIce Rocks', 'DEN: FY13 Gala:Sponsorship', '09 LAX G', 'CYZNAT', 'WDC-DC: FY12 Gala', '08 DET APP:07SPRING', 'DET-MI: FY15 EOY Appeal', '04 WDC PROG', 'MIA: FY11 Women', 'DET-MI: FY13 Gala', '80010-LRA09F:DNR', '08 SEA APP:SPRINGPD', 'SAN-TX: FY17 Sustainable', '04 CHI AFT', 'BOS-MA: FY16 Gala', '06 CHI APPNI:SPRINGD', 'NYC: FY09 AssocBrd', '80000-CSC12:Donation', '08 NYC APPNI', '05 BOS DIN:05 Bronze', '80010-RHI11F', '07 LSA AFT', '80010-Acq FY11Fall:B0', '09 NH YH', '02 RHI DIN', '06 COL APP:SPRINGPD', 'PHL-PA: FY16 Program Support Solicitations', '06 PHL APP:SPRINGD', '04 BOS SRV', '80000-SEA12:Night of Ask', '08 PHL PROG:RADIO', '06 PHL TSP:Full Team', '08 BOS CYZ', '80000-RHI10:Bronze Sponsor', '80010-SANJ09U', '06 SANJ APP:FALLCP', 'ORL-FL: FY15 Gala Silent Auction', 'LOS-CA: FY14 Associate Board Wine Tasting-Auction', '06 CLE DIN:06 Platinum', 'CLE-OH: FY15 Program Support Solicitations', \"DET-MI: FY15 Women's Leadership Breakfast\", '80010-SANJ10F:DNR', 'MAN-NH: FY15 Gala Sponsorships', '80000-CLE12:Donation', 'PHL-PA: FY14 Philly Mar', 'BOS-MA: FY13 Spring Parent', '06 NH SPS', '08 DET PROG', '08 LAX OPEN', 'PHL-PA: FY17 CE Wells Fargo Service Day', 'BOS-MA: FY17 Winter Appeal Recent Lapsed Donors Email 1', 'LOS-CA: FY17 Micro Campaigns', 'DET: 13Schoenberg', 'LTR-AR: FY17 Sustainable', 'LOS-CA: FY16 Alumni Fundraiser', 'CLE-OH: FY14 Board', 'WDC-DC: FY14 Legal Breakfast', '80010-RHI11F:ALUM PRNTS', '06 JBG TSP:Co-Team', 'MIA: FY11 Career Day', 'SAC-CA: FY17 Sustainable', '80010-BOS09F:POTDNR', '08 CSC CFC', '80000-NYC12:Sponsor', '80000-MIA12:Donations', 'MWK-WI: FY15 Sustainable Personalized Ask', '08 SEA TSP:Co-Team', '07 SANJ APP:FALLPD', 'PRV-RI: FY14 Gala', '80000-SEA08:ALUM', '08 NH YH', '05 NYC DIN:05 Silver', '06 COL CH', 'SAC-CA: FY15 Gala', 'PRV-RI: FY17 Annual Appeal', '06 CHI IGC:ABD', '07 RHI DIN:HSPON', '08 BOS IGC', '80000-BOS08:08 Individual', '80000-COL08:08 Silver', '07 SEA CAMP', 'BTR: FY12 Gala:Tickets', '08 NH CMPSP', '05 SANJ CMPSP', '80000-SANJ08:08 Individual', 'LAX: FY13 Golf:tickets', '05 BOS GEN', 'BOS-MA: FY15 Gala', 'LAX: FY11 AssocBrd', '07 NAT DIN (2006):Donation', '09 RHI PROG', '05 BOS EVT:SW2', 'SEA-WA: FY17 Gala Night of Ask', 'BOS-MA: FY17 Winter Appeal Lapsed Donors Monthly Letter 1', '08 BLD:ALUM/FRND CMPN', '10 SEA YH', 'NSD:DEN', 'DET-MI: FY15 Team Sponsorships', '06 BOS APPNI:SPRINGD', 'DET-MI: FY14 Gala:Tickets', 'BOS-MA: FY16 SA Alumni Reception', 'BOS-MA: FY17 June EOY Appeal LYBUNT Personal Calls and Emails', 'BOS-MA: FY17 Winter Appeal Non Donors Email 1', 'HQI-MA: FY17 Giving Tuesday', 'DEN-CO: FY16 Winter Appeal', '05 COL DIN:05 Silver', '07 SAN GRAD', '07 BOS YH', 'BOS-MA: FY14 Legal Brk', 'LOS-CA: FY17 LA Marathon', '07 NAT DIN:07 Silver', \"DEN-CO: FY15 Women's Initiative Sponsorship/Donation\", '04 CSC DIN', 'PHL-PA: FY15 Program Support Solicitations', '80010-LRA10F:DNR', 'BOS-MA: FY15 EOY/Winter Appeal Current Donors Email 2', 'JAX-FL: FY14 Opening Day Dinner', '07 WDC SPP', '08 WDC CAMP', 'BOS-MA: FY17 Service Days', 'BOS-MA: FY13 Service Days', '07 SEA SRV', '03NB SSN:DONATE', '06 BOS ERND', '04 NH EVT:Klane Dinner', '05 CLE GRAD', '08 COL APPNI:SPRINGPD', 'CLE-OH: FY15 Board gifts', 'LOS-CA: FY16 Gala Spring Break', '08 SAN APP', '06 SANJ G', '08 SAN EVT:08 CT', '80000-CHI08:08 Individual', '05 CLE APP', '80000-LAX12:Sponsor', '08 RHI PROG', 'MAN-NH: FY17 Red Jacket Society', 'DET-MI: FY13 Gala:Friend Ticket', '06 DET KTCG', '06 CHI APP:SPRINGPD', 'NSD:LAS', '08 PHL TSP:Co-Team', '04 NH GEN', 'SNJ-CA: FY17 Gala', '05 BOS APP:05-FADO-BOS', '08 RHI SPPM', 'SAN-TX: FY14 Gala:Tickets', '80000-NH10:Sponsor', '07 SEA YH:TL', '80070:Cavender Golf', '03NB SSN:10K SP', 'SEA-WA: FY17 Shoulders of Giants', '08 NH IGC:ALUM/FRND CMPN', 'LOS-CA: FY17 Associates Board Giving', '05 NAT CARE', '04 BOS GEN', 'WDC-DC: FY16 MLK Day', '08 PHL SFC', 'LTR-AR: FY14 Gala:Tickets', 'BOS-MA: FY17 Investment Bfast Monthly Giving', '80000-SANJ09:80000-SANJ09', '04 COL AFT', '06 PHL AFT', '80000-CLE12:Tickets', '07 BOS SRVSP', 'BOS-MA: FY15 EOY/Winter Appeal Recently Lapsed Donors Email 3', '04 CSC APP', 'NHGOLF:NHGOLF', '80000-SEA10:Bronze Sponsorship', '08 LRA APP', '06 NAT ANPM', 'RHI: FY13 Gala:Sponsorship', '06 NYC APP:FALLD', 'BOS-MA: FY13 Gala Night Ask', '07 CLE TSP:Full Team', '01 RHI APP', '06 DET DIN:06 Bronze', '04 SAN GOLF:04 SAN GOLF', 'DEN: FY13 Gala', '07 BOS CAMP', '80010-SANJ09S:RENTED', '06 SEA TSP:Full Team', 'SAC-CA: FY16 Capacity Solicitations', '04 CHI SERV', '05 NYC IGC:FAPP', 'NHMOVIE', '13 NAT CAPAC', '80000-SAN08:08 Donation', '06 BOS EVT:GOLFG', 'BOS-MA: FY16 Spring Appeal Lapsed Donors Letter', '04 CSC AMER', '05 DET APP', '06 CLE APP:FALLOS', '04 SAN SRV', '80000-CHI12:Night of Ask', 'CLE-OH: FY16 Board Gifts', 'JAX-FL: FY16 MLK Day', '61000-PRGM', 'CHI-IL: FY16 Annual Fund Individual', '80040:AABRDDUES', '04 SAN PROG', '08 BOS SPS', 'COL-OH: FY14 Gala:Donations', '06 BOS IGC', '05 SANJ IGC', 'WDC-DC: FY14 EOY', '10 WDC PROG', '06 NAT APP:SPRINGPD', '09 DET TSP:Full Team', 'MWK-WI: FY17 Tailgate', '04 SAN EVT', '80000-NH10:Live Auction', 'SAN-TX: FY13 EOY', '04 SEA GEN', '05 NYC CAMP', '08 NYC G', '06 WDC APP:FALLD', '06 PHL TSP:Co-Team', 'CHI-IL: FY17 Sustainable', '06 NYC SPPM', 'WDC: FY13 Legal Brk:Sponsorship', 'WDC: FY13 EOY', '80000-SEA11:80000-SEA11', 'MAN-NH: FY15 Champion Letters', 'WDC-DC: FY17 Program Support Solicitations', 'JAX-FL:FY16 Staff Giving', '80000-PHL08:08 Corporate', '07 NH APPNI', '80000-PHL09:80000-PHL09', '10 SEA IGC', '08 NH SRVSP', '70000:SPRSHP', 'BOS-MA: FY17 Winter Appeal Parents Email 1', 'NYC-NY: FY17 Bain Cares', 'DET: FY13 Gala:Gen Reception Ticket', '06 SANJ AFT', 'MAN-NH:FY16 P2P Alumni Holiday', '80000-COL08:08 Bronze', 'BOS-MA: FY16 Boston Marathon - Chris Mann', 'Care Force Service', '80010-MIA10F:DNR', '06 INT G', \"NYC-NY: FY17 Women's Breakfast\", '08 INT IGC', '06 CSC SPS', '80000-DET08:08 Alum', '07 CHI APPNI:FALLPD', 'SNJ-CA: FY17 Service Day', 'NOL-LA: FY14 Gala School House Rocks', '01 RHI CAMP', '06 CLE CMPSP', '80000-SANJ12:Tickets', 'LOS-CA: FY17 Board Giving', 'CHI-IL: FY16 Red Jacket Weekend', 'CHI: FY12 Annual Dinner', '05 CSC YH', '07 DET PROG', 'BOS-MA: FY13 Womens Breakfast Donation', 'BOS-MA: FY13 Womens Breakfast', '08 PHL APPNI:FALL', '80010-RHI10F:ALUM PRNTS', '08 LSA CH', '06 SEA EVT', '06 NH TSP:HAMP', '06 NYC DIN:06 Bronze', '04 SEA OPEN', '10 PHL IGC', 'MAN-NH: FY14 Alumni Giving', 'WDC-DC: FY15 Gala', \"HQI-MA: FY15 CauseMark.Jer's Chocolates\", 'LEADERCIRC:Woodsum', 'SAC-CA: FY17 Program Sponsorships', '80000-BOS12:Donation', 'SEA-WA: FY13 Gala', '05 COL DIN:05 Donations', 'NYC: FY13 GOLF:Tickets', 'NOL-LA: FY16 Team Sponsorships', '06 SANJ EVT', '07 NH IGC', 'BOS-MA:DV:EX:FY16:160623.JuneEOYEmail.Current', 'SEA-WA: FY17 Gala Sponsorships', '02 RHI CYZ', 'ANNUAL', '05 COL OPEN', '05 INT IGC', 'PHL-PA: FY17 CYBee', 'NOL-LA: FY16 Red Jacket Society Members', '80000-RHI08:08 Bronze', 'LOS-CA: FY15 Gala Sustainable/Sponsorships', '06 COL DIN', '80010-PHL09F:POTDNR', '80010-BOS09U', '80010-SEA09F:POTDNR', '06 JBG SRVSP', '06 BOS IGC:SAT', 'TUL-OK: FY17 Program Sponsorships', 'NYC-NY: FY17 Service Days', '08 LSA AFT', '07 DET EVT:HR', '80000-PHL11:80000-PHL11', 'BOS-MA: FY16 Fall Appeal Recent Lapsed Donors Email 1', 'CHI-IL: FY15 Alumni Fundraising', 'MIA-FL: FY17 Gala Night of Ask', '05 RHI IGC', '08 SANJ OPEN', '80000-NH11:Auction', '08 CHI APPNI:FALL', 'COL-OH: FY16 Gala - Red Jacket Ball', 'CHI: ServiceRcks', '80010-DET10S', '06 CHI APPNI', '06 BOS APP:FALLCP', '08 NAT G', 'ORL-FL: FY13 Gala', '04 NAT PROG:Fireman Fellowship', 'DET-MI: FY13 Gala:Idealism Sponsor', 'WDC: FY12 AlumBrd', 'MAN-NH: FY14 Camps', '08 NAT CMPSP', 'NYC-NY: FY14 Investment Breakfast', '09 CSC G', '06 SANJ PROG', 'CHI-IL: FY16 Program Sponsorships', '13 PHL IGC:ALUM/FRND CMPN', '06 SEA DIN:06 Bronze', '80000-MIA12:Auction', '06 NH APPNI:FALLD', '06 BOS APP:SPRINGPD', '08 CHI APP:SRPINGOS', 'Voices Grants FY16', 'CHI: FY12 Women', '14 Team Sponsorship-FULL', '80000-DET09:PLATSPR', '80000-COL09:80000-COL09', '80010-BOS10F:POTDNR', '09 BOS IGC', '80010-CHI09S:RENTED', '08 NAT CARE', '06 PHL G', 'HQI-MA: 25th Anniversary', 'SAC-CA:DV:ECA$:FY15:141202: Giving Tuesday Appeal', 'BOS-MA: FY16 Team Sponsorships', '05 NAT DIN:05 Donations', '05 CLE DIN:05 Individual', '07 BOS AFT', 'NYC-NY: FY17 Law Breakfast', 'JAX-FL: FY17 Gala Sponsorships', 'PHL-PA: FY17 ING Appeals - March', '05 BOS EVT:SWGIK', '80000-CSC12:80000-CSC12', '05 WDC MAJ', '07 RHI TSP:Full Team', '09 MIA TSP:Full Team', 'BOS-MA: FY16 Boston Marathon - Alex Cooke', 'DEN: FY12 WOMEN BRK:Sponsor', 'BOS-MA: FY14 Fall', 'BOS-MA: FY15 Investment Bfast', '06 COL CMPSP', 'COL-OH: FY14 Gala:Tickets', 'CHI-IL: FY14 OpenDay:Donation', '05 JBG APP', 'CHI-IL: FY17 Red Jacket Society', '05 NAT ANPM', '01 RHI DIN', 'DEN-CO: FY16 United Way Annual Campaign', 'NOLA: FY12 Gala', '04 SANJ APP', '06 SEA SRVSP', '80010-CLE11U', 'NYC: FY12 AssocBrd:Auction purchase', 'BOS-MA: FY15 Legal Bfast', 'SAN-TX: FY14 The Big Give SA', 'MIA: FY12 Women:Auction', '06 DET ENDW', '06 NH TSP:Co-Team', 'DAL-TX: FY17 Program Sponsorships', 'PRV-RI: FY16 Gala', 'MIA-FL: FY14 Board', '08 DET CMPSP', 'GRANT', '07 BOS APP:SRPINGOS', 'NOLA: FY13 Gala:Tickets', '06 NAT NLS', '10 SANJ IGC:ALUM/FRND CMPN', '05 NH EVT', '04 NYC GEN:ALMN', 'LOS-CA: FY16 Associates Club', '80000-DET08:.5 Page', '80000-CHI12:Tickets', '08 CHI CAMP', 'BOS-MA: FY15 Boston Marathon - Andrea Martin', '80000-LAX12:Tickets', '04 CSC AFT', '06 SANJ DIN', 'WDC-DC: FY16 Spring Break - Simon', '07 COL SPS', '06 DET APP:SPRINGPD', '06 SAN DIN:06 Gold', '80010-NYC09S:DNR', 'PHL: FY13 Gala:Silver Page Ad', '08 DET APP:FALL', 'PRV-RI: FY15 Womens Event Spons', '07 COL APP:FALLA', '08 SAN WSWC', 'NYC: FY13 Gala', '06 LSA TSP', '06 SEA APP:FALLD', '09 LAX IGC:ALUM/FRND CMPN', '05 LRA SPPM', '08 LSA CAMP', 'PRV-RI: FY17 Program Support Solicitations', '05 JBG IGC', 'WDC-DC: FY16 Ripples Potter Wedding', 'Grant', '80000-LAX09:80000-LAX09', '04 COL DIN', '80010-NYC10F:DNR', '06 LRA CAMP', 'BOS-MA: FY17 June EOY Appeal Current Donor Email', 'SEA-WA: FY15 Gala New/Tickets', 'NSD:KCMO', '07 CHI AFT', 'SNJ-CA: FY15 Program Support Solicitations', '06 NH DIN:06 Silent Auction', 'PRV-RI: FY15 Gala Sustainable/Sponsorships', '06 PHL APPNI:FALLD', '80000-NH12:80000-NH12', '06 SAN SRVSP', '07 SAN SRVSP', '04 ROH Art', '08 LAX IGC:Founding Citizens', '08 NYC DIN (2007):Bronze', 'WDC-DC: FY16 Team Sponsorships', 'BOS-MA: FY13 Investment Breakfast', 'BOS-MA: FY17 Winter Appeal Recent Lapsed Monthly Donors Email 3', '04 CHI APP', 'PHL-PA: FY15 Service Days', '80010-WDC10F', '07 PHL AFT', '07 NH EVT', '08 SANJ CFC', '07 INT PROG:SACTFR', 'BOS-MA: FY16 JuneEOY Appeal Calls Current', 'COL-SC: FY16 Gala', '09 LAX CH', '10 PHL PROG', '07 NAT DIN:DON', '08 NAT NLS', '80010-LSA10U', '80000-HQ08', '05 CHI APP:SPRINGCP', 'MAN-NH: FY17 Corps Friendraiser', '07 SAN G', '06 WDC PROG', '06 SANJ DIN:06 Gold', '05 PHL APP:SPRINGAP', '08 RHI IGC:08 FRNDC', 'BOS-MA: FY16 Spring Appeal Current Donors Letter', 'NYC-NY: FY16 Yoga class', 'COL-SC: FY13 Law Event', '06 LRA HRF', '80010-NYC10F:ALUM PRNTS', 'WSWC:Donation', '06 CLE PROG', 'SAC-CA: FY17 Capacity Building', 'DEN-CO: FY15 Gala Night of Ask', '06 CLE ERND', '80000-RHI12:Night of Ask', '08 NYC APP:FALL', 'DET-MI: FY15 Service Days', 'JAX-FL: FY17 Team Sponsorships', '09 NH TSP:Co-Team', 'MWK-WI:FY16 Milwaukee Home', 'SAN Golf FY03:SAN Golf FY03', '06 SEA DIN', '80010-NYC11BTS', 'MWK-WI: FY17 Team Sponsorships', '05 PHL APP:SPRINGA', '07 PHL EVT', 'MWK-WI: FY15 Service Days', '05 CLE DIN:05 Gold', '80010-PHL09F:ALUM', '80010-DET11S:DNR', 'NYC-NY: FY15 Gala Sustainable/Sponsorships', '08 LAX AFT', '80000-WDC08:08 Plantinum', '04 CSC SAT', 'DET-MI: FY16 Gala', '80000-HQ08:08 Half', 'CHI-IL: 13 Summer Email', '09 SANJ GOV', '08 SEA SPPM', '80000-CLE08:08 Gold', 'CLE: FY13 Board', '07 RHI TSP:Co-Team', 'BOS-MA: FY15 EOY/Winter Appeal Recently Lapsed Donors Letter 2', 'BTR: FY12 Gala:Sponsor', '05 CHI CAP', '07 SEA YH', '07 NYC EVT:Chipotle Event', '07 CLE SPS', 'MAN-NH: FY15: P2P.March Madness - CYNH Alumni Sponsored Team', '07 CHI APP:SPRINGCP', 'CHI-IL: FY15 Service Days', '06 SANJ APP', 'NYC: FY13 GOLF:Donation', 'CHI-IL: FY14 WineStein:Donation', 'NOL-LA: FY17 Gala - School House Rock', '80010-CSC10U', '07 CLE ERND', 'BOS-MA: FY16 EOY/Winter Appeal Parents Postcard', 'PHL-PA: FY16 Program Sponsorships', '80000-CLE12:Night of Ask', 'SAN-TX: FY14 Gala', '80000-CLE11', 'HQ: FY13 MS Challeng:CHI', 'NYC-NY: FY16 New York Alumni', 'WDC-DC: FY16 Legal Breakfast', '80040: Individual Giving Circles', '08 LRA PROG', 'BOS-MA: FY17 Spring Appeal Current Donor Email 2', '04 CLE CAMP', '80000-RHI09:SILVERSPR', '80000-RHI10:Table', 'LOS-CA: FY17 Spring Break Gala', 'SAN-TX: FY13 Golf', '06 PHL SFC', '05 CLE AFT', '04 SAN YH', '80010-SEA10S:DNR', 'CLE-OH: FY16 Annual Appeal - Direct Mail', '80000-BOS 09 (2008)', '04 BOS CMP:REG', '10 WDC YH', '80000-SEA08:08 Individual', 'NYC: FY13 GOLF:Auction', '05 WDC CAMP', 'MAN-NH: FY15 Capacity Solicitations', '05 RHI EVT', 'CLE-OH: FY16 Sustainable Personalized Ask', 'NATBOSAA03', '10 LAX TSP', '08 NAT NSD', 'COL-SC: FY15 Program Support Solicitations', 'CLE-OH: FY15 Team Sponsorships', 'NYC-NY: FY14 Associate Board Fundraiser', 'BOS-MA: FY17 Winter Appeal Lapsed Donors Email 3', '08 CHI ERND', '06 BOS APP:FALLOS', '80010-CHI09S:DNR', 'WDC-DC: FY15 Sustainable Personalized Ask', 'BOS-MA: FY14 Investment Breakfast', 'BOS-MA: FY17 Red Jacket Weekend', '80000-LRA08:08 Bronze', '04 WDC CAMP:SPON', '06 CSC CYZ', '05 SEA CAP', '05 NYC CMPSP', 'BOARD', '06 NAT APPNI:FALLA', 'SAN-TX: FY15 Opening Day', '01 RHI YH', '04 COL CARE', 'CLE-OH: FY16 Gala', 'NYC-NY: FY14 Alumni and Friends', 'BOS-MA: FY13 Gala', '10 RHI IGC:ALUM/FRND CMPN', 'BOS-MA: FY16 Fall Appeal Current Donors Email 2', 'MIA-FL: FY16 Red Jacket Society Giving', 'JAX-FL: FY16 Winter Appeal', '08 LRA APP:SPRINGA', '09 CHI DIN (2008)', '62000:corps fundraising', '07 SANJ DIN', 'NYC-NY: FY15 25th Anniversary Cocktail Events', '80010-RHI12F', '08 RHI YH', '80000-LRA12:Donation', '04 DET GRAD', '80010-CSC09U', 'HQI-MA: FY15 End of Year', '80000-HQ08:08 Individual', 'CHI-IL: FY16 Foundations - Renewals', '07 BOS DIN:07 Bronze', 'LAX: FY12 Women', '04 RHI EVT:FND', '80000-BOS08:08 Gold', 'CareForce', 'SNJ-CA: FY17 Team Sponsorships', '08 SEA SPP', 'MAN-NH: FY15 Gran Fondo Registration', 'NYC-NY: FY14 Gala:Tickets', 'NYC-NY: FY14 Gala Sustainable Sponsorships', 'CHI-IL: FY15 Gala', 'LTR-AR: FY16 Program Sponsorships', '10 NH EVT:Corps Fundraising', 'SEA-WA: FY14 Gala Ripples of Hope', '05 SAN DIN:05 Bronze', 'MIA: FY13 After Part:Tickets', 'MAN-NH: FY15 Gala', '10 LSA TSP:Co-Team', 'WDC-DC: FY15 Annual Appeal', '80000-LRA12:Sponsor', '07 WDC OPEN', 'MKE: FY13 Gala:Tickets', '08 CLE OPEN', 'BOS-MA: FY14 Staff Giving', 'CHI-IL: FY14 Wine Stein', \"NYC-NY: FY13 Women's Board\", 'SNJ-CA: FY17 Sustainable', '09 CLE SPS', '09 NYC IGC', 'LOS-CA: FY14 Associate Board Wine Tasting', '06 NH AFT', '07 SEA APP:SPRINGD', 'NYC-NY: FY16 Ripples of Hope Gala', 'PHL-PA: FY15 Chickies&Pete Text Campaign', 'LOS-CA: FY14 Gala Sustainable Sponsorships', '08 CHI SPPM', '07 COL APP', '06 NH CAMP', '10 CSC IGC:ALUM/FRND CMPN', '80010-Acq FY11Fall', '80000-SEA10:Donation', '08 LSA EVT:08 RACESPON', 'NOL-LA: FY16 Gala Sustainable Sponsorships', '06 NYC AFT', '05 INT CDFPRS', '08 PHL APP:FALLAP', 'EBR-LA: Major Gift Ask', 'NYC-NY: FY17 Capacity Solicitations', 'NYC: FY12 Women', 'LTR-AR: FY15 Team Sponsorships', 'BOS-MA:DV:EX:FY16:151202: Winter Appeal Current Email 2', '80010-NH09F:RENTED', '09 NH APP', 'LOS-CA:FY15 Wine Tasting', '04 PHL TSP:CITYTSP', 'DET-MI: FY13 Gala:Impact Sponsor', 'EBR-LA: FY13 Gala Donation', 'BOS-MA: FY16 Fall Appeal', 'BOS-MA: FY15 Spring Appeal Regular RLD (Recently Lapsed Donor) Letter 2', 'MIA-FL: FY14 Gala Sustainable Sponsorships', '04 NAT PROG:Clinton Innovation A', '04 NYC GEN', '04 CSC TSP', '07 CSC TSP:Co-Team', 'MAN-NH: FY15 Alum TSP', '06 SAN AFT', '05 LRA EVT', '80000-NYC 09 (2008)', '08 LSA ERND', 'NSD:MIA', '06 WDC DIN:06 Bronze', '04 PHL SRV', '06 CSC APP', 'CLE-OH: FY17 Program Support Solicitations', '14 Team Sponsorship-UNKN', '80010-DET09F:DNR', 'SNJ-CA: FY16 Gala', '04 NAT APM', '62000:Calendar Raffle', '08 PHL APPNI', '06 NH YH', '06 BOS EVT:GOLFI', 'BOS-MA: FY16 Bellinghausen Memorial', 'LOS-CA: FY16 LA Marathon', 'BOS-MA: FY15 EOY/Winter Appeal Lapsed Donors Email 1', '09 WDC IGC:ALUM/FRND CMPN', 'MIA-FL: FY17 Program Sponsorships', '05 BOS ERND:RMK BOOK', '08 NAT CAMP', '10 NAT ERND', 'PHL-PA: FY17 Marathon', 'LAX: FY13 Wine Taste', '07 RHI ERND', '06 PHL APP:FALLCP', '08 PHL YH', '80010-LSA09U', '06 SAN ERND', '08 NAT ENDW', 'SNJ-CA: FY15 Women Investing in Education', 'Diplomas Now/I3', 'JAX-FL: FY17 Board Giving', 'BOS-MA: FY17 Boston Marathon - Rob Markey', 'COL-OH: FY13 Gala:Registration', '10 SAN IGC:ALUM/FRND CMPN', '08 SEA IGC', 'NYC: FY13 Gala:Table', 'BOS-MA: FY17 Fall Appeal Email 2 Lapsed', 'DEN-CO: FY15 Major Gifts', \"JAX-FL: FY14 Women's Leadership Luncheon\", '05 COL APP:SPRINGAP', '05 CHI DIN:05 Silver', '07 BOS APPNI:FALL', '07 CHI IGC:WTB', 'WDC-DC: FY16 Spring Break - Savoy', '06 COL PROG:READ', '80000-PHL12:Advertisement Space', '05 DET APP:SPRINGD', '08 PHL G', 'DET-MI: FY14 Gala:Night of Ask', '08 WDC SPP', '08 CHI APP:SPRINGA', 'SAN-TX: FY17 The Big Give', 'PHL-PA: FY15 Capacity Solicitations', '03 PHL - AFT', '05 NYC DIN:05 Gold', 'CLE-OH: FY17 Program Sponsorships', '07 PHL APP:FALL', '08 CSC CAMP:Camp City Year', '80000-LRA08:08 Half', '07 NYC DIN:07 Silver', 'WDC-DC: FY17 Alumni Soiree', '80000-COL08:08 Individual', 'SEA-WA: FY14 Gala:Auction', '05 CLE GEN:CLINTON', '80040:ALUM/FRND CMPN', '08 BOS SFC', 'Corps Fundrais', 'SAN-TX: FY16 The Big Give', '04 RHI IGC:BMS', '06 NAT DIN:06 Presenting', 'BOS-MA: FY16 Giving Tuesday', '09 SAN IGC:ALUM/FRND CMPN', '80000-RHI10:Ticket', 'WDC-DC: FY13 Gala:Sponsor', 'BOS-MA: FY17 Gala', 'SAN-TX: FY16 Sustainable Personalized Ask', '80010-HQ10U', 'Service Day Sponsorship', '03NB SSN:25K SP', 'PHL-PA: FY17 ING Appeals - December', '08 CHI YH', '07 COL CMPSP', '06 DET PROG', '07 PHL CAMP', '80000-SEA08:DON', 'BOS-MA: FY16 EOY/Winter Appeal Lapsed Donors Postcard', '06 SAN ACOD', 'DEN-CO FY14 Gala Sustainable Sponsorships', '07 WDC APP', 'NYC-NY: FY16 Team Sponsorships', '06 RHI CMPSP', 'LOS-CA: FY17 Team Sponsorships', 'LTR-AR: FY14 Gala:Donations', '80000-DET10:VIP Tickets', '05 CLE APP:SPRINGD', '07 DET TSP:Co-Team', 'BOS-MA: FY15 Spring Appeal Regular CD (Current Donor) Email 2', 'KSC-MO: FY17 Sustainable', 'COL-OH: FY13 Gala:Auction', '06 BOS SPPM', '05 CSC DIN:05 Silver', 'NYC-NY: FY17 Team Sponsorships', 'SERVICE:CYCLE', '09 NH SPS', '04 SANJ AFT', 'MIA-FL: FY15 Gala Sustainable/Sponsorships', '80000-PHL11:80000-PHL11NOA', '80010-CHI10S:DNR', 'CHI-IL: FY17 Fee for Service', '05 CHI DIN:05 Platinum', 'MIA-FL: FY15 Team Sponsorships', 'CHI-IL: FY17 Women, Wisdom, and Wine', '08 BOS APPNI', '06 BOS SRVSP:SAT', '04 CSC SERV', 'LOS-CA:FY16 Annual Appeal', 'MIA-FL: FY16 Capacity Program Support Solicitations', '80000-LRA09:SILVER', '80000-WDC09:80000-WDC09', '03 NAT APM', 'SEA-WA: FY14 Gala:Tickets', '80000-DET10:Corporate Sponsor', '08 SEA CFC', '07 NH SPP', '06 PHL SPPM', '09 NAT NLS', '80000-DET08:08 Bronze', '06 NYC DIN:06 Gold', '06 LSA AFT', 'EBR-LA: FY15 Program Support Solicitations', 'MWK-WI: FY17 Capacity Solicitations', '07 DET EVT', '80000-BOS08:08 Bronze', 'SSN/ROH/TRIB:10000TBL', '06 DET APP:FALLOS', 'SAC-CA: FY16 Gala Auction', '06 COL DIN:AUCT', '08 COL G', 'MKE: FY13 Gala:Night of Ask', '08 NYC APP:FALLOSUW', '06 DET APP:FALLD', 'PHL-PA: FY17 Sips', '05 NYC CARE', '07 CSC AFT', '05 CHI CAMP', 'SSN/ROH/TRIB:Donation', '80010-SANJ10F:POTDNR', 'ORL-FL: FY16 Board Annual Giving', 'NSD:JAX', 'HQI-MA: 25th Anniversary Gala', '08 SAN YH:YHAA', 'SAC-CA: FY15 Board Giving', '06 SAN EVT', 'PHL-PA: FY15 Marathon2', 'WDC-DC: FY18 Cheers for City Year', '80010-BOS10U', 'CLE-OH: FY15 Giving Tuesday', 'HQ: International', 'LOS-CA:FY15 MLK Day', '08 LRA EVT', '06 SANJ APP:FALLPD', '04 Radio', '07 LRA AFT', 'SNJ-CA: FY16 Team Sponsorships', '07 NAT PROG', '08 NAT SFC', '08 CHI SRVSP', '80000-SEA09:VIPTKT', '05 CHI DIN:05 Bronze', '08 DET APP:SPRINGD', '80010-COL10F:DNR', 'MIA-FL: FY16 Board Giving', 'CRPTSERVDAY', '05 SEA SRV', '08 NYC APP:FALLAP', 'CHI-IL: FY15 Associate Board Trivia Friendraiser', 'MAN-NH: FY17 MGP', '80000-CHI 10 (2009)', '80000-RHI09:BRNZESPR', 'JAX-FL: FY16 Team Sponsorships', 'CHI-IL: FY13 Wine Stein Donation', '80000-RHI09:GOLDSPR', '07 COL APP:FALLPD', '08 SANJ TSP:Full Team', '80000-SEA10:Platinum Sponsor', '05 RHI GOV', 'LAX: FY13 Wine Taste:Ticket', '08 CHI IGC', 'DET-MI FY12 Gala Donation', 'CLNTDEM:SAFRICA', '06 SEA APP', '80000-BOS12:Sponsor', 'BOS-MA: FY14 EOY', '07 WDC APP:FALLA', '06 LSA IGC:ESMEMORIAL', '06 SAN CYZ:AC', 'WDC-DC: FY14 School', '05 CSC APP:SPRINGOS', '06 BOS SRV', '06 CSC PROG', '80010-SAN10U', '08 SAN GOV', 'PHL-PA: FY17 ING Other', '07 RHI CMPSP', 'NH: FY13 Gala:Donation', '80010-HQ11U', '06 RHI APP:FALLCP', 'WDC-DC: FY16 Program Support Solicitations', '80040:N SMITH MEMORIAL', '05 DET ERND', '05 WDC CARE', '09 LSA TSP:Founding Citizens', '80000-SEA08:08 Table', '07 NAT CYZ', '50000-11HALF', '05 CSC MAJ', '05 NH TSP', 'NYC-NY: FY15 Program Support Solicitations', '08 NYC GOV', 'Young Heroes Sponsor:YHTSP', '08 BOS PROG', '04 RHI SRV:MLK', '06 RHI EVT', 'WDC-DC: FY16 Spring Break - Leckie', '07 DET G', '06 LRA YH', 'DET: FY13 EOY', '50010', '04 RHI DIN:SPON', '07 PHL APP:FALLAP', 'SEA-WA: FY17 Gala', 'DAL-TX: FY17 RJS Giving', '06 WDC ERND', '06 COL APPNI:SPRINGD', '07 CHI APP:SPRINGPD', '05 SEA PROG:Clinton Innovation A', 'CHI-IL: FY14 Graduation', '08 LSA CMPSP', '06 LRA APP:FALLD', '08 NH TSP:HAMP', 'MIA-FL: FY16 MLK Day', '05 DET GRAD', 'NYC-NY: FY16 Alumni & Friends Trivia Night', 'SAN-TX: Major Gift Ask', '05 INT NSD', '07 WDC SPPM', 'DET-MI: FY16 Sustainable Personalized Ask', '80000-PHL12:Sponsor', 'HQ: FY11 PEVC', '07 CLE CAMP', '05 NH APP', 'MWK-WI: FY16 Sustainable Personalized Ask', 'WDC-DC: FY13 Gala:Night of Ask', '05 COL DIN:05 Individual', '09 BOS TSP:Co-Team', 'TSP FY09 UNKN', 'ORL-FL: Major Gift Ask', 'DET; FY12 Bistro', 'DET-MI: FY13 Gala:Night of Ask', '07 LSA ERND', 'SEA-WA: FY16 Sustainable Personalized Ask', '07 NH SRVSP', 'WDC-DC:DV:ECA$:FY15:141202: Giving Tuesday', '07 LSA TSP:Full Team', '04 NYC YH', '09 SEA G', '05 NAT YH', '06 DET APPNI:FALLPD', '07 CHI APP:FALL', '04 RHI EVT', '06 WDC APP', '06 BOS APP:SPRINGA', '80010-SEA09F:RENTED', 'DET-MI: FY17 Program Support Solicitation', '07 PHL SPPM', '06 CLE DIN:06 Bronze', '06 NH TSP:Full Team', '05 NH IGC', 'NH: FY13 Gala:Sponsorship', 'SAC-CA: FY13 Women', '06 SANJ CH', 'SAN-TX: FY16 Gala', '06 SEA TSP:Co-Team', 'COL-SC: FY17 Investment Community Breakfast', '07 NYC APPNI', '08 DET IGC:ALUM/FRND FUND', 'Gov. Grants & Support', '08 CSC APP:FALL', 'BOS: FY11 Legal Brk', '05 BOS PROG:Clinton Innovation A', '06 BOS SRVSP', 'BOS-MA: FY14 Red Wknd', '80010-CLE09F:RENTED', '04 CHI CARE', '80010-PHL10U', '80000-CSC08:08 Individual', '07 BOS DIN:07 Silver', \"JAX-FL: FY15 Women's Luncheon\", 'MAN-NH: FY15 MGP', '07 CSC APPNI:SPRINGPD', 'MAN-NH: FY16 MGP', '08 WDC SRVSP', 'ORL-FL: FY16 Team Sponsorships', 'HQI-MA: FY15 Capacity Solicitations', '05 INT IGC:CIT', '04 RHI DIN:AUC', '07 JBG TSP:Full Team', '04 NH CAMP', '07 COL TSP:Full Team', '07 RHI IGC:07 PTNRC', '07 CHI OPEN', '07 NYC G', '06 NH DIN:06 Individual', '04 BOS EVT:Golf Tournament', '09 LAX TSP:Co-Team', 'SNJ-CA: FY17 WSWC', 'SAC-CA: FY15 Team Sponsorships', '05 CLE DIN:05 Donation', '80040', '07 SEA CYZ', '80000-SEA12:Raffle', 'PHL: FY13 Gala:Night of ask', '07 CHI TSP:Full Team', '10 CHI PROG', '07 NH G', \"SAN-TX: FY15 Power of Women's Luncheon\", 'HQI-MA: FY15 Program Support Solicitations', '07 SANJ SFC', '08 BOS CFC', '80000-PHL08:08 Alum', '05 CLE APP:SPRINGA', 'WDC-DC: FY14 Gala', 'CLE-OH: FY16 Annual Appeal', '80000-NYC08:08 Individual', '07 LRA YH', '07 LRA PROG', '07 SAN APP:FALL', 'FY16 Team Sponsorship', 'NOL-LA: FY16 Gala', '07 NAT EVT', '04 SAN GEN', '07 DET IGC', '07 LSA HRF', '08 NYC TSP:Co-Team', '07 NYC PROG', '06 LRA DIN:SIL', 'SNJ-CA: FY16 Service Day', '09 LSA TSP:Full Team', '08 RHI YH:YHPRSPON', '06 DET EVT', 'After School Programs', '06 SANJ DIN:06 Individual', '80010-BOS10F:ALUM', '07 BOS DIN:07 Gold', '08 SEA APP:FALLPD', 'LTR-AR: FY14 Microsoft Youth Spark Challenge', 'CLE-OH: FY15 Sustainable Personalized Ask', '06 COL TSP:Full Team', '08 CLE CAMP', '08 SEA AFT', \"MIA-FL: FY16 Men's Event\", 'DEN-CO: FY17 United Way', 'CHI-IL: FY13 Gala:Contribution', '09 SEA IGC:ALUM/FRND CMPN', '80010-CHI10F:DNR', '80010-LSA10F:POTDNR', 'CLE-OH: FY14 EOY', '07 RHI OPEN', '05 PHL APP:SPST', '06 DET YH', '08 NH APP', 'PHL-PA: FY16 Cheers', 'SAN-TX: FY14 Gala Sustainable Sponsorships', '05 BOS EVT:SW4', '80000-MKE12', '80010-NH10S', 'CHI-IL: FY14 SD', 'BOS-MA: FY15 Spring Appeal Regular LD (Lapsed) Email 3', '05 DET GEN', 'DEN-CO: FY16 Gala', 'MAN-NH: FY15 Gala. Night of Ask', '07 COL PROG:READ', 'LRA: FY13 Gala:night of ask', 'NSD:BAL', 'BOS-MA: FY17 Winter Appeal Recent Lapsed Donors Email 2', 'TUL-OK: FY16 Opening Day', 'PHL-PA:FY15 Sips', 'Voices Membership Dues FY17', '06 PHL GRAD', '10 BOS SRV', 'COL-SC: FY13 Gala:Donation', '06 NYC APP:FALLAP', '08 RHI APP', '80000-LRA09:80000-LRA09', '80070:CSGOLFCL', 'MAN-NH: FY15 Team Sponsorships', '08 LSA APPNI', 'COL-OH: FY13 Gala:donation', 'PHL: FY13 Marathon', 'NOL-LA: FY15 Gala', '05 CSC APP:SPRINGA', 'HQI-MA: FY17 Sustainable', 'BOS-MA: FY15 Gala Night of Ask', '80010-SANJ11F', '04 RHI DIN:BRZ', '06 SEA DIN:06 Donations', '08 NYC CFC', '07 NAT DIN:07 Half Table', '07 SAN OPEN', 'MAN-NH: FY15 Team Supporters', '09 NH APP:FALL', '04 CSC YH', '80000-NH12:Night of Ask', 'DET-MI FY12 Gala Tickets', '06 SAN HRF', 'NYC-NY: FY13 GOLF', 'MIA: FY13 DTD:Tickets', 'WDC-DC: FY17 Service Days', '80000-CLE08:80000-CLE08', 'CLE-OH: FY17 Gala', '08 DET YH:YHOTHER', '80000-SEA11:Bronze Sponsor', '04 RHI DIN', '05 SANJ YH', '80000-HQ08:08 Gold', 'PHL-PA: FY15 Team Sponsorships', '06 BOS APP:FALLAP', 'SAC-CA: FY15 Service Days', 'SNJ-CA: FY16 Capacity Building', '07 SANJ CH', '04 PHL DIN', '04 BOS CMP', 'GENSOL', '80000-RHI09:TABLE', 'MAN-NH: FY15 Gran Fondo Donations', '08 SANJ YH', '05 NAT APP', '06 CSC SRVSP', '04 BOS APP', '08 CHI PROG', 'CHI-IL: FY16 Foundations - New', '06 NH APP', 'Wine Tasting:sponsor', '80000-DET08:.125 Page', 'PHL-PA: FY14 Friends Spring Cocktail', 'BOS-MA: FY17 Winter Appeal Lapsed Monthly Donors Email 1', 'MWK-WI: FY15 EOY Appeal', '07 LRA APP', 'COL-OH: FY15 Giving Tuesday', 'CHI: ServiceRcks:Sponsor', '10 NAT CYZ', '06 BOS DIN:06 Silver', '80000-PHL09:VICECHAIR', 'DET-MI: FY13 FB', '06 NH PROG', '02 RHI APP', 'COH-CALENDAR', '06 NYC GOV', '80000-HQ 09 (2008)', 'COL-OH: FY14 Board Campaign', 'CHI-IL: FY15 Opening Day', '05 WDC EVT', '07 SEA CH', 'SAN: FY13 GRAD', 'DAL-TX: FY16 Sustainable', '08 CHI IGC:ABD', '08 LRA YH', 'BOS-MA: FY17 Winter Appeal Recent Lapsed Monthly Donors Letter 1', '08 SANJ CH', 'SAC-CA: FY16 Gala', '07 CLE APPNI', 'CHI-IL: FY17 Associate Dues and Donations', 'NOL-LA: FY15 Gala Sustainable/Sponsorships', '04 SAN SPPM', 'MWK-WI: Major Gift Ask', '08 CSC SRVSP', '06 BOS DIN:DON', 'NOLA: FY12 Gala:Donation', 'SERVICE:AFTERSCH', 'SAN-TX: FY16 Service Projects', 'PHL-PA: FY17 Gala', 'DET-MI: FY12 Women', 'EBR-LA: FY14 EOY', '08 SEA CAMP', 'CHI-IL:FY13 Grad Parent', 'SAN-TX: FY15 Gala: Sustainable Sponsorships', 'JAX-FL: FY17 Individual', 'WDC-DC: FY12 Gala Donation', 'SAN-TX: FY17 Gala', '06 CLE DIN:06 GOLD', '08 CLE TSP:Full Team', \"EBR-LA: FY15 Women's Leadership Breakfast\", '08 WDC IGC', '07 LSA IGC', 'NOLA: FY12 Gala:Night of Ask', '06 RHI DIN:06 Bronze', '06 COL APP', 'LAXFY11FallAnnAppeal', 'NYC-NY: FY17 Program Support Solicitations', '06 CLE APP:SPRINGPD', 'DET-MI: FY16 EOY Winter Appeal', '07 BOS APP:SPRINGD', '04 CLE TSP', 'BOS-MA: FY17 Program Support Solicitations', 'SEA-WA:FY15 Give Big Ask', 'CLE-OH: FY18 Corporate Event - Breakfast', 'SEA-WA: FY16 Program Sponsorships', 'LEADERCIRC', '09 DET ERND', '08 NYC OPEN', 'BOS-MA: FY15 Giving Tuesday', 'SNJ-CA: FY14 PEVC Event', '08 LRA YH:YHOTHER', 'PHL-PA: FY16 Sips', '07 CHI APPNI:FALL', '08 PHL SPS', 'BOS-MA: FY17 Fall Appeal Email 2 Current', '05 WDC CAP', '05 CLE SPS', 'BOS-MA: FY13 EOY', 'DET: FY13 EOY:Major Renewal', '08 SEA APPNI', '06 NH GOV', '04 PHL AMER', '80000-SANJ12:Night of Ask', 'CHI-IL: FY15 Gala Night of Ask', 'NYC: FY13 Asso Board:Registration', 'CHI-IL: FY15 Sustainable Personalized Ask', '80000-SAN08:08 AUCT', '80000-PHL08:08 Half', '08 PHL APP:FALLCP', '07 CHI IGC:ABD', '06 CSC OPEN', '07 NYC OPEN', 'COL-OH: FY17 Gala - Red Jacket Ball', 'COL-SC: FY13 Gala', 'BOS-MA: FY15 Service Days', 'DEN: FY12 WOMEN BRK', 'TUL-OK: FY17 Giving Tuesday', 'EBR-LA: FY16 Holiday Appeal', '80010-CSC10F:DNR', '05 NH APP:SPRINGOS', '80000-SEA08:08 Presenting', 'LOS-CA: FY15 Marathon', 'PHL-PA: FY17 EVENTS Gala Night of Ask', 'BOS-MA:DV:EX:FY16:160518 Spring Appeal Email 3 Current Donor Letter & Email', '04 WDC APP', '06 RHI APP:FALLD', '07 NH CMPSP', '80000-DET09:AUCTION', '08 COL APP:SPRINGA', '08 COL CMPSP', 'MAN-NH: FY15 Gran Fondo Bike Race', 'WDC-DC: FY16 Spring Break - Staff', 'PRV-RI: FY14 Staff', '08 DET IGC', '06 LSA TSP:Co-Team', 'WDC-DC: FY14 Fall Appeal', 'REDBOOT', '08 NH ERND', 'NYC-NY: FY17 Yoga Fundraiser', '06 BOS EVT:GOLFP', '06 NH SRVSP', 'NH: FY13 Gala:Night of Ask', '80000-COL08:08 Alum', '04 NYC IGC', '09 NYC DIN (2008):Bronze Sponsorship', 'TSP FY09 Founding', 'NYC-NY: FY16 Service Days', '05 PHL APP', 'LAX: FY13 Golf:Auction', '05 INT PROG', '07 NYC TSP', '08 LRA OPEN', '08 CHI APP:SPRINGD', '80000-MIA12:Sponsor', 'LOS-CA: FY15 InstaGallery Sales', '06 DET DIN:06 Donations', '10 NYC IGC', '07 WDC APPNI', 'CYZHOST', '05 CSC DIN:05 Auction', '08 BOS APP:FALLOSUW', '04 Radio:RAD', 'PRV-RI: FY14 Women Breakfast', '08 COL CH', 'BOS-MA: FY16 Sustainable Personalized Ask', 'TSP', 'JAX-FL: FY17 Capacity Solicitations', '06 LRA DIN:IND', '09 PHL IGC:ALUM/FRND FUND', '06 LRA APP:FALLPD', 'PHL: FY13 Gala:individial ticket; s', 'MAN-NH: FY14 Gala', '06 CLE IGC', '07 CSC APP', 'PHL-PA: FY17 Sustainable', 'WSWC', '08 NH TSP:FULL', '07 PHL APP', '06 SEA DIN:06 Gold', '05 NYC AFT', 'EBR-LA: FY16 Sustainable Personalized Ask', 'MIA-FL: FY15 Service Days', '80010-DET10F:POTDNR', '80010-NYC09U', 'ORL-FL: FY15 Gala', '04 RHI YH', '07 RHI DIN (2006)', '06 COL APP:FALLPD', '07 SANJ G', 'NATYOUTH', '06 RHI YH', '04 NH DIN', '06 BOS TSP:Co-Team', '80000-NH10:Donor', 'SANJ: FY12 PEVC', '80010-SAN09S:DNR', '08 SAN YH:YHSRVC', '08 COL SRVSP:SAT', 'NYC: FY13 Asso Board:Donations', 'ORL-FL: FY17 EOY Appeal', '80010-CHI09U', '07 PHL PROG:RADIO', '03NB SSN:350 TIX', '06 WDC AFT', '07 PHL DIN', 'EBR-LA: FY14 Alumni Campaign', 'SAC-CA: FY14 Specialty Market', 'COL-OH: FY13 Gala', '07 BOS PROG', '04 SEA SRV', '80010-Acq FY11Fall:A0', '06 SAN CAMP', '07 CHI ERND', 'NYC-NY: FY13 Holiday Cards', '07 BOS DIN:07 NOA', '06 COL APP:FALLAP', '06 PHL APP:SPRINGPD', '06 LRA IGC', 'SSN/ROH/TRIB:AUCTION', '80000-SANJ08:08 Bronze', '08 LAX SRV', '80000-SANJ08:80000-SANJ08', 'NYC-NY: FY16 Sustainable Personalized Ask', '04 SAN OPEN', '07 SEA EVT', '06 NH G', 'MAN-NH: FY17 March Madness', 'BOS-MA: 25th Ann.', 'NYC: FY12AlumBrd', '80000-BOS08:08 Donation', 'LTR-AR: FY15 Gala', '05 CSC DIN:05 Bronze', '80000-COL12:80000-COL12', 'PRV-RI: FY17 RJS Cultivation Event', '09 NH CMPSP', '08 NYC SRVSP:100 HoP', '80000-SEA12:Sponsor', '80000-COL12:Tickets', '10 BOS CAMP', '07 COL G', '06 PHL YH', 'BOS-MA: FY17 BarkerBlain Wedding', '05 JBG GEN', '08 SEA G', '01 RHI GEN', 'DET-MI: FY11 Gala Night of Ask', '07 BOS SRV', '06 DET IGC', '05 RHI DIN:05 Bronze', '07 NH DIN', '08 COL WSWC', '06 DET PROG:KAT', '06 NH DIN', '80000-MKE12:Sponsor', 'COL-OH: FY13 Gala:Sponsorship', 'ORL: FY13 Gala:sponsor', 'BOS-MA: FY14 Fam Spring', 'HQI-MA: FY16 Capacity Solicitations', '06 WDC G', '10 CSC IGC', '05 CLE SRV', 'CHI-IL: FY13 Wine Stein Raffle Tickets', 'TSP FY09FULL', '08 NAT NSD:MIA', '07 RHI DIN:ESPON', 'PRV-RI: FY17 Gala Sponsorship Mailing', '06 CSC DIN:Donations', 'SEA-WA: FY14 EOY', 'COL-SC: FY15.Lawyers Event', 'MWK-WI: FY16 Program Support Solicitations', 'PHL-PA: FY14 Gala', '80010-NYC12AnnFall:Fy12 Parent', \"BOS-MA: FY17 Women's Bfast Monthly Giving\", '06 LRA APPNI:FALLPD', 'LOS-CA: FY14 Service Days', 'LOS-CA: FY16 Sustainable', 'DET: FY13 EOY:Lapsed', '05 DET ENDW', '06 NYC DIN:06 Donations', '05 NYC DIN:05 Platinum', 'LOS-CA: FY16 SoulCycle', '08 LAX G', '80000-MKE12:Donation', 'BOS-MA: ISOT Challenge', '07 WDC DIN', 'SNJ-CA: FY15 Gala', '80000-CLE09:80000-CLE09', '04 RHI TSP', '06 WDC DIN:06 Individual', '02 RHI IGC', '08 NAT SRVSP', 'BOS-MA: FY17 Staff Giving', 'DET-MI: FY14 Women', 'HQ: FY13 MS Challeng:HQ', '10 CLE DIN (2009)', 'SAN-TX: FY15 The Big Give SA', 'WDC-DC: FY12 Gala Night of Ask', '02 RHI PROG', 'DET-MI FY12 Gala Sponsor', '06 CHI EVT', '04 COL APP', '03NB SSN:1000 TIX', '04 COL OPEN', 'WDC-DC: FY16 Spring Break - Kimball', '07 NH ERND', 'SAC-CA: FY17 Gala', '80000-NYC08:08 Silver', 'CHI-IL: FY18 Winter Appeal', '06 CHI DIN:Gold', '06 BOS YH:HS', 'SAN: FY13 Gala:SAN: FY13 Gala', 'CHI-IL: FY17 Foundations - Renewed', '80000-SEA10:80000-SEA10', '08 LAX PROG', '06 NH IGC', '80000-PHL08:80000-PHL08', '08 PHL IGC', 'PRV-RI: FY16 Team Sponsorships', 'HQI-MA: FY17 Cause Marketing', '10 LAX G', 'SEA: FY13 Gala:Tickets', '06 SEA OPEN', '07 LRA CAMP', '04 SANJ SAT', 'CHI-IL: FY14 NFL Fantasy Football', 'DEN-CO: FY14 Gala Red Jacket', '09 BLD:ALUM/FRND CMPN', 'NYC-NY: FY15 David Caplan Birthday Bash', 'BOS-MA: FY15 Spring Appeal Monthly LD (Lapsed) Letter', '06 CSC DIN:SIL', '07 WDC CAMP', '04 NAT AMER', 'CHI-IL: FY15 Micro.Corp Annual Appeal', '06 SEA CAMP', '06 SEA DIN:06 Silver', '04 WDC TSP', '10 LAX IGC', 'TUL-OK: FY15 Program Support Solicitations', '04 RHI GEN', 'SEA-WA: FY15 Gala Ripples of Hope', 'MAN-NH: FY17 Reach the Beach', '08 DET DIN (2007):Bronze', 'WDC-DC: FY13 Gala', '07 SAN APP', '80000-DET08:08 Donation', '80000-DET09:NONPROFSPR', '04 RHI DIN:CAM', '80010-PHL10F:POTDNR', 'COL-OH: FY17 Sustainable', '10 BOS IGC:ALUM/FRND FUND', '07 COL SRV', '80010-NYC12AnnFall', '05 BOS YH', '80010-LAX09F:DNR', '80050', 'BOS-MA: FY17 Sustainable', '09 LRA IGC:ALUM/FRND CMPN', '07 CSC APP:SPRINGPD', '04 NH PROG:Training Sponsorship', '80000-COL10:80000-COL10', '06 BOS APP:FALLPD', '06 PHL DIN:PHL did not have a d', 'NOL-LA: FY17 Team Sponsorships', '80010-CHI10U', '80010-CLE09F:DNR', '08 SAN AFT', '80000-NH11:Sponsor', '07 NH SPPM', 'PHL-PA: FY14 School', '06 COL APP:STA', 'LOS-CA: FY16 Associates Board Fundraiser', '07 RHI SPPM', '06 DET DIN:06 Silver', '08 PHL APP:FALLA', '07 LRA G', '06 DET APPNI:FALLD', '80000-PHL09:JRNLSPRSHP', 'WDC-DC: FY17 Spring Break', '08 RHI OPEN', '05 CLE APP:SPRINGOS', '04 PHL EVT', '06 WDC DIN:06 Platinum', '05 NYC SPPM', 'LEADERCIRC:OCT4', '05 LRA TSP', 'KSC-MO: FY17 Capacity Building', '07 NH DIN:07 Individual', 'NYC-NY: FY15 Team Supporters', '08 RHI TSP:Co-Team', '08 LRA G', 'CHI-IL: FY13 GivingTuesday', '80040:Honor/Memory', 'ORL-FL: FY17 Board Annual Giving', '80010-LAX12F', 'BOS-MA: FY15 Ambassadors Spring Event', 'FY09 SPECLPRGM', '05 SEA PROG', 'DEN-CO: FY16 Give a Gift from the Heart Event', '80000-RHI12:Donation', '05 CHI GEN', 'BOS-MA: FY15 Boston Marathon - Kevin Fish', 'DAL-TX: FY17 Sustainable', 'CLE-OH: FY17 Winter Appeal Mailing', 'COL-SC: FY15 Capacity Solicitations', '06 SANJ CMPSP', \"DEN-CO: FY15 Women's Initiative\", 'PHL-PA: FY16 Marathon', 'NYC-NY: FY17 Associate Board Fundraiser', 'NYC-NY: FY14 Gala', '07 BOS IGC', 'SNJ-CA: FY15 Team Sponsorships', 'COL-SC: FY17 Midlands Gives', 'ORL-FL: FY17 Sustainable', 'PRV-RI: FY17 Team Sponsorships', 'PHL-PA: FY17 Team Sponsorships', '06 CSC TSP:Co-Team', '08 CLE APPNI', '05 DET DIN:05 Indiv. Tickets', '80000-DET09:DONATION', '06 COL PROG', '06 PHL APP:SPRINGAP', '05 BOS APP:05-SAAP', '08 CSC YH:YHFEE', '06 JBG PROG', '05 SEA SPS', '08 SAN APP:SPRINGD', 'NYC-NY: FY16 Investment Breakfast', 'NYC: FY12 AssocBrd:Donation', 'DET-MI: FY16 Program Sponsorships', '05 DET DIN:05 Silver', '05 INT CAP', '08 RHI CFC', 'CHI-IL: FY17 Gala - Night of Ask', '06 CSC GOV', '08 NAT PROG', 'LOS-CA: Major Gift Ask', '06 BOS PROG', '08 DET SPP', '08 CHI ERND:08 ABD', '07 CLE IGC', '08 DET APPNI:FALL', 'COL-OH: FY17áBoardáCampaign', '80010-NYC09F:POTDNR', '06 SAN G', 'Sustainable', '80000-CSC09:80000-CSC09', 'SERVICE', 'DEN: FY13 Gala:Night of Ask', 'PRV-RI: FY14 Gala:Night of Ask', '08 COL YH', 'BOS-MA: FY15 Staff Giving', '07 CLE AFT', '07 PHL G', 'WDC-DC: FY16 Spring Break - Patterson', 'WDC-DC: FY15 Service Days', 'SNJ-CA: FY18 Red Jacket Society', '08 CLE ERND', 'CHI-IL: FY17 Corporate Annual Fund', '05 CHI EVT:JOPH1', 'CLE-OH: FY17 Alumni Event', '04 CLE APP', 'YH', 'Special Programs:Reading Success', '08 LAX SRVSP', '09 MIA G', 'BOS-MA: FY17 Spring Appeal Lapsed Donor Letter', 'CCL', '05 BOS EVT:MFS/CYB Basketball T', '80000-COL08:80000-COL08', '05 LRA MAJ', '09 RHI IGC', 'PHL-PA: FY14 Summer', 'CF: FY15 Service Days', 'PRV-RI: FY14 EOY', '07 NAT CARE', \"DEN-CO: FY17 School's Out for Summer\", '80010-SEA08F:DNR', '07 DET APPNI', 'Service Day Fee', '06 INT SUS:USS', 'LTR-AR: FY14 Gala:Night of Ask', 'HQ; Summit', '80010-DET09S:RENTED', '80000-COL12:Sponsor', '08 NYC SRVSP', '05 LRA GOV', '07 LSA PROG', '05 NYC TSP', '05 NYC APM', \"DEN-CO: FY17 Women's Leadership Breakfast\", '15 Team Sponsorship', '80010-PHL09F:ALUM PRNTS', 'DET-MI: FY17 Gala', '04 CLE SAT', 'ORL-FL: FY15 Community Giving Campaign', '06 CHI G', '07 BOS APP:SPRINGPD', '09 LRA G', 'NSD: MKE:Hotel MKE Event', 'TUL-OK: FY15 Global Youth Service Day', \"PHL-PA: FY16 Women's Leadership Luncheon\", 'CLE-OH: FY16 Capacity Solicitations', '07 CSC ERND', '06 PHL OPEN', 'LRA: FY13 Gala:donation', 'NH: FY13 Bike Race:Sponsorship', 'BOS-MA: FY17 United Way Employee Giving', '04 CLE DIN', 'JAX-FL: FY16 Gala', 'BOS-MA: FY16 Legal Bfast', '06 SEA DIN:06 Presenting', '04 COL SRV', '04 CLE CAMP:REG', 'PHL-PA: FY16 Summer Appeal', \"JAX-FL:FY16 Women's Lunch\", 'NOL-LA: FY15 Gala New/Tickets', '07 CHI APP', \"NYC-NY: FY16 Women's Leadership Breakfast\", '08 NH SPPM', '06 DET APP', '80000-RHI12:80000-RHI12', '04 WDC YH', '80000-SAN08:08 Presenting', '02 RHI GEN', 'SEA-WA: FY16 Giving Tuesday', '09 SAN APPNI:SPRINGD', '06 LRA PROG:CLINTON', 'MAN-NH: FY17 Idealist Circle', '05 LRA GEN', 'ORL: FY13 Gala:Tickets', '80000-PHL12:Tickets', '80010-DET10U', 'NH: FY13 Gala:Night of Ask/Raffle', 'LOS-CA.FY14 ThursdayNights', '07 CHI TSP:Co-Team', 'SEA-WA: FY15 Sustainable Personalized Ask', '06 CHI APP:FALLPD', '08 NYC PROG', '07 SANJ YH', '05 SEA DIN:05 Silver', 'PHL-PA: FY17 EVENTS WLL Day of Ask', '04 RHI AFT', '06 CSC APPNI', 'ORL-FL: FY16 Service Project', 'MWK-WI: FY15 Program Support Solicitations', '05 JBG IGC:CIT', '05 CLE GEN', '08 BOS ENDW', '07 NYC EVT:Donation in lieu of', 'LOS-CA: FY17 Alumni Giving', '80000-PHL08:08 ExVice', '09 COL YH', '05 BOS CMPSP', 'SSN/ROH/TRIB:TIX', 'BOS-MA:DV:EX:FY16:151229: Winter Appeal Current Email 3', '80000-NH08:08 Presenting', '80010-SEA11F', '80000-SEA10:Individual Ticket', 'DEN-CO: FY15 Denver Foundation Intern', '13 NYC IGC:ALUM/FRND CMPN', 'BOS-MA: FY17 Legal Bfast Monthly Giving', 'CAPCTYBLDG', '07 CLE APP:FALL', 'HQ: FY10 Women', '07 NAT IGC:AKLSP', '08 NYC IGC', '80010-NYC09F:ALUM', '07ATL MTCH (NP)', '08 NYC SFC', 'SAN-TX: FY15 Gala', 'NOL-LA: FY15 Service Days', '80000-LRA08:08 Gold', '07 COL APP:SPRINGA', '08 COL SRVSP', '07 COL TSP:Co-Team', '04 SEA CARE', 'PHL-PA: FY15 Associate Board Giving', '05 NAT DIN (2004)', '04 CSC GEN:BOARD', '06 DET DIN:06 Gold', '80000-BOS08:08 Silver', '80010-NYC09F:RENTED', '09 DET AFT', '08 RHI GRAD', '10 NAT DIN', '80000-CLE08:08 Silver', '05 COL APP:SPRINGPD', '07 LSA APP', 'SANJ: FY13 Gala:Donations', '06 BOS SPS', 'CLE-OH: FY14 Gala', '80000-DET09:GOLDSPR', 'MAN-NH: FY15: P2P.Alumni Holiday', 'NH: FY13 Gala', 'BOS-MA: FY17 Boston Marathon - Jesse Carmen', '07 LRA CMPSP', '05 BOS TSP', 'BOS-MA:DV:EX:FY16:151229: Winter Appeal Lapsed Email 3', 'BOS-MA: FY15 Spring Appeal Regular RLD (Recent Lapsed) Letter', '08 LSA PROG', '80000-SEA10:Alumni Ticket', '08 COL YH:YHTSP', '80010-NH10U', '08 LRA SRVSP', '80000-WDC08:08 Silver', 'SAN: FY13 Golf:Tickets', 'MAN-NH: FY14 Leadership Breakfast', '06 PHL EVT', '80000-LRA08:08 Presenting', 'DET: FY13 EOY:Major Lapsed', 'BOS-MA: FY15 Spring Appeal Regular LD (Lapsed) Letter', '80000-LRA09:AUCTION', 'BOS-MA: FY15 HBS Auction', '06 COL APP:YHB', 'DEN-CO: FY16 Gala Night of Ask', 'MAN-NH: FY14 Gala Sponsorships', 'BOS-MA: FY17 Fall Appeal', '06 NH APP:SPRINGPD', '80010-HQ10F:DNR', '06 LSA G', '80000-SAN08:08 Silver', 'BOS-MA: FY17 Fall Appeal Email 2 Non Donor', '80010-CLE09U', '80010-RHI09F:POTDNR', '07 CSC APP:FALLPD', '07 LRA IGC', '80000-NH09:AUCTION', 'RADIO_03', 'LTR-AR: FY16 Program Support Solicitations', '07 WDC EVT:Aumni', '04 NH SRV', 'SAC-CA: FY14 Gala', '08 NYC APP:FALLPD', '80000-CSC 10 (2009)', '05 JBG TRSP', '80000-MKE12:Night of Ask', 'CLE-OH: FY16 Gala Night of Ask', 'BOS-MA: FY17 Spring Appeal Current Donor Letter', '07 WDC DIN:Presenting Sponsor', '07 SAN SPP', '70000:SAT09', '06 SANJ YH', '06 JBG TSP:Full Team', '04 CLE YH', '05 LRA APP', '06 WDC GOV', '10 LSA IGC', '05 BOS OPEN', '05 WDC ERND', \"TUL-OK: FY16 Women's Event\", '05 NAT DIN:05 Silver', '05 WDC DIN:05 Bronze', 'NOL-LA: FY16 Sustainable Personalized Ask', '05 RHI CMPSP', '08 Radiothon', 'Graduation', '05 RHI PROG', 'NOL-LA: FY17 Gala - School House Rock Individual Donations', '08 NAT G:VFNS', 'SAC-CA: FY15 Gala New/Tickets', 'NYC-NY: FY16 Capacity Solicitations', '80000-DET10:Auction Gift', '05 BOS APP', '06 RHI G', '80000-LRA12:Auction', '04 RHI DIN:DON', 'WDC-DC: FY16 Winter Appeal', '06 BOS CARE', '07 BOS EVT', '10 DET IGC', '07 NYC DIN (2006)', 'NOL-LA: FY15 Sustainable Personalized Ask', '06 CHI DIN:Silver', '05 SAN ERND', '07 SEA SPP', 'EBR-LA: FY17 RJS Giving', '08 BOS G', 'COL: FY12 AlumBrd', '80010-CHI09S:POTDNR', '80000-SEA10:VIP ticket', '09 LRA TSP:Full Team', '06 LSA EVT', '80010-PHL10F:ALUM PRNTS', 'PRV-RI: FY15 Program Support Solicitations', '08 CSC TSP:Co-Team', '09 LSA IGC', '04 SEA TSP', 'MAN-NH:FY16 Reach the Beach', '80000-SEA09:INDTKT', '08 CLE SFC', '04 SEA CAMP', '07 NAT IGC:Honor of Michael Bro', '08 SAN SRV', '07 COL APP:FALLCP', 'BOS-MA: FY13 Spring Phone', '10 PHL TSP', '04 NAT APP', '04 NYC CAMP:REG', '80000-NH12:Auction', '04 PHL AFT', 'WDC-DC: FY16 Service Days', '08 CHI G', '06 NAT G', 'LOS-CA: FY17 MLK Day', '08 INT NSD', 'WDC-DC: FY14 MLK Day', 'SEA: FY13 Gala:Night of Ask', 'Special Programs', 'SEA-WA: FY14 Gala: Golden Ticket Raffle', '09 SANJ CH', '08 PHL CAMP', '80000-SEA09:Auction', '09 LAX IGC', '07 SEA DIN', '80010-COL12S', '05 BOS GEN:ALUMFIB', 'MAN-NH: FY14 Gala:Tickets', '06 RHI TSP:Full Team', 'LTR-AR: FY15 Program Support Solicitations', '09 BOS TSP:Full Team', '08 CLE PROG', '08 CHI TSP:Full Team', '05 NAT DIN:05 Individual', 'COL-SC: FY14 Gala', '05 JBG TSP', 'ORL-FL: FY16 Sustainable', '80010-CHI12F', '80000-SEA08:08 Bronze', '08 NAT ENDG', 'CHI-IL: FY15 Team Sponsorships', 'MIA-FL: FY16 Service Days', 'WDC-DC: FY16 Gala Night of Ask', '08 WDC TSP:Full Team', '06 SANJ SFC', '06 CHI OPEN', '80000-SEA08:08 Platinum', '05 SEA APP:SPRING', '07 LSA IGC:ESMEMORIAL', '08 DET TSP:Full Team', '06 CSC YH', 'NOLA: FY13 Gala:Donation', 'CHI: FY12 Annual Dinner--Donation', 'ORL: FY13 Gala:Donations', '06 NAT AFT', 'MAN-NH:FY16 March Madness', '06 SANJ APP:SPRINGD', '09 NH IGC', 'PRV-RI: FY16 Annual Appeal', '80010-CHI09F:DNR', '06 COL CAMP', '05 SANJ APP:SPRING', '07 BOS G', '05 COL GEN', '80010-BOS11F:ALUM PRNTS', 'HQI-MA: 25th Anniversary Alumni--Personal Ask', '05 WDC YH', 'ORL-FL: FY15 Breakfast', '80040:Patriots Raffle', 'WDC: FY13 Legal Brk:Ask', 'BOS-MA: FY15 EOY/Winter Appeal Lapsed Donors Letter 1', '06 NYC APM', '80010-SANJ10U', '07 NH CAMP', '06 CLE APPNI', '04 RHI IGC', '80000-MIA11', '07 CHI YH', '80000-LRA12:Night of Ask', 'LTR-AR: FY15 Gala Sustainable/Sponsorships', 'Voices Membership Dues FY16', '07 CHI CAMP', '06 CSC G', '80000-LRA11:80000-LRA11', '80070:sponsor', 'SNJ-CA: FY16 Associate Board Event', 'PRV-RI: FY15 Womens Event', '05 SAN GEN', 'FNDCIR', '04 SAN DIN', '06 JBG IGC', 'NYC-NY: FY16 Associate Board Trivia Night', 'CLE-OH: FY18 Multi-Event Sponsorship', '80010-WDC09F:POTDNR', '80000-RHI12:Sponsor', '06 COL APP:FALLB', 'WDC-DC: FY16 Alumni Soiree', '05 CHI APP:SPRINGAP', '80010-LAX10F:DNR', '80000-LRA12:80000-LRA12', '80010-LSA09F:RENTED', 'SAN: FY10 Gala', '80000-LRA10:80000-LRA10', '80000-LRA08:80000-LRA08', '07 WDC IGC', '80000-MIA12', '05 DET CAMP', '09 RHI SPPM', '06 LRA G', \"NYC-NY: FY15 Women's Breakfast\", '08 CHI APP:SPRINGAP', 'LOS-CA:FY15 Alumni Board Giving', 'WDC: FY12 Alum', '06 DET APPNI:FALLOS', '05 CHI EVT', '07 NH CYZ', '80010-WDC09U', '08 CHI APP:SPRINGCP', 'MIA-FL: FY16 Give Miami Day', 'SEA-WA: FY17 Gala Regret Gifts', '05 RHI DIN:05 Individual', '08 PHL CMPSP', '05 BOS ERND', 'BOS-MA: FY17 Ambassador Trivia Night', '05 SAN APP:SPRINGOS', '04 RHI AMER', '04 NYC APP', 'NYC-NY: 13 EOY', 'CHI-IL: FY14 Microsoft Youth Spark Challenge', 'WDC: FY13 Legal Brk', '80000-DET08:VIP', 'FY09 OTHER INCOME', 'PHL: FY13 Gala', '80000-RHI11:80000-RHI11', '06 RHI SPPM', 'DEN: FY13 Gala:Donation', 'BOS-MA: FY17 Winter Appeal', '06 CSC DIN', '06 PHL APP', '07 LSA EVT', '80000-HQ11', '05 NAT CARE:RFE', '06 RHI APP', '07 NAT AFT', '08 RHI CMPSP', '08 PHL APP:FALL', '07 CHI TSP', '07 LSA SRV', 'WDC-DC: FY17 Giving Tuesday', '04 CHI TSP', 'COHANNUAL', '80000-SAN08:08 Individual', '80000-SEA12:Wine wall', '08 DET APP', 'DEN-CO: FY15 Gala', '06 NAT YH', '10 WDC IGC:ALUM/FRND CMPN', '07 SEA AFT', 'NYC-NY: FY15 Gala New Sponsors/Tickets', '06 CSC ERND', '06 WDC DIN:06 Gold', '05 COL APP:SPRINGOS', '06 RHI PROG', 'SAC-CA: FY15 Program Support Solicitations', 'NYC-NY: FY17 Sustainable', '80000-WDC08:08 Gold', 'FY08 SPECLPRGM', '08 CHI CFC', '08 NAT CFC:Miami', 'SEA-WA: FY17 Personalized Ask', '10 COL CAMP', 'OTHEREVNTS:EOY Site BBQ', '07 NYC TSP:Full Team', '08 CHI EVT:Associate Board Band', '05 CSC GEN', '04 SAN GEN:BOARD', 'WDC-DC: FY17 DC United', 'NOL-LA: FY14 Gala:Tickets', 'COL-OH: FY15 Program Support Solicitations', '80000-CSC08:80000-CSC08', 'BOS-MA: FY17 Ambassador Raffle', '80010-SEA09F:DNR', 'SNJ-CA: FY16 Program Support Solicitations', 'EBR-LA: FY13 XMass Card', '07 PHL APPNI', '07 NAT IGC:FONS', 'NYC-NY: FY15 Investment Breakfast', '05 SANJ GEN', 'HQI-MA: FY17 South Africa', 'PRV-RI: FY14 Alumni', '08 DET YH:YHFEE', '08 DET AFT', '06 DET DIN (2005):Silver', '08 CHI APP', 'CHI-IL: FY16 Annual Fund Corporate', 'NYC: FY13 Gala:Sponsorship', '05 CLE SRVSP', 'NYC-NY: FY16 Associate Board Fundraiser', '06 COL APPNI:FALLPD', '05 WDC APP', 'PHL-PA: FY17 Red Jacket Reunion', '05 NH GOV', '06 BOS AFT', '07 BOS APP:FALLPD', '04 SANJ PROG:Clinton Innovation A', '80000-DET10:Nonprofit Sponsor', '80000-WDC08:08 Donation', '04 DET DIN', '04 NAT CYZ:ALUM', '04 WDC DIN', 'PHL: FY13 Gala:Executive Vice Chair', 'EBR-LA: FY17 Alumni Giving', 'CHI-IL: FY14 Gala:Night of Ask', '07 CSC OPEN', '06 COL DIN:SIL', '80000-SEA12:Tickets', '06 CHI APP:FALLD', '05 CSC CMPSP', '08 CSC SRV', '07 COL EVT:Aumni', '08 SANJ G', 'COL-SC: FY13 Gala:Tickets', '10 SANJ TSP', '08 PHL AFT', 'NH: FY13 Gala:Table', '06 SAN IGC', '80040:Founding Citizens', '05 DET DIN:05 Indiv. Donations', '80000-NH11:Live Auction', '08 CHI TSP:Co-Team', '80000-NYC11:Silver Sponsor', '05 NYC APP:SPRING', '80010-NH09F:POTDNR', 'LOS-CA: FY15 Team Sponsorships', '09 PHL G', '06 SEA CMPSP', '07 SANJ APP:FALL', '06 CLE PROG:CLINTON', '04 RHI PROG', '06 CLE DIN:06 Silver', 'WDC-DC: FY14 Gala:Tickets', 'SAN: FY12 GALA:SAN: FY12 GALA', '08 CSC CMPSP', '07 CLE DIN (2006)', 'MWK-WI: FY14 Gala:Donations', 'CHI-IL: FY15 Microsoft Youth Spark Challenge', 'LTR-AR: FY14 Gala Sustainable Sponsorships', '80000-SEA12:Donation', '80000-SEA10:Table Sponsor', '07 NAT SRV:LASD', '80010-Acq FY11Fall:B1', '07 PHL IGC', '09 RHI IGC:ALUM/FRND CMPN', 'LOS-CA: FY15 Capacity Solicitations', '07 DET YH', 'SEA-WA: FY17 Team Sponsorships', 'DET: FY13 EOY:Major Lybunt', \"NYC-NY: FY15 Women's Series\", 'CHI: FY11 City', '06 RHI DIN:06 RHI DIN', 'LOS-CA:FY15 MariaMaganaMemorial', '80010-RHI10U', 'TUL-OK: FY15 EOY New Anthropy', 'BOS-MA: FY17 Spring Appeal Parent Letter', '80010-PHL09F:RENTED', '80000-NH11:Tkts & Tbles', '07 SANJ APPNI', 'BOS-MA: FY14 Spring', '06 NAT CYZ:REG-AD', '06 CSC TSP:Full Team', 'SAN: FY11 Gala:SAN: FY11 Gala', '07 SEA TSP:Co-Team', '07 WDC APP:FALL', '08 COL TSP:Full Team', '06 SAN DIN:06 Individual', '80040:BAILER WEDDING GIFTS', 'CLE-OH: FY17 Dreambuilders', '07 BOS DIN:DON', '05 NYC GOV', '09 LAX PROG', 'BOS-MA: FY16 EOY/Winter Appeal Current Donors Letter 1', 'WDC-DC: FY16 Zengo Cycle Charity Ride', '80010-COL09F:DNR', 'PHL-PA: FY15 Sustainable Personalized Ask', 'CHI-IL: FY14 WineStein:Sponsorship', '06 BOS APP', '10 MIA IGC', '07 COL DIN', 'LTR-AR: FY17 Gala', '06 NAT DIN:DON', '05 SANJ DIN:05 Gold', '05 RHI YH', 'SAN-TX: FY15 EOY', '80000-DET10:Frnds & Fam Tickets', 'NYC-NY: FY14 Golf', '80000-NH10:Online Auction', '08 SEA ERND', 'NYC-NY: FY14 Alumni', '05 CSC DIN:05 Donations', '07 BLD', 'SERVICE:PUBHEALTH', '07 WDC APP:FALLCP', 'WDC-DC: FY17 Winstonn Tubbs Birthday', '06 SAN TSP:Full Team', '05 CSC TSP', '07 PHL TSP:Co-Team', 'CLE-OH: FY16 Alumni Event', 'DET-MI: FY14 Gala', '80010-BOS09S:RENTED', '06 NAT GRAD', '05 SEA DIN:05 Gold', '05 INT MAJ', 'BOS-MA: FY16 Boston Marathon', 'PHL-PA: FY16 RJS Members', '08 COL SRV:SAT', '08 NYC EVT', 'MAN-NH: FY16 Corps Friendraiser', '05 BOS MAJ', '08 LSA SPS', 'WDC: FY13 Receptions:Jit Singh Reception', 'HQI-MA.25th Anniversary Staff Giving', '04 NAT VFA', '05 NAT APS', '05 SAN CAP', 'SEA-WA: FY15 Gala Sustainable/Sponsorships', '05 COL GEN:FIBOWL', 'ORL-FL: FY16 Idealist for Education Breakfast', 'MAN-NH: FY16 Alum TSP', 'NYC: FY12 AssocBrd:Raffle', '06 PHL APP:FALLAP', '06 NAT EVT', 'PRV-RI: FY17 Sustainable', 'Voices Grants FY15', 'DET: FY12 AbrHous', '80010-PHL11F:DNR', 'SANJ: FY13 Gala', 'JAX-FL: FY16 Individual', '06 RHI APP:SPRINGD', '80010-LRA09F:RENTED', '07 SAN APPNI', '05 SANJ DIN:05 Individual', '05 NAT CYZ', '07 LSA G', '08 COL APP:FALL', 'HQI-MA: FY14 South Africa', 'NYC: FY12 GOLF', '80000-NYC10:80000-NYC10', '09 NAT ERND', '06 SEA DIN:06 Auction', '04 BOS EVT', '05 CLE TSP', 'MAN-NH: FY15 Camps.Sponsorships', '06 LRA PROG', '07 DET OPEN', 'PHL: FY13 EOY', '07 RHI PROG', '04 DET AFT', '05 NH ERND', 'ORL: FY13 Gala:donation', 'EBR-LA: FY13 Gala Night of Ask', '05 NYC YH', 'WDC: FY14 Giving Day', '80010-WDC09S:ALUM PRNTS', 'MAN-NH: FY16 Team Supporters', 'WDC-DC: FY17 Team Sponsorships', '05 CLE GOV', 'BOS-MA: FY15 EOY/Winter Appeal Recently Lapsed Donors Email 2', 'Whole School, Whole Child', 'COL-SC: FY16 Individual Giving Campaign', '80000-DET08:08 Silver', 'BOS-MA: FY14 Service Days', 'DET-MI: FY15 Fountain Bistro', '08 CHI APPNI:SPRINGPD', '07 WDC SRV', 'Voices Presidential Polling FY16', 'MWK-WI: FY17 Sustainable', '06 BOS CAMP', '01 RHI CYZ', '80000-NH11:Online Auction', '80010-CHI09S:ALUM PRNTS', '05 NH DIN:05 Platinum', '80000-LRA08:08 Silver', '80000-NH09:DONOR', '06 PHL APPNI:FALLPD', '06 SEA APPNI:FALLD', 'COL-OH: FY17 Program Support Solicitations', 'MWK-WI: FY16 Gala', '08 SANJ WSWC', '05 SAN DIN:05 Donation', '05 DET YH', '10 COL IGC:ALUM/FRND CMPN', '06 LRA TSP:Full Team', '08 SAN OPEN', '06 BOS CMPSP', '07 PHL CH', 'NYC: FY13 InvestBrk:Donations', '11 NAT ENDOWMT', '06 DET DIN:06 Individual', 'HQI-MA: FY15 Cause Marketing', 'COL-OH: FY14 Gala:Auction', '09 PHL TSP:Full Team', '80000-LAX12:Donation', 'MIA: FY13 Women Lun:Day of Ask', '08 SANJ AFT', '80010-WDC11S', '06 JBG OPEN', '80000-NYC08:08 Bronze', 'NYC-NY: FY16 Law Breakfast', 'PHL-PA: FY16 EITC Contributions', '10 WDC CAMP', '06 CSC DIN:IND TIC', '06 NH EVT', '07 CSC APPNI', '06 SEA AFT', 'BOS-MA: FY13 Legal Brk', '06 WDC CAMP', 'LOS-CA: FY13 Gala Spring Break', '09 LAX TSP:Full Team', 'SNJ-CA: FY16 Sustainable Personalized Ask', '07 CLE YH', '05 NH DIN:05 Auction - Silent', 'BOS-MA: FY17 Employee Giving', '06 BOS YH:ETRAN', '06 SEA G', '05 BOS EVT:SWSPEC', 'WDC-DC: FY17 DoMore24', '80010-SAN09F:POTDNR', '08 CHI SRV', '06 NYC DIN', '10 LAX TSP:Full Team', '04 PHL PROG:RADIO', 'SAN-TX: FY15 Gala: Tickets', '07 SANJ APP', 'CLE: FY13 Gala:Donation', '04 RHI DIN:ONE', '08 SAN IGC:ALUM/FRND CMPN', '06 BOS DIN:06 Gold', 'PHL-PA: FY14 EOY', '80000-MIA10', 'MIA: FY13 After Part:Auction', 'PHL-PA: FY17 ING Red Jacket Society', '08 WDC APP:FALLAP', 'LOS-CA: FY14 Gala Spring Break', '08 PHL APPNI:FALLAP', 'CHI-IL: FY14 Gala:Donations', '07 NH SPS', '08 SAN YH', '80010-NYC11AnnFall', '06 DET APPNI:SPRINGD', '80040:Ambassador Program', '80000-RHI08:08 RAFL', '06 WDC APP:FALLPD', '04 BOS YH', 'CHI-IL: FY16 Graduation', '04 RHI CAMP:SPON', 'SAC-CA: FY16 Big Day of Giving', 'CHI-IL: FY13 Gala', '05 CLE PROG', '07 NAT NSD:LA', 'National Leadership Sponsor (NLS)', '07 SANJ CYZ', '05 SANJ AFT', 'PHL-PA: FY14 SD', '80000-DET08:08 Individual', '05 SEA AFT', '10 NH IGC', 'NYC-NY: FY14 Golf:Auction', '06 LRA SPPM', 'MIA: FY13 DTD:MIA: FY13 DTD', '08 CLE IGC', '07 CSC YH', '08 LSA GOV', 'SNJ-CA: FY15 Sustainable Personalized Ask', '06 LSA CMPSP', '07 NAT DIN', '05 NH CAMP', '10 PHL IGC:ALUM/FRND FUND', '06 NAT APP:FALLA', '08 RHI ERND', \"JAX-FL: FY17 Women's Lunch Tickets\", '06 SEA APPNI:FALLPD', '08 LAX CMPSP', '08 NAT APP', 'BOS-MA: FY15 EOY/Winter Appeal Lapsed Donors Email 3', 'PHL-PA: FY16 Alumni Campaign', '06 CSC APP:FALLPD', 'NSD:DAL', '08 DET SFC', '05 BOS EVT:MFS/CYB Bake Sale', 'NSD:TUL', '08 DET APPNI:07SPRING', '08 LRA GRAD', 'NYC-NY: FY14 Fall', 'SSN/ROH/TRIB', '80010-COL10U', '09 PHL IGC:ALUM/FRND CMPN', '80010-SEASPRGMAIL11', 'FY10 OTHER INCOME', '04 BOS SAT:Sponsorship', 'DET-MI: FY13 Womens Breakfast', '80000-LRA08:08 AUCT', '80040:Parent Giving', 'HQ: FY11 Women', 'DEN-CO: FY16 CO Gives Day', '08 COL AFT', '62000:City Year For Kids', '10 NH TSP:Co-Team', 'PHL-PA: FY15 Summer Appeal', 'DET-MI: FY13 Gala:VIP Ticket', '05 SANJ CAP', '80010-HQ09S:POTDNR', 'NH: FY13 Gala:Auction', '80000-PHL09:SINGLETKT', 'WDC-DC: FY17 Manson Garden Party', 'WDC-DC: FY15 Program Support Solicitations', '70000:FEE', 'DET: FY13 Womens Brk:Donation', 'CAREFORCE 99-03', '05 SANJ DIN:05 Silver', '80010-DET11F', '07 ESEA', 'MIA-FL: FY15 Broward Giving', '09 NAT IGC:ALUMFAM', '80000-NH08:08 Gold', '06 INT CDF', 'MWK-WI: FY14 Gala Sustainable Sponsorships', 'DAL-TX: FY16 Program Sponsorships', '04 NH APP', 'PRV-RI: FY15 Board Giving', '80040:Associate Board Fund', '06 JBG TSP', '80000-MKE12:Tickets', 'PRV-RI: FY14 Gala Sustainable Sponsorships', 'NYC-NY: FY15 Associate Board Fundraiser', '80010-RHI09F:DNR', '07 PHL APP:FALLA', 'SAC-CA: FY16 Service Days', '07 DET DIN:AUC', 'CHIGRCMP', 'DET: FY14 Little Wedding', 'ORL: FY13 Gala:ticket', '80010-WDC10S', 'WDC: FY13 Gala:Tickets', 'BOS-MA: FY15 Team Sponsorships', '80000-NH08:08 Bronze', 'CHI-IL: FY16 Associate Board Dues', '05 SANJ APP', 'HQI-MA: FY17 Strong Circle Day', 'NYC-NY: FY15 Legal Community Breakfast', '07 DET APP:SPRINGCP', '10 NH WSWC', '10 LAX IGC:ALUM/FRND CMPN', 'SAC-CA: FY15 Capacity Solicitations', 'Individual Giving Circles', '07 NYC APP:FALLPD', 'MAN-NH: FY17 NH Gives Day', 'DEN-CO: FY17 Program Support Solicitations', 'LTR-AR: FY18 Gala', '07 BOS IGC:Planned Giving', '06 BOS APPNI:FALLOS', 'SAN: FY13 Gala:Night of Ask', '08 NYC IGC:ALUM/FRND FUND', 'DEN-CO: FY17 Major Gifts', '08 CHI APPNI:FALLPD', 'BOS: FY12 Legal', 'NH: FY12Women', '10 NAT EVT:LegalBreakfast', \"TUL-OK: FY17 Women's Event\", '05 SAN EVT', '06 PHL APPNI', '05 SEA YH', 'WDC-DC: FY15: P2P.Camp City Year', '06 SEA APP:FALLPD', '13 BLD', '08 SANJ PROG', 'LTR-AR: FY15 EOY Mailer', 'NYC: FY12AlumBrd:Auction', '07 NYC DIN:07 Bronze', '08 PHL APP:FALLPD', '80040:Honor of Michael Bro', 'CHI-IL: FY14 Gala Sustainable Sponsorships', '08 CLE CFC', '80000-BOS09:80000-BOS09', '05 CLE OPEN', '08 LRA SPPM', '06 RHI APP:FALLPD', 'LOS-CA: FY13 Gala Donation', '06 CHI ERND', '08 NAT WSWC', 'MIA:FY13 Run w Fins', 'BOS-MA: FY15 Spring Appeal Monthly RLD (Recent Lapsed) Email 1', '09 DET IGC:BAILER WEDDING GIFTS', 'DET-MI FY12 Gala', '08 NH TSP:Co', 'DET-MI: FY13 Hall Party', 'NYC-NY: FY13 Alumni Fundraiser', '80000-COL11', '07 NAT SFC', '05 CHI YH', '07 LSA YH', '04 PHL TSP:YH', 'CHI-IL: FY13 Gala:Night of Ask', '80000-NYC08:08 Gold', '07 SANJ PROG', 'MAN-NH: FY14 Gala:Night of Ask', 'CHI-IL: Major Gift Ask', '06 PHL CH', '08 RHI TSP:Full Team', '80000-HQ08:08 Bronze', '04 NAT APS', 'PRV-RI: FY15 Gala', '80000-CSC08:08 Gold', '04 BOS EVT:MLK Day', '09 LSA CARE', '07 NYC CAMP', '06 NAT APP:FALLD', '06 CSC IGC', '80010-HQ11AnnFall', '12 BOS IGC', '06 PHL PROG:RADIO', 'TSP FY10 HALF', 'MAN-NH: FY15 Gala New/Tickets', '08 WDC YH', 'NYC-NY: FY16 Associate Board Cycling Fundraiser', 'PHL-PA: FY14 Ass. Board', 'KLANE', '08 PHL PROG:YLC', '80000-DET09:8TKTS', 'ORL-FL: FY16 Staff Giving', '80010-DET10F:DNR', 'MIA: FY13 DTD:Night of Ask', '06 RHI IGC', '04 RHI APP', 'CHI: FY09 Alum Tri', '05 LRA DIN', 'Young Heroes Sponsor:YHAA', '05 DET GEN:FIB email', '08 CLE EVT', 'OTHEREVNTS:NH HOLIDAY AUCTION', '80000-DET10:80000-DET10', 'SAC-CA: FY16 Board Giving', '06 NAT DIN:06 Bronze', '06 WDC DIN:06 Presenting', 'MIA-FL: FY17 Individual Asks', 'PRV-RI: FY16 Gala Sustainable/Sponsorships', 'NYC-NY: FY14 Golf:Tickets', '13 LAX IGC:ALUM/FRND CMPN', 'BOS-MA: FY16 Giving Tuesday Alumni', 'SEA-WA: FY16 Give Big', 'CHI-IL: FY17 Graduation Ceremony', '80010-WDC09F:DNR', 'JAX-FL: FY17 Gala Tickets', '07 COL APPNI:FALL', '07 BOS DIN:07 Individual', '06 SANJ APP:FALLD', '05 LRA IGC', '06 ESEA', '80000-NYC12:Online', 'Young Heroes Sponsor:YHPRSPON', 'NSD:MEM', '80010-PHL09F:DNR', 'BOS: FY11 PEVC', '07 NAT ENDG', 'ORL-FL: FY15 Team Sponsorships', '06 CHI APP', 'SEA-WA: FY17 Sustainable', 'CLE-OH: FY17 Gala - Night of Ask', 'DET-MI: FY16 Program Support Solicitation', '08 SAN ERND', 'COL-SC: FY15 Gala', '06 SANJ DIN:06 Friends', '04 BOS CMP:SPON', '08 SEA OPEN', 'NYC: FY11 AssocBrd:Auction', '10 NYC SPPM', 'BOS-MA: FY15 Spring Appeal Regular CD (Current Donor) Email 1', '04 BOS SAT:REGFEE', 'BOS-MA: FY17 Winter Appeal Recent Lapsed Monthly Donors Email 1', 'STFSOL', '80010-BOS10F:ALUM PRNTS', 'MAN-NH:FY16 Scary Scary Night', 'EBR-LA: FY13 Gala Tickets', '05 BOS EVT:SW5', '04 DET ENDW', '80010-HQ09F:ALUM PRNTS', 'WDC-DC: FY16 Spring Break - Plummer', 'CHI-IL: FY16 Bridge Builders', '02 NAT APM', '07 BOS OPEN', 'COL-OH: FY16 BoardáCampaign', '80010-INT09', '05 SAN GOV', 'NYC: FY10 AlumBrd', 'SEA-WA: FY14 Gala: Wine Wall', 'PHL-PA: FY14 Major Gift', '08 DET IGC:NSM', 'WDC-DC: FY16 Gala', 'PHL-PA: FY17 ING Advisory Board', 'City Day', '05 SAN TSP', 'COL-SC: FY16 Midlands Gives', '06 CLE EVT', '07 BOS DIN', '80000-NH08:09 AUC', 'CLE: FY13 Gala:Tickets', '07 RHI YH', '07 NYC EVT:100 HOP', '08 SANJ SRV', '80000-NYC12:RSVP Card', '06 CSC CMPSP', '07 SEA OPEN', 'LTR-AR: FY16 Service Days', '09 LRA TSP:Founding Citizens', 'NOL-LA: FY15 Program Support Solicitations', 'JAX-FL: FY16 Program Sponsorships', '05 CHI DIN:05 Gold', '08 NH OPEN', '08 INT G', '06 CHI APPNI:FALLD', '04 NH TSP', 'BOS-MA: FY15 Spring Appeal Regular CD (Current Donor) Letter 2', '05 SEA DIN:05 Donations', '06 SEA SFC', 'SAN-TX: FY17 CYSA Alumni Campaign', '05 SEA DIN:05 Individual', '07 DET APPNI:FALL', '05 JBG FTSP', 'SAN-TX: FY15 Sustainable Personalized Ask', 'MWK-WI: FY18 Program Sponsor', 'WDC-DC: FY17 Gala Night of Ask', 'MAN-NH: FY16 NH Gives Day', 'MIA-FL: FY16 Team Sponsorships', 'HQI-MA: 25th Anniversary Alumni--Former Board Match', '06 BOS DIN:06 Bronze', '80040:Radiothon', '07 BOS APP', '80000-COL12:Night of Ask', 'WDC: FY13 Gala:silver sponsor', '80000-HQ08:08 Donation', 'EBR-LA: FY14 Gala Tickets', 'SAN: FY13 Gala:Donation', '09GBL LDRSHPSPR', 'MAN-NH: FY15 Fisher Cats', '05 BOS IGC', 'ORL: FY13 Board', '80000-NH09:80000-NH09', '80000-RHI12:Tickets', '80000-PHL09:PRESTGSPSR', 'DET: FY13 EOY:Renewal', '07 NH TSP:Co-Team', '06 COL APP:FALLP', 'Young Heroes Sponsor:YHOPEN', '04 SAN CARE', '80000-LRA09:BRONZE', '80000-SAN08:80000-SAN08', '80000-NYC08:80000-NYC08', 'NYC: FY12 AssocBrd:Tickets', '05 NH DIN:05 Auction - Live', '80010-BOS10S:POTDNR', '05 NYC IGC', '80010-CHI09F:RENTED', '10 PHL IGC:ALUM/FRND CMPN', '80070:tickets', '04 SAN APP', '08 NH IGC', '80000-DET09:FRDSFAMTKT', '80010-NYC09F:CORPS PRNTS', '80000-BOS12:80000-BOS12', '08 NYC TSP:Full Team', 'ORL-FL: FY16 Gala/Annual Event', 'NYC-NY: FY15 Alumni and Friends', 'CHI-IL: FY17 Gala', '80040:ALUM/FRND FUND', 'WDC-DC: FY15 Gala Night-of Ask', '80010-COL09F:POTDNR', 'BOS-MA: FY17 Winter Appeal Lapsed Donors Email 2', 'SCHDIST', '07 SAN EVT', 'SSN/ROH/TRIB:5000TBL', '13 RHI IGC:ALUM/FRND CMPN', '09 RHI YH', 'CHI-IL: FY17 Connecting Sectors', 'SEA-WA: FY17 Red Jacket Society', '05 COL APP:Spring Appeal (local', '05 BOS APP:05-SAAL-BOS', '04 RHI DIN:SUP', '06 RHI APP:FALLAP', 'PRV-RI: FY17 Capacity Solicitations', '04 NYC SRV', '08 LRA TSP:Full Team', '80000-NYC08:Platinum', '05 CHI PROG', '10ATL MTCH (P)', 'PRV-RI: FY15 Annual Appeal', 'JAX-FL: FY17 Giving Tuesday', '08 NH G', '05 CSC GEN:Challenge Grant', '80010-WDC09S:DNR', '07 CSC TSP:Full Team', '80000-RHI08:08 Individual', '07 COL APP:FALL', '07 SAN DIN', '80010-COL09S:RENTED', '09 INT IGC', '04 CSC GEN', 'SNJ-CA: FY14 Assoiciate Board Event', 'BOS: FY10 PEVC', '10 NAT APP:FALL', '06 NH APP:FALLD', 'SITEAMER', '05 CSC ERND', '80010-DET11S:ALUM', '05 COL ERND', '06 NYC TSP:Full Team', '80010-NYC12AnnFall:FY11 Parent', 'Atlantic Grant', '08 LRA CAMP', '64000-PRGM', 'NYC-NY: FY15 Service Days', '80000-PHL09:CORPTABLE', '80010-SEA10F:DNR', '06 BOS YH:GEN', '04 PHL GEN', '10 LSA EVT', '80000-LAX11:80000-LAX11', '50000-12UNKN', '08 SAN APP:SPRINGAP', 'NYC: FY11 AssocBrd', '05 SEA DIN:05 Platinum', '07 CHI SRVSP', 'DEN: FY12 CORPBRK', '08 NH APPNI', '08 WDC APPNI', '07 DET APP', '80010-WDC11F:DNR', '05 NH CMPSP', '06 COL DIN:AD', '80010-HQ11S', '10 CHI IGC:ALUM/FRND CMPN', '08 SAN IGC:ALUM/FRND FUND', '80070:NYC 11 Annual Golf T', '04 SANJ GEN:BOARD', '80040:board Dues', '06 CLE SPS', 'PRV-RI: FY17 Gala', '05 BOS EVT:SW3', '06 NAT CYZ', '09 BLD', '07 PHL ERND', 'SAN-TX: FY15 Gala Night of Ask', '80010-CHI11F', 'BOS-MA: FY17 Winter Appeal Recent Lapsed Monthly Donors Email 2', 'WDC::FY11 AssocBrd', 'NH: FY13 Bike Race:Donations', '07 CLE SRVSP', 'DET-MI: FY16 Fountain Bistro', 'NOLA: FY13 GALA', 'NYC-NY: FY15 Golf', 'BOS-MA: FY16 JuneEOY Appeal Calls Lapsed', '08 NH SPS', 'ORL-FL: FY15 Gala New/Tickets', '05 COL PROG', '80010-HQ09U', '10 LSA TSP', 'NH: FY13 Gala:donor', '05 BOS APP:05-SAOS', 'MIA-FL: FY16 Program Solicitations', 'Voices Membership Dues FY14 and prior', '07 SAN TSP:Full Team', '05 CHI SPS', '08 CLE AFT', '06 CLE DIN', '04 RHI DIN:GOLD', '80000-SANJ12:80000-SANJ12', '08 BOS APP', 'TSP FY10 FULL', '08 DET TSP:Co-Team', '04 COL CAMP:REG', '80000-BOS12:Night of Ask', 'NYC-NY: FY18 Gala Night of Ask', 'EBR-LA: FY17 Team Sponsorships', '80000-WDC08:08 Individual', '06 CSC AFT', '05 CSC SRV:SAT', 'CLNTDEM', '7100', '05 BOS DIN:05 Gold', '05 NYC PROG', 'BOS-MA: FY15 Spring Appeal', '06 SAN DIN', 'TUL-OK: FY17 Opening Day', '08 SANJ TSP:Co-Team', '07 WDC CYZ', '04 BOS DIN', 'PHL-PA: FY17 CE Teva Service Day', 'DET: FY13 EOY:Lybunt', '06 WDC APP:SPRINGD', '07 CSC SRVSP', 'City Day:REG+', '06 CLE YH', 'PHL-PA: FY15 Marathon1', '04 COL CAMP:SPON', '08 CHI DIN (2007):Sponsor', 'WDC: FY12 AssocBrd:Auction', 'ORL-FL: FY15 Gala Night of Ask', '06 SEA YH', 'CLE-OH: FY17 Multi Event Sponsorship', '05 CSC SRV', 'WDC-DC: FY14 Devel. Breakfast', '09 COL YH:YHPRSPON', '80010-LAX11F', '08 CSC CAMP', '09 COL WSWC', '06 PHL APP:FALLD', '05 SAN YH', '06 LSA APP:FALLPD', '08 SAN YH:YHOTHER', '02 RHI EVT', '05 RHI GEN', '04 LRA GEN', 'WDC-DC: FY14 Gala Sustainable Sponsorships', '04 PHL APP', 'GRAD', '08 LAX YH', '07 NH APP', '07 SEA G', '80010-SAN09U', 'WDC-DC: FY14 Alumni & Friends', 'ORL-FL: FY14 Breakfast', '06 LRA DIN:Gold', '80040:Staff Giving Campaig', '06 RHI APP:FALLA', 'DET-MI: FY13 Gala:Presenting Sponsor', '06 BOS APP:SPRINGAP', '10 MIA TSP', '10 NYC G', '08 NYC ENDW', '06 COL APP:FALLD', 'CLE: FY13 Gala:Night of Ask', '80000-RHI10:Silver Sponsor', '05 LRA DIN:05 CHAMP', '05 COL CAMP', '06 BOS DIN', '08 SAN G', 'MAN-NH: FY17 Giving Tuesday', 'WDC-DC: FY16 MLK Day - ZipCar', 'NYC: FY13 InvestBrk:NYC: FY13 InvestBrk', '06 NYC CMPSP', 'RHI: FY13 Gala', 'BOS-MA: FY17 Fall Appeal Email 1 Lapsed', '80000-SEA08:08 Auction', '07 CHI APP:SPRINGD', 'BOS-MA:DV:EX:FY16:160506 Spring Appeal Email 1 Email only', 'MIA-FL:FY15 Red Jacket Society Solicitations', 'BOS-MA: FY17 Winter Appeal Parents Letter 1', 'NATBOSAA03:FALL', 'BOS-MA: FY15 EOY/Winter Appeal Recently Lapsed Donors Letter 1', '06 BOS YH:PM', 'DEN-CO: FY16 Major Gifts', '70000:GLBL Yth SD', '04 NAT DIN', '04 NYC PROG:Clinton Innovation A', 'WDC: FY09 AlumFam', '03NB SSN:50K SP', '08 NAT OPEN', '04 BOS ANPM', 'NYCFY11FallAnnAppeal', '05 RHI DIN:05 Donation', 'SAN: FY13 Golf:Donations', 'COL-SC: FY13 EOY', '05 WDC IGC', 'COL-OH: FY13 Gala:Night of Ask', '05 BOS EVT', '08 RHI CAMP', '80000-SAN08:08 TABLE', 'RHI: FY13 Gala:Night of Ask', '06 COL DIN:BRO', '05 RHI DIN', '04 SAN AMER', '80010-CSC09F:DNR', 'LOS-CA:FY16 Fall Appeal', '80000-WDC08:08 Bronze', '07 LSA TSP', 'DEN-CO: FY16 Program Support Solicitations', 'SNJ-CA: FY15 Service Days', '04 CDF', '06 JBG HTSP', 'SANJ: FY12 AlumBrd', '07 PHL TSP:Full Team', 'SEA-WA: FY15 Sustainable Program Support', 'BOS-MA: FY13 Investment Breakfast Day of Ask', '04 SEA DIN', 'LTR-AR: FY14 Gala', 'BOS-MA: FY17 Winter Appeal Parents Email 3', 'ANNUAL:Parent Appeal', '05 BOS APP:05-SACP', '07 SAN SRV', 'NYC-NY: FY17 Investment Breakfast', '04 CSC CAMP', '09 CLE IGC:ALUM/FRND CMPN', '80000-LRA09:GOLDSPSR', '06 SAN CMPSP', '05 NYC DIN:05 Donations', '06 NYC PROG:CLINTON', '08 CHI DIN (2007):Patron', '04 NAT CARE', '08 COL APPNI:SPRINGD', '05 WDC DIN:05 Presenting', 'MAN-NH: FY15 Service Days', '06 NAT APPNI:FALLD', '80040:corps fundraiser', '80000-PHL09:EXECVCHR', '06 PHL APP:SPRINGA', '05 NYC MAJ', 'WDC-DC: FY17 Gala', 'WDC-DC: FY16 Spring Break - CE', 'MIA: FY13 DTD:Sponsorship', 'HQI-MA: FY16 Program Sponsorships', '05 JBG START', '06 JBG CYZ', 'Wine Tasting:Donation', 'CHI-IL: FY17 Back 2 School Soiree', '07 LRA GRAD', 'NOL-LA: FY14 Crazy Idea Challenge', 'WDC-DC: FY17 Cheers for City Year', 'DET-MI: FY17 Individual Giving', '05 INT GEN', 'PHL: FY13 Gala:deloitte Honor Bill', '08 NYC CH', 'HQI-MA: Major Gift Ask', '08 RHI AFT', 'MAN-NH: FY16 Team Sponsorships', '08 COL IGC', 'BOS-MA: FY17 Unsolicited', '80000-DET08:NONTABLESPON', '05 NAT NLS', '10 SEA IGC:ALUM/FRND CMPN', '05 BOS EVT:SWGEN', 'MAN-NH: FY16 Capacity Solicitations', '06 CHI AFT', 'BOS-MA: FY16 EOY/Winter Appeal Lapsed Donors Letter 1', '06 PHL SPP', '06 CHI YH', 'COL-SC: FY16 Capacity Solicitations', 'HQI-MA: FY16 Giving Tuesday', '05 COL GEN:FIBDIN', '05 PHL APP:SPRING', '80000-NH11:Donor', 'DET-MI: FY16 Team Sponsorship', 'MAN-NH: FY17 Alumni Giving', 'SNJ-CA: FY14 Gala', 'CHI-IL: FY17 Program Sponsorships', '05 RHI PROG:Clinton Innovation A', 'BOS-MA: FY13 Gala:Tickets', 'WDC-DC: FY16 Spring Break', '80010-CSC09S:DNR', '80010-DEN12F', 'MIA-FL: FY17 Alumni', '04 NYC DIN', '06 NAT DIN:ALUM', 'CHI-IL: FY13 Deloitte Women', '80010-LRA11F', '06 NH CMPSP', 'UW Designation', 'TUL-OK: FY15 Service Days', 'SEA-WA: FY16 Gala Sustainable/Sponsorships', 'WDC-DC: FY16 Spring Break - Chavez', '06 BOS YH:TSR', '05 BOS PROG', '80010-PHL10F:DNR', 'LOS-CA: FY16 Associate Club Prospects', 'CYZNAT:SERVDAY', 'ANNUAL:Alumni', '04 RHI SRV', '08 CLE GOV', '05 SANJ PROG', '05 WDC DIN:05 Silver', 'SSN/ROH/TRIB:2500TBL', '04 WDC GEN', 'LSA: FY11 AssocBrd', '80000-SANJ08:08 Presenting', '05 COL EVT', 'SEA-WA: FY16 Gala Night of Ask', 'Young Heroes Sponsor:YHOTHER', 'BOS-MA: FY15 EOY/Winter Appeal Current Donors Letter 1', 'WDC-DC: FY15 Gala Sustainable/Sponsorships', '80040:Holiday Cards', '08 RHI EVT', 'TUL-OK: FY17 Site Board Ask', '05 CSC DIN:05 Individual', '08 BOS APP:FALL', '80010-CLE09S:RENTED', '07 CSC SPPM', '80000-DET09:4TKTS', '05 CSC SRVSP', 'NH: FY13 Bike Race:NH: FY13 Bike Race', 'NH: FY13 Gala:Ticket', '06 NYC G', 'CYZSITE', '08 BOS TSP:Co-Team', 'EBR-LA:DV:ECA$:FY15:141202: Giving Tuesday', 'ORL-FL: FY14 Gala:Night of Ask', 'PHL-PA: FY16 Team Sponsorships', 'BOS: FY12 PEVC', '08 NAT EVT', '04 BOS GRAD', '07 SEA APP:FALL', '06 RHI ERND', '80010-DET12F', '08 NH APP:FALLPD', '07 WDC G', '10 BLD', '80000-NYC12:80000-NYC12', 'SNJ-CA: FY16 Women Investing in Education', '08 SEA CH', '06 CLE TSP:Full Team', '04 NAT GEN', '04 INT APM', '05 RHI TSP', '08 COL APP', '10 LAX IGC:Founding Citizens', 'SEA-WA: FY14 Gala Sustainable Sponsorships', '07 SEA APP:FALLPD', 'DEN: FY12 WOMEN BRK:Donation', '08 CHI APP:SPRINGPD', 'LOS-CA: FY18 Associate Board Giving', '10 NYC TSP', '06 SAN APP:FALLD', 'BTR: FY12 Gala:Night of Ask', '04 NH EVT', '06 CSC EVT', 'COL-OH: FY15 Gala - Red Jacket Ball', 'NYC-NY: FY16 Alumni Gala Raffle', '06 NAT ENDG', 'DEN-CO: FY15 Colfax Marathon', 'WDC-DC: FY14 Camps', 'LSA: FY09 Huricane', '07 SEA CMPSP', '80010-LSA09F:DNR', 'MIA: FY12 Legal', 'NYC: FY11 Breakfast', 'NYC: FY13 Art', 'Gala\\\\Annual Dinner', 'SAN-TX: FY15 Program Support Solicitations', '10 DET TSP', '07 LRA DIN:07 AUCT', 'DEN-CO: FY14 Gala:Night of Ask', '80000-SEA10:Auction', '80000-NH12:Donation', '08 SAN TSP:Full Team', 'DEN-CO: FY16 Women?s Breakfast Morning of Ask', 'BOS-MA: FY15 EOY/Winter Appeal Lapsed Donors Letter 2', 'OTHEREVNTS', '06 CLE G', 'BOS-MA: FY13 Parents', '05 JBG TSP:Half Team', '05 WDC SRVSP', '08 INT GLS', 'BOS-MA: FY16 Unsolicited', '80000-NH08:08 Silver', '07 DET AFT', '62000:SPRSHP', '80000-SANJ08:08 Silver', '05 RHI DIN:05 Camps', '08 LAX EVT', 'CHI:FY13WineStein:Auction', 'CHI-IL: FY16 Gala', '80070', '80010-DET11U', 'COL-SC: FY13 Gala:Night of Ask', 'Service Day', 'BOS-MA: FY15 Spring Appeal Monthly RLD (Recent Lapsed) Email 2', '04 SEA APP', '80010-HQ09F:POTDNR', 'LOS-CA: FY15 Service Days', 'COL-SC: FY14 Gala:Donations', '12 Team Sponsor-FULL', '05 NYC PROG:Clinton Innovation A', 'JAX-FL: FY16 Ladies Loving Life', '07 NH OPEN', 'PHL-PA: FY14 Fall', '80000-CHI08:08 Half', 'PHL: FY13 Gala:Vice Chair', 'MIA-FL: FY16 Sustainable Personalized Ask', '04 BOS TSP', '05 DET DIN:05 Gold', '04 SANJ DIN', 'CHI-IL: FY15 EOCY Appeal', '05 CHI DIN:05 Individual', 'EBR-LA: FY15 Gala', 'BOS-MA: FY16 EOY/Winter Appeal Parents Letter 1', '08 LSA YH', 'NYC: FY13 Alumni:Donations', 'DET-MI: FY14 Champ.Fall', '05 COL DIN:05 Auction', '05 RHI DIN:05 Presenting', 'PRV-RI: FY15 Annual Appeal - Renewals', 'WDC-DC: FY15 Bain Cares Auction', 'CHI-IL: FY13 Gala:Tickets', '07 CHI APP:FALLPD', '80010-BOS09S:POTDNR', '06 SANJ SPPM', '05 WDC CMPSP', 'BOS-MA:DV:EX:FY16:151229: Winter Appeal Recent Lapsed Email 3', 'DEN-CO: FY14 Gala Sponsors/Tickets', '09 BOS IGC:ALUM/FRND CMPN', '06 SAN SPPM', '07 INT G', 'BOS-MA: FY17 Antosyzyk Denham Wedding', '80000-SEA09:SILVERSPSR', '08 CHI EVT:WINE', 'NYC-NY: FY17 Associate Board Cycling Fundraiser', 'EBR-LA: FY15 Capacity Solicitations', '08 SAN IGC', '07 SANJ OPEN', '07 COL APP:FALLOS', 'NYC: FY12 AssocBrd', 'DET-MI: Major Gift Ask', '07 COL YH', \"BOS-MA: FY18 Women's Event - Breakfast\", 'NYC-NY: FY15 Associate Board', '80000-DET10:Platinum Sponsor', 'PRV-RI: FY15 Annual Appeal - New Donors', 'MIA-FL: FY14 Gala:Tickets', '80010-DET09F:RENTED', '08 NH CAMP', '06 PHL PROG:CLINTON', \"MIA-FL.FY14 Women's Leadership Luncheon\", 'NYC: FY14 Bain Cares', 'BOS-MA: FY15 Spring Appeal Monthly RLD (Recent Lapsed) Letter', 'MIA-FL: FY17 Sustainable', '06 DET AFT', 'LOS-CA: FY16 December Appeal', 'Leadership Training and Development Event', '80010-BOS11F', '07 LRA SPPM', 'DET-MI: FY11 Gala', '05 NAT IGC', '08 COL APPNI', 'COL-OH: FY15 Sustainable Personalized Ask', '06 NYC DIN:06 Silver', '80000-CLE08:08 Individual', '80000-CLE 10 (2009)', 'BOS-MA: FY16 Ambassadors Giving', '80010-SANJ09F:DNR', '08 NAT CFC', '80000-WDC11:80000-WDC11', 'CHI-IL: FY14 ServiceRocks', 'NYC-NY: FY15 Associate Board Cycling Fundraiser', '08 BLD', '80000-CHI10', '80000-PHL08:08 Presenting', '07 DET YH:YHFEE', '06 INT IGC', '07 COL APPNI', 'NOL-LA: FY17 Sustainable', '80000-PHL08:08 Donation', '06 COL G', 'MIA-FL: FY14 May Service Day', '04 WDC CARE', '08 SANJ APP', '80000-CSC11:80000-CSC11', 'NOLA: FY13 Gala:sponsor', '05 AUCTION', '05 PHL SPPM', '06 CLE APP:FALLD', '08 DET APPNI:FALLPD', 'LTR-AR:DV:EX:FY15:150402: Arkansas Gives', 'NYC: FY12AlumBrd:Raffle', '06 DET DIN:06 Presenting', '09 LRA SPS', '06 WDC DIN:06 Silver', '06 BOS YH', '07 DET APP:SPRINGPD', '80000-CSC12:Tickets', '07 CHI EVT:MS', '06 BOS EVT', '07 Radiothon', '08 SEA SRV', 'ORL-FL: FY16 Cocktails for a Cause', '07 LRA EVT', '06 SEA IGC', 'MARATHON', 'MIA: FY13 After Part:Night of Ask', '08 NYC YH', 'MIA-FL: FY17 MLK Day', '09 CSC TSP:Full Team', '08 WDC APP:FALLA', '80000-LRA12:Tickets', '80010-NH09S:RENTED', '80070:donation', '07 DET APP:SRPINGOS', 'LAX: FY13 Golf', '06 NAT CYZ:AC', '08 CLE APP:SPRINGD', \"DEN-CO: FY15 Women's Breakfast\", 'NYC-NY: FY15 Capacity Solicitations', '10 RHI IGC', '05 RHI APP:SPRINGA', 'NYC-NY: FY16 Alumni and Friends Fundraiser', '07 CHI EVT:ABWT', '05 PHL PROG:Clinton Innovation A', '80000-NYC12:Donation', '05 BOS DIN:05 Donations', 'JAX-FL: FY15 Capacity Solicitations', 'NOL-LA: FY15 Crazy Idea Challenge', '04 DET TSP', '05 NAT GEN:Clinton', '80010-LRA10U', '08 WDC IGC:ALUM/FRND CMPN', 'EBR-LA: FY17 Sustainable', '08 DET ERND', 'ORL-FL: DV:ECA$:FY15:141110: 2014 Annual Giving Campaign', '04 COL PROG', 'MKE: FY13 Gala:MKE: FY13 Gala', '06 CSC APP:SPRINGD', '06 BOS EVT:GOLFB', '80010-LRA10F:ALUM PRNTS', 'HQ: FY10 Legal Brk', '06 RADIO', '80000-BOS11:80000-BOS11', '80000-PHL09:EVENTSPR', 'SEA-WA: FY17 Program Sponsorships', 'BOS-MA: FY17 Boston Marathon - Kristina Craaybeek', '04 RHI DIN:SIL', '80010-DET10S:DNR', '04 PHL PROG', 'MIA-FL: FY15 Program Support Solicitations', '07 RHI APP', '07 BOS DIN:ALUM', '02 RHI AFT', '80010-NYC11BTS:ALUM PRNTS', '07 CLE APP', 'MAN-NH: FY16 Red Jacket Society', 'ORL-FL: FY14 Gala Sustainable Sponsorships', '08 DET OPEN', '08 BOS CAMP', '04 RHI DIN:TWO', '04 CHI AMER', '06 PHL APP:FALLPD', '08 RHI IGC:ALUM/FRND CMPN', '05 CLE DIN:05 Silver', '80010-WDC10F:DNR', '05 CLE MAJ:Corps Spon', 'CLE-OH: FY15 Gala', 'ENDOW PAYOUT-09', '10 NAT APP', 'BOS-MA: FY17 Ambassadors Giving', '80000-CHI08', '06 BOS OPEN', 'LRA: FY13 Gala:Auction', 'PRV-RI: FY16 Womens Event', '07 NYC DIN:07 Donations', '09 CHI G', '08 SANJ CAMP', '06 PHL IGC', '06 SAN DIN:06 Bronze', '04 DET GEN', '08 LAX IGC:ALUM/FRND CMPN', '80000-BOS08:80000-BOS08', 'NSD: MKE', '05 WDC SRV', 'FRIEND', '04 RHI OPEN', '08 PHL SPPM', 'BTR: FY12 Gala:Donation', 'CLE-OH: FY17 Spring Appeal Mailing', '06 COL SPS', '09 CHI TSP:Full Team', '80000-CHI12:Sponsor', '07 BOS APP:SPRINGA', '50000-11UNKN', 'ChiFY11FallAnnAppeal', 'BOS: FY12 Women', 'Diplomas Now', 'JAX-FL: FY17 Program Sponsorships', '80000-PHL08:08 Vice Chair', 'PHL-PA: FY17 EVENTS Gala Sponsorships', '05 CSC PROG', '05 CHI APP:SPRINGD', '05 NAT EVT:Summer Academy', '08 LRA ERND', '09 LSA G', '07 RHI DIN', '80060', 'HQI-MA: TSP', 'BOS-MA: FY15 Spring Appeal Regular LD (Lapsed Donor) Letter 2', '05 NAT PROG:Fireman Fellowship', '80000-LAX12:80000-LAX12', 'PHL-PA: FY17 ING Alumni', '08 WDC EVT:ALUM/FRND FUND', 'BOS-MA: FY17 Winter Appeal Recent Lapsed Donors Email 3', '08 NH PROG', 'LOS-CA: FY15 Alumni Fundraiser', 'WDC-DC: FY14 Service Days', '04 SANJ SPPM', '10 NAT G', '80000-SANJ12:Donations', '80000-SANJ08:08 Plantinum', '07 NAT SRVSP', 'NYC-NY: FY17 Alumni & Friends Trivia Night', 'DET-MI: FY13 FB Donation', '07 DET TSP:Full Team', '06 DET APPNI:SPRINGPD', '05 SEA GOV', '06 NAT CYZ:FC', '07 RHI GRAD', '07 CHI G', '04 SEA SPPM', '06 COL APPNI:GEN', 'BOS-MA: FY16 Service Days', 'SAN-TX: FY15 Team Sponsorships', 'MWK-WI: FY16 MLK Day', '04 BOS AFTR', '80010-MIA09F:RENTED', 'NYC: FY13 Asso Board:Super Bowl Ticket Fu', 'SEA-WA: FY16 Gala Regret Gifts', 'BOS-MA: FY15 Spring Appeal Monthly CD (Current Donor) Letter', '80010-WDC09F:ALUM PRNTS', '08 CLE APP:FALL', '06 RHI AFT', 'LOS-CA: FY15 Gala - Spring Break', 'DET-MI: FY13 FB Tickets', '08ATL MTCH (NP)', '08 COL SPS', '80000-SEA12:80000-SEA12', '07 RHI CYZ', 'SAC-CA: FY15 Gala Night of Ask', '05 COL APP:FAPPB', '06 NYC IGC:Alumni Friends & Fam', '08 BOS OPEN', '07 BOS CMPSP', '07 NYC SPPM', '05 RHI SRVSP', '03NB SSN:TIX PLUS', 'BTR: FY12 Gala', 'BOS-MA.FY14 Ambassadors Spring', 'PRV-RI: FY17 Board Giving', '80000-PHL08:08 Individual', 'PHL-PA: FY17 OTHER Grants and Foundations', 'LOS-CA: FY13 Gala Sponsorship', 'CHI-IL: FY17 Foundations - New', 'BOS: FY11 Women', 'PRV-RI: FY16 Program Support Solicitations', '09 CLE APP:FALL', 'ORL-FL: FY14 Gala:Tickets', 'BOS-MA: FY17 Investment Bfast', '07 CHI SPPM', '06 NAT CARE', 'BOS-MA: FY17 Monthly Giving', 'EBR-LA: FY17 Program Sponsorships', '05 WDC DIN:05 Platinum', '05 NYC GEN', '05 CHI SPPM', '08 SANJ GOV', 'WDC: FY13 Associate Board Fundraiser', '05 LRA GRAD', '07 BOS TSP:Full Team', '09 NYC TSP:Full Team', '04 RHI CAMP', '08 BOS DIN (2007):Individual Tickets (', '80010-CHI11S', '80000-CLE10:80000-CLE10', '06 SANJ SRVSP', '70000:EARTH DAY', '80010-DET08S:DNR', '05 NYC CAP', 'WDC: FY13 Alum Event', '07 SEA APP', '08 LRA APP:SPRINGD', '07 CHI IGC', '07 CLE EVT', '80010-NYC12BTS', '07 RHI SPS', 'TUL-OK: FY16 Board Ask', '80010-DET12S', 'MIA: FY12 Women:Sponsor', '07 NYC TSP:Co-Team', 'SAN-TX: FY17 Program Support Solicitations', '80000-BOS08:08 Half', 'BOS-MA: FY17 Red Jacket Society Reception and Dedication Ceremony', '05 NYC DIN:05 Bronze', '05 SANJ SPPM', '07 NH YH', 'CHI-IL: FY14 Gala:Tickets', '06 SANJ TSP:Full Team', 'WDC-DC: FY16 Giving Tuesday', \"SNJ-CA: FY14 Women's Event\", 'BOS-MA: FY15 Strong Circle Day', 'EBR-LA: FY16 Gala', '05 NAT APM', 'BOS-MA: FY16 EOY/Winter Appeal Recent Lapsed Donors Letter 1', '08 LSA CARE', '80000-PHL12:80000-PHL12', '09 RHI DIN (2008)', '06 BOS IGC:Alumni Friends & Fam', '07 NAT DIN:07 Individual', 'SEA-WA: FY16 Gala', '08 COL IGC:ALUM/FRND CMPN', '06 NAT DIN:06 Silver', '05 LRA CYZ', 'NYC: FY11 AssocBrd:Ipad Raffle', 'PHL: FY13 Gala:Sponsorship', '06 LRA CARE', '80010-MIA09U', '08 CHI AFT', 'COL-SC: FY13 Board', 'Special Programs:GradBook', '08 CSC IGC', '10ATL MTCH (NP)', 'HQI-MA: FY15 Staples Partnership', 'PHL-PA: FY17 Program Sponsorships', '08 WDC ENDG', '04 COL TSP', '06 DET G', '80000-NH12:Tickets', '04 NH IGC:LEADCIR', 'ORL-FL: FY16 Graduation', '06 NH ERND', '80010-LAX09F:RENTED', '08 LRA IGC', 'BOS-MA: FY16 Other Events', 'EARNINC', '08 SAN SPPM', '80000-SEA10:Half Table', '08 LSA APP:FALLPD', 'WSWC:Sponsor', 'CHI-IL: FY16 Fee for Service Events', 'CHI-IL: FY14 Gala', 'CHI-IL: FY16 Capacity Solicitations', '06 RHI DIN:06 Gold', '10 BOS IGC', '08 BOS APPNI:FALL', '05 CLE CMPSP', '09 CLE TSP:Full Team', '80000-LRA08:08 Individual', '07 WDC YH', 'McMast', '06 BOS DIN:06 Individual', '06 JBG GRAD', '06 NYC SRV', '06 DET ERND', '08 BOS CARE', 'LTR-AR: FY14 Specialty Market Event', '80010-LRA10F:CORPS PRNTS', '04 CLE SPS', '08 LRA TSP:Founding Citizens', '08 NYC EVT:08 ABOARD', 'Young Heroes', '80010-COL09F:RENTED', '07 SEA DIN (2006)', '06 BLD', '06 RHI SRVSP', '06 NAT IGC', 'EBR-LA: FY14 Gala', '05 BOS SRV', '05 DET TSP', '05 BOS CAP', '06 INT NSD:US', 'MAN-NH: FY16 Family Circle', '80010-SANJ09F:RENTED', 'MWK-WI: FY17 Program Support Solicitations', 'WDC-DC: FY14 Gala:Night of Ask', 'BOS-MA: FY15 Spring Appeal Regular RLD (Recent Lapsed) Email 3', '06 DET APP:FALLPD', '05 SAN CYZ', '08 LAX SPS', '07 NYC AFT', 'BOS-MA: FY16 Boston Marathon - Amir Memon', '07 CLE SFC', '08 BOS APP:FALLPD', '04 NAT ANPM', '06 RHI DIN:06 Presenting', '05 WDC DIN:05 Gold', '80000-PHL12:Donation', '08 DET CFC', '05 NAT DIN:05 Bronze', '80010-NYC10S:DNR', 'DET-MI: FY15 Program Support Solicitations', 'PHL-PA: FY15 Gala', '09 LSA TSP:Co-Team', '80010-SAN11F', '13 BLD:ALUM/FRND CMPN', 'LOS-CA: FY14 Gala Tickets', 'EBR-LA: FY17 Capacity Solicitations', 'DET-MI: FY14 EOY', '06 COL APP:GEN', 'CHI: FY09 SCHLLIB', '05 BOS GRAD', '06 BOS PROG:CLINTON', 'COL-OH: FY13 Gala:Freshmen Sponsorship', '05 NAT GEN:STAFIB', '80000-LRA08:08 Donation', '07 BOS DIN:07 Half Table', '08 WDC OPEN', '06 NAT PROG:Fireman Fellowship', 'PHL-PA: FY14 Cocktail Parties', '05 BOS GEN:SAT DON', '08 NAT G:FONS', 'SNJ-CA: FY14 Fall', '07 DET APP:FALLPD', '04 NYC PROG', 'BOS-MA: FY16 Fall Appeal Current Donors Email 1', '06 WDC EVT', '80010-PHL10F:CORPS PRNTS', 'SNJ-CA: Major Gift Ask', '80000-LSA10:80000-LSA10', '09 NH IGC:ALUM/FRND CMPN', '13 BOS IGC', '07 NAT DIN:07 Gold', '80010-WDC10F:ALUM PRNTS', '08 RHI APP:FALL', '04 CLE SPPM', 'ORL-FL: FY17 Opening Day', 'CLE-OH: FY14 Ward Trees', 'TUL-OK: FY17 Appeal', '06 BOS PROG:YEARFEE', '80000-NYC12:FY12 Night of Ask', '07 DET SRV', '5100-San12:5100-San12', 'COL-SC: FY17 Individual Giving Campaign', 'WDC: FY13 Receptions:Cogen Reception', '08 PHL IGC:ALUM/FRND CMPN', '06 COL APPNI:FALLD', '80000-SEA10:Silver Sponsor', '05 NYC DIN:05 Individual', 'NYC: FY11 Breakfast:INV COMM BKFST', '06 WDC TSP:Full Team', '07 INT NSD', '10 NAT IGC:ALUMFAM', '07 CSC APP:SPRINGD', '80000-BOS12:Tickets', '05 COL APP:SPRINGD', '04 COL GEN:Board Solicitation', '05 SANJ DIN:05 Twinkling', 'WDC: FY12 AssocBrd', '07 CHI GRAD', '06 JBG EVT', '05 PHL YH', '80000-DET 10 (2009)', '05 SAN DIN:05 Individual', 'BOS-MA: FY17 Alumni Board Spring Social', '07 INT IGC', '80010-HQ09F:RENTED', '05 COL SRVSP', 'WSWC:Talent Development', '08 WDC G', '80010-BOS08U', '06 NAT APM', 'COL-SC: FY15 Sustainable Personalized Ask', '05 CHI APP:FALL', '05 NH CAP', 'TUL-OK: FY17 Team Sponsorships', '07 BOS IGC:ALUM & FRIENDS', '08 SANJ ERND', '25th Anniversary Gala Invite Mail', 'TSP FY08 FULL', 'BOS-MA: FY14 Fam Winter', '10 BOS IGC:ALUM/FRND CMPN', 'COL-SC: FY16 Program Sponsorships', 'WSWC--Sustainable', 'SAN: FY12 GALA:Tickets', 'WDC-DC: FY17 RJS Solicitations', 'TUL-OK: FY16 Program Sponsorships', 'SNJ-CA: FY17 Strong Circle Day', '05 CSC DIN:05 Platinum', '80010-NYC12BTS:LetterWithAsk', '80000-NAT09', 'MIA: FY12 Women', '80010-BOS10S:DNR', 'NOLA: FY12 Gala:Sponsor', 'WDC-DC: FY17 Winter Appeal', 'ORL-FL: FY14 Gala', 'JAX-FL: FY15 Sustainable Personalized Ask', '04 BOS OPEN', '06 RHI GOV', '07 LSA APPNI', 'HQ: FY10 PEVC', '80000-HQ08:08 Silver', 'ORL-FL: FY14 Board', '08 COL OPEN', 'WDC-DC: FY15: P2P.Holiday Fundraising Blitz', '04 RHI APP:FALL', '05 CHI APP:SPRINGOS', '04 RHI DIN:SHI', '08 NH APP:SPRINGD', '05 PHL SRVSP', '06 NYC PROG', '05 INT CDFRCS', '80000-DET09:QRTRPGAD', 'MWK-WI: FY14 Gala', 'LTR-AR: FY17 Specialty Event', '08ATL MTCH (P)', 'NYC: FY12 JetBlue', '05 WDC DIN:05 Individual', 'NYC: FY13 Gala:Donation', '05 NAT DIN:05 Presenting', '10 LSA TSP:Full Team', 'MAN-NH: FY14 Spring Young Professional FriendRaiser', '04 NYC PROG:AR MEM', '05 BOS APP:05-FAOS-BOS', 'Voices Membership Dues FY15', 'NH: FY13 Bike Race:Registration', '05 NAT PROG', 'BOS-MA: FY17 Fall Appeal Email 1 Current', 'DAL-TX: FY16 Team Sponsorships', '04 SANJ AMER', '04 BOS PROG:Clinton Innovation A', 'MIA-FL: FY17 Service Days', 'SNJ-CA: FY17 Women Investing in Education', '80010-PHL10F:ALUM', 'BOS-MA: FY14 Womens Brk', 'NOL-LA: FY17 Program Support', 'COL-SC: FY13 Giants', '07 WDC EVT', 'DET: FY13 EOY:Email', '07 CLE CMPSP', 'WDC-DC: FY16 Spring Break - Stanton', '08 WDC GOV', 'WSWC-11', '08 BOS YH', '06 NH DIN:06 Silver', '80010-NYC12BTS:parent giving', '05 JBG SRVSP', '08 WDC APP:FALL', '80000-MIA12ChairDinn:80000-MIA12ChairDinn', '06 WDC SRVSP', '07 CLE APP:SPRINGD', '80010-BOS10F:DNR', 'PHL-PA: FY17 ING Appeals - September', '80000-SEA09:BRONZESPSR', 'ORL-FL: FY14 Gala:Donations', '05 BOS DIN:05 Individual', '04 DET CAMP', '06 COL APP:OTH', 'DEN-CO: FY13 Women', 'COL-SC: FY17 Sustainable', 'DET-MI: FY13 Gala:Individual Table', '08 LSA G', '08 SANJ SPPM', '08 SAN SRVSP:08 GLSD', '08 SEA APP:FALL', '07 NYC SRV', '05 CLE APP:SPRINGPD', '06 NYC APPNI:FALLD', 'SEA-WA: FY17 Annual Appeal - Winter', '80000-CSC12:Night of Ask', '80040:Alumni & Friends Cam', '08 NAT IGC:ALUMFAM', '80000-PHL10:80000-PHL10', 'WDC-DC: FY15 Alumni Fundraiser CYDC Soiree', '80010-RHI11F:DNR', '80000-SANJ 10 (2009)', '80010-WDC10S:ALUM PRNTS', 'NYC-NY: FY16 Program Support Solicitations', '04 RHI DIN (FY04):AUC', '07 NYC DIN', '05 PHL PROG', '07 NYC APP:FALL', '08 CSC TSP:Full Team', '08 WDC AFT', '04 SANJ TSP', '09 NAT CYZ', 'PHL-PA: FY15 United Way', 'BOS-MA: FY15 Spring Appeal Monthly LD (Lapsed) Email 2', 'HQI-MA: FY14 Beach Boys', 'SAN-TX: FY16 CYSA Alumni Campaign', 'EBR-LA: FY17 Gala', '06 CHI DIN:DON', '1400-NHLED12:Sponsor', 'NOLA: FY12 Gala:Tickets', '08 CSC APP', '06 COL APP:SPRD', '08 CHI APPNI', 'MWK-WI: FY14 Community Breakfast', '08 RHI IGC', 'SAN: FY12 GALA:Sponsor', '07 COL OPEN', '06 LSA HRF', '80010-NH09U', 'MAN-NH: FY17 Gala', '10 CHI EVT:Alumni Fundraiser', '07 CHI PROG', '07 BOS SRVSP:100HOP', '07 NAT NLS:RASL', '06 CHI DIN:IND', '09 NAT CARE', 'Special Programs:Basketball Tournamen', '80010-DET10S:POTDNR', '08 WDC CFC', 'WDC-DC FY12 Gala Sponsor', '06 COL DIN:GOLD', '08 WDC CMPSP', '08 RHI IGC:08 PTNRC', 'CHI-IL: FY13 EOY', '04 CLE PROG:Clinton Innovation A', '05 SANJ DIN:05 Donations', \"WDC-DC: FY17 School's Out Social\", 'COL-SC: FY17 Capacity Building', '06 CSC APP:SPRINGPD', '07 CLE PROG', '06 CHI APPNI:FALLPD', '09 NYC SRVSP', 'PHL: FY13 Gala:Presenting Sponser', '80010-BOS09F:DNR', 'MIA-FL: FY17 Give Miami Day', 'BOS-MA: FY15 Sustainable Personalized Ask', '07 SAN AFT', '05 PHL EVT:AUCTION', '80000-NH10:80000-NH10', '10 WDC TSP', '08 LRA AFT', 'WDC: FY13 Receptions:Folger Reception', '06 SANJ DIN:06 Bronze', 'PHL-PA: FY14 Alumni', '10 LSA G', '80010-PHL11U', '05 NYC EVT:Alumni', '80010-LAX09U', '06 SANJ SPS', 'MAN-NH: FY17 Program Sponsorships', 'CHI-IL: FY16 Associate Board SME', 'BOS-MA: FY17 Gala Night of Ask', '06 CHI SPPM', '07 RHI APPNI', 'MIA-FL: FY17 Red Jacket Society Giving', '08 LSA TSP:Full Team', 'HQI-MA: FY16 Strong Circle Day', '50000-12HALF', '07 DET KTCG', \"NYC-NY: FY14 Women's Leadership Workshop\", '08 SAN CMPSP', '06 NAT EVT:Summer Academy', '08 SEA TSP:Full Team', '80000-NYC12:Sales Packet', '04 DET APP', '80010-CLE10U', '05 PHL SRVSP:SAT', 'CHI-IL: FY13 Service Rocks Ticket', '80000-DET09:BRNZSPR', '07 CLE OPEN', '07 SAN IGC', 'MAN-NH: FY14 Gala:Auction', '04 NAT CYZ', 'ORL: FY13 Staff', 'DET-MI: FY13 Spring', 'WDC-DC: FY14 Zipcar', 'TSP FY10 UNKN', 'WDC-DC: FY15 Gala New/Tickets', '05 CLE DIN:05 Platinum', 'CHI-IL: FY14 EOY', 'MIA-FL.FY14 Hero of Service Reception', 'EBR-LA: FY16 Program Support Solicitations', 'SEA-WA: FY16 Sustainable Program Support', 'MAN-NH: FY17 Breakfast with City Year', '07 PHL PROG', '80010-MKE11F', '05 NH DIN:05 Presenting', 'SAC-CA: FY17 Opening Day', '07 LRA TSP:Full Team', '61000-SPR', '06 COL TSP:Co-Team', '80010-NYC12AnnFall:FY12 Fall', '07 RHI DIN:ETKT', '80000-RHI10:80000-RHI10', 'WDC-DC: FY17 Program Sponsorships', 'DET-MI: FY16 Spring Appeal', '08 DET ENDW', 'CHI: ServiceRcks:Donation', '07 RHI SPP', 'PHL-PA: FY17 EVENTS WLL Sponsorships', 'PHL-PA: FY14 Gala Sustainable Sponsorships', '06 LRA SRVSP', 'SAN: FY12 GALA:Night of Ask', '80040:ErnstandYng', '05 BOS SPPM', \"DET-MI: FY17 Women's Leadership Breakfast\", '06 COL YH', '07 BOS APP:FALL', '07 LSA TSP:Co-Team', 'BOS-MA: FY17 Spring Appeal Lapsed Donor Email 1', 'MIA-FL: FY17 Gala', 'MAN-NH: FY15 Gala. Auction', '06 RHI IGC:CB', 'PHL-PA: FY17 ING Appeals - May', '80000-NH12:Sponsor', '80000-SAN08:08 STAKE', '07 JBG G', 'BOS-MA: FY15 EOY/Winter Appeal Current Donors Letter 2', 'EBR-LA: FY16 Capacity Solicitations', 'MWK-WI: FY15 Gala', '07 DET SRVSP:100HOP', 'NYC-NY: FY15 Bain Cares Donations', '06 PHL CAMP', 'NYC: FY13 CMF', 'SAN-TX: FY16 Program Support Solicitations', 'BOS-MA:DV:EX:FY16:151202: Winter Appeal Recent Lapsed Email 2', 'BOS-MA:DV:EX:FY16:160623.JuneEOYEmail.Lapsed', '05 CSC DIN:05 Presenting', '06 NYC CARE', 'CHI-IL: FY13 Gala:Donations', '05 CHI DIN:05 Donations', '08 LAX TSP:Full Team', 'CHI-IL: FY17 Winter Appeal', '09 NYC SPPM', '07 NYC SRVSP', 'SNJ-CA: FY16-18 Three Year Campaign', 'WDC-DC: FY16 Spring Break - KellyMiller', '80010-MIA12F', '80000-SANJ10', '05 PHL DIN (2004)', '80010-NYC12S', '1400-NHLED12', '06 CHI TSP:Full Team', 'NH: FY13 Gala:Silent Auction', '07 CSC PROG', '06 CHI CAMP', '07 DET APP:SPRINGD', '04 NYC CARE', '06 COL APPNI', 'SAC-CA: FY14 Gala Sustainable Sponsorships', \"DET-MI: FY16 Women's Leadership Breakfast\", '05 PHL CAP', 'DEN-CO: FY14 Women Breakfast', '06 NAT APP:FALLOS', 'NYC-NY: FY15 Gala Night of Ask', '05 COL TSP', 'Corps Fundrais:Walk for Peace', '08 CSC G', '09 SEA AFT', 'JAX-FL: FY16 Sustainable Personalized Ask', '06 SANJ DIN:06 Silver', 'NYC-NY: FY15 Team Sponsorships', '07 LRA OPEN', 'PHL-PA: FY15 End of Year', '06 LSA IGC', 'HQI-MA: 25th Anniversary Alumni--Site Boards', 'ORL-FL: FY15 Program Support Solicitations', 'SAN-TX: FY14 Gala:Night of Ask', 'HQ: FY13 MS Challeng', '08 SEA EVT', '06 PHL CARE', 'PHL-PA: FY15 Associate Board Cocktail Reception', 'MAN-NH: FY17 Graduation', '08 CLE APP', '08 LRA IGC:ALUM/FRND CMPN', '08 PHL PROG', '04 PHL SPPM', '05 NAT DIN:05 Gold', 'CHI-IL: FY13 Wine Stein', '06 CHI APP:SPRINGD', '07 CLE SPP', '07 CHI EVT:YHFD', '06 DET TSP:Full Team', '05 PHL GRAD', 'JAX-FL: FY15 Program Support Solicitations', '80000-DET08:1 Page', 'LOS-CA: FY17 Alumni Fundraiser', 'BOS-MA: FY15 Program Support Solicitations', 'LOS-CA:FY15 Board Giving', '08 LSA TSP:Founding Citizens', '80000-SANJ11:80000-SANJ11', '08 NH APP:FALL', '80000-CSC10:80000-CSC10', 'SEA-WA: FY16 Red Jacket Society', 'BOS-MA: FY16 Boston Marathon - David Itzkovits', '04 BOS SAT', '06 COL YH:TABC', 'MIA: FY13 DTD:Auction', 'SAC-CA: FY17 Team Sponsorships', 'PHL: FY13 Gala:Gold page ad', 'TUL-OK: FY16 Giving Tuesday', 'NOL-LA: FY14 Gala:Night of Ask', '07 NYC IGC:Alumni Friends & Fam', \"SAN-TX: FY14 Power of Women's Luncheon\", '80000-SEA12:Auction', '80000-DET09:CORPSPSR', '04 SAN SAT', '07 JBG IGC', 'CHI-IL: FY16 Team Sponsorships', '07 COL CAMP', '10 NAT IGC', '05 NYC SRV', 'PHL-PA: FY17 CYPaints', 'SANJ: FY11 SHELBY HP', '07 NAT DIN:07 Bronze', 'TUL-OK: FY15 Sustainable Personalized Ask', '04 PHL PROG:Clinton Innovation A', '08 LRA APP:SPRINGAP', 'DET-MI: FY16 Gala Night of Ask', '80010-CHI09F:POTDNR', 'FY10 SPECLPRGM', 'BOS-MA: FY15 Fall Appeal', '05 LRA PROG:Clinton Innovation A', 'MIA-FL: FY16 Broward Giving', '09 COL IGC:ALUM/FRND CMPN', '05 RHI SPPM', 'DET-MI: FY14 Fountain', 'MAN-NH: FY15 Sustainable Personalized Ask', '04 WDC CAMP:REG', '80040:ALUMFAM', 'HQI-MA: FY15 Strong Circle Day', '06 DET TSP:Co-Team', '80010-CHI10F:POTDNR', '08 PHL IGC:ALUM/FRND FUND', 'CHI-IL: FY14 OpenDay', '06 CLE APP', '04 WDC CAMP', 'DEN-CO: FY15 Program Support Solicitations', '06 NYC GRAD', 'MAN-NH: FY15 Corps Friendraiser', 'PHL-PA FY15 Gala Sustainable/Sponsorships', '62000: Camps', 'BOSFY11FallAnnAppeal', '08 NYC AFT', 'SAC-CA: FY15 Direct Mail', 'SEA: FY13 Gala:Donation', 'HQI-MA: FY14 Microsoft Youth Spark Challenge', '50000-11FULL', '04 RHI SPPM', 'LOS-CA: FY16 Other Events', '07 LRA ERND', '08 DET APPNI', '08 BOS SRV', '06 SEA ERND', '04 NAT CYZ:SPON', 'BOS-MA: FY15 EOY/Winter Appeal Current Donors Email 1', '80000-RHI08:08 Presenting', 'LAX: FY13 Wine Taste:Auction', 'PHL: Radiothon', '09 WDC YH', '80000-MIA12:Tickets', 'NYC: FY12AlumBrd:Donation', '05 SEA APP:FALL', 'International Progra', 'Voices Grants FY17', '07 SANJ SPPM', '08 NYC APP', 'DET-MI: FY17 Night of Ask', '80000-NH08:08 Individual', '80010-RHI10F:POTDNR', 'PRV-RI: FY13 Lavine Dinner', 'COL-OH: FY15 Big Give', 'NYC: FY12 AssocBrd:Mixology Event', '06 SEA SPPM', '06 NH SPP', 'CLE-OH: FY17 Team Sponsorships', '06 CHI IGC', '80010-SEA09F:CORPS PRNTS', 'LRA: FY13 Gala:Ticket', 'EBR-LA: FY13 Gala', '80000-NH09:TKTSTBLE', '05 INT CDFS', '04 SANJ PROG:BUST', '04 CHI GEN', '80010-BOS09F:RENTED', \"JAX-FL: FY17 Women's Lunch NOA\", '07 CSC G', '08 BOS APP:FALLOSHFH', '80000-COL12:Auction', '07 DET APP:SPRINGA', 'PHL-PA: FY15 Winter', '80010-NYC10F:CORPS PRNTS', 'MAN-NH: FY17 Sustainable Small Donors', '04 PHL CAMP', '06 NYC SRVSP', '06 NYC APP:FALLCP', '04 SAN TSP', 'PHL-PA: FY16 Winter Appeal', '09 WDC TSP:Full Team', 'PHL-PA: FY16 CYBee', 'BOS-MA: FY17 August Appeal to FY16 Parents', 'RHI: FY13 Gala:Donations', 'BOS-MA:DV:EX:FY16:151202: Winter Appeal Parents Email 2', 'PHL-PA: FY16 Associate Board', 'HQI-MA: FY17 AmeriCorps Member Appreciation Month', '80010-BOS12F', '05 CLE CAP', '10 SEA AFT', '05 PHL CARE', 'MAN-NH: FY16 Sustainable Donor', '05 BOS SRV:CSD', '06 NYC APP:FALLA', 'PHL-PA: FY17 CE Service Days', \"SAN-TX: FY18 Women's Luncheon\", '08 BOS TSP:Full Team', 'JAX-FL: FY17 Alumni Movie', 'COL-SC: FY18 Gala', '06 BOS APP:FALLD', 'NYC: FY13 Asso Board:Auction', 'NYC: FY11 Women', '05 BOS DIN:05 Silver', '05 CSC DIN:$250SPON', '07 CLE G', '06 NAT HRF', 'SAT:CITHERO', 'READSUCC', '08 COL PROG', '05 BOS CAMP', 'BOS-MA: Major Gift Personal Ask', '05 DET APP:SPRINGPD', '07 BOS TSP', '07 NH TSP:Full Team', '05 SEA APP', '07 NYC APP', 'BOS-MA: FY17 Winter Appeal Monthly', 'LOS-CA: FY13 Gala Ticket', 'CLE-OH: FY16 Spring Direct Mail', 'HQI-MA: FY15 Sustainable Personalized Ask', 'MWK-WI: FY14 Service Days', '08 PHL DIN (2007):Individual Tickets (', '08 SAN EVT:08 CSGC', '14 Team Sponsorship-HALF', 'WDC: FY11 HIV.AIDS', '80000-CHI 09 (2008)', 'PRV-RI: FY16 Board Giving', '05 NAT MAJ', '80000-NH08:08 Plantinum', '80000-DET10:Individual Tickets', 'WDC-DC: FY16 Spring Break - Amidon', 'SEA-WA:FY15 EOY', '07 WDC AFT', \"SAN-TX: FY17 Women's Luncheon\", '06 NH DIN:06 Live Auction', '80010-DET10F:ALUM PRNTS', '08 NAT YH', '06 RHI DIN:DON', '09 NYC DIN (2008)', 'MAN-NH: FY17 Camps', '05 CHI DIN', '08 DET APP:FALLPD', '80010-BOS10S', 'CHI: FY10 AlumFam', 'BOS-MA: FY17 Winter Appeal Lapsed Monthly Donors Email 3', '07 SANJ SPP', 'WDC-DC: FY17 Sustainable', '05 SANJ TSP', 'RHI: FY13 Gala:Tickets', '07 NAT APM', '09 NH WSWC', '06 SEA ERND:Young Heroes Car Was', '80000-PHL12:Night of Ask', '05 COL APP:FALLGEN', '06 BOS SRV:SAT', '06 CSC CARE', '80000-SEA08:08 Gold', 'MIA-FL: FY18 Red Jacket Weekend', 'SAC-CA: FY16 Team Sponsorships', 'NYC: FY11 AssocBrd:Baseball Raffle', '80000-DET10:Donation', 'Capacity (one time/special Major Gift)', 'BOS-MA:DV:EX:FY16:151124: Winter Appeal Current Email 1', 'CHI: FY10 Holiday', '10 NH PROG', '06 BOS APP:FALLA', '05 SEA SPPM', '06 RHI DIN:IND', '05 NH DIN:05 Silver', 'BOS-MA: FY14 Otterbox', 'SNJ-CA: FY16 Program Sponsorships', '08 SAN APPNI', '07 PHL SRVSP:SAT', '08 WDC PROG', '05 CSC APP:SPRINGD', '08 BOS IGC:ALUM/FRND CMPN', 'BOS-MA: FY15 Spring Appeal Regular RLD (Recent Lapsed) Email 2', 'NOL-LA: FY14 Gala Sustainable Sponsorships', '08 NAT APPNI', '05 NH GEN', 'BOS-MA: FY17 June EOY Appeal Lapsed Donor Email', '07 BOS APP:FALLOS', 'CLE: FY13 Gala:Silent Auction', '06 BOS TSP:Full Team', '04 CLE AFT', 'CHI-IL: FY17 Red Jacket Weekend', '80000-NH11:80000-NH11', '05 SEA GEN', 'BOS-MA: FY16 Gala Night of Ask', 'SEA-WA: FY16 Team Sponsorships', '07 COL AFT', '06 SANJ DIN:DON', \"BOS-MA: FY17 Women's Bfast\", 'TUL-OK: FY16 Sustainable Personal Ask', 'PHL: FY13 Gala:Coporate Leadership', '05 NH AFT', '80010-PHL09U', '08 CHI APP:FALL', '07 SAN CMPSP', '05 BOS APP:05-SADO-BOS', 'MAN-NH: FY17 Program Support Solicitations', '07 PHL YH', 'WDC-DC: FY15 Legal Breakfast', '06 NH APP:SPRINGD', '80010-MIA10U', \"MIA-FL: FY17 Women's Leadership Luncheon\", 'HQI-MA: FY17 Capacity Solicitations', '08 CLE G', 'SAN: FY12 GALA:Auction', '05 LRA CAP', 'New Site Development', 'SEA-WA: FY15 Gala Night of Ask', '08 NYC ERND', 'PHL-PA: FY17 CRP Other', 'PRV-RI: FY15 Sustainable Personalized Ask', '80010-COL11F', '07 PHL SFC', 'BOS-MA: FY16 United Way Employee Giving', 'DAL-TX: FY16 Cause Marketing', 'WDC-DC: FY16 Spring Break - Garfield', '06 SAN GOV', '80010-MIA11F', '08 NH AFT', 'NHANNUAL', 'NYC: FY13 GOLF:Raffle', 'MAN-NH: Major Gift Ask', 'LRA: FY12 PEVC', 'WDC-DC: FY16 Sustainable Personalized Ask', '80010-WDC10U', 'BOS-MA: FY16 Program Support Solicitations', '80010-SAN09F:DNR', '80000-CSC08:08 Silver', '07 SANJ TSP:Full Team', 'MIA-FL: FY14 Gala:Night of Ask', '07 CHI SRV:100HOP', '06 NAT DIN:06 Individual', 'SEA-WA: FY16 Annual Appeal - Winter', '05 RHI DIN:05 Silver', '08 DET APPNI:SPRINGD', 'CLE-OH: FY14 United Way Designations', '08 SEA YH', 'MWK-WI: FY14 Gala:Tickets', 'CHI-IL: FY14 Stand-Up for Education Benefit', '05 RHI DIN:05 Gold', 'CLE-OH: FY16 Program Sponsorships', 'COL-OH: FY14 Gala', '07 NH SRV', 'DEN: FY12 WOMEN BRK:Ask', 'PHL-PA: FY14 TSP', '80010-NYC09F:DNR', 'DEN-CO: FY17 Gala', '05 RHI APP', '80010-SAN09F:RENTED', 'Endowment-Perm.', '80010-BOS09S:DNR', 'MIA: FY14 Apr. Service Day', '05 CHI PROG:Clinton Innovation A', '07 SAN APP:SPRINGD', 'DEN-CO: FY15 CO Gives Day', '06 COL APPNI:SPRINGPD', '04 WDC EVT', '07 LRA SRVSP', '07 NAT YH', 'PHL-PA: FY18 CY Paints', 'Private Funding for School Partnerships', '05 SEA TSP', 'JAX-FL: FY17 Gala Individual', '06 NYC CYZ', '80000-SAN09:80000-SAN09', 'NYC: FY10 AssocBrd', 'BOS-MA: FY17 Winter Appeal Parents Email 2', '06 BOS PROG:CAR', '07 DET APP:FALLOS', '05 NAT GEN', '08 SANJ SFC', '09 NYC DIN (2008):Individual Tickets', 'ORL-FL: FY15 Board', 'CLE-OH: FY16 Gala Auction', 'LAX: FY12 AssocBrd', '80010-LSA11Fa', 'LTR-AR: FY16 Team Sponsorships', '80010-DET09S:DNR', 'School Partnership--School/District', 'ORL-FL: FY17 Idealists for Education', 'FY13 Team Sponsorship Unknown', '80000-RHI09:ALUMTKT', '04 CLE AMER', '80000-RHI 09 (2008)', '06 SANJ APP:SPRINGPD', '09 LSA SPS', 'LTR-AR: FY16 Gala', 'DEN-CO: FY16 Capacity Solicitations', '80010-NYC09F:ALUM PRNTS', 'BOS-MA: FY15 EOY/Winter Appeal Current Donors Email 3', '07 RHI AFT', '06 LRA AFT', '08 LAX IGC:ALUM/FRND FUND', '06 BOS DIN:06 Platinum', 'ORL-FL: FY17 Capacity Solicitations', '13 SANJ IGC:ALUM/FRND CMPN', 'BOS-MA: FY17 Winter Appeal Lapsed Donors Letter 1', 'City Day:SPON', 'SEA: FY13 Gala:Centerpiece', '80000-SANJ08:08 Gold', 'SEA-WA: FY15 Individual Giving Tuesday', '80000-DET10:Silver Sponsor', '08 SEA SFC', '05 SAN EVT:GOLF', 'NYC-NY: FY17 Winter Appeal', 'PHL-PA: FY16 CYPaints', 'BOS-MA: FY16 EOY/Winter Appeal Recent Lapsed Donors Postcard', '06 BOS CYZ:AC', '06 CSC DIN:GOLD', '07 RHI DIN:ISPON', 'CLE-OH: FY17 Capacity Solicitations', 'WDC-DC: FY16 Spring Break - Cardozo', '04 PHL TSP', 'BOS-MA: FY16 EOY/Winter Appeal Current Donors Postcard', '08 COL APPNI:FALL', 'NYC: FY13 Asso Board:Raffle Tickets', '80000-NYC11:Night of Ask', '08 COL CAMP', 'BOS-MA:DV:EX:FY16:160506 Spring Appeal Email 1 Current Donor Letter and Email', 'COL-SC: FY14 Board', '80010-DET09 (10 Col)', '04 SANJ GEN', 'NH: FY11 Women', '08 RHI IGC:08 CITZC', '08 BOS APP:SRPINGOS', 'SEA-WA: FY15 Team Sponsorships', 'ANNUAL:SPRING', '05 DET IGC', '07 DET CH', 'PHL: FY13 Gala:tickets', 'BOS-MA: FY17 Winter Appeal Recent Lapsed Donors Letter 1', 'LOS-CA: FY17 Associates Board Event', '10 COL TSP:Full Team', '06 LRA DIN', 'EBR-LA: FY13 Fall', '06 INT IGC:NSD', '06 INT PROG:SACTFR', 'SEA-WA: Major Gift Ask', '10 NYC IGC:ALUM/FRND CMPN', '07 PHL OPEN', 'WDC-DC: FY15 MLK Day', '07 DET APPNI:FALLOS', '06 CSC DIN:PRESENTING', '06 CLE APP:FALLPD', '08 LSA EVT:08 RACEREG', 'NYC-NY: FY17 Alumni', 'HQ: FY13 MS Challeng:NYC', '06 SANJ APP:SPRINGAP', 'CHI-IL: FY13 Wine Stein Tickets', 'PRV-RI: FY15 Team Sponsorships', '04 BOS CARE', '05 COL APP:FALLMI', 'NHRIPPLES:NHRIPPLES', '07 CHI EVT', 'UNSOL', '04 NAT NLS', '05 CLE DIN (2004)', '06 CHI APPNI:SPRINGPD', '04 NH IGC', 'SANJ: FY11 PEVC', 'LOS-CA: FY17 Sustainable', 'DEN-CO: FY16 Service Days', '80010-DET09S:POTDNR', '06 LRA GOV', '06 COL APPNI:B', '80000-DET10:Ad Sponsorship', 'Personal Ask', '80000-SAN08:08 CIT', '05 LRA SRVSP', '06 BOS APP:SPRINGD', '05 PHL SRV:SAT', '80000-DET08:08 Gold', 'SERVICE:GENSRV', 'AMER', '80010-LSA09S:POTDNR', 'WDC-DC: FY16 Program Sponsorships', \"MIA-FL: FY15 Women's Leadership Luncheon\", 'TUL-OK: FY17 Strong Circle Day', 'DEN: FY13 Gala:Tickets', '07 SAN YH', 'ALUM&FRDSTRVIA', '04 RHI DIN (FY04)', 'PHL: FY13 Gala:Half Page Ad', '08 NAT IGC', 'COL-OH: FY14 Gala:Night of Ask', 'BOS-MA: FY17 Ambassadors Spring Event', '07 WDC TSP:Full Team', '80070:super ticket', '05 DET APP:SPRINGOS', '08 LSA APP', 'MIA-FL: FY15 Giving Tuesday', '04 NAT PROG', '05 SEA DIN:05 Auction', '06 SANJ IGC', 'ORL: FY13 Gala:Night of Ask', '04 NH PROG', 'JAX-FL:FY16 Alumni', '06 COL CARE', 'WDC: Alum Brd Fundr', 'ORL-FL: FY15 Gala Sustainable/Sponsorships', '09 PHL TSP:Co-Team', 'SAN: FY12 GALA:Donation', 'LAX: FY13 Wine Taste:Sponsor', '06 DET APP:SPRINGD', 'SEA-WA:FY16 October Microsoft Giving', 'MIA: FY12 Ambassador', '06 COL DIN:IND', '07 NYC YH', '05 PHL DIN:NODIN', '02 NAT ANPM', '10 DET PROG', 'ANNUAL:FALL', 'TUL-OK: FY16 Team Sponsor', 'FY11 OTHER INCOME', '04 CHI DIN', '80000-RHI09:TICKET', '07 SEA IGC', '06 NH EVT:LEG', 'COL-OH: FY17 Direct Mail', '07 RHI G', 'MIA: FY12 Women:Day of Ask', 'LAX: FY13 Wine Taste:Donation', 'CHI-IL: FY21 Team Sponsor', 'HQI-MA:DV:ECA$:FY15:141215: December - Joy Appeal', '08 SAN SRVSP', 'Service Partner--NS', '04 BOS SAT:DON', '80010-LRA09F:ALUM PRNTS', '08 SAN APP:FALL', '80040:Leadership Circle', '06 CHI YH:Fundraising', 'LOS-CA:FY15 Associates Board Giving', 'JAX-FL: FY15 Staff Giving', \"SNJ-CA: FY17 Women's Event\", 'DET-MI FY12 Gala Night of Ask', '07 SEA TSP:Full Team', 'CHI-IL: FY16 Back to School Soiree', '06 CLE DIN:06 IND Tickets', '80010-NH09S:DNR', '05 BOS SRVSP:SAT', '06 RHI DIN (2005):CF', 'LTR-AR: FY17 Program Support Solicitations', '05 BOS APP:05-SAPD', 'ORL-FL: FY15 Orlando Alumni', '80000-SAN08:08 Plantinum', 'BOS-MA: FY15 Fall Appeal Current Donors', 'PHL-PA: FY15 Women', 'Wine Tasting', '80000-CHI11', '80040:ABD', '62000:FEE', '01 RHI TSP', '05 NH DIN:05 Individual', 'SEA-WA: FY17 Matching Gifts', '80010-CSC12F', '07 LSA OPEN', '80000-NYC11:80000-NYC11', '05 CHI TSP', '06 WDC YH', 'SEA: FY13 Gala:Sponsor', 'SAN-TX: FY16 Team Sponsorships', 'MWK-WI: FY17 Chicago Marathon-Dan Nash', '07 RHI EVT', 'CLE-OH: FY17 Board Gifts', '05 COL PROG:READ', '06 NH DIN:06 GOLD', 'WDC-DC: FY18 Franco Farewell', '07 COL ERND', '80010-SANJ09F:POTDNR', 'CHI-IL: FY16 Winter Appeal', \"MIA-FL: FY16 Women's Leadership Luncheon\", '07 RHI IGC', '08 CLE ENDW', '07 DET ERND', '08 CHI DIN (2007):Individual Tickets (', '80000-BOS10:80000-BOS10', '08 NH EVT', '04 SANJ YH', '05 NYC SRVSP', '08 PHL ERND', '06 NAT APS', 'NYC-NY: FY16 Bain Cares', '08 NAT CYZ', 'EBR-LA: FY17 10th Anniversary', '80010-BOS11F:DNR', '06 CHI PROG', 'WDC-DC: FY16 Spring Break - Ketcham', 'LTR-AR: FY16 Sustainable Personalized Ask', '80000-CHI11:Night of Ask', '08 CHI IGC:ALUM/FRND CMPN', 'CLE: FY13 Gala', '80000-RHI10:Gold Sponsor', 'SERVPART', '06 NAT APP:SPRINGD', 'DET-MI: FY13 Gala:Corporate Table', 'WDC-DC: FY13 Gala:Double Match', '06 LRA TSP:Co-Team', '80010-NYC10U', 'NYC-NY: FY14 Gala:Night of Ask', '08 CHI OPEN', '07 CSC IGC', '08 CSC OPEN', '02 RHI YH', '08 SEA CMPSP', '05 PHL TSP', '08 CLE SPS', 'CHI-IL: FY16 The 1701 Party', 'Assoc Brd Fund', '08 LSA TSP:Co-Team', '08 CSC PROG', '08 BOS IGC:ALUM/FRND FUND', 'NOL-LA: FY17 Gala - School House Rock Sponsorships', 'BOS-MA: FY15 Spring Appeal Regular CD (Current Donor) Email 3', '07 CHI APP:SRPINGOS', '07 NAT IGC', '06 SEA PROG:CLINTON', '10 LAX PROG', '08 NYC DIN (2007):Gold', '05 NAT PROG:Clinton Innovation A', 'NYC: FY12 Women:Night of Ask', '07 NYC DIN:NA', '07 LRA DIN', '80000-DET08:.25 Page', 'LOS-CA: FY15 End of Year Campaign', 'NSD:SAC', 'EBR-LA: FY16 Team Sponsorships', '08 BOS SRVSP', '05 CLE YH', '08 SAN PROG', 'FY08 OTHER INCOME', '07 SAN PROG', 'MAN-NH: FY16 Gala', 'MIA-FL: FY15 Alumni Events', 'PE & VCBrkfst', 'MWK-WI: FY16 Service Days', 'MIA-FL: FY15 Red Jacket Society Members', '08 SAN EVT', '10 MIA WSWC', '80000-SEA09:80000-SEA09', 'Young Heroes Sponsor', '80040:Alumni Challenge', 'WDC-DC: FY16 Spring Break - Thomas', '08 WDC APP', '06 CSC DIN:BRONZE', '06 NAT APP:FALLPD', 'MIA-FL: FY15 Sustainable Personalized Ask', '07 SAN SPPM', '80000-DET10:Bronze Sponsor', 'JAX-FL:FY16 Graduation', 'COL-SC: FY14 Lawyers', 'MAN-NH: FY15 Program Support Solicitations', '06 CSC CAMP', 'TUL-OK: FY15 Opening Day', '80000-NH08:08 Donation', 'DET-MI: FY14 MEX', '80000-COL12:Donation', '06 NH PROG:CLINTON', 'ORL-FL: FY17 Team Sponsorships', '08 SEA PROG', '07 CLE DIN', 'EBR-LA: FY17 Buzzed Spelling Bee', 'NOL-LA: FY17 Red Jacket Society', '07 WDC APP:FALLAP', 'SAN-TX: FY16 Capacity', '62000:CAMPCY', '06 SANJ DIN:06 Platinum', '08 SANJ IGC:ALUM/FRND CMPN', 'CLE-OH: FY15 Annual appeal', '06 NAT DIN:06 Gold', '05 PHL SPS', '08 LAX ERND', '08 LSA EVT', '06 JBG G', 'LOS-CA: FY15 Program Support Solicitations', '06 DET APP:FALLA', '08 PHL TSP:Full Team', '04 LRA OPEN', 'Team Sponsorship', '80000-WDC08:08 Alum', 'PHL-PA: FY17 ING Associate Board', 'PRV-RI: FY15 Staff Giving', 'CHI-IL: FY17 Xavier Joy Memorial', '80010-MIA10F:POTDNR'}\n",
      "There are 4807 different campaigns that City Year has ran since 1997.\n"
     ]
    }
   ],
   "source": [
    "# our first categorical feature, we will convert this differently than the previous datetimes/float values\n",
    "print(set(gt_df['Campaign Name']))\n",
    "\n",
    "print('There are {} different campaigns that City Year has ran since 1997.'.format(len(set(gt_df['Campaign Name']))))"
   ]
  },
  {
   "cell_type": "markdown",
   "id": "764367fc",
   "metadata": {},
   "source": [
    "well fuck"
   ]
  },
  {
   "cell_type": "code",
   "execution_count": 18,
   "id": "a4c8ced1",
   "metadata": {},
   "outputs": [],
   "source": [
    "# create new dataframe containing campaign names and corresponding campaign category codes that we assign\n",
    "campaign_df = pd.DataFrame()\n",
    "campaign_df['Campaign Cat Code'] = list(set(gt_df['Campaign Name'].astype(\"category\").cat.codes))\n",
    "campaign_df['Campaign Name'] = list(set(gt_df['Campaign Name']))"
   ]
  },
  {
   "cell_type": "code",
   "execution_count": 19,
   "id": "9ce3c380",
   "metadata": {},
   "outputs": [],
   "source": [
    "# theoretically, this is how we should handle all cateogrical variables, so I'm going to run with this sparse/non-sparse\n",
    "# matrix for the time being\n",
    "gt_df_sparse = pd.get_dummies(gt_df, columns=['Campaign Name'])"
   ]
  },
  {
   "cell_type": "code",
   "execution_count": 20,
   "id": "be236ce3",
   "metadata": {},
   "outputs": [],
   "source": [
    "# this maps the campaign codes onto their names in a single column, but since the campaigns are not inherently relational\n",
    "# we should absolutely NOT do this\n",
    "#gt_df['Campaign Name'] = gt_df['Campaign Name'].astype(\"category\").cat.codes"
   ]
  },
  {
   "cell_type": "markdown",
   "id": "d23042aa",
   "metadata": {},
   "source": [
    "Since there were ~4800 different campaigns that City Year has conducted since '97, we are forced to serialize those campaigns into numbers which we use to replace the names.\n",
    "\n",
    "We will also create a separate dataframe containing a correlation between campaign names and category codes, for future use."
   ]
  },
  {
   "cell_type": "code",
   "execution_count": 21,
   "id": "64a69648",
   "metadata": {},
   "outputs": [
    {
     "name": "stdout",
     "output_type": "stream",
     "text": [
      "The new dataframe shape is (188895, 4818).\n"
     ]
    }
   ],
   "source": [
    "# print new head of gt_df that contains the campaign codes instead of names, therefore categorizing the data \n",
    "# (we might need to make this a sparse matrix at some point as well, but for now we will just not add 4807 features for simplicity)\n",
    "\n",
    "print('The new dataframe shape is {}.'.format(gt_df_sparse.shape))"
   ]
  },
  {
   "cell_type": "markdown",
   "id": "b7626798",
   "metadata": {},
   "source": [
    "Thankfully, the remaining data (aside from payment status) is useless since it is just a variety of identification numbers. We will only use that for joins in the future and store them aside."
   ]
  },
  {
   "cell_type": "code",
   "execution_count": 22,
   "id": "16a0b8e1",
   "metadata": {},
   "outputs": [
    {
     "data": {
      "text/html": [
       "<div>\n",
       "<style scoped>\n",
       "    .dataframe tbody tr th:only-of-type {\n",
       "        vertical-align: middle;\n",
       "    }\n",
       "\n",
       "    .dataframe tbody tr th {\n",
       "        vertical-align: top;\n",
       "    }\n",
       "\n",
       "    .dataframe thead th {\n",
       "        text-align: right;\n",
       "    }\n",
       "</style>\n",
       "<table border=\"1\" class=\"dataframe\">\n",
       "  <thead>\n",
       "    <tr style=\"text-align: right;\">\n",
       "      <th></th>\n",
       "      <th>Staff Member</th>\n",
       "      <th>Amount</th>\n",
       "      <th>Payment Number</th>\n",
       "      <th>GAU Allocation Name</th>\n",
       "      <th>Payment Date</th>\n",
       "      <th>Payment Status</th>\n",
       "      <th>Campaign Name_01 RHI APP</th>\n",
       "      <th>Campaign Name_01 RHI CAMP</th>\n",
       "      <th>Campaign Name_01 RHI CYZ</th>\n",
       "      <th>Campaign Name_01 RHI DIN</th>\n",
       "      <th>...</th>\n",
       "      <th>Campaign Name_Wine Tasting:Donation</th>\n",
       "      <th>Campaign Name_Wine Tasting:sponsor</th>\n",
       "      <th>Campaign Name_YH</th>\n",
       "      <th>Campaign Name_Young Heroes</th>\n",
       "      <th>Campaign Name_Young Heroes Sponsor</th>\n",
       "      <th>Campaign Name_Young Heroes Sponsor:YHAA</th>\n",
       "      <th>Campaign Name_Young Heroes Sponsor:YHOPEN</th>\n",
       "      <th>Campaign Name_Young Heroes Sponsor:YHOTHER</th>\n",
       "      <th>Campaign Name_Young Heroes Sponsor:YHPRSPON</th>\n",
       "      <th>Campaign Name_Young Heroes Sponsor:YHTSP</th>\n",
       "    </tr>\n",
       "  </thead>\n",
       "  <tbody>\n",
       "    <tr>\n",
       "      <th>561</th>\n",
       "      <td>7.0</td>\n",
       "      <td>50000.0</td>\n",
       "      <td>1169</td>\n",
       "      <td>15674</td>\n",
       "      <td>2004-06-08</td>\n",
       "      <td>Paid</td>\n",
       "      <td>0</td>\n",
       "      <td>0</td>\n",
       "      <td>0</td>\n",
       "      <td>0</td>\n",
       "      <td>...</td>\n",
       "      <td>0</td>\n",
       "      <td>0</td>\n",
       "      <td>0</td>\n",
       "      <td>0</td>\n",
       "      <td>0</td>\n",
       "      <td>0</td>\n",
       "      <td>0</td>\n",
       "      <td>0</td>\n",
       "      <td>0</td>\n",
       "      <td>0</td>\n",
       "    </tr>\n",
       "    <tr>\n",
       "      <th>562</th>\n",
       "      <td>7.0</td>\n",
       "      <td>200.0</td>\n",
       "      <td>6709</td>\n",
       "      <td>8201</td>\n",
       "      <td>2015-04-13</td>\n",
       "      <td>Paid</td>\n",
       "      <td>0</td>\n",
       "      <td>0</td>\n",
       "      <td>0</td>\n",
       "      <td>0</td>\n",
       "      <td>...</td>\n",
       "      <td>0</td>\n",
       "      <td>0</td>\n",
       "      <td>0</td>\n",
       "      <td>0</td>\n",
       "      <td>0</td>\n",
       "      <td>0</td>\n",
       "      <td>0</td>\n",
       "      <td>0</td>\n",
       "      <td>0</td>\n",
       "      <td>0</td>\n",
       "    </tr>\n",
       "    <tr>\n",
       "      <th>563</th>\n",
       "      <td>7.0</td>\n",
       "      <td>200.0</td>\n",
       "      <td>6709</td>\n",
       "      <td>8201</td>\n",
       "      <td>2015-04-13</td>\n",
       "      <td>Paid</td>\n",
       "      <td>0</td>\n",
       "      <td>0</td>\n",
       "      <td>0</td>\n",
       "      <td>0</td>\n",
       "      <td>...</td>\n",
       "      <td>0</td>\n",
       "      <td>0</td>\n",
       "      <td>0</td>\n",
       "      <td>0</td>\n",
       "      <td>0</td>\n",
       "      <td>0</td>\n",
       "      <td>0</td>\n",
       "      <td>0</td>\n",
       "      <td>0</td>\n",
       "      <td>0</td>\n",
       "    </tr>\n",
       "    <tr>\n",
       "      <th>564</th>\n",
       "      <td>7.0</td>\n",
       "      <td>100000.0</td>\n",
       "      <td>7109</td>\n",
       "      <td>14341</td>\n",
       "      <td>2015-07-16</td>\n",
       "      <td>Paid</td>\n",
       "      <td>0</td>\n",
       "      <td>0</td>\n",
       "      <td>0</td>\n",
       "      <td>0</td>\n",
       "      <td>...</td>\n",
       "      <td>0</td>\n",
       "      <td>0</td>\n",
       "      <td>0</td>\n",
       "      <td>0</td>\n",
       "      <td>0</td>\n",
       "      <td>0</td>\n",
       "      <td>0</td>\n",
       "      <td>0</td>\n",
       "      <td>0</td>\n",
       "      <td>0</td>\n",
       "    </tr>\n",
       "    <tr>\n",
       "      <th>565</th>\n",
       "      <td>7.0</td>\n",
       "      <td>300.0</td>\n",
       "      <td>6709</td>\n",
       "      <td>8202</td>\n",
       "      <td>2015-04-13</td>\n",
       "      <td>Paid</td>\n",
       "      <td>0</td>\n",
       "      <td>0</td>\n",
       "      <td>0</td>\n",
       "      <td>0</td>\n",
       "      <td>...</td>\n",
       "      <td>0</td>\n",
       "      <td>0</td>\n",
       "      <td>0</td>\n",
       "      <td>0</td>\n",
       "      <td>0</td>\n",
       "      <td>0</td>\n",
       "      <td>0</td>\n",
       "      <td>0</td>\n",
       "      <td>0</td>\n",
       "      <td>0</td>\n",
       "    </tr>\n",
       "  </tbody>\n",
       "</table>\n",
       "<p>5 rows × 4813 columns</p>\n",
       "</div>"
      ],
      "text/plain": [
       "     Staff Member    Amount  Payment Number  GAU Allocation Name Payment Date  \\\n",
       "561           7.0   50000.0            1169                15674   2004-06-08   \n",
       "562           7.0     200.0            6709                 8201   2015-04-13   \n",
       "563           7.0     200.0            6709                 8201   2015-04-13   \n",
       "564           7.0  100000.0            7109                14341   2015-07-16   \n",
       "565           7.0     300.0            6709                 8202   2015-04-13   \n",
       "\n",
       "    Payment Status  Campaign Name_01 RHI APP  Campaign Name_01 RHI CAMP  \\\n",
       "561           Paid                         0                          0   \n",
       "562           Paid                         0                          0   \n",
       "563           Paid                         0                          0   \n",
       "564           Paid                         0                          0   \n",
       "565           Paid                         0                          0   \n",
       "\n",
       "     Campaign Name_01 RHI CYZ  Campaign Name_01 RHI DIN  ...  \\\n",
       "561                         0                         0  ...   \n",
       "562                         0                         0  ...   \n",
       "563                         0                         0  ...   \n",
       "564                         0                         0  ...   \n",
       "565                         0                         0  ...   \n",
       "\n",
       "     Campaign Name_Wine Tasting:Donation  Campaign Name_Wine Tasting:sponsor  \\\n",
       "561                                    0                                   0   \n",
       "562                                    0                                   0   \n",
       "563                                    0                                   0   \n",
       "564                                    0                                   0   \n",
       "565                                    0                                   0   \n",
       "\n",
       "     Campaign Name_YH  Campaign Name_Young Heroes  \\\n",
       "561                 0                           0   \n",
       "562                 0                           0   \n",
       "563                 0                           0   \n",
       "564                 0                           0   \n",
       "565                 0                           0   \n",
       "\n",
       "     Campaign Name_Young Heroes Sponsor  \\\n",
       "561                                   0   \n",
       "562                                   0   \n",
       "563                                   0   \n",
       "564                                   0   \n",
       "565                                   0   \n",
       "\n",
       "     Campaign Name_Young Heroes Sponsor:YHAA  \\\n",
       "561                                        0   \n",
       "562                                        0   \n",
       "563                                        0   \n",
       "564                                        0   \n",
       "565                                        0   \n",
       "\n",
       "     Campaign Name_Young Heroes Sponsor:YHOPEN  \\\n",
       "561                                          0   \n",
       "562                                          0   \n",
       "563                                          0   \n",
       "564                                          0   \n",
       "565                                          0   \n",
       "\n",
       "     Campaign Name_Young Heroes Sponsor:YHOTHER  \\\n",
       "561                                           0   \n",
       "562                                           0   \n",
       "563                                           0   \n",
       "564                                           0   \n",
       "565                                           0   \n",
       "\n",
       "     Campaign Name_Young Heroes Sponsor:YHPRSPON  \\\n",
       "561                                            0   \n",
       "562                                            0   \n",
       "563                                            0   \n",
       "564                                            0   \n",
       "565                                            0   \n",
       "\n",
       "     Campaign Name_Young Heroes Sponsor:YHTSP  \n",
       "561                                         0  \n",
       "562                                         0  \n",
       "563                                         0  \n",
       "564                                         0  \n",
       "565                                         0  \n",
       "\n",
       "[5 rows x 4813 columns]"
      ]
     },
     "execution_count": 22,
     "metadata": {},
     "output_type": "execute_result"
    }
   ],
   "source": [
    "# clean our final column, payment status\n",
    "gt_df_sparse = gt_df_sparse.loc[:, gt_df_sparse.columns != 'Opportunity: Legacy SF ID']\n",
    "gt_df_sparse = gt_df_sparse.loc[:, gt_df_sparse.columns != 'Opportunity: Opportunity ID']\n",
    "gt_df_sparse = gt_df_sparse.loc[:, gt_df_sparse.columns != 'Opportunity: Donor Id']\n",
    "gt_df_sparse = gt_df_sparse.loc[:, gt_df_sparse.columns != 'Legacy SF ID']\n",
    "gt_df_sparse = gt_df_sparse.loc[:, gt_df_sparse.columns != 'Legacy SF ID.1']\n",
    "\n",
    "# print new, ID feature dropped DF\n",
    "gt_df_sparse.head()"
   ]
  },
  {
   "cell_type": "code",
   "execution_count": 23,
   "id": "1220dadd",
   "metadata": {},
   "outputs": [],
   "source": [
    "# convert Payment Status column to boolean values\n",
    "gt_df_sparse['Payment Status'] = gt_df_sparse['Payment Status'].map({\"Paid\":1, \"Unpaid\":0})\n",
    "gt_df_sparse['Payment Status'] = gt_df_sparse['Payment Status'].astype(bool)"
   ]
  },
  {
   "cell_type": "code",
   "execution_count": 24,
   "id": "00fbab56",
   "metadata": {
    "scrolled": false
   },
   "outputs": [
    {
     "name": "stdout",
     "output_type": "stream",
     "text": [
      "<class 'pandas.core.frame.DataFrame'>\n",
      "Int64Index: 188895 entries, 561 to 189832\n",
      "Columns: 4813 entries, Staff Member to Campaign Name_Young Heroes Sponsor:YHTSP\n",
      "dtypes: bool(1), datetime64[ns](1), float64(2), int64(2), uint8(4807)\n",
      "memory usage: 874.8 MB\n"
     ]
    }
   ],
   "source": [
    "# finally, we check our new Sparse matrix for datatypes/NaNs\n",
    "gt_df_sparse.info()"
   ]
  },
  {
   "cell_type": "code",
   "execution_count": 25,
   "id": "f557a959",
   "metadata": {
    "scrolled": true
   },
   "outputs": [
    {
     "data": {
      "text/html": [
       "<div>\n",
       "<style scoped>\n",
       "    .dataframe tbody tr th:only-of-type {\n",
       "        vertical-align: middle;\n",
       "    }\n",
       "\n",
       "    .dataframe tbody tr th {\n",
       "        vertical-align: top;\n",
       "    }\n",
       "\n",
       "    .dataframe thead th {\n",
       "        text-align: right;\n",
       "    }\n",
       "</style>\n",
       "<table border=\"1\" class=\"dataframe\">\n",
       "  <thead>\n",
       "    <tr style=\"text-align: right;\">\n",
       "      <th></th>\n",
       "      <th>Staff Member</th>\n",
       "      <th>Amount</th>\n",
       "      <th>Payment Number</th>\n",
       "      <th>GAU Allocation Name</th>\n",
       "      <th>Payment Date</th>\n",
       "      <th>Payment Status</th>\n",
       "      <th>Campaign Cat Number</th>\n",
       "    </tr>\n",
       "  </thead>\n",
       "  <tbody>\n",
       "    <tr>\n",
       "      <th>561</th>\n",
       "      <td>7.0</td>\n",
       "      <td>50000.0</td>\n",
       "      <td>1169</td>\n",
       "      <td>15674</td>\n",
       "      <td>2004-06-08</td>\n",
       "      <td>True</td>\n",
       "      <td>132</td>\n",
       "    </tr>\n",
       "    <tr>\n",
       "      <th>562</th>\n",
       "      <td>7.0</td>\n",
       "      <td>200.0</td>\n",
       "      <td>6709</td>\n",
       "      <td>8201</td>\n",
       "      <td>2015-04-13</td>\n",
       "      <td>True</td>\n",
       "      <td>4659</td>\n",
       "    </tr>\n",
       "    <tr>\n",
       "      <th>563</th>\n",
       "      <td>7.0</td>\n",
       "      <td>200.0</td>\n",
       "      <td>6709</td>\n",
       "      <td>8201</td>\n",
       "      <td>2015-04-13</td>\n",
       "      <td>True</td>\n",
       "      <td>4659</td>\n",
       "    </tr>\n",
       "    <tr>\n",
       "      <th>564</th>\n",
       "      <td>7.0</td>\n",
       "      <td>100000.0</td>\n",
       "      <td>7109</td>\n",
       "      <td>14341</td>\n",
       "      <td>2015-07-16</td>\n",
       "      <td>True</td>\n",
       "      <td>3540</td>\n",
       "    </tr>\n",
       "    <tr>\n",
       "      <th>565</th>\n",
       "      <td>7.0</td>\n",
       "      <td>300.0</td>\n",
       "      <td>6709</td>\n",
       "      <td>8202</td>\n",
       "      <td>2015-04-13</td>\n",
       "      <td>True</td>\n",
       "      <td>4659</td>\n",
       "    </tr>\n",
       "  </tbody>\n",
       "</table>\n",
       "</div>"
      ],
      "text/plain": [
       "     Staff Member    Amount  Payment Number  GAU Allocation Name Payment Date  \\\n",
       "561           7.0   50000.0            1169                15674   2004-06-08   \n",
       "562           7.0     200.0            6709                 8201   2015-04-13   \n",
       "563           7.0     200.0            6709                 8201   2015-04-13   \n",
       "564           7.0  100000.0            7109                14341   2015-07-16   \n",
       "565           7.0     300.0            6709                 8202   2015-04-13   \n",
       "\n",
       "     Payment Status  Campaign Cat Number  \n",
       "561            True                  132  \n",
       "562            True                 4659  \n",
       "563            True                 4659  \n",
       "564            True                 3540  \n",
       "565            True                 4659  "
      ]
     },
     "execution_count": 25,
     "metadata": {},
     "output_type": "execute_result"
    }
   ],
   "source": [
    "# lets also create the matrix that contains categorical numeric data and not sparse data\n",
    "gt_df_cat = gt_df_sparse.drop(gt_df_sparse.columns[5:-1], axis=1)\n",
    "gt_df_cat = gt_df_cat.drop(gt_df_cat.columns[5], axis=1)\n",
    "gt_df_cat['Payment Status'] = gt_df_sparse['Payment Status']\n",
    "gt_df_cat['Campaign Cat Number'] = gt_df['Campaign Name'].astype(\"category\").cat.codes\n",
    "gt_df_cat.head()"
   ]
  },
  {
   "cell_type": "code",
   "execution_count": 26,
   "id": "cae7f01a",
   "metadata": {},
   "outputs": [],
   "source": [
    "gt_df_cat = gt_df_cat.dropna()\n",
    "gt_df_sparse = gt_df_sparse.dropna()"
   ]
  },
  {
   "cell_type": "markdown",
   "id": "96d0c1b0",
   "metadata": {},
   "source": [
    "We now have two important dataframes to run models with, the first being 'gt_df_sparse' which breaks the categorical feature of 'Campaign Name' into N number of boolean features.\n",
    "\n",
    "The second dataframe (gt_df_cat) serializes campaign names into numeric values instead of stretching them into boolean features. Both have their uses, but gt_df_cat is significantly better with computational capacity."
   ]
  },
  {
   "cell_type": "markdown",
   "id": "c24d5023",
   "metadata": {},
   "source": [
    "### Section II: Model Training"
   ]
  },
  {
   "cell_type": "markdown",
   "id": "5ab5e7a0",
   "metadata": {},
   "source": [
    "We will begin with some basic KNN/Kmeans Clustering to try to determine transaction amounts by campaign. "
   ]
  },
  {
   "cell_type": "code",
   "execution_count": 27,
   "id": "1f2a397b",
   "metadata": {},
   "outputs": [],
   "source": [
    "# import clustering libraries\n",
    "from sklearn.neighbors import KNeighborsClassifier as KNN\n",
    "from sklearn.model_selection import train_test_split\n",
    "from sklearn.metrics import silhouette_score\n",
    "from sklearn.linear_model import LinearRegression\n",
    "from sklearn.model_selection import cross_val_score\n",
    "from sklearn.cluster import KMeans"
   ]
  },
  {
   "cell_type": "code",
   "execution_count": 28,
   "id": "19190ebd",
   "metadata": {},
   "outputs": [],
   "source": [
    "# split data into X & Y matricies\n",
    "X_cluster = gt_df_cat.loc[:, gt_df_cat.columns != 'Campaign Name']\n",
    "\n",
    "# also remove datetimes from X because that is not helpful/will break the KNN model\n",
    "X_cluster = gt_df_cat.loc[:, gt_df_cat.columns != 'Payment Date']\n",
    "\n",
    "# create predict value, which is amount in this instance\n",
    "Y_cluster = gt_df_cat.loc[:, gt_df_cat.columns == 'Campaign Name'].astype(int)\n",
    "\n",
    "# create test/train split for model training\n",
    "X_train, X_test, Y_train, Y_test = train_test_split(X_cluster, Y_cluster, test_size=0.3, random_state=42)"
   ]
  },
  {
   "cell_type": "code",
   "execution_count": 29,
   "id": "fec74cdd",
   "metadata": {},
   "outputs": [],
   "source": [
    "# build kmeans clustering model from X_cluster and Y_cluster data \n",
    "# (meant to handle clustering models derived from categorical datafranme)\n"
   ]
  },
  {
   "cell_type": "code",
   "execution_count": 30,
   "id": "734b8b4d",
   "metadata": {
    "scrolled": true
   },
   "outputs": [],
   "source": [
    "# intake boolean to save time from running KNN\n",
    "run_knn_bool = False\n",
    "\n",
    "if run_knn_bool:\n",
    "    # now we will train a KNN model and determine the optimal number of clusters with the SC\n",
    "    neighbors = 1000\n",
    "    scores_list = []\n",
    "    sc_list = []\n",
    "    for neighbors in range(neighbors, 1005):\n",
    "        knn = KNN(n_neighbors=neighbors)\n",
    "        knn = knn.fit(X_train, Y_train)\n",
    "        cur_score = knn.score(X_test, Y_test)\n",
    "        cur_sc = silhouette_score(X_test,Y_test)\n",
    "        scores_list.append(cur_score)\n",
    "        sc_list.append(cur_sc)\n",
    "        print('Running cluster #: {}'.format(neighbors))\n",
    "    max_score = max(scores_list)\n",
    "    max_index = scores_list.index(max_score)\n",
    "    print(\"Best cluster number k={}\".format(max_index))\n",
    "    print(\"Best score: {}\".format(max_score))\n",
    "    print(\"Best silhouette score: {}\".format(max(sc_list)))"
   ]
  },
  {
   "cell_type": "markdown",
   "id": "74904dcc",
   "metadata": {},
   "source": [
    "Lets try some regression models to help determine amount based off transactional data (such as campaign and date, potentially)"
   ]
  },
  {
   "cell_type": "code",
   "execution_count": null,
   "id": "7bd5b84f",
   "metadata": {},
   "outputs": [],
   "source": [
    "# create an X & Y matrix split on the sparse matrix for regression\n",
    "X_reg = gt_df_sparse.loc[:, gt_df_sparse.columns != 'Amount']\n",
    "\n",
    "# also remove datetimes from X because that is not helpful/will break the KNN model\n",
    "X_reg = gt_df_sparse.loc[:, gt_df_sparse.columns != 'Payment Date']\n",
    "\n",
    "# create predict value, which is amount in this instance\n",
    "Y_reg = gt_df_sparse.loc[:, gt_df_sparse.columns == 'Amount'].astype(int)"
   ]
  },
  {
   "cell_type": "code",
   "execution_count": null,
   "id": "f64485c4",
   "metadata": {},
   "outputs": [],
   "source": [
    "# Run MLR model? (NOTE: TAKES LIKE 30 MINUTES AT LEAST)\n",
    "run_mlr_bool = False\n",
    "\n",
    "if run_mlr_model:\n",
    "    mlr = LinearRegression()\n",
    "    scores = cross_val_score(mlr, X_reg, Y_reg, cv=5)"
   ]
  },
  {
   "cell_type": "code",
   "execution_count": null,
   "id": "12d71069",
   "metadata": {},
   "outputs": [],
   "source": [
    "# print scores of k-fold CV model\n",
    "print('K-Fold CV Score for MLR: {}'.format(scores.mean()))"
   ]
  },
  {
   "cell_type": "markdown",
   "id": "fd59157a",
   "metadata": {},
   "source": [
    "The MLR model is incredibly accurate at predicting amount donated per transaction, worth investigating."
   ]
  },
  {
   "cell_type": "code",
   "execution_count": null,
   "id": "22489150",
   "metadata": {},
   "outputs": [],
   "source": []
  }
 ],
 "metadata": {
  "kernelspec": {
   "display_name": "Python 3 (ipykernel)",
   "language": "python",
   "name": "python3"
  },
  "language_info": {
   "codemirror_mode": {
    "name": "ipython",
    "version": 3
   },
   "file_extension": ".py",
   "mimetype": "text/x-python",
   "name": "python",
   "nbconvert_exporter": "python",
   "pygments_lexer": "ipython3",
   "version": "3.9.7"
  }
 },
 "nbformat": 4,
 "nbformat_minor": 5
}
