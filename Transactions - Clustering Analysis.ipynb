{
 "cells": [
  {
   "cell_type": "markdown",
   "id": "206f14b3",
   "metadata": {},
   "source": [
    "# Giving Transaction Exploratory Data Analysis"
   ]
  },
  {
   "cell_type": "markdown",
   "id": "05c758d9",
   "metadata": {},
   "source": [
    "### Section I: Data Cleaning"
   ]
  },
  {
   "cell_type": "markdown",
   "id": "61060051",
   "metadata": {},
   "source": [
    "The purpose of this code is to clean the giving transactions data by conducting the following steps:\n",
    "\n",
    "1. Identify all NaN values and NaN-heavy features\n",
    "2. Drop NaN-heavy features\n",
    "3. Drop observations w/ NaN values if the % of observations is <0.01% of the total observations\n",
    "4. Convert all non-numeric datatypes to numeric"
   ]
  },
  {
   "cell_type": "code",
   "execution_count": 191,
   "id": "3fec5c95",
   "metadata": {},
   "outputs": [],
   "source": [
    "# import all necessary libraries\n",
    "import pandas as pd"
   ]
  },
  {
   "cell_type": "code",
   "execution_count": 192,
   "id": "3e7c5c38",
   "metadata": {},
   "outputs": [
    {
     "name": "stderr",
     "output_type": "stream",
     "text": [
      "C:\\Users\\canderton\\Anaconda3\\lib\\site-packages\\IPython\\core\\interactiveshell.py:3165: DtypeWarning: Columns (4) have mixed types.Specify dtype option on import or set low_memory=False.\n",
      "  has_raised = await self.run_ast_nodes(code_ast.body, cell_name,\n"
     ]
    }
   ],
   "source": [
    "# import data\n",
    "gt_df = pd.read_csv('./Payment Transactions 1999_2017.csv', encoding='cp437')"
   ]
  },
  {
   "cell_type": "code",
   "execution_count": 193,
   "id": "b51506a2",
   "metadata": {
    "scrolled": true
   },
   "outputs": [
    {
     "name": "stdout",
     "output_type": "stream",
     "text": [
      "  Staff Member   Amount Payment Number GAU Allocation Name Scheduled Date  \\\n",
      "0          NaN    18.75     PMT-197286           ALL-99497            NaN   \n",
      "1          NaN   300.00     PMT-201371          ALL-119924            NaN   \n",
      "2          NaN   500.00      PMT-68703          ALL-119925            NaN   \n",
      "3          NaN  3756.84      PMT-08521          ALL-119926            NaN   \n",
      "4          NaN  1000.00      PMT-73062          ALL-262685            NaN   \n",
      "\n",
      "  Payment Date Stage is Pipeline or Committed/Completed  \\\n",
      "0     4/1/2016                      Committed/Completed   \n",
      "1    3/23/2016                      Committed/Completed   \n",
      "2    3/23/2016                      Committed/Completed   \n",
      "3    3/23/2016                      Committed/Completed   \n",
      "4    3/23/2016                      Committed/Completed   \n",
      "\n",
      "  Opportunity: Primary Campaign Source: Campaign Name  \\\n",
      "0                    BOS-MA: FY16 Ambassadors Giving    \n",
      "1                                  COL-SC: FY16 Gala    \n",
      "2                                  COL-SC: FY16 Gala    \n",
      "3                COL-SC: FY16 Capacity Solicitations    \n",
      "4                                  PRV-RI: FY16 Gala    \n",
      "\n",
      "  Opportunity: Legacy SF ID Opportunity: Opportunity ID Opportunity: Donor Id  \\\n",
      "0        006U000000XorgHIAR             0065Y00001Yp7gk       0035Y000042aKlJ   \n",
      "1        006U000000X8X6BIAV             0065Y00001Yp9DQ       0035Y000042aMKB   \n",
      "2        006U000000X8X6DIAV             0065Y00001YpJkS       0035Y000042Zwke   \n",
      "3        006U000000X8X6QIAV             0065Y00001Yp9aH       0015Y00002sBbme   \n",
      "4        006U000000X8X6gIAF             0065Y00001YpMRB       0035Y000042ZzoO   \n",
      "\n",
      "         Legacy SF ID      Legacy SF ID.1 Payment Status  \n",
      "0  006U000000XorgIIAR  a450d000000aBOSAA2           Paid  \n",
      "1  006U000000X8X6CIAV  a450d000000a9SJAAY           Paid  \n",
      "2  006U000000X8X6EIAV  a450d000000a9SZAAY           Paid  \n",
      "3  006U000000X8X6RIAV  a450d000000a9SyAAI           Paid  \n",
      "4  006U000000X8X6hIAF  a450d000000REExAAO           Paid  \n"
     ]
    }
   ],
   "source": [
    "# display data head\n",
    "print(gt_df.head())"
   ]
  },
  {
   "cell_type": "code",
   "execution_count": 194,
   "id": "c1edc8b8",
   "metadata": {},
   "outputs": [
    {
     "name": "stdout",
     "output_type": "stream",
     "text": [
      "Staff Member                                              919\n",
      "Amount                                                      0\n",
      "Payment Number                                              0\n",
      "GAU Allocation Name                                         0\n",
      "Scheduled Date                                         189831\n",
      "Payment Date                                                2\n",
      "Stage is Pipeline or Committed/Completed                    0\n",
      "Opportunity: Primary Campaign Source: Campaign Name        12\n",
      "Opportunity: Legacy SF ID                                   0\n",
      "Opportunity: Opportunity ID                                 0\n",
      "Opportunity: Donor Id                                       0\n",
      "Legacy SF ID                                                7\n",
      "Legacy SF ID.1                                              7\n",
      "Payment Status                                              0\n",
      "dtype: int64\n",
      "(189833, 14)\n"
     ]
    }
   ],
   "source": [
    "# display sum of nulls & dataframe shape\n",
    "print(gt_df.isnull().sum())\n",
    "print(gt_df.shape)"
   ]
  },
  {
   "cell_type": "markdown",
   "id": "b41dd142",
   "metadata": {},
   "source": [
    "Since only one feature contains a significant number of NaNs, we can eliminate that feature for future use.\n",
    "\n",
    "We can also eliminate the remaining observations that contain NaNs since they only contain <0.01% of our total data."
   ]
  },
  {
   "cell_type": "code",
   "execution_count": 195,
   "id": "4fb58e21",
   "metadata": {},
   "outputs": [
    {
     "name": "stdout",
     "output_type": "stream",
     "text": [
      "Staff Member                                           0\n",
      "Amount                                                 0\n",
      "Payment Number                                         0\n",
      "GAU Allocation Name                                    0\n",
      "Payment Date                                           0\n",
      "Stage is Pipeline or Committed/Completed               0\n",
      "Opportunity: Primary Campaign Source: Campaign Name    0\n",
      "Opportunity: Legacy SF ID                              0\n",
      "Opportunity: Opportunity ID                            0\n",
      "Opportunity: Donor Id                                  0\n",
      "Legacy SF ID                                           0\n",
      "Legacy SF ID.1                                         0\n",
      "Payment Status                                         0\n",
      "dtype: int64\n"
     ]
    }
   ],
   "source": [
    "gt_df = gt_df.loc[:, gt_df.columns != 'Scheduled Date']\n",
    "gt_df = gt_df.dropna()\n",
    "print(gt_df.isnull().sum())"
   ]
  },
  {
   "cell_type": "markdown",
   "id": "6425eb52",
   "metadata": {},
   "source": [
    "We now see that all observations w/ NaNs have been eliminated and the feature containing >50% NaNs has been dropped, our data is mostly 'clean'\n",
    "\n",
    "Now, we must convert all non-numeric values (object-based categoricals, for example) so we can run our clustering algorithms."
   ]
  },
  {
   "cell_type": "code",
   "execution_count": 196,
   "id": "7b97fee6",
   "metadata": {},
   "outputs": [
    {
     "name": "stdout",
     "output_type": "stream",
     "text": [
      "<class 'pandas.core.frame.DataFrame'>\n",
      "Int64Index: 188895 entries, 561 to 189832\n",
      "Data columns (total 13 columns):\n",
      " #   Column                                               Non-Null Count   Dtype  \n",
      "---  ------                                               --------------   -----  \n",
      " 0   Staff Member                                         188895 non-null  object \n",
      " 1   Amount                                               188895 non-null  float64\n",
      " 2   Payment Number                                       188895 non-null  object \n",
      " 3   GAU Allocation Name                                  188895 non-null  object \n",
      " 4   Payment Date                                         188895 non-null  object \n",
      " 5   Stage is Pipeline or Committed/Completed             188895 non-null  object \n",
      " 6   Opportunity: Primary Campaign Source: Campaign Name  188895 non-null  object \n",
      " 7   Opportunity: Legacy SF ID                            188895 non-null  object \n",
      " 8   Opportunity: Opportunity ID                          188895 non-null  object \n",
      " 9   Opportunity: Donor Id                                188895 non-null  object \n",
      " 10  Legacy SF ID                                         188895 non-null  object \n",
      " 11  Legacy SF ID.1                                       188895 non-null  object \n",
      " 12  Payment Status                                       188895 non-null  object \n",
      "dtypes: float64(1), object(12)\n",
      "memory usage: 20.2+ MB\n",
      "None\n"
     ]
    }
   ],
   "source": [
    "# dispaly datatypes of existing DF\n",
    "print(gt_df.info())"
   ]
  },
  {
   "cell_type": "code",
   "execution_count": 197,
   "id": "2d8b0b95",
   "metadata": {},
   "outputs": [
    {
     "data": {
      "text/plain": [
       "561        7.0\n",
       "562        7.0\n",
       "563        7.0\n",
       "564        7.0\n",
       "565        7.0\n",
       "          ... \n",
       "189821    26.0\n",
       "189822    26.0\n",
       "189830    27.0\n",
       "189831    27.0\n",
       "189832    27.0\n",
       "Name: Staff Member, Length: 188895, dtype: float64"
      ]
     },
     "execution_count": 197,
     "metadata": {},
     "output_type": "execute_result"
    }
   ],
   "source": [
    "# clean & convert the staff member #s to integers\n",
    "gt_df['Staff Member'] = gt_df['Staff Member'].str[6:-1]\n",
    "gt_df['Staff Member'] = pd.to_numeric(gt_df['Staff Member'])\n",
    "\n",
    "# print new integer based staff member column\n",
    "gt_df['Staff Member']"
   ]
  },
  {
   "cell_type": "code",
   "execution_count": 198,
   "id": "48e6af9b",
   "metadata": {},
   "outputs": [
    {
     "data": {
      "text/plain": [
       "561        1169\n",
       "562        6709\n",
       "563        6709\n",
       "564        7109\n",
       "565        6709\n",
       "          ...  \n",
       "189821     4837\n",
       "189822     4837\n",
       "189830     1940\n",
       "189831    13448\n",
       "189832     8459\n",
       "Name: Payment Number, Length: 188895, dtype: int64"
      ]
     },
     "execution_count": 198,
     "metadata": {},
     "output_type": "execute_result"
    }
   ],
   "source": [
    "# clean & convert the Payment Number to integers\n",
    "gt_df['Payment Number'] = gt_df['Payment Number'].str[4:-1]\n",
    "gt_df['Payment Number'] = pd.to_numeric(gt_df['Payment Number'])\n",
    "\n",
    "# print new integer based Payment Number column\n",
    "gt_df['Payment Number']"
   ]
  },
  {
   "cell_type": "code",
   "execution_count": 199,
   "id": "64b30a3c",
   "metadata": {},
   "outputs": [
    {
     "data": {
      "text/plain": [
       "561       15674\n",
       "562        8201\n",
       "563        8201\n",
       "564       14341\n",
       "565        8202\n",
       "          ...  \n",
       "189821    16739\n",
       "189822    16780\n",
       "189830    19311\n",
       "189831    24103\n",
       "189832    24188\n",
       "Name: GAU Allocation Name, Length: 188895, dtype: int64"
      ]
     },
     "execution_count": 199,
     "metadata": {},
     "output_type": "execute_result"
    }
   ],
   "source": [
    "# clean & convert the GAU Allocation Name to integers\n",
    "gt_df['GAU Allocation Name'] = gt_df['GAU Allocation Name'].str[4:-1]\n",
    "gt_df['GAU Allocation Name'] = pd.to_numeric(gt_df['GAU Allocation Name'])\n",
    "\n",
    "# print new integer based GAU Allocation Name column\n",
    "gt_df['GAU Allocation Name']"
   ]
  },
  {
   "cell_type": "code",
   "execution_count": 200,
   "id": "602adb74",
   "metadata": {},
   "outputs": [
    {
     "data": {
      "text/plain": [
       "561      2004-06-08\n",
       "562      2015-04-13\n",
       "563      2015-04-13\n",
       "564      2015-07-16\n",
       "565      2015-04-13\n",
       "            ...    \n",
       "189821   2017-04-25\n",
       "189822   2016-10-27\n",
       "189830   2017-03-31\n",
       "189831   2013-08-28\n",
       "189832   2013-02-11\n",
       "Name: Payment Date, Length: 188895, dtype: datetime64[ns]"
      ]
     },
     "execution_count": 200,
     "metadata": {},
     "output_type": "execute_result"
    }
   ],
   "source": [
    "# convert Payment Date to datetime format\n",
    "gt_df['Payment Date'] =  pd.to_datetime(gt_df['Payment Date'], format = '%m/%d/%Y')\n",
    "\n",
    "# display new datetime column to cross check\n",
    "gt_df['Payment Date']"
   ]
  },
  {
   "cell_type": "code",
   "execution_count": 201,
   "id": "a8758d3f",
   "metadata": {},
   "outputs": [
    {
     "data": {
      "text/plain": [
       "{'Committed/Completed'}"
      ]
     },
     "execution_count": 201,
     "metadata": {},
     "output_type": "execute_result"
    }
   ],
   "source": [
    "# print new integer based Stage is Pipeline or Committed/Completed Name column\n",
    "set(gt_df['Stage is Pipeline or Committed/Completed'])"
   ]
  },
  {
   "cell_type": "markdown",
   "id": "a17fddd7",
   "metadata": {},
   "source": [
    "This tells us that every entry has 'Committed/Completed', with 0 variance. We can eliminate that feature simply because it will provide no value."
   ]
  },
  {
   "cell_type": "code",
   "execution_count": 202,
   "id": "83db73a7",
   "metadata": {
    "scrolled": true
   },
   "outputs": [
    {
     "name": "stdout",
     "output_type": "stream",
     "text": [
      "<class 'pandas.core.frame.DataFrame'>\n",
      "Int64Index: 188895 entries, 561 to 189832\n",
      "Data columns (total 12 columns):\n",
      " #   Column                                               Non-Null Count   Dtype         \n",
      "---  ------                                               --------------   -----         \n",
      " 0   Staff Member                                         188802 non-null  float64       \n",
      " 1   Amount                                               188895 non-null  float64       \n",
      " 2   Payment Number                                       188895 non-null  int64         \n",
      " 3   GAU Allocation Name                                  188895 non-null  int64         \n",
      " 4   Payment Date                                         188895 non-null  datetime64[ns]\n",
      " 5   Opportunity: Primary Campaign Source: Campaign Name  188895 non-null  object        \n",
      " 6   Opportunity: Legacy SF ID                            188895 non-null  object        \n",
      " 7   Opportunity: Opportunity ID                          188895 non-null  object        \n",
      " 8   Opportunity: Donor Id                                188895 non-null  object        \n",
      " 9   Legacy SF ID                                         188895 non-null  object        \n",
      " 10  Legacy SF ID.1                                       188895 non-null  object        \n",
      " 11  Payment Status                                       188895 non-null  object        \n",
      "dtypes: datetime64[ns](1), float64(2), int64(2), object(7)\n",
      "memory usage: 18.7+ MB\n",
      "None\n"
     ]
    }
   ],
   "source": [
    "gt_df = gt_df.loc[:, gt_df.columns != 'Stage is Pipeline or Committed/Completed']\n",
    "print(gt_df.info())"
   ]
  },
  {
   "cell_type": "code",
   "execution_count": 203,
   "id": "daf82d86",
   "metadata": {},
   "outputs": [
    {
     "name": "stdout",
     "output_type": "stream",
     "text": [
      "561                              04 NAT EVT\n",
      "562                                   UNSOL\n",
      "563                                   UNSOL\n",
      "564           DET-MI: FY16 Team Sponsorship\n",
      "565                                   UNSOL\n",
      "                        ...                \n",
      "189821    JAX-FL: FY17 Program Sponsorships\n",
      "189822    JAX-FL: FY17 Program Sponsorships\n",
      "189830                    MWK-WI: FY17 Gala\n",
      "189831              FY13 Team Sponsors HALF\n",
      "189832                                 WSWC\n",
      "Name: Campaign Name, Length: 188895, dtype: object\n"
     ]
    }
   ],
   "source": [
    "# also we are gonna rename this column because its too long and it annoys me\n",
    "gt_df = gt_df.rename(columns={\"Opportunity: Primary Campaign Source: Campaign Name\": \"Campaign Name\"})\n",
    "print(gt_df['Campaign Name'])"
   ]
  },
  {
   "cell_type": "code",
   "execution_count": 204,
   "id": "7af6cccc",
   "metadata": {},
   "outputs": [
    {
     "name": "stdout",
     "output_type": "stream",
     "text": [
      "{'LOS-CA: FY16 Associates Board Giving', '80000-NH12:Tickets', 'PHL: FY13 Gala', '07 SEA IGC', 'MWK-WI: FY16 Sustainable Personalized Ask', 'SNJ-CA: FY18 Red Jacket Society', 'NYC: FY13 Gala:Table', 'DEN-CO: FY14 Gala Red Jacket', '07 CLE OPEN', '80000-SEA09:VIPTKT', '07 CLE EVT', 'COL-OH: FY13 Gala:Freshmen Sponsorship', 'FY10 OTHER INCOME', '08 SEA EVT', '07 LSA ERND', '06 ESEA', '80000-BOS08:08 Donation', '06 NAT DIN:06 Gold', 'COL-SC: FY15 Gala Night of Ask', '04 BOS CMP:SPON', '06 SANJ G', '80000-DET09:8TKTS', 'CLE-OH: FY17 Multi Event Sponsorship', '06 LRA YH', '07 SAN DIN', '07 CHI IGC:ABD', '80040:Honor of Michael Bro', '04 COL CAMP', 'LOS-CA: FY16 December Appeal', '06 CSC SRVSP', '06 NAT APP:SPRINGPD', 'NYC: FY12AlumBrd:Donation', 'MWK-WI: FY14 Gala Sustainable Sponsorships', '05 COL SRVSP', '07 DET APP:FALLPD', '04 PHL GEN', 'SAC-CA: FY17 Team Sponsorships', 'NH: FY13 Bike Race:Donations', '06 DET YH', '05 SAN ERND', '05 NAT PROG:Clinton Innovation A', 'PHL-PA: FY18 CY Paints', '08 CHI APP:SPRINGD', 'SAC-CA: FY15 Team Sponsorships', '07 DET APPNI:FALL', '09 BLD:ALUM/FRND CMPN', 'DET-MI: FY17 Individual Giving', '05 SEA SPS', \"BOS-MA: FY15 Women's Bfast\", 'ORL-FL: FY14 Gala:Donations', 'BOS-MA: FY15 Spring Appeal Regular RLD (Recent Lapsed) Email 2', '05 SAN AFT', '06 COL APP:FALLD', 'NOL-LA: FY16 Gala New/Tickets', '80000-PHL08:08 Individual', '05 BOS EVT:SW5', 'CHI-IL: FY17 Individual Annual Fund', '80000-SEA08:08 Table', 'ORL-FL: FY16 Staff Giving', '05 CHI APP:SPRINGA', 'LOS-CA: FY13 Gala Sponsorship', '08 LAX IGC:Founding Citizens', '05 DET GEN', 'WDC: FY11 AlumBrd', '08 WDC APP:FALLAP', '06 BOS CMPSP', '80010-NYC10S:DNR', 'WDC-DC: FY16 Spring Break - Leckie', '07 RHI DIN:ISPON', 'PRV-RI: FY15 Annual Appeal', '80000-BOS 09 (2008)', 'WDC-DC: FY15 Gala New/Tickets', '07 SEA SRVSP', '07 DET TSP:Full Team', 'NYC-NY: FY17 Service Days', '06 NAT DIN:06 Individual', 'BOS-MA: FY16 Legal Bfast', 'PRV-RI: FY16 Gala Sustainable/Sponsorships', 'PHL: FY13 Gala:Presenting Sponser', '05 DET APP:SPRINGPD', 'PHL-PA: FY17 OTHER Grants and Foundations', '07 NAT ENDG', 'WSWC:Sponsor', '80010-NH09U', '06 LSA CMPSP', '04 SEA GEN', '01 RHI GEN', '06 SEA TSP:Co-Team', '04 RHI DIN (FY04)', '08 LRA ERND', 'DET-MI: FY16 Fountain Bistro', 'NYC: FY13 Asso Board:Auction', '05 COL APP:SPRINGOS', '80010-BOS09S:DNR', '08 SANJ OPEN', 'CHI-IL: FY16 Sustainable Personalized Ask', '80000-DET09:GOLDSPR', '06 NAT PROG:Clinton Innovation A', 'BOS-MA: FY17 Fall Appeal Email 2 Lapsed', \"DEN-CO: FY15 Women's Initiative Sponsorship/Donation\", 'WDC-DC: FY12 Gala', '80010-RHI11F', '09 COL YH:YHPRSPON', '80000-NYC12:FY12 Night of Ask', 'SEA-WA:FY15 Give Big Ask', 'TUL-OK: FY17 Graduation', '06 RHI SPPM', '06 JBG HTSP', 'NYC-NY: FY15 Sustainable Personalized Ask', 'MIA-FL: FY15 Team Sponsorships', 'SNJ-CA: FY17 Service Day', '06 SEA IGC', '04 BOS SAT:REGFEE', 'SANJ: FY12 PEVC', 'NYC-NY: FY14 Associate Board Fundraiser', 'NYC: FY12 AssocBrd:Auction purchase', 'MWK-WI: FY17 Program Support Solicitations', '05 SAN GOV', '07 JBG TSP:Co-Team', '08 SANJ IGC', 'WDC-DC: FY16 Spring Break - Stanton', '05 RHI EVT', 'WDC-DC: FY16 Spring Break - Simon', 'BOS-MA: FY17 Staff Giving', '07 PHL IGC', '04 DET GRAD', '80000-NH11:Online Auction', '06 WDC DIN:06 Gold', 'MAN-NH: FY16 Family Circle', 'HQI-MA: 25th Anniversary Alumni--Former Board Match', 'MAN-NH: FY15 MGP', 'BOS-MA: FY17 Fall Appeal Email 2 Current', 'NYC-NY: FY16 Program Support Solicitations', 'MWK-WI: FY17 Chicago Marathon-Dan Nash', '80010-CHI09S:DNR', 'FY09 SPECLPRGM', '07 BOS TSP:Full Team', '10 DET TSP', 'SSN/ROH/TRIB:TIX', 'JAX-FL: FY14 Opening Day Dinner', 'ORL-FL: FY14 Gala:Tickets', '05 NAT PROG', '05 DET APP:SPRINGOS', 'San12 - 5100', '08 NAT G:VFNS', 'MAN-NH: FY17 Corps Friendraiser', '07 SAN APP:FALL', '07 CHI EVT:ABWT', 'CLE-OH: FY17 Gala', '08 COL APP:FALL', '06 INT IGC', '04 RHI DIN:AUC', '08 SEA YH:YHOTHER', '06 BOS APP:SPRINGAP', 'NSD:MEM', 'PHL: FY14 Marathon', '80010-MIA09F:RENTED', 'CHI-IL: FY14 OpenDay', '05 CHI CAP', '80000-DET08:08 Bronze', '09 SEA AFT', '08 SANJ CMPSP', '09 BOS TSP:Co-Team', '05 INT CDFPRS', 'WDC-DC: FY13 Gala:Sponsor', '05 NYC MAJ', 'COL-SC: FY14 Lawyers', 'BOS-MA: FY17 Winter Appeal Non Donors Email 1', '05 COL PROG', 'MIA: FY13 DTD:Tickets', '08 DET G', 'SEA: FY13 Gala:Sponsor', 'DET-MI: FY16 Team Sponsorship', 'COL-OH: FY13 Gala', 'BOS-MA: FY17 Investment Bfast Monthly Giving', '09 CLE TSP:Full Team', '07 BOS DIN', '06 COL APP:GEN', 'JAX-FL: FY15 Staff Giving', '80010-BOS10S', 'DEN-CO: FY16 Major Gifts', '80000-NYC12:80000-NYC12', 'PHL-PA: FY15 Program Support Solicitations', '62000:CAMPCY', 'NYC-NY: FY17 Team Sponsorships', 'MAN-NH: FY17 Breakfast with City Year', 'BOS-MA: FY15 Fall Appeal', 'TSP FY09 UNKN', '80000-RHI08:08 Silver', 'HQI-MA: 25th Anniversary Alumni--Strong Circle Day of Giving', '08ATL MTCH (P)', 'WDC-DC: FY16 Alumni Soiree', '80010-PHL09F:RENTED', '80010-MIA10F:POTDNR', '05 PHL PROG:RADIO', '05 JBG GEN', 'WSWC:Radiothon', 'CHI-IL: FY15 Microsoft Youth Spark Challenge', 'NYC: FY11 AssocBrd', 'HQI-MA: FY15 Staples Partnership', '80010-PHL09F:POTDNR', '10 DET APP:FALL', '10 NAT EVT:LegalBreakfast', '01 RHI APP', '09 NYC G', 'SAC-CA: FY14 Spring', '80010-PHL11F:DNR', '07 NAT SRV:LASD', '06 DET AFT', '05 CLE CMPSP', '05 PHL YH', '14 Team Sponsorship-HALF', 'BOS-MA: FY14 Spring', '05 BOS SPPM', '62000: Camps', '05 INT PROG', 'EBR-LA: FY17 Alumni Giving', '05 COL ERND', '08 LRA CMPSP', 'NYC-NY: FY13 GOLF', 'DET-MI: FY13 Gala', '80010-SAN09U', '04 NH PROG', 'YH', 'MAN-NH:FY16 March Madness', '13 BLD:ALUM/FRND CMPN', '80000-DET08:08 Silver', 'International Progra', \"MIA-FL: FY16 Women's Leadership Luncheon\", '08 COL IGC:ALUM/FRND CMPN', '10 CSC IGC:ALUM/FRND CMPN', '08 CSC SPP', 'DEN-CO: FY17 Sustainable', 'SNJ-CA: FY15 Sustainable Personalized Ask', \"DEN-CO: FY15 Women's Breakfast\", 'LOS-CA: FY15 Alumni Fundraiser', '04 SAN GEN', 'CHI-IL: FY15 Opening Day', '07 PHL PROG', 'BOS-MA: FY15 EOY/Winter Appeal Recently Lapsed Donors Letter 2', '04 PHL SAT', 'SAN: FY13 Gala:Donation', '06 LRA HRF', '07 LRA DIN:07 AUCT', '06 SANJ IGC', '05 CLE SRV', '06 NH APP:FALLD', '06 BOS IGC:Alumni Friends & Fam', '80000-RHI10:Donation', '06 NYC IGC', '07 SEA YH:TL', '06 NH ERND', 'CLE-OH: FY15 Gala', '09 PHL IGC:ALUM/FRND CMPN', '08 NYC TSP:Full Team', 'LOS-CA.FY14 ThursdayNights', '04 NYC CAMP:SPON', '04 BOS SAT:Sponsorship', 'SAN-TX: FY16 Program Support Solicitations', 'PRV-RI: FY14 Staff', 'LOS-CA: FY13 Gala Donation', '07 DET APP:SPRINGCP', '04 SEA TSP', 'LOS-CA: FY16 LA Marathon', 'WDC-DC: FY17 Gala', '04 NYC CARE', '05 WDC DIN:05 Individual', '07 PHL SRVSP:SAT', 'GRAD', 'COL-OH: FY13 Gala:Night of Ask', '08 LRA APP', '80000-LAX09:80000-LAX09', 'PHL-PA: FY17 EVENTS Gala Sponsorships', 'NOL-LA: FY16 Team Sponsorships', '07 CSC PROG', '80000-SAN08:08 Donation', '08 SANJ SRV', '04 BOS AFTR', 'CHI-IL: FY13 EOY', 'COL-OH: FY14 Gala:Donations', 'NYC-NY: FY16 Ripples of Hope Gala', '80000-CLE10:80000-CLE10', 'Care Force Service', '80000-CHI08:08 Individual', '07 CLE APPNI', '06 COL DIN', '09 LSA G', '80010-COL11F', '08 LSA YH', 'LRA: FY13 Gala', '08 CLE APP:SPRINGD', '08 BOS OPEN', 'CHI-IL: FY15 Capacity Solicitations', '06 COL CAMP', 'PHL-PA: FY17 Marathon', '05 BOS APP:05-SAPD', '05 LRA CAP', '07 LSA AFT', 'MIA: FY12 Women:Donation', '80010-DET09S:DNR', '80000-NYC12:Sales Packet', 'ORL-FL: FY15 Community Giving Campaign', '08 NAT NSD:MIA', 'ORL-FL: FY14 Breakfast', '05 NAT YH', 'CHI: FY09 SCHLLIB', '08 LAX EVT', '06 SAN TSP:Full Team', 'MIA: FY13 DTD:26 Seconds', 'DET-MI: FY11 Gala Night of Ask', '03NB SSN:350 TIX', 'PHL-PA: FY17 CYPaints', '10 LRA IGC:ALUM/FRND CMPN', 'CHI: FY12 Women', '80010-CHI10S:DNR', 'LAX: FY13 Wine Taste:Auction', 'NH: FY13 Bike Race:Registration', 'DEN: FY12 WOMEN BRK:Ask', 'NYC-NY: FY15 Gala Night of Ask', 'WDC: FY13 Receptions:Cogen Reception', '80010-CHI09F:POTDNR', 'DEN: FY13 Gala:Sponsorship', 'JAX-FL:FY16 Graduation', '80010-COL09F:POTDNR', '05 BOS EVT:MFS/CYB Bake Sale', '06 SANJ APP', '05 SEA SPPM', 'Grant', 'CLE-OH: FY16 Capacity Solicitations', '80000-DET10:Platinum Sponsor', 'SAN-TX: FY17 The Big Give', '80010-DET08S:DNR', '05 SAN YH', '10 NAT APP', '07 SAN SRV', '80000-PHL09:JRNLSPRSHP', '08 BOS DIN (2007):Individual Tickets (', 'BOS-MA: FY14 Service Days', '09 NAT CYZ', '80010-BOS10F:POTDNR', '12 BOS IGC', 'MAN-NH:FY16 Scary Scary Night', '07 BOS APP:SPRINGD', '04 NAT PROG', '05 CLE DIN:05 Platinum', '80000-DET08:08 Donation', 'ORL-FL: FY14 Gala:Night of Ask', 'COHANNUAL', '80000-SANJ12:Sponsor', 'CLE-OH: FY15 Program Support Solicitations', '08ATL MTCH (NP)', 'BOS-MA: FY14 Red Wknd', 'MWK-WI: FY15 Sustainable Personalized Ask', 'HQI-MA: FY14 Beach Boys', 'BOS-MA: FY16 Fall Appeal Recent Lapsed Donors Email 1', '80000-SEA10:Auction', '80010-SEA09F:POTDNR', '10 PHL PROG', 'MIA: FY11 Women', 'ORL-FL: FY17 EOY Appeal', '05 SAN APP:SPRINGOS', 'HQ: FY13 MS Challeng', '05 SANJ IGC', '02 RHI PROG', '06 PHL YH', '06 PHL APPNI:FALLD', 'CLE-OH: FY15 Team Sponsorships', '06 BOS EVT', 'DET-MI: FY16 Sustainable Personalized Ask', '05 NH DIN:05 Auction - Live', '80000-CLE12:Donation', 'WDC-DC: FY17 Zipcar Promotion', 'DEN-CO: FY13 Women', '07 WDC IGC', '80010-PHL10F:POTDNR', \"NYC-NY: FY13 Women's Board\", 'BOS-MA: FY17 August Appeal to FY16 Parents', '08 BOS APPNI', '07 SEA OPEN', 'WDC-DC: FY16 Spring Break - Kimball', '06 PHL APP:FALLPD', 'DET-MI: FY14 Gala:Tickets', '80000-COL08:08 Bronze', '08 SEA APPNI', 'TSP FY09HALF', 'SEA-WA: FY16 Gala Night of Ask', 'SAN-TX: FY17 Sustainable', 'PRV-RI: FY13 Lavine Dinner', '05 BOS PROG:Clinton Innovation A', '06 SEA OPEN', '80000-WDC08:08 Alum', '08 CHI APPNI:FALLPD', '04 PHL APP', '80000-HQ08:08 Gold', 'NYC-NY: 13 EOY', '08 LAX PROG', '07 CHI GRAD', '10 MIA IGC', 'MWK-WI: FY17 Capacity Solicitations', '05 BOS APP:05-SACP', 'BOS-MA: FY16 Spring Appeal Lapsed Donors Letter', '06 LRA PROG:CLINTON', '80000-MKE12:Donation', '07 WDC APP:FALLPD', '06 COL YH:TABC', '07 PHL APP:FALLCP', 'NSD:LAS', 'TUL-OK: FY15 Global Youth Service Day', 'PHL-PA: FY14 Spring', '08 SAN APP', 'CHI-IL: FY17 Gala - Individual', '05 BOS EVT:MFS/CYB Basketball T', '06 LSA HRF', '80000-SEA10:Platinum Sponsor', '06 CSC DIN:Donations', '06 NAT APP:FALLPD', 'Assoc Brd Fund', '07 PHL G', 'COL-OH: FY14 Gala:Tickets', '08 LSA IGC', '06 SEA SFC', '09 LRA G', '06 PHL APP:FALLA', '06 BOS YH:HS', 'ChiFY11FallAnnAppeal', '08 BOS APP:SRPINGOS', 'PHL-PA: FY16 Spring Appeal', '05 COL DIN:05 Individual', 'BOS-MA: FY16 United Way Employee Giving', '80000-CHI10', '06 SEA EVT', \"BOS-MA: FY18 Women's Event - Breakfast\", 'DET-MI: FY15 Sustainable Personalized Ask', 'PHL-PA: FY16 Winter Appeal', 'PHL-PA: FY14 EOY', '08 SAN YH:YHSRVC', 'ORL: FY13 Board', 'COL-OH: FY15 Giving Tuesday', 'EBR-LA: FY16 10th Anniversary', 'BOS-MA: FY16 EOY/Winter Appeal', 'WDC-DC: FY17 Team Sponsorships', 'MIA-FL: FY15 Capacity Program Support Solicitations', 'BOS: FY12 Women', '04 COL AFT', '06 CLE PROG:CLINTON', 'CHI-IL: FY16 Back to School Soiree', '05 JBG IGC:CIT', '08 RHI CFC', '05 CLE APP:SPRINGD', '08 NYC EVT:08 ABOARD', 'FY16 Team Sponsorship', '05 CHI APP:SPRINGPD', 'CHI-IL: FY17 Graduation Ceremony', 'JAX-FL: FY15 Program Support Solicitations', '09 PHL G', '07 NH DIN', '08 DET APP:FALLPD', '05 WDC SRV', '08 SAN PROG', 'SAN-TX: FY16 Sustainable Personalized Ask', '10 NYC IGC', 'PHL-PA: FY17 ING Appeals - March', '06 BOS YH:PM', 'COL-OH: FY15 Big Give', 'COL-SC: FY17 Investment Community Breakfast', 'CHI-IL: FY17 Back 2 School Soiree', '08 RHI CMPSP', '08 BLD:ALUM/FRND CMPN', '08 SANJ TSP:Full Team', '80000-HQ08:08 Bronze', 'COL-OH: FY17 Direct Mail', '05 CLE DIN:05 Silver', 'LOS-CA: FY17 MLK Day', 'TSP FY10 UNKN', '08 NH APP', '08 LRA CAMP', 'SAN: FY12 GALA:Auction', '07 DET EVT:HR', 'EBR-LA: FY17 10th Anniversary', '07 DET APP:FALL', 'NHANNUAL', 'ORL-FL: FY16 Team Sponsorships', 'CHI-IL: FY17 Red Jacket Weekend', '07 RHI DIN:ETKT', '80010-CHI11S', '80000-SEA12:Raffle', '08 LSA APPNI', '05 BOS SRVSP:SAT', 'NH: FY13 Gala', '05 INT NSD', 'BOS-MA: FY15 EOY/Winter Appeal Recently Lapsed Donors Email 2', '80010-WDC11F', 'CHI-IL: FY14 EOY', 'PHL-PA:FY15 Sips', 'OTHEREVNTS', '05 RHI DIN:05 Camps', '80000-NYC12:RSVP Card', 'COL-OH: FY13 Gala:donation', '05 COL APP:SPRINGPD', 'PHL: FY13 Gala:Half Page Ad', '80010-Acq FY11Fall:B1', '05 BOS EVT:SW4', 'NYC: FY13 Gala:Tickets', 'LOS-CA: FY18 Associate Board Giving', 'MWK-WI: FY16 Team Sponsorships', '80000-CLE12:Tickets', '04 WDC YH', 'BOS-MA: FY17 Winter Appeal Lapsed Monthly Donors Email 1', 'SAN: FY13 GRAD', 'Wine Tasting', '09 SAN IGC:ALUM/FRND CMPN', '07 WDC SPP', '80010-CHI09S:RENTED', '06 DET APP:SPRINGD', 'SAN-TX: FY14 Gala', 'NOL-LA: FY16 Gala Sustainable Sponsorships', '06 CHI IGC', 'LTR-AR: FY14 Gala', '70000:FEE', '06 RHI DIN:06 Presenting', '08 BOS ERND', '05 COL GEN:FIBDIN', '80000-CHI 09 (2008)', '80000-CHI09', 'DEN-CO: FY17 Program Support Solicitations', 'BOS-MA: FY16 Bellinghausen Memorial', '04 RHI DIN:GOLD', 'COL-OH: FY16 Gala - Red Jacket Ball', '80010-NH09S:DNR', '06 WDC APP:FALLAP', 'BOS-MA: FY15 EOY/Winter Appeal Current Donors Email 2', '04 DET ENDW', 'NOL-LA: FY17 Program Support', '08 COL TSP:Full Team', '05 NYC SRVSP', 'PHL-PA: FY17 Team Sponsorships', 'NYC: FY13 Asso Board:Registration', 'HQI-MA: FY15 Strong Circle Day', 'LTR-AR: FY14 Gala:Donations', '06 SANJ SRVSP', '04 CHI AFT', '80000-NYC11:Silver Sponsor', '05 WDC SRVSP', '06 RHI CMPSP', 'MIA: FY12 Women:Day of Ask', '06 PHL APP:SPRINGA', '10 LAX G', '80010-NH10S', '05 SAN CAP', 'HQI-MA: FY16 Giving Tuesday', '06 WDC DIN:06 Individual', 'JAX-FL:FY16 Alumni', '05 DET CAP', 'CHI-IL: Major Gift Ask', '08 DET YH:YHFEE', '04 SAN DIN', '80000-RHI12:Sponsor', '06 SANJ DIN:06 Bronze', '06 WDC DIN:06 Presenting', '08 BOS APP', '10 WDC YH', '08 NYC ERND', '06 BOS SPS', 'CLE-OH: FY16 Gala Auction', '08 LSA EVT', 'NOL-LA: FY14 Crazy Idea Challenge', '80000-BOS08:08 Individual', 'MIA-FL.FY14 Hero of Service Reception', 'MARATHON', '06 WDC G', '04 BOS CARE', '08 LSA TSP:Co-Team', 'MAN-NH: FY15 Champion Letters', '80000-SEA10:Alumni Ticket', '08 CHI AFT', '06 COL APPNI', '04 INT APM', '07 NYC DIN:07 Donations', '08 NAT SFC', 'WDC-DC: FY16 Spring Break - Chavez', '08 DET AFT', '09 RHI YH', '08 SANJ ERND', '05 RHI SPPM', 'JAX-FL: FY16 Ladies Loving Life', 'CCL', '05 SAN EVT:GOLF', '04 PHL DIN', '08 BOS EVT', 'DEN-CO: FY16 Women?s Breakfast Morning of Ask', '80010-WDC10S:ALUM PRNTS', '06 CLE SPPM', '80010-Acq FY11Fall:A0', '07 NH CMPSP', '06 NAT CYZ', 'DET-MI FY12 Gala Tickets', '06 SEA G', '09GBL LDRSHPSPR', '08 NAT APP', 'SEA-WA: FY14 Gala: Golden Ticket Raffle', 'SEA-WA: FY17 Gala Sponsorships', '09 SANJ CH', '04 NH SRV', 'CHIGRCMP', '08 SANJ CH', '04 NAT AMER', '80000-COL12:Auction', '04 CSC SAT', '05 BOS EVT:SWGEN', 'DEN-CO: FY14 Gala Sponsors/Tickets', '09 NH APP', 'SNJ-CA: FY14 Gala', '05 COL DIN:05 Donations', 'WDC-DC: FY15: P2P.Holiday Fundraising Blitz', '06 RHI TSP:Full Team', 'DET-MI: FY16 Spring Appeal', 'ORL-FL: Major Gift Ask', '05 WDC DIN:05 Platinum', 'NOLA: FY12 Gala:Donation', '06 CSC DIN:PRESENTING', '80000-LRA12:Night of Ask', '80000-LRA08:08 Gold', 'NYC-NY: FY15 Investment Breakfast', 'MAN-NH: FY17 Program Support Solicitations', '07 CSC YH', '05 JBG TRSP', '06 RHI APP:FALLA', '80000-CLE12:Sponsor', '07 SANJ APP:FALL', '80000-BOS08:08 Bronze', '06 NH DIN', 'RHI: FY13 Gala:Donations', '04 INT CYSA', 'MAN-NH: FY17 Reach the Beach', '05 SANJ APP:SPRING', 'NHMOVIE', '04 SAN OPEN', '80010-NYC11BTS:ALUM PRNTS', '08 BOS IGC:ALUM/FRND FUND', 'CHI: ServiceRcks', '09 BOS TSP:Full Team', '05 WDC EVT', '07 LSA YH', 'MIA-FL: FY16 Red Jacket Society Giving', 'TUL-OK: FY17 Giving Tuesday', '10 COL CAMP', '05 JBG FTSP', '80010-CHI08S:CORPS PRNTS', '07 WDC APP:FALLA', 'CHI-IL: FY13 Deloitte Women', '09 CHI DIN (2008)', 'MIA: FY11 Career Day', '05 CSC YH', '07 CLE SPP', 'DET-MI: FY17 Team Sponsorships', 'DET-MI: FY16 Gala Night of Ask', '80010-RHI09F:POTDNR', '80000-RHI10:Table', 'SAN-TX: FY16 Capacity', '05 NAT IGC', '07 DET IGC:NSM', '08 NYC IGC:ALUM/FRND FUND', 'DEN-CO: FY16 Women?s Breakfast', '08 RHI YH', '07 COL PROG', '80000-NYC08:08 Gold', '05 SANJ DIN:05 Gold', '80000-NH12:Donation', '09 LAX IGC', '06 SEA ERND:Young Heroes Car Was', '08 WDC IGC:ALUM/FRND CMPN', '08 NH APP:FALL', 'NYC: FY11 Women', 'HQI-MA: 25th Anniversary Gala', '07 COL APP', 'CHI-IL: FY14 Microsoft Youth Spark Challenge', '80000-SEA10:80000-SEA10', '80000-RHI08:08 RAFL', '06 BOS YH:TSR', '80000-SANJ12:Tickets', 'LOS-CA: FY14 Gala Sustainable Sponsorships', 'NYC-NY: FY13 Alumni Fundraiser', 'NYC: FY13 Gala:Night of Ask', '07 SFCI SFC:MFT', 'LOS-CA: FY16 Associate Club Prospects', 'MIA: FY13 DTD:MIA: FY13 DTD', '80000-PHL08:80000-PHL08', '06 DET IGC', '05 NYC GEN', '05 NYC CMPSP', '80040:Staff Giving Campaig', '07 DET CH', '05 SEA DIN:05 Silver', '06 SEA DIN:06 Individual', \"NYC-NY: FY14 Women's Leadership Workshop\", '08 NH TSP:Co', 'LOS-CA: FY15 Team Sponsorships', '80040:Spring Fundraiser', '07 RHI CYZ', '05 SEA DIN:05 Gold', 'WDC-DC: FY14 Service Days', 'SEA: FY13 Gala:Night of Ask', 'PHL-PA: FY14 Fall', 'DET-MI: FY13 Gala:VIP Ticket', '80000-DET09:PLATSPR', '09 NYC IGC:ALUM/FRND CMPN', '05 PHL APP:SPRINGAP', '80010-SAN08S:DNR', '05 COL GEN:FIBOWL', '06 NYC CARE', 'PHL: FY13 Gala:deloitte Honor Bill', '05 NYC DIN:05 Donations', 'DET-MI: FY15 EOY Appeal', '80000-CLE08:08 Silver', 'DEN: FY12 CORPBRK', '06 BOS EVT:GOLFG', '06 NH DIN:06 Presenting', '06 CLE AFT', '07 RHI SPP', 'SAC-CA: FY15 Board Giving', 'CHI-IL: FY15 EOCY Appeal', '07 CHI AFT', 'BOS-MA: FY13 Spring', '06 SANJ TSP:Co-Team', '80000-CHI08:08 Half', '05 CSC APP:SPRINGA', '07 LSA IGC:ESMEMORIAL', '05 NYC DIN:05 Individual', 'CLE-OH: FY16 Annual Appeal', 'SAC-CA: FY16 Team Sponsorships', 'EBR-LA: FY15 Sustainable Personalized Ask', 'WDC: FY12 AlumBrd', 'BOS-MA: FY15 Service Days', 'LTR-AR: FY17 Sustainable', 'HQI-MA: FY16 Program Sponsorships', '80000-DET09:INDTKT', '06 PHL APP:FALLCP', '80010-SAN11F', '05 LRA DIN:05 CHAMP', '80000-SEA10:Donation', '06 NAT HRF', '80010-NYC10F:CORPS PRNTS', '10 NH EVT:Corps Fundraising', '04 BOS APP', '06 PHL APP:SPRINGD', 'DET-MI: FY16 Gala', 'LAX: FY13 Golf', 'DET-MI: FY17 Night of Ask', 'SAC-CA: FY15 Program Support Solicitations', '06 COL AFT', '06 INT IGC:NSD', '80000-SEA10:Half Table', '05 BOS APP:05-SAOS', '06 NAT CYZ:FC', '05 NH DIN:05 Individual', 'NOL-LA: FY17 Gala - School House Rock Sponsorships', '06 LRA G', '80000-CLE08:08 Bronze', '07 CLE ERND', '06 RHI DIN:IND', '80000-NH08:08 Silver', '06 DET APP:SPRINGPD', '06 CHI APP:SPRINGPD', 'JAX-FL: FY15 Sustainable Personalized Ask', 'Leadership Training and Development Event', '07 LSA APP', '80070:NYC 11 Annual Golf T', '04 DET DIN', 'PRV-RI: FY14 Gala:Tickets', 'SAC-CA: FY14 Gala Sustainable Sponsorships', 'CHI: FY09 Alum Tri', '80010-PHL09F:CORPS PRNTS', '07 COL PROG:READ', 'BOS-MA: FY15 Gala Night of Ask', 'SEA: FY13 Gala:Auction', '06 SEA AFT', '80010-HQ09U', '06 BOS PROG:CAR', 'SAN-TX: FY15 Sustainable Personalized Ask', '05 BOS CMPSP', '08 SANJ IGC:ALUM/FRND CMPN', 'LAX: FY13 Wine Taste:Donation', '07 NAT NSD', 'NYC-NY: FY15 Alumni and Friends', 'MIA-FL: FY17 Program Sponsorships', '07 NH IGC', 'PRV-RI: FY14 Alumni', 'LOS-CA: FY15 Sustainable Personalized Ask', '80000-MIA12:Tickets', '80000-LAX12:Sponsor', '05 COL DIN:05 Auction', 'SNJ-CA: FY16 Capacity Building', '08 PHL YH', '04 SANJ AFT', 'DET-MI: FY15 Fountain Bistro', 'WDC-DC: FY17 Giving Tuesday', 'FY08 OTHER INCOME', '04 PHL YH', 'Voices Membership Dues FY16', '04 Radio', '80000-SANJ08:08 Presenting', '06 LSA TSP', '04 SAN SPPM', '07 CSC APP', 'CLE-OH: FY17 Board Gifts', '06 CLE TSP:Full Team', '80010-WDC10F:DNR', '04 PHL TSP:CITYTSP', 'HQI-MA: 25th Anniversary Alumni--Site Boards', '04 CSC DIN', '06 LRA DIN:IND', '05 INT CAP', 'WDC-DC: FY14 Camps', '07 PHL CAMP', 'CHI-IL: FY14 SD', '80000-SEA08:08 Platinum', '10 CHI IGC:ALUM/FRND CMPN', '08 LSA G', '05 LRA PROG:Clinton Innovation A', '06 RHI DIN:06 RHI DIN', 'LSA: FY09 Huricane', '06 PHL APP', '05 CSC DIN:05 Auction', '07 BOS DIN:07 Silver', '80000-DET 10 (2009)', 'SEA-WA: FY17 Give BIG', '08 CSC CFC', '80010-CHI09S:POTDNR', '06 CHI APPNI:FALLD', '08 SAN OPEN', 'LOS-CA:FY15 Wine Tasting', 'PRV-RI: FY15 Gala', '04 SAN APP', '04 RHI DIN:SPON', 'MAN-NH: FY14 Gala', 'SEA-WA: FY15 Gala Night of Ask', '06 DET TSP:Full Team', '09 RHI PROG', '80010-WDC09U', '05 DET EVT', 'DET-MI FY12 Gala Donation', '04 WDC EVT', 'HQI-MA:DV:ECA$:FY15:141215: December - Joy Appeal', 'LOS-CA: FY17 Associates Board Event', '09 NH TSP:Co-Team', '04 CSC AFT', '06 DET DIN:06 Individual', \"SAN-TX: FY17 Women's Luncheon\", 'LAX: FY13 Wine Taste:Ticket', '80010-WDC09S:DNR', 'NYC-NY: FY16 New York Alumni', '10 DET IGC', 'GENSOL', '08 DET YH:YHOTHER', '06 RHI APPNI:SPRINGD', 'LTR-AR: FY17 Program Support Solicitations', 'COL-OH: FY15 Gala - Red Jacket Ball', '80000-RHI09:TABLE', '07 COL APPNI:FALL', '07 SANJ DIN', '07 NYC OPEN', '07 DET IGC', 'WDC-DC: FY14 Fall Appeal', '06 LRA APP:SPRINGPD', \"MIA-FL: FY16 Men's Event\", '80000-CHI 10 (2009)', '07 PHL TSP:Co-Team', '07 SEA AFT', '05 NH CMPSP', 'NYC-NY: FY15 Team Supporters', '07 JBG TSP:Full Team', '06 JBG TSP', '06 NYC OPEN', 'SAC-CA: FY17 Gala', '80000-SANJ09:80000-SANJ09', '07 NYC APP:FALL', 'WDC: FY13 Receptions:Folger Reception', '05 CLE SPPM', '05 CHI EVT:JOPH1', '07 NAT DIN:07 Gold', 'LOS-CA: FY16 Other Events', 'SSN/ROH/TRIB:2500TBL', '05 NH GEN', '06 COL PROG:READ', '06 CHI YH', '07 WDC APP:FALL', '80040:Honor/Memory', 'WDC: Alum Brd Fundr', '07 SEA EVT', '05 NYC DIN:05 Silver', 'BOS-MA: FY17 Antosyzyk Denham Wedding', 'MWK-WI: FY17 Tailgate', '08 LRA APP:SPRINGAP', 'UNSOL', '80010-WDC10F:ALUM PRNTS', '04 WDC CAMP:REG', 'PHL-PA: FY16 Gala', 'PHL-PA: FY17 ING Appeals - May', 'CLE-OH: FY17 Program Sponsorships', 'NOL-LA: FY17 Red Jacket Society', 'BOS-MA: FY16 Spring Appeal Current Donors Letter', 'JAX-FL: FY17 Capacity Solicitations', '04 RHI DIN:SHI', '80010-SANJ09F:DNR', '08 SAN WSWC', '09 NH WSWC', '09 LAX IGC:ALUM/FRND CMPN', '08 NAT G', '80010-LRA11F', '80010-NYC09F:DNR', '06 BOS APP:FALLOS', 'MWK-WI: FY15 Program Support Solicitations', 'WDC-DC: FY15 Bain Cares Auction', 'EBR-LA: FY17 Program Sponsorships', 'DET: FY13 Gala:Gen Reception Ticket', 'SAC-CA: FY17 Sustainable', '80000-MIA12', 'LSA: FY11 AssocBrd', '07 LRA SPPM', '07 BOS APP:FALL', 'CHI-IL: FY17 Fee for Service', '80000-CLE08:08 Individual', 'BOS-MA: FY17 Winter Appeal Recent Lapsed Donors Letter 1', 'PHL-PA: FY15 Women', '08 BOS AFT', 'NYC: FY12 PEVC', '06 NYC SRVSP', '05 RHI CMPSP', 'JAX-FL: FY15 Capacity Solicitations', '08 CHI EVT:WINE', 'CHI-IL: FY13 Gala:Donations', '10 CSC IGC', 'COL-SC: FY14 Gala:Donations', 'DET-MI: FY15 Team Sponsorships', '04 CSC TSP', 'WSWC:Donation', 'COL-OH: FY13 Gala:Auction', 'NSD:DAL', '08 CLE SPS', 'BOS-MA: FY17 Winter Appeal Parents Email 1', '80000-COL08:08 Silver', 'SANJ: FY13 Gala', '04 NYC GEN', 'SAN: FY12 GALA:SAN: FY12 GALA', 'MIA: FY12 Women:Auction', '08 NH EVT', '80010-RHI10F:DNR', '06 NH DIN:06 GOLD', '10 SANJ TSP', '80010-MIA11F', 'CHI-IL: FY16 Bridge Builders', 'MAN-NH:FY16 P2P Alumni Holiday', '10 SEA AFT', 'BOSFY11FallAnnAppeal', '07 NYC IGC', '07 NAT IGC', '08 LSA CARE', '06 JBG TSP:Full Team', '08 LSA EVT:08 RACEREG', 'COL-SC: FY16 Program Sponsorships', '08 CHI APPNI:FALL', '80000-PHL09:SINGLETKT', '07 NAT NLS', 'COL-SC: FY15.Lawyers Event', '80010-NYC09F:RENTED', 'LOS-CA: FY15 Service Days', '15 Team Sponsorship', '80000-PHL08:08 Presenting', '12 Team Sponsor-FULL', '07 CSC IGC', '05 COL YH', 'DET: FY13 EOY:Renewal', 'CHI-IL: FY14 Stand-Up for Education Benefit', '08 WDC ENDG', '80000-NH11:Donor', '10 BOS IGC:ALUM/FRND FUND', '06 RHI PROG', 'BOS-MA: FY15 EOY/Winter Appeal Lapsed Donors Email 1', 'PHL: FY13 Gala:individial ticket; s', '07 NYC YH', 'MWK-WI:FY16 Milwaukee Home', 'COL-SC: FY13 Giants', '11 NAT ENDOWMT', \"MIA-FL: FY17 Women's Leadership Luncheon\", '80000-WDC08:08 Gold', '07 NH SRV', 'NYC-NY: FY15 Capacity Solicitations', '08 COL SRVSP:SAT', '04 WDC CAMP:SPON', '08 CSC APP', '08 BLD', '08 NAT AFT', '80010-SANJ11F', 'BOS-MA: FY16 EOY/Winter Appeal Current Donors Letter 1', 'ORL-FL: FY15 Gala New/Tickets', 'WDC-DC: FY16 Spring Break - Staff', '80000-CSC 10 (2009)', 'SAT', 'COL-SC: FY17 Capacity Building', '05 BOS MAJ', 'NSD: MKE:Hotel MKE Event', '80010-HQ09S:POTDNR', '04 CSC APP', '80010-MIA09U', '80010-Acq FY11Fall', '80000-LSA10:80000-LSA10', '06 BOS EVT:GOLFI', 'NYC-NY: FY17 Capacity Solicitations', '08 RHI AFT', 'NYC: FY11 Breakfast:INV COMM BKFST', '80000-RHI10:Bronze Sponsor', '07 NAT IGC:AKLSP', '80000-CLE08:80000-CLE08', '80010-CLE09F:RENTED', '07 RHI G', '05 DET DIN:05 Silver', 'PHL-PA: FY15 Sustainable Personalized Ask', 'BOS-MA: FY17 Gala Night of Ask', 'PHL-PA: FY17 CE Wells Fargo Service Day', '09 NH SPS', '06 WDC GOV', '80010-CHI10S:POTDNR', 'CLE-OH: FY16 Alumni Event', '07 COL ERND', '80000-NH08:08 Individual', 'NYC-NY: FY15 25th Anniversary Cocktail Events', '06 CHI IGC:ABD', '08 COL WSWC', 'CLE-OH: FY17 Micro Campaign', '05 NH TSP', 'TUL-OK: FY16 Opening Day', '09 NAT NLS', '04 NAT VFA', '08 PHL WSWC', 'JAX-FL:FY16 Staff Giving', '06 NH DIN:06 Silent Auction', 'Atlantic Grant', '06 DET APP:FALLOS', '03NB SSN', 'DAL-TX: FY16 Cause Marketing', 'NYC-NY: FY14 Golf:Auction', 'HQI-MA: FY15 CauseMark.WinstonFlowers', 'BOS-MA: FY16 Boston Marathon - Chris Mann', '80010-DEN12F', 'CHI-IL: FY16 Graduation', 'MAN-NH: FY15 Camps.Sponsorships', '06 SEA ERND', '07 SANJ YH', '05 PHL SRV:SAT', 'HQI-MA: FY14 South Africa', '08 NAT APPNI', 'ORL-FL: FY15 Sustainable Personalized Ask', 'WDC-DC: FY14 MLK Day', '80010-NH09F:RENTED', 'PHL-PA: FY16 RJS Members', 'HQI-MA: FY15 Sustainable Personalized Ask', '05 BOS SRV', 'SEA-WA: FY17 Personalized Ask', 'PHL-PA: FY15 Associate Board Giving', 'WDC-DC: FY16 Zengo Cycle Charity Ride', 'BOS-MA: FY16 Boston Marathon', '06 PHL CH', 'FY09 OTHER INCOME', '07 BOS PROG', 'PHL-PA: FY17 Sips', '08 NH TSP:FULL', 'MIA: FY13 Women Lun:Day of Ask', '07 CHI DIN', '08 DET ENDW', '80000-RHI12:Tickets', 'New Site Development', '07 PHL OPEN', 'DEN-CO: FY15 Major Gifts', 'NYC-NY: FY14 Gala', 'SITEAMER', 'NYC-NY: FY15 Associate Board', '07 WDC YH', '04 NH TSP', 'TUL-OK: FY17 Site Board Ask', '06 SANJ DIN:06 Gold', 'SNJ-CA: FY16 Team Sponsorships', '02 RHI EVT', 'Special Programs:Basketball Tournamen', '05 WDC IGC', '06 CHI YH:Fundraising', '01 RHI CYZ', '08 BOS CYZ', '04 SAN CARE', 'NOL-LA: FY16 Program Support Solicitations', '05 CSC GEN:Challenge Grant', '06 SAN GOV', '07 RHI DIN (2006)', '70000:SPRSHP', '06 BOS DIN:ALUM', '80010-BOS10F:ALUM PRNTS', '08 PHL DIN (2007):Individual Tickets (', '80010-NYC10U', 'MIA-FL: FY15 Gala Sustainable/Sponsorships', 'NYC: FY13 Art', '03NB SSN:DONATE', '08 COL SRV:SAT', '80000-HQ08:08 Donation', '05 CSC MAJ', 'WDC-DC: FY14 Gala', '07 CSC ERND', '08 PHL APP:FALLAP', 'LOS-CA: Major Gift Ask', 'HQI-MA: Major Gift Ask', 'COL-OH: FY17áBoardáCampaign', '08 PHL G', '80000-SANJ08:08 Individual', '06 SANJ APP:FALLPD', '80010-SEA11F', '08 NH OPEN', '06 BOS DIN:06 Silver', 'CLE: FY13 Board', '07 WDC APP:FALLCP', 'BOARD', '08 PHL DIN (2007):Corporate Leadership', '06 DET DIN:06 Presenting', '06 SAN EVT', '07 NH CYZ', '05 SANJ DIN:05 Donations', 'SAN-TX: FY17 CYSA Alumni Campaign', 'BOS: FY10 PEVC', 'SAN-TX: FY15 Gala: Tickets', 'MIA-FL: FY15 Program Support Solicitations', 'MIA: FY13 After Part:Night of Ask', '06 SANJ SPS', '10 BOS SRV', 'BOS-MA: FY15 EOY/Winter Appeal Lapsed Donors Letter 2', 'BOS: FY11 Women', '05 NAT CYZ', '05 CSC DIN:05 Bronze', '06 NAT APP:FALLD', '08 LAX CMPSP', 'HQI-MA: FY15 Program Support Solicitations', 'DEN: FY13 Gala', 'DEN: FY13 Gala:Tickets', '04 BOS GEN', 'JAX-FL: FY17 Team Sponsorships', 'CHI-IL: FY13 Service Rocks Ticket', '06 NYC APPNI:FALLD', '07 PHL APP', 'PRV-RI: FY16 Program Support Solicitations', 'SNJ-CA: FY17 Women Investing in Education', '07 SANJ APP:SPRINGD', 'UW Designation', '80000-CHI12:Tickets', '08 SAN APP:SPRINGAP', 'CYZSITE', '04 RHI DIN:TWO', 'PRV-RI: FY15 Team Sponsorships', 'MIA-FL: FY16 Capacity Program Support Solicitations', '08 NH APP:FALLPD', '08 WDC OPEN', 'PHL-PA FY15 Gala Sustainable/Sponsorships', '10 WDC PROG', '08 LSA APP', '80010-RHI11F:ALUM PRNTS', '05 CHI CAMP', 'CHI-IL: FY16 Red Jacket Weekend', '04 WDC PROG', '08 SEA G', '04 NH CAMP', 'CLE-OH: FY14 Ward Trees', '07 PHL YH', '80000-NH12:80000-NH12', '08 RHI PROG', '06 NAT AFT', '06 SAN OPEN', 'LOS-CA: FY15 End of Year Campaign', '06 BOS APP:FALLA', '08 CLE APP', '06 NH G', '80040:BAILER WEDDING GIFTS', '05 NAT GEN', 'BOS-MA: FY15 EOY/Winter Appeal Lapsed Donors Email 3', '04 WDC TSP', 'ORL: FY13 Gala:donation', 'TUL-OK: FY17 Sustainable', '04 NAT APM', '08 COL IGC', 'MKE: FY13 Gala:Tickets', '09 LSA CARE', '07 RHI SPPM', '80010-CHI10F:POTDNR', 'EBR-LA: FY15 Gala', '04 BOS PROG:Clinton Innovation A', '05 BOS APP', 'SAC-CA: FY14 Gala', 'MAN-NH: FY14 Gala:Night of Ask', 'NYC-NY: FY15 Golf', 'JAX-FL: FY16 Winter Appeal', '06 SANJ DIN:06 Platinum', '07 NAT YH', '04 NYC PROG', '05 SANJ SPPM', '06 DET DIN:06 Donations', '04 NH EVT:Klane Dinner', '05 RADIO', '06 INT SUS:USS', '05 CHI DIN:05 Bronze', \"JAX-FL: FY17 Women's Lunch Tickets\", '80010-RHI10U', '05 RHI SRVSP', 'SNJ-CA: FY17 Sustainable', 'COL-OH: FY16 Program Support Solicitations', '80000-NH11:Tkts & Tbles', 'NYC-NY: FY17 Yoga Fundraiser', '80000-MKE12:Night of Ask', '08 DET APPNI', 'SERVICE:AFTERSCH', '80010-LSA11Fa', 'LTR-AR: FY17 Gala', '13 BLD', '07 NAT ERND', 'SAN-TX: FY15 EOY', 'PRV-RI: FY15 Annual Appeal - New Donors', 'BOS-MA: FY17 Unsolicited', '80000-NH09:80000-NH09', '06 SANJ APP:FALLD', '08 LSA TSP:Full Team', '07 DET DIN:AUC', '08 NAT CFC:Miami', '80000-DET10:Individual Tickets', 'CHI-IL: FY13 Gala:Tickets', '04 WDC CAMP', '05 WDC DIN:05 Bronze', '80010-LRA10U', 'ORL: FY13 Gala:sponsor', '08 PHL IGC:ALUM/FRND CMPN', '08 NYC CH', 'JAX-FL:FY16 Board Giving', '08 BOS IGC:ALUM/FRND CMPN', '10 PHL IGC:ALUM/FRND CMPN', 'MWK-WI: FY14 Community Breakfast', '05 BOS OPEN', '10 WDC CAMP', '06 NH CMPSP', 'WDC-DC:DV:ECA$:FY15:141202: Giving Tuesday', '80000-NYC08:08 Bronze', '06 LRA CARE', '08 PHL TSP:Co-Team', 'WDC: FY13 EOY', '07 COL CAMP', 'DET: FY12 AbrHous', 'HQ: FY10 Legal Brk', '06 NAT APP:FALLA', '06 SANJ DIN', 'MWK-WI: FY16 Program Support Solicitations', '09 NYC IGC', '50000-11FULL', '08 BOS CAMP', '08 CSC YH:YHFEE', 'SEA-WA: Major Gift Ask', 'LOS-CA: FY15 Marathon', '06 CSC CARE', '07 CHI EVT:YHFD', 'SNJ-CA: FY15 Program Support Solicitations', 'LTR-AR: FY14 Specialty Market Event', '80000-DET09:BRNZSPR', '80010-COL09S:DNR', 'COL-SC: FY13 Gala:Donation', '06 SAN ERND', '08 LRA IGC:ALUM/FRND CMPN', 'BOS-MA: FY17 Spring Appeal Lapsed Donor Letter', '05 DET ENDW', 'BOS-MA: FY14 Fam Spring', 'CHI-IL: FY13 ServIce Rocks', 'TUL-OK: FY17 Opening Day', '05 BOS GEN:ALUMFIB', \"HQI-MA: FY15 CauseMark.Jer's Chocolates\", 'Voices Membership Dues FY15', 'WDC-DC: FY16 Spring Break - Plummer', '08 COL SRVSP', 'ORL-FL: FY17 Gala- Red Jackets Rock', 'Team Sponsorship', '80000-SEA08:ALUM', '04 DET AFT', 'EBR-LA: FY15 Capacity Solicitations', '07 CHI ERND', '06 CHI CAMP', '08 LRA AFT', '06 CHI OPEN', '05 PHL EVT:AUCTION', '80010-DET11S:DNR', '07 RHI IGC:07 PTNRC', '06 SEA CAMP', '08 COL APP:SPRINGA', '08 LSA TSP:Founding Citizens', '80000-COL08:08 Individual', '06 RHI DIN:DON', '05 NAT CARE', '80000-DET09:QRTRPGAD', '80010-LSA09F:RENTED', '80000-LRA09:SILVER', '09 LSA SPS', 'NYC-NY: FY15 David Caplan Birthday Bash', '80010-HQ10U', 'CYZNAT', '80000-NH11:Live Auction', '08 SANJ CAMP', '09 SEA IGC:ALUM/FRND CMPN', '09 NH CMPSP', '06 NYC DIN:06 Individual', '10 NAT ERND', 'CLE-OH: FY15 Sustainable Personalized Ask', 'SEA-WA: FY15 Team Sponsorships', '08 PHL APPNI', 'PHL-PA: FY15 Summer Appeal', 'PRV-RI: FY17 Gala', 'DET-MI FY12 Gala Sponsor', '80000-LAX12:Tickets', 'NYC-NY: FY15 Legal Community Breakfast', '06 COL SPS', '08 NYC YH', 'LOS-CA: FY14 Associate Board Wine Tasting-Auction', '06 CSC GOV', '07 SEA APP:FALLPD', '80000-PHL08:08 Half', '05 CLE PROG', '07 WDC DIN:Presenting Sponsor', '10 SEA PROG', '80000-SANJ08:08 Bronze', '08 NAT PROG', 'CHI-IL: FY13 Gala:Contribution', '06 CLE APP:FALLPD', '04 BOS CMP', '07 CHI OPEN', '80010-SAN09F:RENTED', 'PHL: FY13 Gala:Deloitte Copeland', 'PHL-PA: FY17 ING Appeals - LYBUNT', 'BOS-MA: FY17 Program Support Solicitations', 'MAN-NH: FY17 MGP', 'BOS: FY12 Legal', '09 WDC IGC:ALUM/FRND CMPN', 'NOL-LA: FY14 Gala:Night of Ask', '05 CSC SRVSP', 'EBR-LA: FY15 Program Support Solicitations', 'PHL-PA: FY17 CE Teva Service Day', '80010-LAX09F:RENTED', '08 LRA TSP:Full Team', 'CHI: FY12 Annual Dinner', 'GENSOL:Payroll Deduction', '08 NYC CFC', '05 CLE APP:SPRINGOS', '07 WDC TSP:Full Team', 'TUL-OK: FY15 Sustainable Personalized Ask', 'COL-SC: FY17 Midlands Gives', '08 BOS SRV', 'FRIEND', '09 RHI IGC:ALUM/FRND CMPN', 'NSD:SAC', 'NH: FY11 Women', '06 RHI DIN:06 Bronze', '04 CLE GEN', 'SEA-WA: FY16 Team Sponsorships', 'Building Campaign:ALUM/FRND CMPN', '06 PHL CARE', 'NHGOLF:NHGOLF', '05 BOS EVT:SW2', '08 NAT CMPSP', '07 CLE SRVSP', \"JAX-FL:FY16 Women's Lunch\", 'DET: FY13 EOY', 'Corps Fundrais', 'LOS-CA: FY17 Micro Campaigns', '05 LRA SPPM', '80000-NYC12:Donation', '08 CHI TSP:Co-Team', '08 RHI APP:FALL', '05 WDC TSP', '80010-LRA09F:DNR', '06 WDC CARE', 'MAN-NH: FY14 Winter', '08 NYC DIN (2007):Gold', 'TUL-OK: FY16 Board Ask', '80000-CHI08', '04 RHI EVT:FND', '80040:Holiday Cards', '04 NYC PROG:Clinton Innovation A', '09 DET ERND', 'EBR-LA: FY17 Buzzed Spelling Bee', '80070:tickets', 'CHI-IL: FY16 Annual Fund Individual', 'DAL-TX: FY16 Sustainable', '09 SAN APPNI:SPRINGD', '07 NAT SFC', 'MAN-NH: FY14 Gala:Auction', 'CHI-IL: FY16 Gala', '07 BOS APP:SPRINGAP', '80000-PHL09:80000-PHL09', '07 DET YH', '80040:ALUM/FRND CMPN', '80000-DET09:VIPTKT', '08 SAN YH:YHOTHER', '80040:Associate Board Fund', 'BOS-MA: FY13 Gala:donation', 'CLE-OH: FY16 Gala', '08 CHI IGC:ABD', '80010-DET10S:RENTED', '80010-BOS11F', '05 SEA APP', 'NYC-NY: FY13 Bain Cares Auction', '06 NAT YH', 'BOS-MA: FY15 Spring Appeal Monthly RLD (Recent Lapsed) Email 1', '07 SEA SFC', 'PHL: FY13 Gala:tickets', 'NH: FY13 Bike Race:Jersey', 'TUL-OK: FY15 Service Days', '06 BOS DIN:06 Gold', 'BOS-MA:DV:EX:FY16:160623.JuneEOYEmail.Current', '07 CLE APP:SPRINGD', '80000-SANJ08:08 Gold', '80000-DET09:CORPSPSR', '06 CHI APP:FALLD', '08 LAX SRVSP', '07 CLE YH', 'Whole School, Whole Child', 'LOS-CA:FY15 Associates Board Giving', '10 BLD:ALUM/FRND CMPN', '09 LAX PROG', 'JAX-FL: FY17 Program Sponsorships', '05 RHI GEN', '80040', 'BOS-MA: FY17 Boston Marathon - Jesse Carmen', '80010-SAN09S:DNR', 'NYC-NY: FY15 Program Support Solicitations', 'NYC-NY: FY15 Gala Sustainable/Sponsorships', '06 NYC AFT', '07 COL CMPSP', '05 CSC APP', '06 CLE DIN:06 Platinum', '80000-RHI08:08 Presenting', '80010-CSC09U', '05 BOS GEN:STAFIB', 'HQ: FY11 Women', '06 DET APPNI:SPRINGD', '08 DET IGC:NSM', 'CHI-IL: FY15 Associate Board Trivia Friendraiser', '06 BOS APP:SPRINGPD', 'WDC-DC: FY15 Legal Breakfast', '06 NH AFT', 'BOS-MA: FY13 Womens Breakfast Donation', '80000-WDC11:80000-WDC11', '04 COL TSP', '10 CLE IGC:ALUM/FRND CMPN', '04 CSC GEN', '08 NH PROG', 'DEN-CO: FY14 Women Lead', 'CLE-OH: FY17 Gala - Night of Ask', 'CLE-OH: FY16 Gala Night of Ask', '05 NAT EVT:Summer Academy', 'MIA-FL: FY17 Red Jacket Society Giving', '80000-SAN09:80000-SAN09', '04 NAT GEN', '07 COL APP:FALL', '06 SANJ PROG', '06 CLE YH', '06 NAT DIN:06 Silver', '06 CLE DIN:06 Silver', '80010-WDC10U', '80000-SEA09:TABLESPSR', '07 PHL SFC', '07 SAN CMPSP', '80000-COL11', 'MIA: FY13 After Part:Tickets', '07 NYC EVT:100 HOP', 'NSD:JAX', '80000-DET10:Frnds & Fam Tickets', 'PRV-RI: FY15 Womens Event', '07 PHL APP:FALLAP', '06 JBG CYZ', '04 RHI CAMP:SPON', '08 WDC CFC', '07 NAT NSD:LA', 'BOS-MA: FY17 Winter Appeal Recent Lapsed Donors Email 2', 'PHL-PA: FY14 SD', '06 COL DIN:AD', '80010-WDC09F:POTDNR', '09 BOS IGC:ALUM/FRND CMPN', '05 PHL DIN (2004)', '80010-SANJ10F:POTDNR', \"JAX-FL: FY17 Women's Lunch NOA\", '07 RHI IGC', 'PHL-PA: FY16 Program Sponsorships', '80000-DET08:08 Individual', 'PHL: FY13 Gala:Sponsorship', '80010-DET10S:DNR', 'CLE-OH: FY16 Strong Circle', '04 COL DIN', 'BOS-MA: FY17 Fall Appeal', '06 BOS YH:GEN', '08 LRA EVT', 'CHI-IL: FY16 Foundations - Renewals', '08 PHL ERND', 'PHL-PA: FY17 CE Service Days', '05 RHI TSP', 'SEA-WA: FY17 Gala Night of Ask', '06 NH IGC', '07 WDC DIN', 'FY09 OTHER INCOME:ALUMBRDDUES', '80000-NH08:08 Donation', 'CHI-IL: FY14 WineStein:Sponsorship', '08 CHI ERND:08 ABD', 'WDC-DC: FY16 Team Sponsorships', '08 WDC EVT:ALUM/FRND FUND', 'WDC-DC: FY15 MLK Day', 'CLE-OH: FY14 EOY', '06 SEA TSP:Full Team', '80000-SAN08:08 Silver', '06 NAT APPNI:FALLOS', 'WDC: FY13 Alum Event', '06 PHL DIN:PHL did not have a d', 'NATBOSAA03', '07 LSA PROG', 'NYCFY11FallAnnAppeal', 'Building Campaign', '80000-NYC08:Platinum', '08 LSA CAMP', '07 NH SPS', '05 NYC APP:SPRING', 'GRANT', '06 LSA APP:FALLD', '08 SEA APP:FALLAP', 'ORL: FY13 Staff', '08 CSC IGC:ALUM/FRND CMPN', '04 NH GEN', '04 RHI DIN:SIL', 'TUL-OK: FY16 Sustainable Personal Ask', '05 CSC APP:SPRINGOS', '04 NH APP', 'CHI-IL: FY16 Winter Appeal', 'DET-MI: FY12 Women', '06 NH EVT:LEG', 'PHL-PA: FY14 Philly Mar', \"DET-MI: FY16 Women's Leadership Breakfast\", 'NH: FY13 Gala:donor', 'DET-MI: FY16 Program Sponsorships', '06 DET KTCG', '04 ROH Art', 'DEN: FY12 WOMEN BRK:Sponsor', 'LTR-AR: FY16 Program Support Solicitations', 'ORL-FL: FY15 Team Sponsorships', '80000-NYC12:Sponsor', '08 SEA APP:FALL', '08 CSC SRV', '14 Team Sponsorship-UNKN', 'LTR-AR: FY16 Sustainable Personalized Ask', 'WDC-DC: FY16 Spring Break - CE', 'Diplomas Now/I3', '50000-11HALF', '80010-Acq FY11Fall:B0', '80010-DET11F', '80010-CHI10U', 'EARNINC', 'CHI-IL: FY17 Connecting Sectors', \"BOS-MA: FY17 Women's Bfast\", '05 CLE SPS', '07 RHI SPS', 'DET; FY12 Bistro', 'BOS-MA: FY17 Ambassadors Spring Event', '06 WDC IGC', 'SAC-CA: FY13 Women', '80000-HQ11', '05 RHI PROG:Clinton Innovation A', 'COL-OH: FY17 Sustainable', 'MIA-FL: FY17 Gala', 'WSWC-11', 'CHI-IL: FY14 ServiceRocks', '80010-NH09F:POTDNR', 'SAT:CITHERO', 'EBR-LA: FY16 Associate Board Fundraiser', '08 SAN ERND', 'SAC-CA: FY16 Gala Auction', '06 PHL APP:SPRINGPD', 'BOS-MA: FY15 Spring Appeal Regular RLD (Recently Lapsed Donor) Letter 2', '07 WDC EVT:Aumni', '06 SEA DIN:06 Gold', '80010-CLE09F:POTDNR', '80000-COL08:08 Alum', '06 SANJ EVT', \"TUL-OK: FY16 Women's Event\", '08 CLE CFC', 'CLE-OH: FY15 Annual appeal', 'NYC: FY13 Gala', 'MAN-NH: FY17 Alumni Holiday', 'BOS-MA: FY16 Giving Tuesday', '80010-WDC11S', '05 RHI APP', 'STFSOL', '80000-SAN08:08 AUCT', '05 NH DIN:05 Auction - Silent', '06 NYC DIN:06 Donations', '06 CSC CYZ', 'MAN-NH: FY15 Capacity Solicitations', 'DEN-CO: FY16 Service Days', '01 RHI CAMP', '06 SANJ APP:SPRINGAP', '05 CHI DIN:05 Silver', 'WDC-DC: FY12 Gala Donation', '80000-SANJ11:80000-SANJ11', 'EBR-LA: FY13 Fall', '04 CLE YH', '08 DET APP:FALL', 'MIA-FL: FY16 Team Sponsorships', 'PRV-RI: FY14 Gala:Night of Ask', 'MIA: FY13 After Part', '08 DET CFC', 'DET-MI: FY14 MEX', '05 NH EVT', 'CHI-IL: FY17 Foundations - New', '80000-LRA12:Donation', 'HQI-MA.25th Anniversary Staff Giving', '06 PHL PROG:RADIO', '08 CSC TSP:Full Team', '07 RHI GRAD', '70000:GLBL Yth SD', '13 BOS IGC', 'BOS-MA: FY17 Ambassador Trivia Night', '08 NH G', '80050', '07 CLE CMPSP', '07 WDC APP:FALLAP', 'HQI-MA: FY17 Sustainable', 'BOS-MA:DV:EX:FY16:160518 Spring Appeal Email 3 Current Donor Letter & Email', 'ANNUAL:Parent Appeal', '06 BOS ERND', 'PHL-PA: FY15 Marathon1', '10 NAT CYZ', '06 NYC CMPSP', '04 LRA OPEN', 'SSN/ROH/TRIB:5000TBL', '04 NYC IGC:FOUND', '04 CHI SPPM', 'SEA-WA: FY14 Gala: Night of Ask', '07 DET DIN', '50000-11UNKN', '06 SAN G', 'CHI-IL: FY17 Associate Dues and Donations', '80000-RHI09:TICKET', 'CHI-IL: FY17 Red Jacket Society', '08 CHI SPPM', 'DET-MI: FY13 Gala:Idealism Sponsor', 'HQI-MA: TSP', '06 COL DIN:BRO', 'BOS-MA: FY17 Red Jacket Society Reception and Dedication Ceremony', '06 BOS APPNI:FALLD', 'NYC: FY13 Gala:Donation', 'NYC: FY12 AssocBrd', 'BOS-MA: FY15 EOY/Winter Appeal Current Donors Letter 1', 'LOS-CA:FY15 MLK Day', 'SERVICE:PUBHEALTH', '07 NH YH', 'SAN-TX: FY14 Gala Sustainable Sponsorships', '10 LSA EVT', '80000-CLE12:Night of Ask', '80010-NYC09F:POTDNR', '06 NYC DIN', 'BOS-MA: FY17 Winter Appeal', '08 DET APP:07SPRING', 'WDC-DC: FY16 DC United Event', '80000-PHL12:80000-PHL12', 'NYC-NY: FY13 Associte Board', '06 CLE TSP', '06 LSA IGC:ESMEMORIAL', 'CHI:FY13WineStein:Auction', '07 SAN APPNI', '04 SANJ TSP', '05 NAT DIN:05 Presenting', 'SEA-WA: FY16 Sustainable Program Support', '80000-DET08:08 Alum', 'SEA-WA: FY17 Gala Regret Gifts', 'WDC-DC: FY15 Gala Sustainable/Sponsorships', '07 SAN TSP:Full Team', '07 SANJ SPP', 'HQI-MA: FY17 Capacity Solicitations', '80040:ErnstandYng', 'SAN: FY10 Gala', '07 COL TSP:Full Team', 'CHI-IL: FY18 Winter Appeal', '06 COL APP:FALLP', '80040:Alumni Challenge', '06 SAN DIN:06 Individual', '80000-LRA10:80000-LRA10', '06 NYC G', 'SAN-TX: FY17 Program Support Solicitations', '05 COL APP:FALLMI', 'BOS-MA: FY15 Boston Marathon - Andrea Martin', '07 CLE SPS', '07 COL G', '08 SAN SRV', '05 SEA DIN (2004)', 'SEA: FY13 Gala:Donation', '08 BOS TSP:Co-Team', '05 LRA TSP', '08 DET APPNI:FALL', '80000-CHI11', '09 MIA TSP:Full Team', '07 NH G', '80010-CHI09F:RENTED', 'WDC-DC: FY16 Spring Break - Amidon', '07 PHL SRV', 'NYC: FY12 AssocBrd:Donation', '04 CHI APP', '07 CHI IGC', '05 CSC CAMP', 'BOS-MA: FY17 June EOY Appeal Current Donor Email', '05 NAT DIN (2004)', '08 PHL APP:FALLA', '07 DET KTCG', '09 LAX TSP:Co-Team', '04 PHL SRV', '80010-BOS11F:ALUM PRNTS', 'MIA-FL: FY15 Board Gifts', 'DEN-CO: FY16 Capacity Solicitations', '80010-HQ11U', '07 BOS DIN:07 Bronze', \"BOS-MA: FY16 Women's Bfast\", '07 SANJ TSP:Full Team', '10 MIA TSP', 'LEADERCIRC', '10 CHI EVT:Alumni Fundraiser', 'BOS-MA: FY16 Fall Appeal Current Donors Email 1', 'CLE-OH: FY18 Corporate Event - Breakfast', '08 CHI APP', 'CHI-IL: FY17 Xavier Joy Memorial', '80000-BOS10:80000-BOS10', '80000-DET09:4TKTS', 'LOS-CA: FY17 Spring Break Gala', 'READSUCC', '10 LSA TSP:Full Team', 'EBR-LA: FY16 Program Support Solicitations', 'SEA-WA:FY16 October Microsoft Giving', \"NYC-NY: FY16 Women's Leadership Breakfast\", '07 BOS APPNI:FALL', 'BOS-MA: FY16 Boston Marathon - Amir Memon', 'SEA-WA: FY15 Sustainable Program Support', 'DEN: FY12 WOMEN BRK', '07 PHL APP:FALL', '64000-PRGM', 'LTR-AR: FY16 Gala', '05 BOS GEN:SAT DON', '04 BOS SAT:DON', '05 INT IGC:NSD', '06 SAN HRF', 'PHL: FY13 Gala:Silver Page Ad', '05 BOS DIN:05 Bronze', 'JAX-FL: FY17 Gala Individual', 'CLE-OH: FY16 Program Support Solicitations', '06 SANJ DIN:06 Silver', '80000-PHL09:CORPTABLE', '04 RHI OPEN', '80010-PHL09S:DNR', '05 WDC YH', 'MAN-NH: FY15 Fisher Cats', 'DEN-CO: FY16 Program Support Solicitations', 'NH: FY13 Gala:Silent Auction', 'LAX: FY13 Wine Taste', '06 JBG G', 'BOS-MA: FY15 Spring Appeal Monthly RLD (Recent Lapsed) Letter', '09 SEA G', '08 NYC GOV', '07 SANJ APP:FALLPD', 'BOS-MA: FY15 Gala', 'MAN-NH: FY15 Gala', '06 JBG PROG', '80010-BOS09U', '07 PHL APPNI', '80000-HQ08:08 Individual', 'JAX-FL: FY16 Gala', 'Graduation', '04 PHL AMER', '06 SEA SPPM', 'COL-OH: FY14 Gala:Auction', 'NYC-NY: FY17 Alumni & Friends Fundraiser', '05 SANJ GEN', '08 NAT ENDW', '50000-12HALF', '80000-LAX12:Donation', '04 Radio:RAD', '06 COL APP:FALLAP', 'BOS-MA: FY15 HBS Auction', 'PRV-RI: FY15 Board Giving', '09 RHI IGC', 'CHI-IL: FY16 Capacity Solicitations', '08 RHI APP', '07 SANJ TSP:Co-Team', '08 COL APPNI:SPRINGD', '05 NAT APP', '06 PHL GRAD', 'After School Programs', 'DET: FY13 EOY:Lapsed', '10 MIA WSWC', '06 RADIO', 'SEA-WA: FY16 Program Sponsorships', 'NYC: FY13 Alumni:Tickets', 'CHI-IL: FY17 Winter Appeal', '06 BOS IGC', 'PHL-PA: FY17 ING Appeals - September', '80000-PHL11:80000-PHL11', '08 WDC SPP', '08 SAN IGC:ALUM/FRND CMPN', 'MAN-NH: FY17 Gala', '07 WDC OPEN', 'HQ: International', '04 RHI GEN', 'OTHEREVNTS:NH HOLIDAY AUCTION', 'DET: FY13 Womens Brk:Donation', '80000-CSC12:Night of Ask', '09 COL IGC:ALUM/FRND CMPN', '06 COL DIN:PLAT', 'BOS-MA: FY14 Otterbox', '08 NYC APP:FALL', 'SAC-CA: FY15 Gala', '06 CSC DIN:SIL', 'RADIO_03', '08 SANJ APP:FALL', 'BOS-MA: FY17 BarkerBlain Wedding', '10ATL MTCH (P)', '80010-PHL10F:CORPS PRNTS', '07 WDC CAMP', '04 BOS GRAD', '06 CSC YH', '04 PHL CAMP', 'COL-OH: FY14 Board Campaign', '07 SEA ERND', 'PHL-PA: FY17 EVENTS WLL Sponsorships', \"DEN-CO: FY17 Women's Leadership Breakfast\", '06 BOS APP:FALLD', '25th Anniversary Gala Invite Mail', 'PHL-PA: FY14 Gala', 'MAN-NH: FY17 Red Jacket Society', 'MAN-NH: FY15: P2P.March Madness - CYNH Alumni Sponsored Team', 'CHI-IL: FY15 Alumni Fundraising', 'MIA-FL: FY16 Sustainable Personalized Ask', '08 CSC IGC', '08 NYC IGC:ALUM/FRND CMPN', 'WDC-DC: FY16 Service Days', '80000-NYC10:80000-NYC10', '08 NH IGC:ALUM/FRND CMPN', '08 LSA OPEN', '06 CSC OPEN', '05 BOS DIN (2004)', 'HQ: FY10 PEVC', '05 DET DIN:05 Gold', 'DET-MI FY12 Gala Night of Ask', '80010-PHL09F:DNR', '07 SEA APP:FALL', 'Voices Grants FY16', 'JAX-FL: FY16 Sustainable Personalized Ask', 'CHI-IL: FY14 OpenDay:Donation', '06 BOS DIN:06 Bronze', '04 CLE PROG:Clinton Innovation A', '80000-DET09:DONATION', '07 BOS AFT', '06 CLE IGC', 'MAN-NH: FY16 Program Support Solicitation', '08 SAN CMPSP', '07 COL APP:FALLOS', '05 JBG SRVSP', '06 RHI APP', '80000-HQ10', '08 LRA OPEN', 'NYC-NY: FY15 Associate Board Fundraiser', '06 JBG IGC', 'MIA-FL: FY15 Broward Giving', '07 INT G', 'JAX-FL: FY16 Individual', 'TUL-OK: FY15 EOY New Anthropy', 'ORL-FL: FY15 Breakfast', 'BOS-MA: FY15 EOY/Winter Appeal Recently Lapsed Donors Letter 1', 'Endowment-Perm.', 'LOS-CA: FY14 Service Days', '08 CHI APP:SPRINGPD', '04 BOS TSP', '07 DET APP:SPRINGA', '06 LRA APP:FALLD', 'LTR-AR: FY18 Gala', 'HQ: FY13 MS Challeng:CHI', '06 COL APP', '61000-PRGM', 'MIA: FY13 After Part:Auction', \"TUL-OK: FY15 Women's Event\", 'CLE-OH: FY18 Multi-Event Sponsorship', 'BOS-MA: FY16 JuneEOY Appeal Calls Lapsed', 'MWK-WI: FY14 Gala', '80000-SEA10:Individual Ticket', '80010-DET09F:DNR', 'ORL-FL: FY16 Graduation', '06 PHL TSP:Co-Team', '08 NYC SPPM', 'BOS-MA: FY17 Service Days', 'LRA: FY12 PEVC', 'MWK-WI: FY14 Gala:Tickets', 'SAN-TX: FY15 Gala Night of Ask', 'SAN: FY12 GALA:Donation', '06 NH SPS', '07 NAT DIN:07 Bronze', '08 LRA SPPM', '06 NYC IGC:Alumni Friends & Fam', '08 LSA EVT:08 RACESPON', 'MAN-NH: FY17 Program Sponsorships', '06 WDC DIN:06 Bronze', 'FY10 SPECLPRGM', '05 INT GEN', '80000-CSC08:08 Silver', '07 BOS TSP:Co-Team', 'BOS-MA: FY15 Team Sponsorships', '06 LRA AFT', 'MAN-NH: FY15 Sustainable Personalized Ask', '06 SANJ DIN:DON', '09 LAX CH', 'DEN-CO: FY16 Give a Gift from the Heart Event', '80010-MIA12F', '08 CHI APP:SPRINGA', 'BOS-MA: FY16 Boston Marathon - Alex Cooke', '05 COL APP:SPRINGAP', 'BOS-MA: FY16 EOY/Winter Appeal Current Donors Postcard', '80010-SANJ10U', '07 LRA SRVSP', 'MIA-FL: FY15 Gala', 'EBR-LA: FY17 Team Sponsorships', '04 CLE SPPM', '07 CSC APP:FALLPD', '03NB SSN:50K SP', '10ATL MTCH (NP)', '80000-BOS08:08 Half', '08 DET TSP:Co-Team', '09 DET AFT', '08 SAN TSP:Full Team', 'DEN-CO: FY16 Sustainable Personalized Ask', '80010-DET10F:DNR', '05 JBG START', 'BOS-MA: FY16 SA Alumni Reception', '06 BOS APP:FALLCP', '04 DET GEN', '09 LSA TSP:Co-Team', '05 SANJ GOV', '10 LSA TSP:Co-Team', '06 WDC YH', '05 SAN TSP', 'WDC-DC: FY16 Spring Break - Ketcham', 'SANJ: FY11 SHELBY HP', 'SNJ-CA: FY16 Associate Board Event', '05 CSC APP:SPRINGD', '06 COL CMPSP', '08 LRA IGC', 'DET-MI: FY13 Gala:Individual Table', '07 NH SPP', '07 SEA APP:SPRINGD', '06 COL OPEN', '08 RHI TSP:Full Team', '80010-SEA10S:DNR', '06 LRA APP:FALLPD', '80000-COL08:08 Donation', 'BOS-MA: FY16 EOY/Winter Appeal Recent Lapsed Donors Letter 1', '06 DET DIN:06 Bronze', '04 NH EVT', 'BOS-MA:DV:EX:FY16:151124: Winter Appeal Current Email 1', 'WDC: FY12 Alum', '05 DET CAMP', 'LOS-CA:FY16 Fall Appeal', '06 PHL APP:FALLD', '06 COL APPNI:SPRINGPD', '05 PHL TSP', 'BOS-MA: FY17 Investment Bfast', '05 CSC SRV', '04 RHI SRV:MLK', '08 CLE SFC', 'COL-SC: FY17 Sustainable', '06 CSC CMPSP', '06 NH EVT', 'PRV-RI: FY17 Sustainable', '80000-NAT09', '05 SEA SRV', '80000-SAN08:08 Presenting', 'BOS-MA: FY17 Winter Appeal Lapsed Monthly Donors Email 3', '05 CHI SPS', 'NH: FY13 Gala:Ticket', '07 NYC EVT:Donation in lieu of', '07 BOS SRVSP:100HOP', \"SAN-TX: FY15 Power of Women's Luncheon\", '80000-BOS12:Sponsor', '04 RHI TSP', '80000-MKE12', 'MIA-FL: FY16 Service Days', 'HQI-MA: FY16 Cause Marketing', 'NYC: FY11 AssocBrd:Superbowl Raffle', 'ORL-FL: FY13 Gala', 'CLE-OH: FY16 Annual Appeal - Direct Mail', '08 PHL IGC', '80000-RHI10:80000-RHI10', 'City Day', 'SEA-WA: FY17 Gala', '05 BOS ERND:RMK BOOK', 'MIA-FL: FY15 Alumni Events', '05 COL OPEN', '06 NAT NLS', '80000-SEA12:Wine wall', '08 PHL SPPM', '80000-HQ08:08 Half', \"SNJ-CA: FY14 Women's Event\", '80010-HQ09F:ALUM PRNTS', '80000-PHL12:Advertisement Space', 'EBR-LA: FY16 Holiday Appeal', 'COL: FY12 AlumBrd', '80000-LAX12:80000-LAX12', '06 SEA YH', 'NYC-NY: FY17 Associate Board Cycling Fundraiser', '06 NYC DIN:06 Gold', 'COL-SC: FY14 Gala', 'CHI-IL: FY17 Sustainable', '05 LRA EVT', '08 CLE ENDW', '06 NAT PROG:Fireman Fellowship', 'JAX-FL: FY15 Team Sponsorships', '10 SANJ IGC:ALUM/FRND CMPN', 'SANJ: FY12 AlumBrd', 'WDC-DC: FY17 RJS Solicitations', '06 SANJ CMPSP', '07 CSC TSP:Co-Team', 'NYC: FY13 Gala:Sponsorship', '06 RHI YH', '04 BOS DIN', 'COL-SC: FY16 Capacity Solicitations', '08 CHI ERND', '06 PHL PROG:CLINTON', 'BOS-MA: FY17 Legal Bfast Monthly Giving', '08 CHI APP:SPRINGCP', '05 NYC AFT', '06 COL APP:SPRINGPD', 'LOS-CA: FY17 Alumni Giving', 'LTR-AR: FY16 Program Sponsorships', '05 WDC ERND', '05 CLE CAP', '09 NYC DIN (2008):Bronze Sponsorship', '06 LSA TSP:Co-Team', '07 COL APP:SPRINGA', 'MIA-FL: FY16 Program Solicitations', 'HQI-MA: FY17 South Africa', \"NYC-NY: FY15 Women's Breakfast\", '07 WDC APP', '06 CHI PROG', '04 BOS OPEN', 'LAXFY11FallAnnAppeal', '05 LRA DIN:05 CIT', '80010-NH10U', 'CLNTDEM', '80010-LRA09F:RENTED', '80000-SEA10:Bronze Sponsorship', '05 NYC APM', 'NYC-NY: FY16 Associate Board Fundraiser', '10 COL IGC:ALUM/FRND CMPN', '06 DET APP:FALLPD', '09 PHL IGC:ALUM/FRND FUND', '04 NYC SRV', '80010-MIA10F:DNR', 'City Day:SPON', 'LOS-CA: FY13 Gala Spring Break', 'LTR-AR: FY14 Gala Sustainable Sponsorships', '08 RHI EVT', '06 CSC DIN', 'CHI-IL: FY16 The 1701 Party', 'CLE-OH: FY17 Spring Appeal Mailing', '10 DET PROG', '06 PHL APP:SPRINGAP', '80010-RHI10F:ALUM PRNTS', '07 LSA SRV', 'SSN/ROH/TRIB:Donation', 'DEN-CO: FY14 Women Breakfast', '05 SAN DIN:05 Donation', '04 SEA OPEN', 'SEA-WA: FY17 Sustainable', 'NYC-NY: FY14 Alumni', 'NYC: FY12 Women:Night of Ask', 'ORL-FL: FY15 Program Support Solicitations', '06 LSA EVT', 'NYC: FY13 GOLF:Donation', '08 NYC APP:FALLOSUW', '07 NYC CAMP', '07 CLE DIN', '08 INT GLS', '80000-CLE 10 (2009)', 'SEA-WA: FY15 Sustainable Personalized Ask', 'CHI-IL: FY14 Gala:Night of Ask', '08 CHI G', '04 SEA SRV', '07 LRA ERND', 'NYC: FY13 GOLF:Raffle', '80010-COL09S:RENTED', '08 CSC YH:Young Heroes Fundrai', '06 PHL APPNI:FALLPD', '05 DET GEN:FIB email', '07 WDC PROG', '08 COL AFT', '04 CLE TSP', '09ATL MTCH (NP)', 'CHI-IL: FY13 Gala:Night of Ask', 'BOS-MA: FY16 EOY/Winter Appeal Lapsed Donors Letter 1', 'MWK-WI: FY15 Service Days', 'CHI-IL: FY14 Gala', '80070:CSGOLFCL', '06 NAT EVT:Summer Academy', 'Special Programs:GradBook', '04 PHL EVT', '80000-RHI09:GOLDSPR', 'ANNUAL:FALL', '02 NAT ANPM', 'BOS-MA: FY17 Spring Appeal Parent Letter', 'BOS-MA: FY15 Spring Appeal Regular LD (Lapsed) Email 3', '04 SAN AMER', '10 LSA TSP', '04 RHI APP:FALL', '08 LAX ERND', 'BOS-MA: FY17 Team Sponsorships', '08 PHL AFT', 'PHL: FY13 Gala:donations', '05 BOS EVT:SW3', '80010-RHI11F:DNR', '07 PHL PROG:RADIO', 'LEADERCIRC:OCT4', '06 PHL OPEN', '08 PHL APPNI:FALL', '80000-PHL09:EXECVCHR', 'NYC: FY11 AssocBrd:Ipad Raffle', '04 COL YH', '05 BOS DIN:05 Silver', '06 COL TSP:Full Team', '08 CSC TSP:Co-Team', 'SAC-CA: FY15 Gala Night of Ask', 'PHL-PA: FY16 CYBee', '08 CHI SRVSP', '80000-LRA12:Sponsor', '10 LAX IGC:ALUM/FRND CMPN', '06 BOS EVT:GOLFB', '07 BOS APP', '08 NYC EVT', 'DET-MI: FY14 Spring', 'MIA-FL: FY17 Alumni', '80040:Founding Citizens', '07 SAN GRAD', '07 NH TSP:Co-Team', '05 PHL APP', 'PHL-PA: FY16 October Appeal', '07 COL SRV', '05 NYC CAP', 'BTR: FY12 Gala:Donation', 'CLE: FY13 Gala:Night of Ask', '05 CLE OPEN', '06 NH APPNI:FALLD', '04 CLE AMER', 'SEA-WA: FY15 Gala New/Tickets', '06 COL YH', '07 NAT PROG', 'NYC: FY10 AlumBrd', '08 CSC APP:FALL', '04 NYC YH', 'CLE-OH: FY15 Giving Tuesday', 'NH: FY13 Gala:Sponsorship', 'MIA: FY14 Apr. Service Day', 'PRV-RI: FY16 Board Giving', '80000-DET08:NONTABLESPON', \"TUL-OK: FY17 Women's Event\", 'NYC-NY: FY15 Team Sponsorships', '80000-SEA11:80000-SEA11', '06 DET ENDW', '80010-SEA08F:DNR', 'NYC: FY12 Women', '05 BOS DIN:05 Donations', '06 SEA DIN:06 Bronze', 'ORL-FL: FY15 Staff Giving Campaign', '80010-COL09F:RENTED', 'SAN: FY12 GALA:Sponsor', '07 SAN EVT', '05 COL GEN', 'BOS-MA:DV:EX:FY16:160506 Spring Appeal Email 1 Current Donor Letter and Email', '80040:Ambassador Program', '07 RHI DIN:RTKT', 'PRV-RI: FY16 Womens Event', '08 NAT CYZ', '08 SANJ CFC', 'BOS-MA: FY16 Boston Marathon - David Itzkovits', 'WDC-DC: FY16 Sustainable Personalized Ask', 'NATYOUTH', '07 JBG G', 'CHI-IL: FY17 Team Sponsorships', '06 BOS PROG:CLINTON', '06 LRA TSP:Co-Team', 'CHI-IL: FY14 Gala:Tickets', 'MAN-NH: FY15 Program Support Solicitations', 'MAN-NH: FY16 Sustainable Donor', '08 SAN SPPM', 'LTR-AR: FY16 Team Sponsorships', '06 COL APPNI:FALLD', 'HQI-MA: 25th Anniversary', '80010-PHL12F', '10 NAT APP:FALL', '06 JBG GRAD', '10 SEA YH', '08 SEA TSP:Full Team', '06 COL DIN:SIL', 'BOS-MA: FY16 EOY/Winter Appeal Recent Lapsed Donors Postcard', '07 CHI APP:SRPINGOS', 'MAN-NH: FY16 Corps Friendraiser', '10 NAT IGC:ALUMFAM', '80000-SAN08:80000-SAN08', '05 RHI DIN:05 Individual', 'OTHEREVNTS:EOY Site BBQ', 'LRA: FY13 Gala:donation', 'BOS-MA: FY17 United Way Employee Giving', '05 DET IGC', '10 PHL IGC:ALUM/FRND FUND', 'NYC-NY: FY14 Alumni and Friends', '08 DET PROG', 'City Day:REG+', 'CHI-IL: FY13 Wine Stein Raffle Tickets', 'Personal Ask', 'SNJ-CA: FY17 Strong Circle Day', '80000-COL10:80000-COL10', 'CHI-IL: FY17 Program Sponsorships', '06 CHI G', 'TSP FY08 FULL', 'MAN-NH: FY16 Team Supporters', '80000-BOS09:80000-BOS09', '07 NYC SRVSP', 'PHL: FY13 Gala:Executive Vice Chair', '10 NAT DIN', 'MIA-FL: FY17 Gala Night of Ask', 'NYC-NY: FY14 Gala:Tickets', 'BOS-MA: FY17 Legal Bfast', '07 NYC DIN:07 Silver', 'LOS-CA: FY14 Gala Spring Break', 'NYC: FY11 AssocBrd:Auction', '80000-LRA09:BRONZE', 'WDC-DC: FY17 Gala Night of Ask', '08 NAT IGC:ALUMFAM', '80000-NH09:AUCTION', 'CF: FY15 Service Days', '05 CHI PROG', '80000-RHI09:SILVERSPR', 'WDC: FY13 Receptions:Jit Singh Reception', '08 RHI IGC:08 FRNDC', '02 RHI IGC', 'ORL-FL: FY14 Board', '07 CSC APPNI:SPRINGPD', '04 COL CARE', '08 CHI PROG', '07 CHI APP:SPRINGCP', '08 SAN SRVSP', '07 NH AFT', '06 NH YH', '07 INT IGC', '80010-PHL11F', '08 LAX TSP:Co-Team', '06 NAT DIN:DON', '05 NH APP', '07 DET PROG', 'WDC-DC: FY16 Winter Appeal', '06 SAN DIN:06 Gold', '08 CLE AFT', '06 CHI DIN:Presenting', '08 CHI APP:FALL', '80010-PHL11U', '80010-SANJ09F:POTDNR', '08 NYC SRVSP:100 HoP', 'JAX-FL: FY16 Program Sponsorships', 'WDC-DC FY12 Gala Sponsor', 'WDC-DC: FY17 DC United', '08 LRA PROG', '05 PHL APP:SPRINGA', '07 SANJ CYZ', '09 NYC SPPM', 'CHI-IL: FY16 Team Sponsorships', '09 LRA IGC:ALUM/FRND CMPN', '80000-RHI11:80000-RHI11', 'BOS-MA: FY17 Spring Appeal Parent Email 2', '08 COL PROG', '05 INT IGC', '05 SEA APP:SPRING', '07 NYC TSP:Full Team', '06 NAT APS', 'BOS: FY11 PEVC', '07 NH CAMP', '06 NAT GRAD', '80000-CSC12:Donation', '08 BOS SFC', '05 COL CAMP', 'SEA-WA: FY15 Individual Giving Tuesday', '80000-WDC08:08 Plantinum', 'WDC-DC: FY16 Spring Break - Patterson', '06 NH APP:SPRINGD', '04 RHI DIN', '07 LSA TSP:Full Team', '06 SAN ACOD', 'WDC-DC: FY16 Spring Break - Cardozo', 'HQ: FY11 PEVC', '80000-PHL10:80000-PHL10', 'SAN-TX: FY14 Gala:Night of Ask', '08 SEA CFC', '08 WDC APP:FALL', '06 LRA DIN:Gold', '07 SANJ OPEN', '06 PHL SFC', 'HQI-MA: FY16 Strong Circle Day', 'BOS-MA: FY15 Investment Bfast', '06 CHI APPNI:FALLPD', 'Special Programs:Reading Success', '06 BOS TSP:Full Team', '04 RHI SRV', 'PHL-PA: FY17 EVENTS Gala Night of Ask', '06 CHI TSP:Full Team', 'WDC-DC: FY15: P2P.Camp City Year', 'NYC: FY11 Breakfast', '05 BOS APP:05-FADO-BOS', 'MAN-NH: FY15 Team Supporters', 'SCHDIST', 'LTR-AR: FY15 Gala Sustainable/Sponsorships', '80010-BOS09S:RENTED', 'KSC-MO: FY17 Sustainable', '07 NAT IGC:LAAFFF', '06 LRA PROG', '09 LSA IGC', \"SAN-TX: FY16 Women's Luncheon\", '07 COL APPNI', '05 NAT PROG:Fireman Fellowship', '05 NH GOV', 'LOS-CA: FY16 Service Day', 'MAN-NH: FY17 Alumni Giving', '08 PHL IGC:ALUM/FRND FUND', 'BOS-MA: FY17 June EOY Appeal Lapsed Donor Email', 'BOS-MA: FY13 Investment Breakfast Day of Ask', '08 COL CMPSP', '80010-DET10F:ALUM PRNTS', '08 COL APPNI:SPRINGPD', '05 CLE GEN:CLINTON', '80010-NYC10F:ALUM PRNTS', 'DAL-TX: FY16 Program Sponsorships', '80000-DET09:FRDSFAMTKT', '80010-RHI09F:RENTED', '08 SAN GOV', 'NOLA: FY12 Gala:Night of Ask', '05 WDC GEN', '08 LRA YH:YHOTHER', '80010-HQ09F:RENTED', 'PHL-PA: FY16 EITC Contributions', '06 CHI DIN:Silver', 'WDC-DC: FY15 Service Days', '08 WDC YH', 'MAN-NH: FY14 Gala:Tickets', '04 CHI PROG', 'SAN-TX: FY16 Team Sponsorships', 'MIA-FL: FY15 Service Days', '08 CLE TSP:Full Team', '08 CLE OPEN', 'PHL-PA: FY14 Gala:Night of Ask', '80000-CSC08:08 Individual', '64000-SPR', '08 RHI OPEN', '06 DET ERND', '06 BOS CARE', 'COL-SC: FY13 Gala:Tickets', '80000-LRA09:GOLDSPSR', 'DET-MI: FY14 EOY', 'SNJ-CA: FY16 Service Day', '06 COL TSP:Co-Team', '80010-LSA09U', '10 WDC IGC:ALUM/FRND CMPN', '07 RHI DIN:CMPREV', '80000-SEA12:Night of Ask', '05 WDC GOV', '05 NYC YH', 'LAX: FY13 Golf:Auction', 'WDC-DC: FY13 Gala:Double Match', 'BOS-MA: FY16 Ambassadors Spring Event', '14 Team Sponsorship-FULL', '08 CHI DIN (2007):Individual Tickets (', '80000-LRA11:80000-LRA11', 'BOS-MA: FY17 Winter Appeal Parents Letter 1', 'NOL-LA: FY15 Sustainable Personalized Ask', '07 SANJ CH', 'PHL-PA: FY17 Sustainable', 'CLE: FY13 Gala:Donation', '09 SANJ GOV', 'ORL-FL: FY16 Service Project', '07 BOS EVT', 'CLE-OH: FY17 Winter Appeal Mailing', '08 CHI OPEN', '06 BOS SRVSP:SAT', 'DET: FY13 EOY:Major Lybunt', '04 RHI IGC:BMS', '05 NYC EVT', '07 LRA YH', 'ORL: FY13 Gala:Tickets', 'MAN-NH: Major Gift Ask', 'NYC-NY: FY14 Gala Sustainable Sponsorships', '08 DET OPEN', '08 SAN EVT:08 CT', 'BOS-MA: FY14 EOY', '04 RHI YH', '06 COL APPNI:FALLPD', '09 CLE IGC:ALUM/FRND CMPN', 'NYC-NY: FY15 Associate Board Cycling Fundraiser', 'CLE-OH: FY16 Board Gifts', 'LOS-CA:FY15 MariaMaganaMemorial', 'LTR-AR: FY17 Specialty Event', 'MAN-NH: FY17 Camps', 'BOS-MA: FY16 EOY/Winter Appeal Parents Postcard', '06 SEA SRVSP', '10 LSA G', 'MAN-NH: FY14 Spring Young Professional FriendRaiser', '07 NH SRVSP', 'JAX-FL: FY17 Board Giving', '06 BOS IGC:SAT', '80000-LRA12:Tickets', '08 SEA SRV', '80010-LSA09F:DNR', '05 SEA YH', '80010-BOS09S:POTDNR', 'SAN: FY12 GALA:Tickets', '08 NH ERND', 'BOS-MA: FY15 Spring Appeal Regular RLD (Recent Lapsed) Letter', 'MWK-WI: FY17 Program Sponsorships', '04 RHI AMER', '07 NYC TSP', 'BOS-MA: FY16 Team Sponsorships', '08 NYC PROG', '08 NH SPPM', 'NYC-NY: FY16 Team Sponsorships', '80010-BOS09F:DNR', 'BOS-MA: FY16 Investment Bfast', '05 INT SUS', 'BOS-MA: FY17 Alumni Board Spring Social', 'COL-OH: FY16 BoardáCampaign', 'NSD:MIA', '08 CLE APPNI', 'LOS-CA: FY13 Gala Ticket', 'NYC: FY12 AssocBrd:Raffle', '08 NYC APPNI', 'LOS-CA: FY15 Gala Sustainable/Sponsorships', 'JAX-FL: FY17 Gala Sponsorships', '05 CHI APP:SPRINGCP', '08 LSA GOV', '80010-CSC10F:DNR', 'BOS: FY11 Legal Brk', '06 CSC SPS', '07 RHI PROG', 'DET-MI: FY13 FB', '08 WDC APP', '07 PHL CH', '06 INT NSD:US', '07 COL SPS', 'MIA-FL: FY14 Gala:Night of Ask', '80010-CSC09F:DNR', 'WDC: FY13 Associate Board Fundraiser', 'PHL-PA: FY16 Associate Board', '07 PHL SRVSP', 'SANJ: FY11 PEVC', '06 COL DIN:AUCT', '05 BOS EVT:SWGIK', 'WDC-DC: FY16 Gala Night of Ask', '06 CSC AFT', 'PHL-PA: FY14 Alumni', '10 BLD', '06 NYC YH', '07 CHI EVT:MS', '05 DET APP', '06 INT G', 'DET-MI FY12 Gala', '05 SANJ PROG:Clinton Innovation A', '08 PHL TSP:Full Team', 'SEA-WA: FY17 Annual Appeal - Winter', 'WDC-DC: FY14 Gala Sustainable Sponsorships', 'TSP FY10 HALF', '05 NH APP:SPRINGOS', '05 SEA IGC', '07 CLE AFT', 'COL-SC: FY16 Gala', '06 BOS G', '07 CSC APPNI', '05 SANJ PROG', 'PHL-PA: FY14 Cocktail Parties', 'PHL-PA: FY15 Marathon2', 'SEA-WA: FY17 Alumni Giving Challenge', '08 SAN IGC', '06 CSC APP:SPRINGD', '06 SANJ DIN:06 Friends', 'NYC-NY: FY14 Golf', '08 LSA SPS', '05 NH DIN:05 General Donations', 'NSD:ORL', 'MWK-WI: FY15 Capacity Solicitations', '07 NAT DIN:07 Individual', 'CLE-OH: FY14 United Way Designations', '07 SAN AFT', 'BOS-MA: FY16 Program Support Solicitations', 'NYC-NY: FY15 Bain Cares Donations', '02 RHI YH', '06 DET DIN (2005):Silver', '06 SAN SPPM', 'NYC-NY: FY17 Alumni & Friends Trivia Night', '08 CLE APP:FALL', '07 NAT DIN (2006):Donation', '80000-COL12:Sponsor', '08 COL CAMP', '80000-LAX11:80000-LAX11', 'WDC-DC: FY16 MLK Day - ZipCar', '04 CSC GEN:BOARD', 'BOS-MA: FY15 EOY/Winter Appeal Recently Lapsed Donors Email 3', 'ORL-FL: FY16 Sustainable', '07 NH EVT', '04 NAT NLS', '80040:Alumni & Friends Cam', '04 RHI DIN:ONE', '06 CHI APPNI:SPRINGD', '04 CLE GEN:BOARD', '06 SANJ CYZ', 'SAN-TX: FY14 Gala:Tickets', 'LTR-AR: FY15 Gala', 'CHI-IL: FY15 Sustainable Personalized Ask', 'MIA: FY13 Women Lun', '80000-SEA08:08 Auction', '10 NH IGC', 'SAN: FY13 Gala:Night of Ask', '04 SANJ GEN:BOARD', '05 PHL SRVSP', '07 NH TSP:Full Team', '05 CSC TSP', 'PHL-PA: FY15 Service Days', '06 PHL APP:FALLAP', '05 COL DIN:05 Silver', '07 CHI SRV:100HOP', 'SAC-CA: FY16 Big Day of Giving', '80010-CLE09U', '62000:corps fundraising', '80010-DET11U', '09 NAT CARE', '80000-BOS11:80000-BOS11', '05 NH DIN:05 Platinum', '06 NYC PROG', 'NYC-NY: FY17 Winter Appeal', 'SERVICE:CYCLE', '80010-WDC11F:ALUM PRNTS', '08 RHI SPS', '07 COL YH', 'DEN-CO: FY16 United Way Annual Campaign', 'PRV-RI: FY14 Gala Sustainable Sponsorships', 'NYC: FY13 InvestBrk:Donations', '07 NYC TSP:Co-Team', 'AMER', 'DET-MI: FY13 Womens Breakfast', '08 SANJ WSWC', '08 BOS APP:FALL', '08 WDC SRV', '07 WDC AFT', '80010-Acq FY11Fall:A1', 'DET-MI: FY15 Service Days', 'EBR-LA: FY13 Gala Donation', '07 SAN IGC', '80000-DET10:80000-DET10', 'SAC-CA: FY15 Gala New/Tickets', '06 DET APP', '06 BOS SPPM', '05 WDC CMPSP', '06 NAT APP:FALLOS', 'EBR-LA: FY13 Gala Night of Ask', '80010-NYC11AnnFall', 'DET-MI: FY13 Gala:Presenting Sponsor', '04 CSC CARE', 'WDC-DC: FY18 Cheers for City Year', 'PHL-PA: FY17 ING Associate Board', '08 LSA CH', '08 SEA SFC', '80000-RHI12:Night of Ask', '09 LSA TSP:Full Team', '80000-MIA11', '07 CSC DIN', '08 COL APP', '07 NYC G', '05 CHI DIN:05 Gold', 'COL-SC: FY13 EOY', '08 SEA APP:FALLPD', 'CLE-OH: FY14 Board', 'LOS-CA: FY15 Gala - Spring Break', 'BOS-MA: FY15 EOY/Winter Appeal Current Donors Email 1', '08 CSC CMPSP', 'SAC-CA: FY16 Gala', 'PE & VCBrkfst', '07 RHI DIN', '08 DET IGC:ALUM/FRND FUND', '08 SAN G', 'ORL-FL: FY16 Cocktails for a Cause', '05 BOS YH', '06 NYC DIN:06 Silver', 'NYC: FY13 InvestBrk:NYC: FY13 InvestBrk', '05 NAT GEN:STAFIB', \"NYC-NY: FY15 Women's Series\", '05 BOS EVT', '06 SEA APPNI:FALLPD', 'DET-MI: FY15 Gala Night of Ask', 'TUL-OK: FY16 Giving Tuesday', '80000-LRA12:80000-LRA12', '08 RHI YH:YHPRSPON', '07 SAN SPP', '06 SEA DIN:06 Presenting', 'SEA-WA: FY14 Gala:Auction', 'SAN-TX: FY17 Gala', '07 BOS APP:SRPINGOS', '07 NYC DIN (2006)', 'DET-MI: FY13 Spring', 'LAX: FY12 Women', 'CHI: FY10 Holiday', '10 BOS IGC', '05 BOS SRV:SAT', 'SNJ-CA: FY15 Gala', 'LOS-CA: FY16 Board Giving', '80010-CHI09U', 'BOS-MA: FY16 JuneEOY Appeal Calls Current', '08 NYC IGC', '06 CSC DIN:GOLD', '04 RHI DIN:DON', '07 LRA GRAD', 'CHI-IL: 13 Summer Email', '09 LRA SPS', 'Annual Dinner-LSA11', '08 BOS APPNI:FALL', '08 WDC AFT', 'PHL: FY13 Gala:Night of ask', 'HQI-MA: FY17 Cause Marketing', 'BOS-MA: FY15 Spring Appeal Regular CD (Current Donor) Letter 2', 'TUL-OK: FY17 Program Sponsorships', 'SNJ-CA: FY16 Women Investing in Education', 'SAN-TX: FY15 Opening Day', '06 SEA DIN:06 Auction', '80010-LRA10F:DNR', '80010-CHI09S:ALUM PRNTS', '80010-SEA10F:DNR', '06 SAN APP:FALLD', 'COL-OH: FY17 Gala - Red Jacket Ball', 'SEA-WA: FY16 Give Big', '80000-LRA08:08 Silver', '05 RHI DIN:05 Silver', '80000-COL12:Night of Ask', 'LOS-CA:FY16 Annual Appeal', '07 JBG IGC', '06 WDC PROG', '07 COL OPEN', 'COL-OH: FY15 Sustainable Personalized Ask', 'SEA-WA: FY16 Giving Tuesday', 'EBR-LA: FY16 Capacity Solicitations', '05 INT CDFRCS', '09 NH APP:FALL', '08 PHL APP:FALLCP', '04 NAT DIN', '80000-CSC11:80000-CSC11', '80000-DET08:.125 Page', 'NH: FY13 Bike Race:NH: FY13 Bike Race', 'NYC-NY: FY18 Gala Night of Ask', '10 NH TSP:Co-Team', 'DET-MI: FY13 Gala:Friend Ticket', 'COL-SC: FY14 Board', '10 BOS CAMP', 'SNJ-CA: FY16 Sustainable Personalized Ask', '05 SEA DIN:05 Individual', 'WDC-DC: FY13 Gala:Night of Ask', '08 NAT OPEN', '04 PHL PROG:RADIO', 'PHL: FY13 Gala:Vice Chair', 'UNSOL:TRIBUTE', 'BOS-MA: FY17 Gala', '7100', '80010-WDC09F:ALUM PRNTS', 'MIA-FL: FY15 Sustainable Personalized Ask', 'DET: FY14 Little Wedding', '1400-NHLED12:Sponsor', 'LAX: FY13 Wine Taste:Sponsor', 'WDC-DC: FY17 Spring Break', 'SEA-WA: FY14 Gala: Wine Wall', '05 SEA DIN:05 Bronze', '80000-SANJ08:08 Plantinum', '05 CLE APP:SPRINGPD', '04 SEA APP', '06 DET APP:FALLA', 'RHI: FY14 PBN Article', 'WDC-DC: FY16 Program Sponsorships', '06 NH CAMP', '07 BOS APP:SPRINGA', '10 PHL TSP:Full Team', '06 JBG TSP:Co-Team', '05 SAN CYZ', '05 BOS APP:05-FAOS-BOS', 'BOS-MA: FY17 Winter Appeal Recent Lapsed Monthly Donors Letter 1', '80040:N SMITH MEMORIAL', 'NH: FY13 Gala:Donation', '05 CHI IGC', 'CHI-IL: FY14 WineStein:Donation', '05 CLE APP:SPRINGA', '08 LAX SPS', 'SEA-WA: FY16 Red Jacket Society', 'REDBOOT', '05 JBG APP', '08 INT APP', '08 CLE PROG', 'SAC-CA: FY16 Board Giving', 'BOS: FY12 PEVC', '08 LRA GRAD', '09 PHL TSP:Full Team', 'NYC: FY14 Bain Cares', '05 CLE GOV', '80010-BOS08U', 'CHI-IL: FY13 Gala', 'BOS-MA: FY13 Womens Breakfast', '05 SAN DIN:05 Individual', '80010-DET12F', 'ORL-FL: FY16 Idealist for Education Breakfast', 'COL-SC: FY13 Gala:Night of Ask', '06 DET TSP:Co-Team', '04 SEA CARE', '05 COL APP:FALLGEN', 'MIA: FY13 DTD:Auction', '07 CHI APP:FALLPD', '08 NH TSP:HAMP', '80010-SANJ12F', '06 SANJ APP:FALLCP', '09 NH IGC', 'SNJ-CA: FY16-18 Three Year Campaign', 'ORL-FL: FY15 Gala', '80000-DET10:Ad Sponsorship', 'CHI: FY11 City', '04 CSC SERV', '07 BOS DIN:07 Gold', 'NYC: FY12 JetBlue', 'BOS-MA:DV:EX:FY16:160506 Spring Appeal Email 1 Email only', 'BOS-MA: FY16 Ambassadors Giving', 'PHL-PA: FY14 Ass. Board', 'SEA-WA: FY14 EOY', '08 DET APP', '08 NAT ENDG', '06 SAN SRVSP', '05 CHI GEN', '04 NH PROG:Training Sponsorship', 'SNJ-CA: FY14 Assoiciate Board Event', '09 NH IGC:ALUM/FRND CMPN', '06 CSC TSP:Co-Team', '06 CLE APP:SPRINGPD', '07 SEA CAMP', '08 NYC TSP:Co-Team', '09 COL CMPSP', '80040:board Dues', 'MIA-FL: FY17 Give Miami Day', '04 CSC YH', '05 SANJ GRAD', '08 NYC DIN (2007):Bronze', '06 WDC APP:SPRINGD', '06 COL CARE', '80010-LSA09S:POTDNR', '09 CHI IGC:ALUM/FRND CMPN', 'BOS-MA: FY15 Spring Appeal Regular CD (Current Donor) Email 3', 'NOL-LA: FY17 Sustainable', 'SEA-WA: FY13 Gala', 'SEA-WA: FY14 Gala Ripples of Hope', '10 NH PROG', '04 COL PROG', 'MIA-FL: FY17 Individual Asks', '06 SEA APP', 'NH: FY13 Gala:Night of Ask/Raffle', '08 DET TSP:Full Team', '07 DET APP:SPRINGD', '09 RHI SPPM', '07 NH SPPM', 'MAN-NH: FY17 Idealist Circle', '05 PHL GRAD', '80000-SEA09:SILVERSPSR', 'NYC: FY09 AssocBrd', '06 CSC CAMP', 'BOS-MA: FY16 Gala', '05 PHL DIN:NODIN', '05 NYC CARE', '07 CHI IGC:WTB', '06 SEA DIN:06 Donations', 'DET: 13Schoenberg', 'BOS-MA: FY17 Red Jacket Weekend', '07 CHI APP:SPRINGPD', '80000-MIA12ChairDinn:80000-MIA12ChairDinn', '07 NYC SRV', '05 CSC ERND', 'ANNUAL:SPRING', 'SNJ-CA: FY17 Team Sponsorships', '05 CHI YH', 'EBR-LA: FY17 Sustainable', '07 COL APP:FALLA', '05 NH DIN:05 Silver', '07 RHI APPNI', 'CHI-IL: FY17 Gala', '07 DET G', '07 BOS DIN:07 NOA', '02 RHI TSP', '07 BOS APP:SPRINGPD', 'NOLA: FY13 Gala:Donation', 'LOS-CA: FY17 Sustainable', '80010-SEA09F:RENTED', 'BOS-MA: FY17 Boston Marathon - Kristina Craaybeek', '07 BOS IGC', '05 CLE DIN (2004)', '06 CHI APP', '08 SEA CH', 'CYZHOST', '06 BOS EVT:GOLFP', '09 BLD', 'CHI-IL: FY14 Wine Stein', 'BOS-MA: FY17 Spring Appeal Current Donor Email 1', '04 NYC PROG:AR MEM', '80010-DET09S:POTDNR', 'CHI-IL: FY15 Service Days', 'City Day:REG', '06 DET PROG:KAT', 'DET-MI: FY11 Gala', '06 BOS YH', '04 NAT ANPM', '80010-BOS11F:DNR', 'BOS-MA: FY17 Winter Appeal Monthly', '04 CHI GEN', '05 COL APP:FAPPB', '05 COL DIN:05 Bronze', 'EBR-LA: FY17 Gala', '06 CLE DIN:06 IND Tickets', '80010-LAX10F:DNR', '03 PHL - AFT', 'DAL-TX: FY16 Team Sponsorships', '05 SANJ DIN:05 Individual', 'LOS-CA: FY16 Associates Club', 'ORL-FL: FY17 Opening Day', '80010-SANJ09U', '07 NAT G', '07 CLE APP', '80010-RHI09F:ALUM PRNTS', '06 CSC SPPM', '07 BOS CAMP', 'DET: FY13 EOY:Major Renewal', '07 DET APP:FALLOS', '08 PHL APP:FALL', 'Private Funding for School Partnerships', 'CHI-IL: FY16 Program Sponsorships', '80000-SEA09:80000-SEA09', 'DET: FY13 EOY:Lybunt', '03NB SSN:1000 TIX', '08 LAX G', '07 BOS DIN:DON', 'TSP FY09 Founding', '80000-RHI10:Ticket', '80000-SEA12:80000-SEA12', '08 NAT EVT', 'BOS-MA: FY17 Winter Appeal Lapsed Donors Email 3', '80000-NH10:80000-NH10', '06 NAT PROG:SACT', '04 CLE CAMP:REG', 'SEA-WA: FY17 Team Sponsorships', '05 SEA TSP', '05 NAT APM', 'COL-SC: FY15 Capacity Solicitations', '07 CHI TSP:Co-Team', '04 NAT APS', '04 SAN EVT', '80010-BOS09F:RENTED', 'HQI-MA: FY17 Einhorn Bridge Match', 'SEA-WA: FY17 Red Jacket Society', '80000-BOS08:08 Gold', 'FY09 OTHER INCOME:AssBrdDues', '05 CSC CMPSP', 'BOS-MA: FY14 Fam Fall', '04 NAT PROG:Clinton Innovation A', 'BOS-MA: FY15 Spring Appeal Monthly CD (Current Donor) Letter', '08 SAN CFC', 'WDC-DC: FY16 Spring Break - Savoy', '08 PHL PROG:YLC', 'MAN-NH: FY17 NH Gives Day', 'SAN-TX: FY15 The Big Give SA', '80010-CLE09S:RENTED', '06 CSC TSP:Full Team', 'ORL-FL: FY15 Gala Sustainable/Sponsorships', '80000-COL08:80000-COL08', '07 NAT DIN:07 Half Table', '09 NYC TSP:Full Team', 'KSC-MO: FY17 Capacity Building', '08 LAX IGC', 'PHL-PA: FY17 CRP Other', '08 PHL PROG:RADIO', '06 NYC GRAD', '06 RHI APP:SPRINGD', 'WDC-DC: FY16 Program Support Solicitations', 'LOS-CA: FY14 Associate Board Wine Tasting', '07 CLE TSP:Full Team', '08 DET APPNI:SPRINGD', 'MAN-NH: FY15 Alum TSP', 'MKE: FY13 Gala:Night of Ask', '08 CHI YH', '06 COL DIN:DON', 'LOS-CA: FY16 Gala Spring Break', '06 RHI IGC', 'Young Heroes Sponsor', '80000-NH09:DONOR', 'BOS-MA: FY15 Spring Appeal Regular RLD (Recent Lapsed) Email 3', '05 CHI DIN', '06 NYC SPPM', '02 RHI CYZ', 'EBR-LA: Major Gift Ask', '08 BOS YH', \"DET-MI: FY15 Women's Leadership Breakfast\", 'NOL-LA: FY15 Gala', 'EBR-LA: FY16 Team Sponsorships', 'ORL-FL: FY15 Gala Night of Ask', '07 CHI G', '08 SEA SRVSP', 'CHI-IL: FY16 Annual Fund Corporate', 'WDC-DC: FY17 Legal Breakfast', 'JAX-FL: FY17 Sustainable', '05 BOS GEN', '06 NAT G', 'LOS-CA: FY17 Team Sponsorships', '80000-DET09:AUCTION', '80010-PHL10F:DNR', '09 CLE APP:FALL', '80010-BOS10F:ALUM', 'MWK-WI: FY15 Gala', 'BOS-MA: FY17 Winter Appeal Recent Lapsed Donors Email 3', '08 NYC SRVSP', '80000-RHI12:80000-RHI12', 'COL-OH: FY15 Program Support Solicitations', 'PHL-PA: FY17 ING Red Jacket Society', '06 CSC PROG', '06 LSA APP:FALLPD', '08 BOS TSP:Full Team', '80010-LSA09F:POTDNR', 'HQ: FY13 MS Challeng:HQ', '04 RHI DIN (FY04):AUC', '05 NAT DIN:05 Donations', 'HQ: FY10 Women', '80000-NH09:SPONSOR', '80010-LRA10F:CORPS PRNTS', '10 NAT G', 'DET-MI: FY15 Gala', '04 RHI DIN:CAM', '80000-LRA08:08 Bronze', '08 CHI CFC', '08 DET SPP', '10 SEA IGC', 'CHI: ServiceRcks:Sponsor', '07 PHL TSP:Full Team', 'CHI-IL: FY15 Micro.Corp Annual Appeal', 'PHL-PA: FY17 Red Jacket Reunion', 'NOL-LA: FY14 Gala:Tickets', 'CYZNAT:SERVDAY', '80000-MIA12:Auction', 'DET-MI: FY13 Gala:Donation', 'MAN-NH: FY16 NH Gives Day', '80000-NH10:Online Auction', 'SAN-TX: FY13 EOY', 'NYC-NY: FY14 Fall', '08 DET APPNI:FALLPD', 'SEA-WA: FY16 Gala Regret Gifts', '80010-HQ10F:POTDNR', '05 CHI SPPM', 'ORL-FL: DV:ECA$:FY15:141110: 2014 Annual Giving Campaign', 'ORL-FL: DV:ECA$:FY15:140812: 2014 Community Giving Campaign', '07 BOS ERND', '06 INT CDF', '80000-SANJ12:80000-SANJ12', 'MWK-WI: FY17 Sustainable', '04 LRA GEN', 'DET-MI: FY17 Program Support Solicitation', '07 SEA YH', 'CHI-IL: FY16 Associate Board SME', '07 CLE SFC', '62000:Calendar Raffle', '08 CHI IGC:ALUM/FRND CMPN', '06 CLE ERND', '04 CLE AFT', 'COH-CALENDAR', 'BOS-MA: FY17 Spring Appeal Current Donor Email 2', '80010-RHI09F:DNR', '06 DET DIN:06 Gold', '80010-PHL09F:ALUM', \"MIA-FL: FY15 Women's Leadership Luncheon\", '61000-SPR', 'NYC-NY: FY16 Bain Cares', 'MWK-WI: Major Gift Ask', '06 NYC GOV', '05 BOS DIN:05 Gold', '08 SAN YH', '06 RHI GOV', '05 SANJ APP', 'BOS-MA: ISOT Challenge', '80000-LRA08:08 Presenting', '10 LSA IGC', '05 SEA AFT', 'LOS-CA: FY16 Team Sponsorships', '07 WDC APPNI', '07 NAT IGC:FONS', '80000-NYC09:80000-NYC09', 'NH: FY12Women', '08 SEA OPEN', '06 CLE APP:FALLD', 'FY11 OTHER INCOME', '04 NYC CAMP:REG', '05 BOS ERND', 'EBR-LA: FY13 Gala', 'HQ; Summit', 'SERVICE', 'CHI-IL: FY17 Alumni Board Dues and Donations', '06 CHI APP:FALLPD', '06 DET APPNI:SPRINGPD', 'HQ: FY13 MS Challeng:NYC', 'BOS-MA: FY15 Spring Appeal Regular CD (Current Donor) Email 2', '07 SANJ APP', '07 BOS CMPSP', 'NYC-NY: FY15 Gala New Sponsors/Tickets', 'MAN-NH: FY17 Graduation', 'NYC: FY12AlumBrd:Auction', '06 CSC ERND', 'NOL-LA: FY14 Gala Sustainable Sponsorships', '05 BOS ANPM', 'LTR-AR: FY14 Gala:Night of Ask', 'ORL-FL: FY17 Team Sponsorships', '05 COL APP:Spring Appeal (local', 'HQI-MA: FY17 Giving Tuesday', '05 NAT DIN:05 Gold', '09 RHI DIN (2008)', 'BOS-MA: FY15 Spring Appeal Regular CD (Current Donor) Letter', 'NYC-NY: FY17 Investment Breakfast', 'PHL-PA: FY15 Winter', '06 NH TSP:Co-Team', '07 DET APPNI:FALLOS', 'WDC-DC: FY17 Alumni Soiree', '05 CSC GEN', 'HQI-MA: FY15 Capacity Solicitations', '05 CHI APP:SPRINGOS', '80010-CSC10U', '08 SEA YH', '80000-NYC08:80000-NYC08', 'LAX: FY11 AssocBrd', '08 SEA IGC', '80000-SEA09:Donations', '80000-NH08:08 Bronze', '09 INT IGC', '04 NAT PROG:Fireman Fellowship', '80000-LRA08:08 AUCT', '07 COL DIN', 'SNJ-CA: FY15 Team Sponsorships', '06 CLE DIN:06 Bronze', '05 PHL SPPM', '80010-CHI11F', 'WDC-DC: FY16 Spring Break - Anacostia', 'SAN Golf FY03:SAN Golf FY03', '80000-PHL09:EVENTSPR', '80010-NYC12BTS:LetterWithAsk', '10 WDC G', '80000-SEA08:08 Gold', 'Voices Membership Dues FY17', 'COL-SC: FY13 Board', '80010-DET10U', '08 NYC APP:FALLAP', '07 CHI SRV', 'PRV-RI: FY17 Annual Appeal', '04 RHI EVT', '80000-NH08:08 Plantinum', '08 SEA AFT', 'PHL: FY13 Gala:Coporate Leadership', 'CHI-IL: FY17 Foundations - Renewed', '08 CHI SRV', 'BOS-MA: FY15 Fall Appeal Current Donors', '08 CLE IGC', '05 RHI IGC', '05 RHI DIN:05 Donation', 'DET-MI: FY14 Gala', '06 BOS DIN', \"MIA-FL.FY14 Women's Leadership Luncheon\", '05 NH AFT', '09 NAT ERND', 'DET-MI: FY13 Gala:VIP Sponsor', '06 LRA APPNI:FALLPD', '06 CHI ERND', 'BOS-MA: FY14 Staff Giving', '80010-PHL09U', '80000-CHI12:Night of Ask', 'DEN-CO: FY14 Gala:Night of Ask', 'CHI-IL: FY17 Gala - Night of Ask', 'SEA-WA: FY17 Matching Gifts', '08 RHI IGC:08 CITZC', '08 COL APPNI:FALL', '09 COL YH', '80010-NYC12AnnFall:FY12 Fall', '07 SAN SRVSP', 'McMast', '80000-CHI12:Sponsor', 'MIA-FL: FY14 Gala:Tickets', '08 CHI EVT:Associate Board Band', '80010-SEASPRGMAIL11', '06 SEA APPNI:FALLD', '80000-COL12:80000-COL12', '80010-HQ09S:DNR', '10 RHI IGC:ALUM/FRND CMPN', 'CLNTDEM:SAFRICA', '80010-LAX12F', '04 SAN SRV', 'CHI-IL: FY15 Gala', '13 NYC IGC:ALUM/FRND CMPN', 'CHI: FY10 AlumFam', 'NYC-NY: FY16 Alumni & Friends Trivia Night', 'CHI-IL: FY13 GivingTuesday', '06 SEA APP:FALLD', 'PRV-RI: FY17 Gala Sponsorship Mailing', 'SEA-WA:FY15 EOY', 'MIA-FL: FY14 Gala Sustainable Sponsorships', '06 PHL EVT', '08 NH SPS', '08 WDC CAMP', \"EBR-LA: FY15 Women's Leadership Breakfast\", '05 WDC DIN:05 Presenting', '08 PHL CAMP', '06 NAT EVT:VFNS', 'DET: FY16 Gala', 'PHL-PA: FY16 Sips', 'WDC: FY09 AlumFam', '07 SEA TSP:Full Team', '06 COL APP:SPRD', '05 NAT MAJ', 'COL-SC: FY15 Program Support Solicitations', '07 LSA APPNI', 'CHI-IL: FY15 Team Sponsorships', 'SEA-WA: FY16 Gala Sustainable/Sponsorships', '80000-BOS08:80000-BOS08', 'SEA-WA: FY17 Shoulders of Giants', '05 WDC MAJ', '1400-NHLED12', 'RHI: FY13 Gala:table', 'COL-OH: FY15 Team Sponsorships', '08 SAN APP:FALL', '80000-CSC08:08 Gold', 'ORL-FL: FY17 Board Annual Giving', 'NOL-LA: FY15 Gala Sustainable/Sponsorships', 'SNJ-CA: Major Gift Ask', \"SAN-TX: FY18 Women's Luncheon\", 'MAN-NH: FY16 Camps', '80000-SEA12:Tickets', '08 WDC G', 'WDC: FY11 HIV.AIDS', '80000-NH09:TKTSTBLE', '80000-BOS12:Donation', '02 RHI APP', '80000-LRA12:Auction', '80010-LSA10U', '07 Radiothon', 'CHI-IL: FY14 Gala Sustainable Sponsorships', '06 CSC IGC', 'CRPTSERVDAY', '06 BOS SRV', '80010-PHL10F:ALUM PRNTS', '04 RHI AFT', 'BOS-MA: FY16 EOY/Winter Appeal Parents Letter 1', '08 SAN EVT:08 CSGC', '06 NAT PROG', '05 LRA GEN', '07 PHL APP:FALLA', 'PHL-PA: FY17 EVENTS WLL Day of Ask', '08 COL YH:YHTSP', '09 LAX TSP:Full Team', '06 COL G', '06 RHI APP:FALLCP', 'BTR: FY12 Gala:Night of Ask', '80000-DET08:08 Gold', 'LOS-CA: FY14 Gala Tickets', '08 CLE IGC:ALUM/FRND CMPN', 'WSWC--Sustainable', '80010-SAN09F:DNR', '04 SANJ PROG:Clinton Innovation A', \"WDC-DC: FY17 School's Out Social\", '05 SANJ CAP', 'MAN-NH: FY16 Gala', '80010-PHL10F:ALUM', 'NYC-NY: FY16 Capacity Solicitations', 'NYC: FY13 Alumni:Donations', '07 NYC EVT:Chipotle Event', 'NYC-NY: FY16 Service Days', '05 SANJ YH', '04 PHL TSP:YH', '06 SAN CYZ:AC', '08 NAT NLS', '10 SAN IGC:ALUM/FRND CMPN', 'SAN-TX: FY14 The Big Give SA', '80040:corps fundraiser', '04 NAT CARE', 'SAN-TX: FY15 Gala', '01 RHI TSP', '08 CHI APP:SPRINGAP', 'DET-MI: FY13 Hall Party', 'Wine Tasting:sponsor', 'LOS-CA: FY17 Alumni Fundraiser', 'DET-MI: FY16 EOY Winter Appeal', \"04 Int'l\", '80000-NH10:Donor', 'WDC-DC: FY14 Zipcar', '08 NAT SRVSP', 'SNJ-CA: FY17 WSWC', '07 BOS SRV', '07 SEA CYZ', '07 NYC EVT', 'PRV-RI: FY17 Program Support Solicitations', 'ALUM&FRDSTRVIA', '04 DET CAMP', '05 SEA APP:FALL', '06 BOS SRV:SAT', '05 DET DIN:05 Indiv. Donations', 'BOS-MA:DV:EX:FY16:151229: Winter Appeal Current Email 3', '06 BOS PROG:YEARFEE', '07 CSC G', '80000-PHL08:08 ExVice', '07 CSC OPEN', '80060', 'DET-MI: FY13 Gala:Corporate Table', '80010-INT09', '04 SAN GOLF:04 SAN GOLF', '06 NAT IGC', '06 NH SPP', '07 BOS OPEN', '06 RHI DIN:06 Silver', '06 CSC EVT', '08 COL SPS', 'CHI: ServiceRcks:Donation', '07 RHI ERND', 'PRV-RI: FY17 Capacity Solicitations', 'NOLA: FY12 Gala:Sponsor', '07 BOS APPNI:SPRINGD', '04 RHI IGC', 'TUL-OK: FY15 Program Support Solicitations', 'PHL-PA: FY17 ING Advisory Board', 'BOS-MA: FY15 Sustainable Personalized Ask', 'Capacity (one time/special Major Gift)', 'EBR-LA: FY17 Capacity Solicitations', 'MAN-NH: FY17 Sustainable Small Donors', 'ENDOW PAYOUT-09', '08 CHI CAMP', 'WDC-DC: FY15 Gala', '07 SAN OPEN', '06 NYC APP:FALLD', 'SEA-WA: FY14 Gala:Tickets', 'Young Heroes Sponsor:YHOPEN', 'NYC:FY11 Alum', 'DEN-CO: FY17 Major Gifts', '08 LRA YH', '07 CLE DIN (2006)', '04 COL CAMP:SPON', 'MAN-NH: FY14 Camps', '07 ESEA', '05 NAT DIN:05 Individual', 'DAL-TX: FY17 Program Sponsorships', '07 SANJ SPPM', 'DEN-CO: FY15 Gala', '80000-PHL12:Donation', 'BOS-MA:DV:EX:FY16:151202: Winter Appeal Parents Email 2', '07 DET YH:YHFEE', '08 LRA APP:SPRINGA', 'NYC: FY12 AssocBrd:Mixology Event', '80000-SANJ08:80000-SANJ08', 'MIA-FL: FY17 MLK Day', 'PHL-PA: FY17 Program Sponsorships', 'LRA: FY13 Gala:night of ask', '04 BOS EVT:MLK Day', 'NYC-NY: FY17 Sustainable', 'FY13 Team Sponsors HALF', '80010-CHI10F:DNR', '08 SEA CMPSP', '08 SAN APPNI', 'NH: FY13 Gala:Table', '08 CSC ERND', 'BOS-MA: FY17 Fall Appeal Email 1 Lapsed', '80010-NYC11BTS:CORPS PRNTS', '80000-MKE12:Sponsor', '05 SEA PROG:Clinton Innovation A', '08 SANJ APP', '05 CSC DIN:05 Platinum', '02 RHI DIN', '09 CHI TSP:Full Team', '06 RHI DIN (2005):CF', '05 SEA DIN:05 Auction', '08 WDC APPNI', '07 WDC CYZ', '05 SEA PROG', '05 CLE AFT', '10 NAT IGC', 'MWK-WI: FY18 Program Sponsor', '80040:AABRDDUES', '07 CSC TSP:Full Team', '05 DET DIN:05 Indiv. Tickets', '06 PHL SPP', '80000-SAN08:08 CIT', 'NYC-NY: FY17 Law Breakfast', '05 PHL CAP', '04 CLE SAT', '80010-DET10F:POTDNR', '07 CHI TSP:Full Team', 'COL-OH: FY15 Board Campaign', '07 COL AFT', '06 NYC APM', 'BOS-MA: FY15 Boston Marathon - Kevin Fish', '07 NYC AFT', '05 RHI YH', '08 BOS APP:FALLOSUW', '06 PHL IGC', '06 LRA CAMP', 'MKE: FY13 Gala:MKE: FY13 Gala', '06 LSA IGC', 'Young Heroes Sponsor:YHTSP', '06 NAT CYZ:REG-AD', 'DEN-CO: FY17 United Way', 'LTR-AR: FY15 Team Sponsorships', 'PHL-PA: FY14 Friends Spring Cocktail', '06 CLE G', '80000-CSC12:Tickets', '06 PHL SPPM', 'PHL-PA: FY17 CYBee', 'FIB', '05 CLE MAJ:Corps Spon', '09 MIA G', '09 NYC DIN (2008)', '07 DET EVT', '80010-WDC10S', '10 SANJ PROG', '05 DET APP:SPRINGD', '06 WDC APP:FALLD', 'DET-MI: Major Gift Ask', 'HQI-MA: FY16 Sustainable Personalized Ask', 'LRA: FY13 Gala:Auction', '07 INT NSD', 'BOS-MA: FY14 Investment Breakfast', '06 PHL AFT', '80000-SEA08:08 Silver', 'CHI-IL: FY16 Associate Board Dues', '10 RHI IGC', '07 CSC AFT', '05 CLE MAJ', '80000-HQ08:08 Silver', '01 RHI DIN', '07 NH APP', 'EBR-LA: FY13 Gala Tickets', '07 NH DIN:07 Individual', '08 CSC CAMP:Camp City Year', '08 SEA APP:SPRINGPD', '80010-CSC12F', '04 WDC DIN', '07 LRA OPEN', 'DEN-CO: FY17 CO Gives Day', '07 LSA TSP:Co-Team', '80000-SEA12:Donation', '80010-MKE11F', 'LTR-AR: FY15 Program Support Solicitations', 'BOS-MA: FY15 Spring Appeal Regular LD (Lapsed Donor) Letter 2', '06 RHI APP:FALLAP', '07 CLE CAMP', 'MAN-NH: FY14 Leadership Breakfast', 'PHL-PA: FY16 Program Support Solicitations', '08 PHL PROG', '06 BLD', '80000-WDC08:08 Donation', '07 SANJ G', '06 LSA AFT', '06 CLE CMPSP', 'EBR-LA:DV:ECA$:FY15:141202: Giving Tuesday', '03 NAT APM', 'TSP', '05 CSC PROG', '80000-SEA12:Auction', 'SAN-TX: FY15 Gala: Sustainable Sponsorships', '05 CHI TSP', '06 BOS DIN:DON', '06 NH DIN:06 Live Auction', 'WDC-DC: FY16 Spring Break - KellyMiller', '05 RHI GOV', '07 LSA IGC', 'DEN-CO: FY15 Gala Night of Ask', 'SAN: FY13 Golf:Donations', '07 PHL ERND', 'HQI-MA: FY15 End of Year', '10 BOS APP:FALL', '08 RHI GRAD', '07 SAN PROG', 'SNJ-CA: FY17 Gala', 'DEN: FY12 WOMEN BRK:Donation', '05 CSC SRV:SAT', '05 SAN DIN:05 Bronze', 'School Partnership--School/District', '80010-CHI09F:DNR', 'LEADERCIRC:Woodsum', '08 NH APP:SPRINGD', 'PHL: Radiothon', '08 NYC SFC', 'NYC-NY: FY17 Alumni', '06 BOS YH:ETRAN', 'WSWC', '05 SEA CAP', '07 DET SRVSP:100HOP', '04 BOS EVT', '08 LRA APP:SPRINGD', 'PHL-PA: FY14 School', '08 BOS G', '04 NAT CYZ', '09 PHL TSP:Co-Team', 'EBR-LA: FY15 EOY Campaign', 'SAC-CA: FY16 Service Days', '80010-SEA09F:DNR', '05 BOS EVT:SWSPEC', 'DAL-TX: FY17 Sustainable', '06 NH DIN:06 Silver', 'DEN-CO FY14 Gala Sustainable Sponsorships', 'SEA: FY13 Gala:ticket', '80000-RHI10:Gold Sponsor', '80000-NH08:09 AUC', '80000-RHI09:BRNZESPR', '05 SANJ DIN:05 Twinkling', '05 BOS DIN:05 Individual', 'COL-SC: FY16 Midlands Gives', '04 SAN PROG', '09 CSC G', '05 SEA EVT', 'BTR: FY12 Gala:Sponsor', '08 LAX SRV', 'CLE-OH: FY14 Gala', '80010-NYC12BTS', '06 PHL APPNI', '08 INT NSD', '05 LRA MAJ', 'NSD:DEN', 'MAN-NH: FY16 Alum TSP', '05 NYC TSP', '08 SANJ GOV', '04 CSC CAMP', '80040:Leadership Circle', '04 COL SRV', '08 NAT CFC', 'Mje', '06 CSC APP:SPRINGPD', '05 CSC DIN:05 Presenting', '5100-San12:5100-San12', '07 CHI APP:SPRINGD', '07 BOS DIN:07 Presenting', '07 CSC APP:SPRINGPD', 'EBR-LA: FY14 Gala Sustainable Sponsorships', '05 BOS PROG', '04 PHL AFT', 'WDC-DC: FY15 Annual Appeal', 'SAN-TX: FY15 Program Support Solicitations', 'LTR-AR: FY15 EOY Mailer', 'CHI: FY12 Annual Dinner--Donation', '06 CSC APP:FALLPD', '07 COL EVT', 'LOS-CA: FY16 Associates Board Fundraiser', '05 RHI AFT', '80000-PHL11:80000-PHL11NOA', '07 SAN SPPM', '80010-DET09F:RENTED', 'NOL-LA: FY15 Gala New/Tickets', 'PHL-PA: FY16 CYPaints', '06 CHI DIN:Gold', '80000-RHI09:DONATION', '80010-WDC11F:DNR', '06 CLE APP:FALLOS', '80000-CLE11', '07 BOS APPNI', '07 DET TSP:Co-Team', 'WDC::FY11 AssocBrd', '04 NYC DIN', '05 RHI APP:SPRINGA', 'LOS-CA: FY16 Sustainable', 'COL-OH: FY17 Program Support Solicitations', 'DEN-CO: FY17 Gala', 'BOS-MA: FY17 June EOY Appeal LYBUNT Personal Calls and Emails', '06 COL APP:SPRINGD', '08 CLE EVT', '62000:FEE', '08 SANJ PROG', '05 LRA GRAD', '09 NYC SRVSP', 'NYC: FY13 GOLF:Auction', 'PRV-RI: FY15 Annual Appeal - Renewals', '08 BOS IGC', '80010-RHI12F', '80000-DET08:.5 Page', 'WDC-DC: FY14 Legal Breakfast', '80010-NYC09F:CORPS PRNTS', '06 DET EVT', '80000-SEA08:08 Individual', 'HQI-MA: FY14 Microsoft Youth Spark Challenge', '08 NH SRVSP', 'PRV-RI: FY15 Gala Sustainable/Sponsorships', '04 CLE APP', '80000-PHL08:08 Alum', 'SAN-TX: FY15 Tee It Up Golf Tournament', '07 SANJ APPNI', 'Voices Membership Dues FY14 and prior', '05 NYC EVT:Alumni', 'DET-MI: FY13 FB Donation', '80010-LAX09U', '05 WDC APP', '80000-NYC11:Night of Ask', '05 SEA DIN:05 Donations', '07 COL APP:FALLCP', '80040:ALUMFAM', 'NSD: MKE', \"SNJ-CA: FY17 Women's Event\", '80010-RHI10F:POTDNR', '06 NAT APP:SPRINGD', 'SAC-CA: FY16 Capacity Solicitations', '07 LRA DIN', 'BOS-MA: FY16 Other Events', 'WDC-DC: FY16 MLK Day', 'ORL: FY13 Gala:Night of Ask', '09 NH YH', '08 COL G', '80000-HQ 09 (2008)', '10 PHL IGC', 'BOS-MA: FY15 EOY/Winter Appeal Current Donors Email 3', 'BOS-MA: FY15 Staff Giving', '05 CHI EVT', '08 WDC IGC', 'BOS-MA: FY17 Winter Appeal Recent Lapsed Monthly Donors Email 2', '04 NYC IGC', '80000-CLE08:08 Gold', 'NOLA: FY13 Gala:Tickets', '07 NYC APP:FALLPD', '04 CLE CAMP', '05 JBG TSP:Half Team', '08 SAN AFT', '08 CSC OPEN', 'CLE: FY13 Gala:Tickets', 'MAN-NH:FY16 Reach the Beach', '06 COL APPNI:B', '03NB SSN:FF B', 'SAC-CA: FY14 Specialty Market', '07 LSA G', 'CLE-OH: FY15 Board gifts', 'BOS-MA: FY16 Unsolicited', 'NYC: FY12AlumBrd:Raffle', '06 NH TSP:HAMP', '05 CLE TSP', '06 BOS APP:FALLPD', 'MIA:FY13 Run w Fins', '80000-MIA10', '09 NAT G', '07 CHI SPPM', 'BOS-MA:DV:EX:FY16:160623.JuneEOYEmail.Lapsed', 'WDC-DC: FY17 Manson Garden Party', 'MAN-NH: FY15 Gala. Auction', 'SEA-WA: FY16 Gala', '07 DET APP:SPRINGPD', 'MAN-NH: FY16 Red Jacket Society', '02 RHI GEN', 'COL-OH: FY16 EOY Appeal', \"DEN-CO: FY17 School's Out for Summer\", 'MIA: FY13 DTD:Night of Ask', '09 COL WSWC', '08 CHI APPNI:SPRINGPD', 'LOS-CA: FY17 LA Marathon', '08 BOS ENDW', '08 COL YH', '80000-COL09:80000-COL09', '08 CHI EVT', 'PHL-PA: FY17 Gala', 'CAPCTYBLDG', '07 BOS SRV:100HOP', '80010-COL10U', 'MWK-WI: FY15 EOY Appeal', '07 DET APP:SRPINGOS', 'PRV-RI: FY14 EOY', '09 SANJ IGC:ALUM/FRND CMPN', '09 LAX G', '06 NYC APP:FALLA', '07 CHI APPNI:FALL', 'PHL-PA: FY17 ING Appeals - December', '80040: Individual Giving Circles', '06 NH SRVSP', '05 BOS APP:05-FAPD-BOS', 'BOS-MA: FY15 Ambassadors Spring Event', '09 WDC YH', '04 SANJ GEN', '04 SEA EVT', '80000-RHI10:Silver Sponsor', '08 INT IGC', 'SNJ-CA: FY14 PEVC Event', '13 RHI IGC:ALUM/FRND CMPN', '07 NH APPNI', 'MIA: FY12 Ambassador', 'SERVPART', 'TUL-OK: FY16 Program Sponsorships', '07 SAN APP', '07 WDC SRVSP', '80010-COL10F:DNR', '10 COL TSP:Full Team', 'NOL-LA: FY16 Sustainable Personalized Ask', '06 WDC ERND', 'WDC-DC: FY16 Ripples Potter Wedding', '08 WDC PROG', '62000:SPRSHP', 'BOS-MA: FY17 Winter Appeal Recent Lapsed Donors Email 1', 'PRV-RI: FY15 Sustainable Personalized Ask', 'BOS-MA: FY15 EOY/Winter Appeal Current Donors Letter 2', '07 PHL AFT', '05 CLE DIN:05 Gold', '04 NYC GEN:ALMN', 'PHL-PA: FY15 Capacity Solicitations', 'WDC: FY13 Gala:silver sponsor', '08 PHL APP:FALLPD', 'NOL-LA: FY16 Gala', '05 CLE YH', '05 NH CAP', '70000:EARTH DAY', 'SNJ-CA: FY16 Gala', 'DEN-CO: FY16 Gala Night of Ask', '09 LRA TSP:Founding Citizens', '08 DET DIN (2007):Bronze', '05 LRA CYZ', 'ANNUAL', '06 CHI AFT', 'MAN-NH: FY14 Alumni Giving', '06 LRA DIN:SIL', '08 PHL OPEN', 'NSD:TUL', '07 NAT CARE', '08 DET APP:SPRINGD', 'MIA-FL: FY14 Board', '80010-NYC09S:DNR', 'LOS-CA: FY16 SoulCycle', '04 DET APP', '05 NYC PROG', '05 CHI DIN:05 Donations', '01 RHI YH', 'CAREFORCE 99-03', 'ORL-FL: FY15 Board', '07 LRA PROG', '07 CHI EVT', 'MIA-FL: FY15 Red Jacket Society Members', '08 RHI CAMP', '05 RHI PROG', '06 SEA PROG:CLINTON', 'BOS-MA: FY14 Fam Winter', 'BOS-MA: FY15 Spring Appeal Monthly LD (Lapsed) Email 2', 'LOS-CA: FY15 Capacity Solicitations', 'ORL-FL: FY17 Sustainable', 'NYC-NY: FY14 Golf:Tickets', 'Service Day Fee', '07 CHI APPNI:FALLPD', 'NOL-LA: FY16 Red Jacket Society Members', '08 CHI APPNI', '08 PHL APPNI:FALLAP', 'LAX: FY12 AssocBrd', '10 BOS IGC:ALUM/FRND CMPN', '07 INT PROG:SACTFR', '04 SAN TSP', '07 SAN YH', '80000-DET10:Auction Gift', '07 RHI TSP:Full Team', '04 CSC AMER', '08 SANJ SFC', 'MAN-NH: FY15 Gala New/Tickets', 'CHI-IL: FY17 Corporate Annual Fund', '80000-PHL09:VICECHAIR', 'BOS-MA: FY17 Monthly Giving', 'Young Heroes Sponsor:YHAA', '06 WDC AFT', 'Voices Grants FY17', 'BOS-MA: FY15 Spring Appeal Regular CD (Current Donor) Email 1', '06 SEA CMPSP', '03NB SSN:25K SP', '10 CLE DIN (2009)', 'CHI-IL: FY14 Gala:Donations', 'NYC: FY13 CMF', 'CHI-IL: FY21 Team Sponsor', 'MWK-WI: FY17 Team Sponsorships', '05 WDC CAMP', 'MIA-FL: FY17 Service Days', 'SANJ: FY13 Gala:Tickets', '07 NAT AFT', 'BOS-MA: FY16 Fall Appeal Current Donors Email 2', '06 COL CH', '80010-CLE09F:DNR', '07 RHI AFT', '06 RHI APPNI', 'DET-MI: FY14 Women', '09 CHI G', '06 CSC DIN:BRONZE', '09 DET G', '05 BOS GRAD', '06 WDC CAMP', 'RHI: FY13 Gala:Sponsorship', '80000-DET10:Bronze Sponsor', '04 RHI SPPM', 'LTR-AR: FY15 Sustainable Personalized Ask', '04 SEA CAMP', '06 NAT APPNI:FALLD', '80000-SEA08:08 Bronze', 'NYC-NY: FY13 Holiday Cards', 'CareForce', 'LRA: FY13 Gala:Ticket', '07 WDC G', '06 PHL CAMP', '07 NYC PROG', 'CHI-IL: FY13 Wine Stein', '07 CHI SRVSP', 'COL-OH: FY15 EOY Campaign', '08 Radiothon', '80040:ALUM/FRND FUND', 'NYC-NY: FY17 Bain Cares', '07 SEA G', 'MIA-FL:FY15 Red Jacket Society Solicitations', \"SAN-TX: FY14 Power of Women's Luncheon\", 'CHI-IL: 25th Anniversary', 'PRV-RI: FY16 Gala', '08 SAN YH:YHAA', 'NYC-NY: FY16 Winter Appeal', 'LAX: FY13 Golf:tickets', 'EBR-LA: FY16 Gala', '80040:ABD', '80010-LAX09F:DNR', '04 CHI AMER', 'TUL-OK: FY15 EOY Mailing', '06 RHI SRVSP', '08 NYC OPEN', '06 BOS APP', '80010-LSA10F:POTDNR', '04 CHI CARE', '70000:SAT09', '08 SEA IGC:ALUM/FRND CMPN', 'CHI-IL: FY15 Back to School Soiree', 'CHI-IL: FY16 Fee for Service Events', '05 SAN EVT', '05 SAN GEN', '05 CHI PROG:Clinton Innovation A', 'SAC-CA: FY15 Service Days', '04 SAN SAT', '07 BOS IGC:ALUM & FRIENDS', '07 RHI DIN:ESPON', '80000-SANJ10', '05 COL EVT', '80000-SANJ 10 (2009)', 'COL-SC: FY13 Gala', '06 COL DIN:IND', 'CHI-IL: FY13 Wine Stein Donation', 'SNJ-CA: FY16 Program Sponsorships', '05 PHL APP:SPST', '07 BOS G', '06 BOS DIN:06 Platinum', '06 BOS SRVSP', '08 NYC APP', '80010-NYC11BTS', 'MAN-NH: FY15 Gran Fondo Donations', '10 NYC IGC:ALUM/FRND CMPN', 'PHL-PA: FY14 Gala Sustainable Sponsorships', '80000-NH12:Auction', 'DET-MI: FY13 Gala:Night of Ask', 'SERVICE:GENSRV', '80000-WDC08:08 Bronze', '80000-LRA09:80000-LRA09', 'MIA-FL: FY16 Give Miami Day', '02 RHI CAMP', 'Young Heroes Sponsor:YHPRSPON', 'WDC-DC: FY17 Program Support Solicitations', 'SSN/ROH/TRIB', 'SAN-TX: FY14 Golf', 'WDC: FY13 Gala:Tickets', 'WDC-DC: FY16 Giving Tuesday', '06 RHI EVT', '08 SAN EVT', '05 CSC DIN:500SPON', 'ORL-FL: FY14 Gala Sustainable Sponsorships', '80000-NH08:08 Presenting', 'SAC-CA: FY15 Gala Sustainable/Sponsorships', '07 RHI DIN:HSPON', '80000-SAN08:08 TABLE', 'CLE: FY13 Gala', 'WDC-DC: FY15 Gala Night-of Ask', 'WDC-DC: FY17 DoMore24', '06 NAT APM', '08 DET SFC', 'WDC-DC: FY12 Gala Night of Ask', '07 PHL SPPM', '07 CHI APP:FALL', 'NYC: FY13 Asso Board:Donations', 'BOS-MA: FY15 Legal Bfast', '06 NYC APP:FALLAP', '80070:donation', '04 CLE DIN', 'ORL-FL: FY15 Gala Silent Auction', '05 BOS CAP', 'LOS-CA: FY16 Alumni Fundraiser', 'BOS-MA: FY13 Gala Night Ask', '10 LAX TSP:Full Team', 'PHL-PA: FY17 ING Other', 'PRV-RI: FY17 RJS Cultivation Event', 'HQI-MA: FY16 Capacity Solicitations', '80010-DET10S', '80010-LAX11F', '80000-SAN08:08 Individual', '08 SANJ AFT', '05 NYC DIN:05 Bronze', 'CHI-IL: FY15 Gala Night of Ask', '07 LSA TSP', 'JAX-FL: FY17 Giving Tuesday', 'NH: FY13 Gala:Night of Ask', '07 SEA CMPSP', 'LOS-CA:FY15 Alumni Board Giving', 'BOS-MA: FY13 Spring Parent', 'COL-OH: FY13 Gala:Sponsorship', '04 CDF', '06 CLE DIN', 'CLE-OH: FY16 Spring Direct Mail', '06 BOS APPNI:FALLOS', 'BOS-MA: FY14 Legal Brk', 'WDC-DC: FY15 Sustainable Personalized Ask', 'EBR-LA: FY14 Gala Tickets', 'MWK-WI: FY14 Gala:Donations', 'BOS-MA: FY17 Winter Appeal Recent Lapsed Monthly Donors Email 1', '06 COL DIN:GOLD', 'NYC: FY10 AssocBrd', 'BOS-MA: FY17 Ambassadors Giving', 'BOS-MA: FY17 Fall Appeal Email 2 Non Donor', '80010-HQ11AnnFall', '05 PHL PROG', 'SAN-TX: FY16 Service Projects', '04 SEA DIN', '80000-COL12:Donation', 'PHL-PA: FY15 Associate Board Cocktail Reception', '05 NAT NLS', '07 NYC SFC', 'PHL-PA: FY15 Team Sponsorships', '06 NYC SRV', '08 DET DIN (2007):Individual Tickets (', 'PHL-PA: FY17 ING Alumni', '08 NYC ENDW', 'EBR-LA: FY16 Sustainable Personalized Ask', '06 SAN YH', 'EBR-LA: FY13 XMass Card', 'COL-SC: FY16 Individual Giving Campaign', '06 COL APP:FALLB', '09 LRA TSP:Full Team', '05 NH CAMP', '06 CSC DIN:IND TIC', '80000-DET10:Corporate Sponsor', '08 CLE G', '07 DET SRV', 'MAN-NH: FY15 Gala Sponsorships', 'DEN-CO: FY16 Gala', 'BTR: FY12 Gala', 'PHL-PA: FY15 Chickies&Pete Text Campaign', '80010-NH09S:RENTED', '08 BOS CFC', '06 BOS APP:FALLAP', 'SAN-TX: FY15 Team Sponsorships', '80040:Radiothon', '08 WDC GOV', '80000-NYC11:80000-NYC11', 'MWK-WI: FY17 Gala', '05 NAT CARE:RFE', '07 RHI OPEN', '80000-PHL08:08 Corporate', '08 CLE GOV', '80040:Patriots Raffle', '80000-PHL12:Tickets', '50000-12UNKN', 'WSWC:Talent Development', 'Corps Fundrais:Walk for Peace', 'HQI-MA: FY15 Cause Marketing', \"JAX-FL: FY15 Women's Luncheon\", '09 NAT IGC:ALUMFAM', '07 SEA CH', '06 PHL TSP:Full Team', '05 DET GRAD', 'BTR: FY12 Gala:Tickets', 'RHI: FY13 Gala:Tickets', 'COL-SC: FY15 Gala', 'LTR-AR: FY16 Service Days', '06 DET APP:FALLD', '05 COL TSP', '06 DET DIN:06 Silver', '80000-COL12:Tickets', '80010-COL09F:DNR', '80000-MIA12:Sponsor', '08 PHL SPS', '05 RHI DIN:05 Gold', '06 SAN CMPSP', '05 RHI DIN:05 Bronze', 'SNJ-CA: FY14 Fall', 'LOS-CA: FY17 Associates Board Giving', '06 NH DIN:06 Individual', '07 NAT SRVSP', '06 INT PROG:SACTFR', '08 RHI SPPM', 'JAX-FL: FY16 MLK Day', '80000-RHI08:08 Bronze', 'WDC-DC: FY14 Alumni & Friends', 'WDC: FY13 Do More 24', '80010-COL12S', '07 SEA TSP:Co-Team', 'MWK-WI: FY14 Service Days', 'LOS-CA: FY17 Alumni Board Giving', 'DAL-TX: FY17 RJS Giving', '04 BOS SAT', '80000-SANJ12:Donations', '07 BOS DIN:07 Half Table', '80000-HQ08', '04 PHL PROG', '08 CLE ERND', '10 LAX PROG', '04 CLE SERV', '09 DET TSP:Full Team', '06 CLE APP', '04 COL GEN:Board Solicitation', '05 WDC DIN:05 Gold', '80010-NYC12S', '08 DET APP:SPRINGPD', 'DET-MI: FY17 Gala', 'Gov. Grants & Support', '06 RHI IGC:CB', '05 LRA SRVSP', '08 SANJ G', 'EBR-LA: FY14 Alumni Campaign', '07 BOS SRVSP', '80000-NH11:80000-NH11', '08 LRA APPNI:SPRINGD', '08 SEA ERND', 'ORL-FL: FY15 Orlando Alumni', '80070:super ticket', '05 NAT DIN:05 Bronze', 'DEN-CO: FY15 CO Gives Day', '07 LRA CAMP', '80000-SEA11:Bronze Sponsor', 'MAN-NH: FY15: P2P.Alumni Holiday', '80000-RHI08:08 Donation', '05 SANJ TSP', '06 LSA G', '04 PHL TSP', '05 DET DIN:05 Platinum', '07 CLE IGC', '05 CHI DIN:05 Platinum', '07 RHI APP:FALL', '10 WDC TSP', '04 BOS EVT:Golf Tournament', '13 SANJ IGC:ALUM/FRND CMPN', '80000-WDC10:80000-WDC10', '07 PHL DIN', '08 LAX OPEN', '05 DET ERND', '07 SANJ SFC', 'Local Government', '80070:Cavender Golf', '04 PHL PROG:Clinton Innovation A', '07 COL APP:FALLPD', '80040:Parent Giving', '05 COL APP:SPRINGD', 'DET-MI: FY13 FB Tickets', 'HQI-MA: 25th Anniversary Alumni', 'PHL-PA: FY15 United Way', '06 NH APP', 'NYC: FY11 AssocBrd:Baseball Raffle', '06 SANJ APP:SPRINGPD', 'BOS-MA: FY17 Winter Appeal Parents Email 3', 'NHRIPPLES:NHRIPPLES', '80010-NYC09F:ALUM PRNTS', '05 NYC SPPM', '06 NAT ANPM', '05 SEA GEN', '05 COL APP:FALLYH', 'Gala\\\\Annual Dinner', '80000-CLE09:80000-CLE09', 'BOS-MA: FY13 Gala', '08 DET APPNI:07SPRING', '05 CHI APP', '08 RHI ERND', 'WDC-DC: FY13 Gala', '02 NAT APM', 'NOLA: FY13 GALA', '03NB SSN:TIX PLUS', '06 NAT DIN:06 Presenting', 'BOS-MA: FY15 Giving Tuesday', '80000-NYC08:08 Individual', '08 NYC SRV', '07 COL APP:FALLAP', '07 NYC DIN:07 Individual', 'CLE-OH: FY17 Program Support Solicitations', '07 DET AFT', '80000-SEA10:Table Sponsor', '08 BOS PROG', '80010-BOS10U', '05 JBG TSP', '05 LRA APP', 'SEA-WA: FY15 Gala Ripples of Hope', 'CLE-OH: FY17 Alumni Event', 'PRV-RI: FY16 Annual Appeal', 'MAN-NH: FY15 Red Jacket Society', '80010-BOS09F:POTDNR', '80000-DET09:NONPROFSPR', 'LTR-AR:DV:EX:FY15:150402: Arkansas Gives', '80000-DET08:VIP', '05 CHI APP:FALL', '04 SEA SPPM', '05 NYC PROG:Clinton Innovation A', '04 SAN YH', 'LTR-AR: FY14 Gala:Tickets', '10 LRA TSP:Full Team', '08 SAN IGC:ALUM/FRND FUND', '06 LRA GRAD', '09 WDC TSP:Full Team', '06 WDC SRVSP', '05 PHL SRVSP:SAT', 'SAN-TX: FY16 The Big Give', '80000-SEA10:VIP ticket', 'SNJ-CA: FY16 Program Support Solicitations', '07 CLE G', '80000-LRA08:08 Donation', '80000-LRA09:AUCTION', '04 WDC CARE', 'NYC-NY: FY17 Associate Board Fundraiser', '06 SANJ SPPM', 'SEA-WA: FY16 Annual Appeal - Winter', '05 CSC DIN:05 Individual', '80010-DET09 (10 Col)', '08 PHL YH:YHTSP', '06 JBG OPEN', 'EBR-LA: FY17 Flood Relief', '08 BOS SRVSP', '06 RHI DIN:06 Gold', '07 SAN APP:SPRINGD', '80010-CHI12F', 'WDC-DC: FY14 School', '80000-LRA08:08 Individual', '06 DET APPNI:FALLD', 'COL-SC: FY17 Individual Giving Campaign', '04 PHL SPPM', 'SAC-CA: FY16 Sustainable Personalized Ask', '05 BOS APP:05-SAAP', 'NYC-NY: FY15 Service Days', '05 BOS APP:05-SADO-BOS', 'Voices Presidential Polling FY16', 'MAN-NH: FY16 Capacity Solicitations', 'NOLA: FY12 Gala', '80010-HQ10F:DNR', 'MIA: FY12 Legal', '06 NAT APPNI:FALLA', '06 NYC CYZ', 'MIA: FY13 DTD:Sponsorship', '80000-BOS12:Night of Ask', '08 CSC CAMP', '07 RHI YH', '04 BOS YH', '07 BOS APP:FALLPD', '08 SAN APP:SPRINGD', '05 INT CDFS', 'SAN: FY13 Gala:SAN: FY13 Gala', '07 WDC SRV', '80000-PHL12:Sponsor', '06 NYC EVT', 'CHI-IL:FY13 Grad Parent', '80070:sponsor', '07 BOS TSP', '06 WDC APP', '07 BOS IGC:Honor/Memory', '06 SANJ TSP:Full Team', '06 WDC APP:FALLPD', '06 JBG SRVSP', 'SAC-CA: FY15 Capacity Solicitations', '06 RHI G', 'NYC-NY: FY16 Yoga class', '06 CLE APPNI', 'SEA-WA: FY16 Sustainable Personalized Ask', '05 NYC DIN:05 Platinum', '07 BOS APP:FALLOS', 'BOS-MA: FY17 Winter Appeal Recent Lapsed Monthly Donors Email 3', '05 SANJ AFT', '06 CSC APP', '03NB SSN:10K SP', 'NOL-LA: FY15 Crazy Idea Challenge', '08 LSA CMPSP', 'BOS-MA: FY13 EOY', 'TSP FY09FULL', 'WDC: FY14 Giving Day', '06 NAT ENDG', '06 NAT CARE', 'LOS-CA: FY15 InstaGallery Sales', '08 WDC CMPSP', 'WDC-DC: FY14 Gala:Tickets', 'MAN-NH: FY15 Gran Fondo Bike Race', 'WDC-DC: FY14 EOY', '08 PHL CFC', 'BOS-MA: FY17 Winter Appeal Lapsed Donors Monthly Letter 1', 'WDC-DC: FY15 Alumni Fundraiser CYDC Soiree', 'COL-OH: FY13 Gala:Registration', 'CHI-IL: FY14 Graduation', '80010-HQ09F:DNR', '06 SANJ CH', '07 NAT DIN', '80000-BOS08:08 Silver', '08 SEA APP', 'WDC-DC: FY14 Gala:Night of Ask', '08 NH AFT', '07 BOS DIN:07 Individual', '05 WDC CAP', 'MIA: FY12 Women', '07 CHI APP', 'TUL-OK: FY16 Team Sponsor', 'NOL-LA: FY15 Program Support Solicitations', 'TUL-OK: FY17 Strong Circle Day', '05 INT IGC:CIT', '06 SANJ YH', 'COL-OH: FY14 Gala', '80010-BOS10F:DNR', '07 NAT EVT', 'PHL-PA: FY15 End of Year', '05 NAT GEN:Clinton', '80000-SAN08:08 Plantinum', '80000-MIA12:Night of Ask', 'WDC-DC: FY14 Devel. Breakfast', 'PRV-RI: FY17 Team Sponsorships', 'PHL: FY13 Marathon', 'JAX-FL: FY17 Gala Tickets', '06 BOS APP:SPRINGA', '05 CHI DIN:05 Individual', '06 WDC DIN:06 Platinum', '50010', '06 COL PROG', '08 CLE CAMP', '04 SANJ APP', '06 SEA APP:FALLPD', 'NYC-NY: FY16 Investment Breakfast', 'PHL-PA: FY16 Cheers', '07 NAT NLS:RASL', '06 CLE SRVSP', 'DET: FY13 EOY:Major Lapsed', '05 CHI ERND', '08 SANJ SPPM', '07 LSA EVT', 'NSD:KCMO', 'PHL-PA: FY16 Team Sponsorships', 'Sustainable', 'BOS-MA: FY17 Winter Appeal Parents Email 2', '06 JBG EVT', '07 NYC DIN:NA', '10 NH WSWC', '80000-BOS12:80000-BOS12', '06 COL APP:STA', 'NOLA: FY12 Gala:Tickets', '09 LSA TSP:Founding Citizens', '80000-LRA08:80000-LRA08', 'BOS-MA: FY17 Winter Appeal Lapsed Donors Letter 1', 'NYC: FY12 GOLF', '04 COL CAMP:REG', 'DET-MI: FY16 Program Support Solicitation', 'MIA: FY12 Women:Sponsor', '07 CSC APP:SPRINGD', '05 PHL CARE', '05 PHL APP:SPRING', '08 LAX IGC:ALUM/FRND FUND', '80010-NYC12AnnFall:Fy12 Parent', '07 LRA IGC', '05 NYC SRV', '04 CHI IGC', '08 NAT WSWC', 'SAN: FY12 GALA:Night of Ask', '08 NH YH', '07 COL TSP:Co-Team', 'MIA-FL: FY18 Red Jacket Weekend', 'MAN-NH: FY17 March Madness', '07 NAT DIN:DON', 'Service Day', '07 COL EVT:Aumni', '08 DET CMPSP', '07 SEA APP', '08 NYC AFT', '80000-SEA08:DON', '80010-WDC10F', 'WDC-DC: FY12 Gala Tickets', '80000-HQ08:08 Plantinum', 'DET-MI: FY13 Gala:Impact Sponsor', '07 LRA TSP:Full Team', 'NYC-NY: FY16 Alumni and Friends Fundraiser', '80000-PHL09:PRESTGSPSR', '80000-DET10:Nonprofit Sponsor', 'ORL: FY13 Gala:ticket', 'COL-SC: FY14 Gala:Night of Ask', '80000-SAN08:08 STAKE', 'CLE-OH: FY16 Team Sponsorships', 'WDC-DC: FY17 Winter Appeal', '06 CLE DIN:06 GOLD', '80000-PHL08:08 Donation', '06 DET APPNI:FALLPD', 'TUL-OK: FY17 Appeal', '06 LRA DIN:BRO', '06 NYC PROG:CLINTON', '08 NAT SRV', 'LOS-CA: FY15 Program Support Solicitations', '80000-CSC10:80000-CSC10', '10 PHL TSP', '05 NYC GOV', 'PHL-PA: FY16 Marathon', '80010-WDC09S:ALUM PRNTS', '08 RHI IGC', 'BOS-MA: FY14 Fall', '04 BOS ANPM', 'EBR-LA: FY18 Red Jacket Society', 'HQI-MA: FY17 Strong Circle Day', '07 NAT G:VFNS', 'NYC-NY: FY16 Sustainable Personalized Ask', '06 RHI APP:FALLD', 'MWK-WI: FY16 MLK Day', '80000-DET10:Silver Sponsor', '06 SAN IGC', '05 BOS TSP', '07 CSC SRVSP', '80000-SANJ08:08 Silver', '08 LSA APP:FALLPD', 'SSN/ROH/TRIB:AUCTION', 'BCM Play', '80000-NH10:Tkts & Tbles', 'Young Heroes Sponsor:YHOTHER', '80000-SEA09:INDTKT', '06 BOS OPEN', '07 NH OPEN', '08 SEA CAMP', \"BOS-MA: FY17 Women's Bfast Monthly Giving\", '02 RHI AFT', '07 SEA SRV', '10 LAX IGC:Founding Citizens', '06 NYC TSP:Full Team', 'DET-MI: FY14 Gala Sustainable Sponsorships', '09 RHI G', '04 SANJ AMER', '07 SEA DIN', '80000-NH12:Night of Ask', '08 PHL CMPSP', 'WDC-DC: FY16 Spring Break', '08 NAT IGC', \"JAX-FL: FY14 Women's Leadership Luncheon\", 'BOS-MA: FY13 Gala:Tickets', '08 NH CMPSP', 'MAN-NH: FY16 MGP', '04 CHI PROG:Clinton Innovation A', '04 CLE PROG', '07 DET ERND', '08 COL APPNI', '08 CSC SRVSP', '80010-SEA09F:CORPS PRNTS', 'BOS-MA: FY15 Spring Appeal Regular LD (Lapsed) Letter', 'BOS-MA: FY16 Gala Night of Ask', '06 DET PROG', '80000-NH10:Live Auction', '80010-SAN10U', '06 SANJ SFC', 'WDC-DC: FY17 Service Days', 'NYC-NY: FY16 Alumni Gala Raffle', 'FY13 Team Sponsorships FULL', '08 NAT CARE', 'BOS-MA: FY17 Sustainable', 'MIA-FL: FY16 MLK Day', 'BOS-MA: FY13 Service Days', 'MIA-FL: FY16 Board Giving', 'ORL-FL: FY14 Gala', '08 SANJ TSP:Co-Team', '04 BOS CMP:REG', '04 SANJ PROG:BUST', '06 BOS PROG', '05 LRA GOV', 'MAN-NH: FY17 Giving Tuesday', '80010-SANJ09S:RENTED', 'LTR-AR: FY14 Gala:Auction', '04 SANJ DIN', 'BOS-MA: FY13 Parents', '07 WDC EVT', '07 NAT DIN:07 Silver', 'NOL-LA: FY17 Gala - School House Rock', '80000-NH08:08 Gold', 'BOS-MA:DV:EX:FY16:151229: Winter Appeal Lapsed Email 3', '07 SANJ AFT', '80010-MIA10U', '06 NYC DIN:06 Bronze', 'NYC: FY13 Asso Board:Raffle Tickets', 'MAN-NH: FY15 Corps Friendraiser', '05 BOS APP:05-SAAL-BOS', '05 CLE APP', 'Special Programs', '07 NAT IGC:Los Angeles', 'COL-SC: FY13 Law Event', '05 LRA DIN', 'SAC-CA: FY17 Capacity Building', 'SNJ-CA: FY15 Service Days', 'DET-MI: FY14 Champ.Fall', 'DEN-CO: FY15 Colfax Marathon', 'SAC-CA: FY15 Direct Mail', 'LOS-CA: FY15 Gala New/Tickets', 'MIA-FL: FY17 Sustainable', 'SEA-WA: FY14 Gala Sustainable Sponsorships', 'PHL-PA: FY14 Major Gift', '04 NAT CYZ:ALUM', '80000-DET08:.25 Page', '06 BOS APPNI:SPRINGD', 'SANJ: FY13 Gala:Night of Ask', 'PHL-PA: FY16 Summer Appeal', 'TSP FY10 FULL', 'LOS-CA: FY17 Board Giving', '06 RHI ERND', 'BOS-MA: FY13 Investment Breakfast', '08 SEA SPPM', '05 PHL GEN', 'WDC: FY13 Sig Serv', '06 LRA SRVSP', '05 SANJ DIN:05 Silver', '80010-SAN09F:POTDNR', 'PRV-RI: FY15 Womens Event Spons', 'CLE-OH: FY17 Dreambuilders', '07 NAT APM', 'WDC: FY12 AssocBrd:Auction', 'SANJ: FY13 Gala:Donations', '80000-NH12:Sponsor', '04 COL OPEN', '06 SAN CAMP', 'BOS-MA:DV:EX:FY16:151229: Winter Appeal Recent Lapsed Email 3', 'BOS-MA:DV:EX:FY16:151202: Winter Appeal Current Email 2', 'PRV-RI: FY16 Team Sponsorships', '80010-NYC12BTS:parent giving', '80000-DET10:Donation', 'WDC-DC: FY17 Sustainable', 'CLE-OH: FY17 Capacity Solicitations', '80010-BOS10S:DNR', '05 NAT ANPM', 'Service Day Sponsorship', 'NYC: FY13 GOLF:Tickets', '05 COL CMPSP', '80000-DET10:VIP Tickets', '05 CLE DIN:05 Donation', '07 NYC SPPM', '80000-SEA10:Silver Sponsor', '05 CSC DIN:05 Silver', '80000-SANJ12:Night of Ask', '10 NH IGC:ALUM/FRND CMPN', '08 NYC APP:FALLPD', 'LOS-CA: FY16 Micro Campaigns', 'BOS-MA: FY17 Spring Appeal Lapsed Donor Email 1', '06 NH GOV', 'BOS-MA: FY13 Spring Phone', '06 CSC G', '05 SEA GOV', '80000-SEA08:08 Presenting', '80000-CSC12:Sponsor', '08 LAX AFT', 'RHI: FY13 Gala', 'NYC-NY: FY16 Associate Board Trivia Night', '07 RHI CMPSP', '80010-NH09F:DNR', 'ORL: FY13 Gala:Donations', 'LTR-AR: FY14 Microsoft Youth Spark Challenge', '05 SANJ CMPSP', '07 NYC APPNI', '09 CSC IGC:ALUM/FRND CMPN', '06 WDC EVT', 'NOL-LA: FY14 Gala School House Rocks', 'ORL-FL: FY17 Capacity Solicitations', '08 NAT YH', '08 COL OPEN', '05 CLE DIN:05 Individual', 'DEN-CO: FY16 CO Gives Day', '08 PHL APP', 'EBR-LA: FY14 Gala', '05 AUCTION', '06 CHI APPNI:SPRINGPD', 'LOS-CA:FY15 Board Giving', '04 RHI DIN:SUP', 'DET-MI: FY14 Fountain', '04 RHI APP', 'BOS-MA: Major Gift Personal Ask', '09 CSC TSP:Full Team', 'HQI-MA: FY16 Einhorn Bridge Match', '06 BOS AFT', '04 WDC APP', '80000-RHI09:ALUMTKT', '07 WDC SPPM', '08 SEA PROG', '04 NH IGC:LEADCIR', '09 DET IGC:BAILER WEDDING GIFTS', '06 BOS APP:SPRINGD', 'NYC-NY: FY14 Gala:Night of Ask', '80010-PHL10U', '10 LAX IGC', 'BOS-MA: FY14 Womens Brk', 'Diplomas Now', '06 SEA PROG', '06 NAT DIN:06 Bronze', 'Endowment', '80010-HQ09F:POTDNR', 'BOS-MA: FY17 Fall Appeal Email 1 Current', 'Individual Giving Circles', '05 DET YH', '06 LRA DIN', '05 NYC IGC', 'Service Partner--NS', 'FY08 SPECLPRGM', 'SNJ-CA: FY15 Women Investing in Education', '07 BOS YH', 'BOS-MA: FY15 EOY/Winter Appeal Lapsed Donors Letter 1', '08 NYC G', '04 NH IGC', '80000-RHI 09 (2008)', '05 CLE DIN:05 Bronze', 'BOS-MA: FY17 Winter Appeal Lapsed Donors Email 2', '80000-CHI11:Night of Ask', '80000-NYC08:08 Silver', '06 NAT EVT', '06 LRA GOV', '07 NYC APP', '10 NYC SPPM', '06 SEA DIN', 'BOS-MA.FY14 Ambassadors Spring', '06 RHI APP:FALLPD', '06 NYC TSP', 'SAN-TX: FY16 CYSA Alumni Campaign', 'WDC: FY13 Legal Brk:Sponsorship', '05 NH DIN:05 Presenting', '04 DET TSP', '10 NYC TSP', 'PHL-PA: FY15 Gala', 'PHL: FY13 Gala:Gold page ad', '80010-CSC09S:DNR', 'Wine Tasting:Donation', '80010-WDC09F:DNR', '08 WDC SRVSP', 'BOS-MA: FY16 Sustainable Personalized Ask', '06 CHI APP:SPRINGD', 'MAN-NH: FY14 Gala Sponsorships', '06 SAN DIN:06 Silver', '62000:City Year For Kids', '07 LRA G', '08 LRA G', 'MWK-WI: FY16 Gala', 'LOS-CA: FY17 Service Day', 'PRV-RI: FY16 Sustainable Personalized Ask', 'HQI-MA: 25th Anniversary Alumni--Personal Ask', '04 CHI TSP', '80010-CLE11U', \"NYC-NY: FY17 Women's Breakfast\", '06 BOS CYZ:AC', '04 RHI DIN:BRZ', '06 CHI SPPM', '07 LSA OPEN', '04 COL PROG:Reading Success', '08 NH CAMP', '80010-DET09F:POTDNR', 'PHL-PA: FY16 Alumni Campaign', '08 BOS APP:FALLPD', 'SAN-TX: FY13 Golf', 'EBR-LA: FY15 Graduation', '06 SAN DIN:06 Bronze', '08 NAT NSD', '80000-PHL12:Night of Ask', '09 CLE SPS', '08 SANJ YH', 'PHL: FY13 EOY', '07 NYC DIN:07 Bronze', '06 NH PROG', 'JAX-FL: FY17 Individual', 'WDC-DC: FY17 Cheers for City Year', '13 LAX IGC:ALUM/FRND CMPN', '05 NH ERND', '08 INT G', '08 CSC G', '08 DET ERND', '05 NYC DIN:05 Gold', '06 COL APP:FALLPD', 'CLE-OH: FY17 Team Sponsorships', '62000:SPRCAMP', '80010-NYC12AnnFall:FY11 Parent', '80000-NH11:Sponsor', '09 BOS IGC', 'WDC-DC: FY16 Spring Break - Garfield', 'PRV-RI: FY17 Board Giving', 'CLE-OH: FY16 Program Sponsorships', 'BOS-MA: FY16 EOY/Winter Appeal Lapsed Donors Postcard', '06 DET G', '05 DET TSP', '05 COL PROG:READ', '80000-PHL08:08 Vice Chair', '07 RHI APP', 'WDC-DC: FY16 Legal Breakfast', '08 COL CH', 'SEA: FY13 Gala:Centerpiece', \"DEN-CO: FY15 Women's Initiative\", '08 NAT CAMP', '08 LRA SRVSP', '06 BOS PROG:YEARAD', '05 BOS IGC', 'WDC: FY13 Legal Brk:Ask', '09 LAX IGC:Founding Citizens', '80010-BOS12F', '08 LRA TSP:Founding Citizens', '08 NAT G:FONS', '07 NH ERND', '80010-NYC09F:ALUM', '06 CHI EVT', '06 LRA TSP:Full Team', 'RHI: FY13 Gala:Night of Ask', 'FNDCIR', '07 NYC DIN', 'SEA: FY13 Gala:Tickets', '08 LSA AFT', '80010-PHL09F:ALUM PRNTS', '80000-NH11:Auction', '80010-HQ11S', 'BOS-MA: FY16 Giving Tuesday Alumni', '04 NAT EVT', '05 NAT DIN:05 Silver', '06 CHI APPNI', '07 LRA AFT', '05 CLE EVT', '05 LRA IGC', 'BOS-MA: FY15 Spring Appeal', 'SAN: FY11 Gala:SAN: FY11 Gala', '06 SANJ AFT', '06 CSC APPNI', '10 CHI PROG', '05 BOS SRV:CSD', '08 CHI IGC', '06 DET APPNI:FALLOS', '06 CLE SPS', '08 NH APPNI', 'EBR-LA: FY14 Gala:Night of Ask', 'WDC-DC: FY17 Program Sponsorships', 'BOS-MA: FY15 Spring Appeal Monthly RLD (Recent Lapsed) Email 2', '10 LAX TSP', 'NYC: FY13 Asso Board:Super Bowl Ticket Fu', '80000-NYC12:Online', '80000-NH10:Sponsor', 'BOS-MA:DV:EX:FY16:151202: Winter Appeal Recent Lapsed Email 2', '08 CHI DIN (2007):Patron', '06 SEA DIN:06 Silver', 'Voices Grants FY15', '05 CLE GEN', 'WDC-DC: FY18 Franco Farewell', '07ATL MTCH (NP)', '80000-CSC08:80000-CSC08', '04 SANJ YH', 'COL-SC: FY15 Sustainable Personalized Ask', 'Young Heroes', '07 LRA APP', 'NOL-LA: FY17 Gala - School House Rock Individual Donations', 'EBR-LA: FY17 RJS Giving', '05 CSC DIN:05 Gold', '05 RHI DIN:05 Presenting', '80000-WDC08:08 Silver', '05 RHI DIN', 'NH: FY13 Gala:Auction', 'DET-MI: FY14 Gala:Night of Ask', '07 CLE PROG', '06 BOS CAMP', 'MIA-FL: FY16 Broward Giving', '07 CHI CAMP', 'BOS-MA: FY17 Employee Giving', '08 LAX TSP:Full Team', 'BOS-MA: FY13 Legal Brk', '06 CLE PROG', 'KLANE', 'MAN-NH: FY15 Service Days', '08 WDC TSP:Full Team', '06 COL APP:OTH', '05 NH IGC', '07 CHI TSP', '07 CSC SPPM', 'NYC-NY: FY16 Law Breakfast', '06 NAT DIN:ALUM', '80010-LRA09F:ALUM PRNTS', '08 DET APPNI:SPRINGPD', 'SAC-CA: FY17 Program Sponsorships', '06 CLE EVT', '80000-WDC09:80000-WDC09', 'SAC-CA: FY17 Opening Day', '07 LSA HRF', '80000-DET08:1 Page', '05 CLE SRVSP', '80010-DET09S:RENTED', 'BOS-MA: FY15 Spring Appeal Monthly LD (Lapsed) Letter', '80010-DET10S:POTDNR', '07 CHI YH', '05 COL APP', '06 NH APP:SPRINGPD', '06 NH TSP:Full Team', 'NYC-NY: FY14 Investment Breakfast', 'HQI-MA: 25th Anniversary Alumni--National Board', 'DEN: FY13 Gala:Donation', '07 NYC IGC:Alumni Friends & Fam', '05 INT MAJ', '06 CHI DIN:DON', '80000-CSC12:80000-CSC12', 'HQI-MA: FY17 AmeriCorps Member Appreciation Month', '80000-BOS12:Tickets', '06 BOS DIN:06 Individual', '09 COL TSP:Full Team', '07 CLE APP:FALL', '06 DET DIN', '08 PHL CH', '06 SAN AFT', '07 PHL EVT', '06 SANJ APP:SPRINGD', '05 NYC CAMP', 'SAC-CA: FY15 Gala Auction', '05 NYC IGC:FAPP', '07 RHI EVT', 'National Leadership Sponsor (NLS)', '80000-WDC08:08 Individual', '05 SEA DIN:05 Platinum', '80000-SEA09:BRONZESPSR', '08 SAN SRVSP:08 GLSD', 'ANNUAL:Alumni', '07 BLD', 'WDC-DC: FY13 Camp CY', 'MIA-FL: FY14 May Service Day', 'CHI-IL: FY13 Wine Stein Tickets', \"PHL-PA: FY16 Women's Leadership Luncheon\", '08 RHI G', 'PRV-RI: FY14 Women Breakfast', 'NOL-LA: FY15 Service Days', '05 CSC DIN:05 Donations', 'ORL-FL: FY16 Gala/Annual Event', '08 BOS SPS', '80010-DET11S:ALUM', '06 NH PROG:CLINTON', 'BOS-MA: FY17 Spring Appeal Current Donor Letter', '05 WDC CARE', '07 RHI TSP:Co-Team', '06 SANJ DIN:06 Individual', 'JAX-FL: FY16 Team Sponsorships', '80010-NYC10F:DNR', '80000-CSC09:80000-CSC09', 'TUL-OK: FY15 Opening Day', '08 LAX YH', 'MWK-WI: FY18 Sustainable', 'NOLA: FY13 Gala:sponsor', 'COL-OH: FY14 Gala:Night of Ask', 'BOS-MA: FY16 July Appeal to FY15 Parents', 'SEA-WA: FY16 Alumni Giving Challenge', 'BOS-MA: FY17 Ambassador Raffle', 'SAN-TX: FY16 Gala', 'MAN-NH: FY16 Team Sponsorships', '80010-CLE10U', '80010-DET12S', 'PRV-RI: FY14 Gala', 'MAN-NH: FY15 Gran Fondo Registration', 'SAN: FY13 Golf:Tickets', 'MIA-FL: FY16 Alumni Brunch', '08 BOS CMPSP', '07 DET OPEN', '07 DET APPNI', '08 CHI APP:SRPINGOS', '05 CHI APP:SPRINGAP', '06 NAT CYZ:AC', '04 NYC TSP', '08 LSA PROG', 'SSN/ROH/TRIB:10000TBL', '05 BOS CAMP', '08 RHI IGC:08 PTNRC', '07 SANJ PROG', '07 LRA EVT', 'PHL-PA: FY14 TSP', '08 SEA TSP:Co-Team', '80010-SANJ10F:DNR', 'MAN-NH: FY15 Gala. Night of Ask', 'DET: FY13 EOY:Email', '13 NAT CAPAC', '04 CHI DIN', '06 LRA SPPM', '06 COL APPNI:SPRINGD', '08 WDC APP:FALLA', '10 SEA IGC:ALUM/FRND CMPN', '07 SEA DIN (2006)', 'COL-SC: FY18 Gala', '80070', '05 WDC DIN:05 Silver', '07 LRA CMPSP', 'DEN-CO: FY16 Winter Appeal', '06 COL APP:YHB', '08 LSA ERND', '80000-LRA08:08 Half', 'EBR-LA: FY14 EOY', 'SEA-WA: FY15 Gala Sustainable/Sponsorships', 'NYC: FY12 AssocBrd:Tickets', '80000-NYC 09 (2008)', '04 RHI CAMP', '05 NAT APS', '04 NYC APP', 'DEN: FY13 Gala:Night of Ask', '06 PHL G', 'BOS-MA: FY16 Service Days', 'WDC-DC: FY17 Winstonn Tubbs Birthday', 'CLE: FY13 Gala:Silent Auction', '06 BOS TSP:Co-Team', 'TUL-OK: FY17 Team Sponsorships', '04 SAN GEN:BOARD', '08 CHI DIN (2007):Sponsor', 'BOS-MA: FY15 Program Support Solicitations', 'WDC: FY13 Legal Brk', '08 CHI TSP:Full Team', '80000-RHI08:08 Individual', '05 CLE GRAD', '80000-MIA12:Donations', '80010-NYC09U', 'BOS-MA: FY17 Boston Marathon - Rob Markey', '06 WDC TSP:Full Team', '13 PHL IGC:ALUM/FRND CMPN', '05 JBG IGC', 'MAN-NH: FY15 Team Sponsorships', 'FY13 Team Sponsorship Unknown', 'NSD:BAL', '07 DET APP', '06 RHI AFT', '07 BOS IGC:Planned Giving', '08 DET IGC', '08 LAX IGC:ALUM/FRND CMPN', '08 NH IGC', '04 NH DIN', '80010-LRA10F:ALUM PRNTS', '07 NAT IGC:Honor of Michael Bro', '05 CHI APP:SPRINGD', 'SEA-WA: FY17 Program Sponsorships', '04 NAT APP', 'MIA-FL: FY15 Giving Tuesday', '06 CHI DIN:IND', '08 PHL SFC', '08 RHI IGC:ALUM/FRND CMPN', 'JAX-FL: FY17 Alumni Movie', '06 SAN DIN', '05 CHI SRVSP', 'BOS-MA: FY15 Strong Circle Day', 'NYC: FY12AlumBrd', '80010-BOS10S:POTDNR', 'WDC-DC: FY15 Program Support Solicitations', '80000-MKE12:Tickets', 'CHI-IL: FY16 Foundations - New', '80010-NYC12AnnFall', '05 PHL SPS', '04 CHI SERV', 'DEN-CO: FY15 Denver Foundation Intern', 'CLE-OH: FY16 Sustainable Personalized Ask', 'BOS-MA: 25th Ann.', 'CHI-IL: FY17 Women, Wisdom, and Wine', 'NATBOSAA03:FALL', '80000-RHI12:Donation', 'NH: FY13 Bike Race:Sponsorship', 'PRV-RI: FY15 Staff Giving', 'MIA-FL: FY14 Gala Paint the Town Red', '08 SEA SPP', 'Combined Federal Campaign', '06 LRA IGC', '04 RHI PROG', '07 CHI PROG', '05 CSC DIN:$250SPON', '07 BOS DIN:ALUM', 'NOL-LA: FY17 Team Sponsorships', '80000-SEA09:Auction', 'ORL-FL: FY16 Board Annual Giving', 'WDC-DC: FY16 Gala', 'NYC-NY: FY17 Gala Ripples of Hope', '80000-SEA12:Sponsor', 'DEN-CO: FY15 Program Support Solicitations', '80010-SANJ09F:RENTED', '06 NYC APP:FALLCP', '06 WDC DIN:06 Silver', '04 WDC GEN', '07 SEA SPP', '09 NYC DIN (2008):Individual Tickets', 'SAN-TX: Major Gift Ask', '08 BOS CARE', '05 PHL PROG:Clinton Innovation A', 'CHI-IL: FY14 NFL Fantasy Football', 'NYC-NY: FY17 Program Support Solicitations', 'MWK-WI: FY16 Service Days', '08 CSC PROG', 'PHL-PA: FY14 Summer', '08 WDC APP:FALLPD', '04 CLE SPS', 'ORL-FL: FY17 Idealists for Education', 'LDD', 'SAC-CA:DV:ECA$:FY15:141202: Giving Tuesday Appeal', 'PHL-PA: FY15 Fall Appeal', \"DET-MI: FY17 Women's Leadership Breakfast\", '04 NAT CYZ:SPON', '08 BOS APP:FALLOSHFH', '04 BOS SRV', '06 BOS EVT:GOLFS', 'BOS-MA: FY16 Fall Appeal', 'DET-MI: FY15 Program Support Solicitations', '04 COL APP', '04 NAT CYZ:REG', 'PRV-RI: FY15 Program Support Solicitations', '06 LSA TSP:Full Team', '08 RHI TSP:Co-Team', '04 SANJ SAT', 'NYC-NY: FY16 Associate Board Cycling Fundraiser', 'WDC: FY12 AssocBrd', '04 SANJ SPPM', '10 NYC G', 'SNJ-CA: FY17 STEAM', 'WDC-DC: FY16 Spring Break - Thomas', '06 COL APPNI:GEN', '07 NAT CYZ', '07 SAN G'}\n",
      "There are 4807 different campaigns that City Year has ran since 1997.\n"
     ]
    }
   ],
   "source": [
    "# our first categorical feature, we will convert this differently than the previous datetimes/float values\n",
    "print(set(gt_df['Campaign Name']))\n",
    "\n",
    "print('There are {} different campaigns that City Year has ran since 1997.'.format(len(set(gt_df['Campaign Name']))))"
   ]
  },
  {
   "cell_type": "markdown",
   "id": "444009e9",
   "metadata": {},
   "source": [
    "well fuck"
   ]
  },
  {
   "cell_type": "code",
   "execution_count": 205,
   "id": "68069674",
   "metadata": {},
   "outputs": [],
   "source": [
    "# create new dataframe containing campaign names and corresponding campaign category codes that we assign\n",
    "campaign_df = pd.DataFrame()\n",
    "campaign_df['Campaign Cat Code'] = list(set(gt_df['Campaign Name'].astype(\"category\").cat.codes))\n",
    "campaign_df['Campaign Name'] = list(set(gt_df['Campaign Name']))"
   ]
  },
  {
   "cell_type": "code",
   "execution_count": 206,
   "id": "74cf13ab",
   "metadata": {},
   "outputs": [],
   "source": [
    "# theoretically, this is how we should handle all cateogrical variables, so I'm going to run with this sparse/non-sparse\n",
    "# matrix for the time being\n",
    "gt_df_sparse = pd.get_dummies(gt_df, columns=['Campaign Name'])"
   ]
  },
  {
   "cell_type": "code",
   "execution_count": 207,
   "id": "56f41584",
   "metadata": {},
   "outputs": [],
   "source": [
    "# this maps the campaign codes onto their names in a single column, but since the campaigns are not inherently relational\n",
    "# we should absolutely NOT do this\n",
    "#gt_df['Campaign Name'] = gt_df['Campaign Name'].astype(\"category\").cat.codes"
   ]
  },
  {
   "cell_type": "markdown",
   "id": "38470f53",
   "metadata": {},
   "source": [
    "Since there were ~4800 different campaigns that City Year has conducted since '97, we are forced to serialize those campaigns into numbers which we use to replace the names.\n",
    "\n",
    "We will also create a separate dataframe containing a correlation between campaign names and category codes, for future use."
   ]
  },
  {
   "cell_type": "code",
   "execution_count": 208,
   "id": "a67e327f",
   "metadata": {},
   "outputs": [
    {
     "name": "stdout",
     "output_type": "stream",
     "text": [
      "The new dataframe shape is (188895, 4818).\n"
     ]
    }
   ],
   "source": [
    "# print new head of gt_df that contains the campaign codes instead of names, therefore categorizing the data \n",
    "# (we might need to make this a sparse matrix at some point as well, but for now we will just not add 4807 features for simplicity)\n",
    "\n",
    "print('The new dataframe shape is {}.'.format(gt_df_sparse.shape))"
   ]
  },
  {
   "cell_type": "markdown",
   "id": "6b54202c",
   "metadata": {},
   "source": [
    "Thankfully, the remaining data (aside from payment status) is useless since it is just a variety of identification numbers. We will only use that for joins in the future and store them aside."
   ]
  },
  {
   "cell_type": "code",
   "execution_count": 209,
   "id": "26d3a243",
   "metadata": {},
   "outputs": [
    {
     "data": {
      "text/html": [
       "<div>\n",
       "<style scoped>\n",
       "    .dataframe tbody tr th:only-of-type {\n",
       "        vertical-align: middle;\n",
       "    }\n",
       "\n",
       "    .dataframe tbody tr th {\n",
       "        vertical-align: top;\n",
       "    }\n",
       "\n",
       "    .dataframe thead th {\n",
       "        text-align: right;\n",
       "    }\n",
       "</style>\n",
       "<table border=\"1\" class=\"dataframe\">\n",
       "  <thead>\n",
       "    <tr style=\"text-align: right;\">\n",
       "      <th></th>\n",
       "      <th>Staff Member</th>\n",
       "      <th>Amount</th>\n",
       "      <th>Payment Number</th>\n",
       "      <th>GAU Allocation Name</th>\n",
       "      <th>Payment Date</th>\n",
       "      <th>Payment Status</th>\n",
       "      <th>Campaign Name_01 RHI APP</th>\n",
       "      <th>Campaign Name_01 RHI CAMP</th>\n",
       "      <th>Campaign Name_01 RHI CYZ</th>\n",
       "      <th>Campaign Name_01 RHI DIN</th>\n",
       "      <th>...</th>\n",
       "      <th>Campaign Name_Wine Tasting:Donation</th>\n",
       "      <th>Campaign Name_Wine Tasting:sponsor</th>\n",
       "      <th>Campaign Name_YH</th>\n",
       "      <th>Campaign Name_Young Heroes</th>\n",
       "      <th>Campaign Name_Young Heroes Sponsor</th>\n",
       "      <th>Campaign Name_Young Heroes Sponsor:YHAA</th>\n",
       "      <th>Campaign Name_Young Heroes Sponsor:YHOPEN</th>\n",
       "      <th>Campaign Name_Young Heroes Sponsor:YHOTHER</th>\n",
       "      <th>Campaign Name_Young Heroes Sponsor:YHPRSPON</th>\n",
       "      <th>Campaign Name_Young Heroes Sponsor:YHTSP</th>\n",
       "    </tr>\n",
       "  </thead>\n",
       "  <tbody>\n",
       "    <tr>\n",
       "      <th>561</th>\n",
       "      <td>7.0</td>\n",
       "      <td>50000.0</td>\n",
       "      <td>1169</td>\n",
       "      <td>15674</td>\n",
       "      <td>2004-06-08</td>\n",
       "      <td>Paid</td>\n",
       "      <td>0</td>\n",
       "      <td>0</td>\n",
       "      <td>0</td>\n",
       "      <td>0</td>\n",
       "      <td>...</td>\n",
       "      <td>0</td>\n",
       "      <td>0</td>\n",
       "      <td>0</td>\n",
       "      <td>0</td>\n",
       "      <td>0</td>\n",
       "      <td>0</td>\n",
       "      <td>0</td>\n",
       "      <td>0</td>\n",
       "      <td>0</td>\n",
       "      <td>0</td>\n",
       "    </tr>\n",
       "    <tr>\n",
       "      <th>562</th>\n",
       "      <td>7.0</td>\n",
       "      <td>200.0</td>\n",
       "      <td>6709</td>\n",
       "      <td>8201</td>\n",
       "      <td>2015-04-13</td>\n",
       "      <td>Paid</td>\n",
       "      <td>0</td>\n",
       "      <td>0</td>\n",
       "      <td>0</td>\n",
       "      <td>0</td>\n",
       "      <td>...</td>\n",
       "      <td>0</td>\n",
       "      <td>0</td>\n",
       "      <td>0</td>\n",
       "      <td>0</td>\n",
       "      <td>0</td>\n",
       "      <td>0</td>\n",
       "      <td>0</td>\n",
       "      <td>0</td>\n",
       "      <td>0</td>\n",
       "      <td>0</td>\n",
       "    </tr>\n",
       "    <tr>\n",
       "      <th>563</th>\n",
       "      <td>7.0</td>\n",
       "      <td>200.0</td>\n",
       "      <td>6709</td>\n",
       "      <td>8201</td>\n",
       "      <td>2015-04-13</td>\n",
       "      <td>Paid</td>\n",
       "      <td>0</td>\n",
       "      <td>0</td>\n",
       "      <td>0</td>\n",
       "      <td>0</td>\n",
       "      <td>...</td>\n",
       "      <td>0</td>\n",
       "      <td>0</td>\n",
       "      <td>0</td>\n",
       "      <td>0</td>\n",
       "      <td>0</td>\n",
       "      <td>0</td>\n",
       "      <td>0</td>\n",
       "      <td>0</td>\n",
       "      <td>0</td>\n",
       "      <td>0</td>\n",
       "    </tr>\n",
       "    <tr>\n",
       "      <th>564</th>\n",
       "      <td>7.0</td>\n",
       "      <td>100000.0</td>\n",
       "      <td>7109</td>\n",
       "      <td>14341</td>\n",
       "      <td>2015-07-16</td>\n",
       "      <td>Paid</td>\n",
       "      <td>0</td>\n",
       "      <td>0</td>\n",
       "      <td>0</td>\n",
       "      <td>0</td>\n",
       "      <td>...</td>\n",
       "      <td>0</td>\n",
       "      <td>0</td>\n",
       "      <td>0</td>\n",
       "      <td>0</td>\n",
       "      <td>0</td>\n",
       "      <td>0</td>\n",
       "      <td>0</td>\n",
       "      <td>0</td>\n",
       "      <td>0</td>\n",
       "      <td>0</td>\n",
       "    </tr>\n",
       "    <tr>\n",
       "      <th>565</th>\n",
       "      <td>7.0</td>\n",
       "      <td>300.0</td>\n",
       "      <td>6709</td>\n",
       "      <td>8202</td>\n",
       "      <td>2015-04-13</td>\n",
       "      <td>Paid</td>\n",
       "      <td>0</td>\n",
       "      <td>0</td>\n",
       "      <td>0</td>\n",
       "      <td>0</td>\n",
       "      <td>...</td>\n",
       "      <td>0</td>\n",
       "      <td>0</td>\n",
       "      <td>0</td>\n",
       "      <td>0</td>\n",
       "      <td>0</td>\n",
       "      <td>0</td>\n",
       "      <td>0</td>\n",
       "      <td>0</td>\n",
       "      <td>0</td>\n",
       "      <td>0</td>\n",
       "    </tr>\n",
       "  </tbody>\n",
       "</table>\n",
       "<p>5 rows × 4813 columns</p>\n",
       "</div>"
      ],
      "text/plain": [
       "     Staff Member    Amount  Payment Number  GAU Allocation Name Payment Date  \\\n",
       "561           7.0   50000.0            1169                15674   2004-06-08   \n",
       "562           7.0     200.0            6709                 8201   2015-04-13   \n",
       "563           7.0     200.0            6709                 8201   2015-04-13   \n",
       "564           7.0  100000.0            7109                14341   2015-07-16   \n",
       "565           7.0     300.0            6709                 8202   2015-04-13   \n",
       "\n",
       "    Payment Status  Campaign Name_01 RHI APP  Campaign Name_01 RHI CAMP  \\\n",
       "561           Paid                         0                          0   \n",
       "562           Paid                         0                          0   \n",
       "563           Paid                         0                          0   \n",
       "564           Paid                         0                          0   \n",
       "565           Paid                         0                          0   \n",
       "\n",
       "     Campaign Name_01 RHI CYZ  Campaign Name_01 RHI DIN  ...  \\\n",
       "561                         0                         0  ...   \n",
       "562                         0                         0  ...   \n",
       "563                         0                         0  ...   \n",
       "564                         0                         0  ...   \n",
       "565                         0                         0  ...   \n",
       "\n",
       "     Campaign Name_Wine Tasting:Donation  Campaign Name_Wine Tasting:sponsor  \\\n",
       "561                                    0                                   0   \n",
       "562                                    0                                   0   \n",
       "563                                    0                                   0   \n",
       "564                                    0                                   0   \n",
       "565                                    0                                   0   \n",
       "\n",
       "     Campaign Name_YH  Campaign Name_Young Heroes  \\\n",
       "561                 0                           0   \n",
       "562                 0                           0   \n",
       "563                 0                           0   \n",
       "564                 0                           0   \n",
       "565                 0                           0   \n",
       "\n",
       "     Campaign Name_Young Heroes Sponsor  \\\n",
       "561                                   0   \n",
       "562                                   0   \n",
       "563                                   0   \n",
       "564                                   0   \n",
       "565                                   0   \n",
       "\n",
       "     Campaign Name_Young Heroes Sponsor:YHAA  \\\n",
       "561                                        0   \n",
       "562                                        0   \n",
       "563                                        0   \n",
       "564                                        0   \n",
       "565                                        0   \n",
       "\n",
       "     Campaign Name_Young Heroes Sponsor:YHOPEN  \\\n",
       "561                                          0   \n",
       "562                                          0   \n",
       "563                                          0   \n",
       "564                                          0   \n",
       "565                                          0   \n",
       "\n",
       "     Campaign Name_Young Heroes Sponsor:YHOTHER  \\\n",
       "561                                           0   \n",
       "562                                           0   \n",
       "563                                           0   \n",
       "564                                           0   \n",
       "565                                           0   \n",
       "\n",
       "     Campaign Name_Young Heroes Sponsor:YHPRSPON  \\\n",
       "561                                            0   \n",
       "562                                            0   \n",
       "563                                            0   \n",
       "564                                            0   \n",
       "565                                            0   \n",
       "\n",
       "     Campaign Name_Young Heroes Sponsor:YHTSP  \n",
       "561                                         0  \n",
       "562                                         0  \n",
       "563                                         0  \n",
       "564                                         0  \n",
       "565                                         0  \n",
       "\n",
       "[5 rows x 4813 columns]"
      ]
     },
     "execution_count": 209,
     "metadata": {},
     "output_type": "execute_result"
    }
   ],
   "source": [
    "# clean our final column, payment status\n",
    "gt_df_sparse = gt_df_sparse.loc[:, gt_df_sparse.columns != 'Opportunity: Legacy SF ID']\n",
    "gt_df_sparse = gt_df_sparse.loc[:, gt_df_sparse.columns != 'Opportunity: Opportunity ID']\n",
    "gt_df_sparse = gt_df_sparse.loc[:, gt_df_sparse.columns != 'Opportunity: Donor Id']\n",
    "gt_df_sparse = gt_df_sparse.loc[:, gt_df_sparse.columns != 'Legacy SF ID']\n",
    "gt_df_sparse = gt_df_sparse.loc[:, gt_df_sparse.columns != 'Legacy SF ID.1']\n",
    "\n",
    "# print new, ID feature dropped DF\n",
    "gt_df_sparse.head()"
   ]
  },
  {
   "cell_type": "code",
   "execution_count": 210,
   "id": "c405462d",
   "metadata": {},
   "outputs": [],
   "source": [
    "# convert Payment Status column to boolean values\n",
    "gt_df_sparse['Payment Status'] = gt_df_sparse['Payment Status'].map({\"Paid\":1, \"Unpaid\":0})\n",
    "gt_df_sparse['Payment Status'] = gt_df_sparse['Payment Status'].astype(bool)"
   ]
  },
  {
   "cell_type": "code",
   "execution_count": 211,
   "id": "55581a2b",
   "metadata": {
    "scrolled": false
   },
   "outputs": [
    {
     "name": "stdout",
     "output_type": "stream",
     "text": [
      "<class 'pandas.core.frame.DataFrame'>\n",
      "Int64Index: 188895 entries, 561 to 189832\n",
      "Columns: 4813 entries, Staff Member to Campaign Name_Young Heroes Sponsor:YHTSP\n",
      "dtypes: bool(1), datetime64[ns](1), float64(2), int64(2), uint8(4807)\n",
      "memory usage: 874.8 MB\n"
     ]
    }
   ],
   "source": [
    "# finally, we check our new Sparse matrix for datatypes/NaNs\n",
    "gt_df_sparse.info()"
   ]
  },
  {
   "cell_type": "code",
   "execution_count": 212,
   "id": "e1506cc3",
   "metadata": {
    "scrolled": true
   },
   "outputs": [
    {
     "data": {
      "text/html": [
       "<div>\n",
       "<style scoped>\n",
       "    .dataframe tbody tr th:only-of-type {\n",
       "        vertical-align: middle;\n",
       "    }\n",
       "\n",
       "    .dataframe tbody tr th {\n",
       "        vertical-align: top;\n",
       "    }\n",
       "\n",
       "    .dataframe thead th {\n",
       "        text-align: right;\n",
       "    }\n",
       "</style>\n",
       "<table border=\"1\" class=\"dataframe\">\n",
       "  <thead>\n",
       "    <tr style=\"text-align: right;\">\n",
       "      <th></th>\n",
       "      <th>Staff Member</th>\n",
       "      <th>Amount</th>\n",
       "      <th>Payment Number</th>\n",
       "      <th>GAU Allocation Name</th>\n",
       "      <th>Payment Date</th>\n",
       "      <th>Payment Status</th>\n",
       "      <th>Campaign Cat Number</th>\n",
       "    </tr>\n",
       "  </thead>\n",
       "  <tbody>\n",
       "    <tr>\n",
       "      <th>561</th>\n",
       "      <td>7.0</td>\n",
       "      <td>50000.0</td>\n",
       "      <td>1169</td>\n",
       "      <td>15674</td>\n",
       "      <td>2004-06-08</td>\n",
       "      <td>True</td>\n",
       "      <td>132</td>\n",
       "    </tr>\n",
       "    <tr>\n",
       "      <th>562</th>\n",
       "      <td>7.0</td>\n",
       "      <td>200.0</td>\n",
       "      <td>6709</td>\n",
       "      <td>8201</td>\n",
       "      <td>2015-04-13</td>\n",
       "      <td>True</td>\n",
       "      <td>4659</td>\n",
       "    </tr>\n",
       "    <tr>\n",
       "      <th>563</th>\n",
       "      <td>7.0</td>\n",
       "      <td>200.0</td>\n",
       "      <td>6709</td>\n",
       "      <td>8201</td>\n",
       "      <td>2015-04-13</td>\n",
       "      <td>True</td>\n",
       "      <td>4659</td>\n",
       "    </tr>\n",
       "    <tr>\n",
       "      <th>564</th>\n",
       "      <td>7.0</td>\n",
       "      <td>100000.0</td>\n",
       "      <td>7109</td>\n",
       "      <td>14341</td>\n",
       "      <td>2015-07-16</td>\n",
       "      <td>True</td>\n",
       "      <td>3540</td>\n",
       "    </tr>\n",
       "    <tr>\n",
       "      <th>565</th>\n",
       "      <td>7.0</td>\n",
       "      <td>300.0</td>\n",
       "      <td>6709</td>\n",
       "      <td>8202</td>\n",
       "      <td>2015-04-13</td>\n",
       "      <td>True</td>\n",
       "      <td>4659</td>\n",
       "    </tr>\n",
       "  </tbody>\n",
       "</table>\n",
       "</div>"
      ],
      "text/plain": [
       "     Staff Member    Amount  Payment Number  GAU Allocation Name Payment Date  \\\n",
       "561           7.0   50000.0            1169                15674   2004-06-08   \n",
       "562           7.0     200.0            6709                 8201   2015-04-13   \n",
       "563           7.0     200.0            6709                 8201   2015-04-13   \n",
       "564           7.0  100000.0            7109                14341   2015-07-16   \n",
       "565           7.0     300.0            6709                 8202   2015-04-13   \n",
       "\n",
       "     Payment Status  Campaign Cat Number  \n",
       "561            True                  132  \n",
       "562            True                 4659  \n",
       "563            True                 4659  \n",
       "564            True                 3540  \n",
       "565            True                 4659  "
      ]
     },
     "execution_count": 212,
     "metadata": {},
     "output_type": "execute_result"
    }
   ],
   "source": [
    "# lets also create the matrix that contains categorical numeric data and not sparse data\n",
    "gt_df_cat = gt_df_sparse.drop(gt_df_sparse.columns[5:-1], axis=1)\n",
    "gt_df_cat = gt_df_cat.drop(gt_df_cat.columns[5], axis=1)\n",
    "gt_df_cat['Payment Status'] = gt_df_sparse['Payment Status']\n",
    "gt_df_cat['Campaign Cat Number'] = gt_df['Campaign Name'].astype(\"category\").cat.codes\n",
    "gt_df_cat.head()"
   ]
  },
  {
   "cell_type": "code",
   "execution_count": 213,
   "id": "5ec0e53d",
   "metadata": {},
   "outputs": [],
   "source": [
    "gt_df_cat = gt_df_cat.dropna()\n",
    "gt_df_sparse = gt_df_sparse.dropna()"
   ]
  },
  {
   "cell_type": "markdown",
   "id": "23e5ee80",
   "metadata": {},
   "source": [
    "We now have two important dataframes to run models with, the first being 'gt_df_sparse' which breaks the categorical feature of 'Campaign Name' into N number of boolean features.\n",
    "\n",
    "The second dataframe (gt_df_cat) serializes campaign names into numeric values instead of stretching them into boolean features. Both have their uses, but gt_df_cat is significantly better with computational capacity."
   ]
  },
  {
   "cell_type": "markdown",
   "id": "6e480664",
   "metadata": {},
   "source": [
    "### Section II: Model Training"
   ]
  },
  {
   "cell_type": "code",
   "execution_count": 214,
   "id": "d4d2d116",
   "metadata": {},
   "outputs": [],
   "source": [
    "from sklearn import cluster\n",
    "from sklearn.metrics import silhouette_score\n",
    "import numpy as np\n",
    "from sklearn.metrics import pairwise_distances\n",
    "import random"
   ]
  },
  {
   "cell_type": "code",
   "execution_count": 215,
   "id": "8acb36af",
   "metadata": {},
   "outputs": [],
   "source": [
    "X_cluster = gt_df_cat['Amount']\n",
    "X_cluster = list(X_cluster.to_numpy())\n",
    "X_limited = random.sample(X_cluster, 10000)\n",
    "X_limited = np.array(X_limited).reshape(-1,1)"
   ]
  },
  {
   "cell_type": "code",
   "execution_count": 216,
   "id": "33087818",
   "metadata": {},
   "outputs": [
    {
     "name": "stdout",
     "output_type": "stream",
     "text": [
      "Avg. Silhouette Score is: 0.8878602246827635\n",
      "Avg. Silhouette Score is: 0.8662488342354294\n",
      "Avg. Silhouette Score is: 0.8083331518533622\n",
      "Avg. Silhouette Score is: 0.7618338344976998\n",
      "Avg. Silhouette Score is: 0.7669151114589027\n",
      "Avg. Silhouette Score is: 0.7493210527357991\n",
      "Avg. Silhouette Score is: 0.7406130887832058\n",
      "Avg. Silhouette Score is: 0.7483271160841145\n",
      "Avg. Silhouette Score is: 0.7550310154881249\n",
      "Avg. Silhouette Score is: 0.7426330362735394\n",
      "Avg. Silhouette Score is: 0.733555907722157\n",
      "Avg. Silhouette Score is: 0.7751818141262568\n",
      "Avg. Silhouette Score is: 0.7630471350896292\n",
      "Avg. Silhouette Score is: 0.77964069693354\n",
      "Avg. Silhouette Score is: 0.7893471546298417\n",
      "Avg. Silhouette Score is: 0.8085716544429723\n",
      "Avg. Silhouette Score is: 0.8125914128246289\n",
      "Avg. Silhouette Score is: 0.8060264779670213\n",
      "Avg. Silhouette Score is: 0.7835677293150745\n",
      "Avg. Silhouette Score is: 0.8196570218455774\n",
      "Avg. Silhouette Score is: 0.8338877977481592\n",
      "Avg. Silhouette Score is: 0.8348347677199613\n",
      "Avg. Silhouette Score is: 0.8376742549317329\n",
      "Avg. Silhouette Score is: 0.8582001708796846\n",
      "Avg. Silhouette Score is: 0.8641299185150257\n",
      "Avg. Silhouette Score is: 0.8746979833555066\n",
      "Avg. Silhouette Score is: 0.8711297150359091\n",
      "Avg. Silhouette Score is: 0.8785374973686783\n",
      "Avg. Silhouette Score is: 0.8812104954189386\n",
      "Avg. Silhouette Score is: 0.8890361626692876\n",
      "Avg. Silhouette Score is: 0.8862197067055113\n",
      "Avg. Silhouette Score is: 0.8891271476490341\n",
      "Avg. Silhouette Score is: 0.8942747256392586\n",
      "Avg. Silhouette Score is: 0.9013045839124938\n",
      "Avg. Silhouette Score is: 0.907045972724296\n",
      "Avg. Silhouette Score is: 0.9103708669649258\n",
      "Avg. Silhouette Score is: 0.9138992337343746\n",
      "Avg. Silhouette Score is: 0.9066860823212286\n",
      "Avg. Silhouette Score is: 0.9088006416109532\n",
      "Avg. Silhouette Score is: 0.9124777539910981\n",
      "Avg. Silhouette Score is: 0.9148887920433263\n",
      "Avg. Silhouette Score is: 0.913641692318465\n",
      "Avg. Silhouette Score is: 0.9144682475208022\n",
      "Avg. Silhouette Score is: 0.9160679525418405\n",
      "Avg. Silhouette Score is: 0.9166314518141746\n",
      "Avg. Silhouette Score is: 0.9168953541738969\n",
      "Avg. Silhouette Score is: 0.9195799812412743\n",
      "Avg. Silhouette Score is: 0.9205400845056463\n",
      "Avg. Silhouette Score is: 0.9202204977111372\n"
     ]
    }
   ],
   "source": [
    "# silhouette score calculation for n_clusters = 10-1000 step size 10\n",
    "calc_ss = True\n",
    "if calc_ss:\n",
    "    # create empty lists for clustering algo to append silhouette scores to for plotting\n",
    "    cluster_n_list = range(10, 500, 10)\n",
    "    ss_list = []\n",
    "    for i in cluster_n_list:\n",
    "        # train unsupervised KNN model on giving data to determine clusters for donations\n",
    "        k_means = cluster.KMeans(n_clusters=i)\n",
    "        k_means.fit(X_limited)\n",
    "        pairs = pairwise_distances(X_limited)\n",
    "        cur_ss = silhouette_score(pairs, k_means.labels_)\n",
    "        print(\"Avg. Silhouette Score is: {}\".format(cur_ss))\n",
    "        ss_list.append(cur_ss)"
   ]
  },
  {
   "cell_type": "code",
   "execution_count": 217,
   "id": "1defd3e2",
   "metadata": {},
   "outputs": [],
   "source": [
    "import matplotlib.pyplot as plt"
   ]
  },
  {
   "cell_type": "code",
   "execution_count": 218,
   "id": "47ba8bf3",
   "metadata": {
    "scrolled": true
   },
   "outputs": [
    {
     "data": {
      "text/plain": [
       "Text(0.5, 1.0, 'KMeans Clustering Silhouette Analysis')"
      ]
     },
     "execution_count": 218,
     "metadata": {},
     "output_type": "execute_result"
    },
    {
     "data": {
      "image/png": "[encoded data removed]",
      "text/plain": [
       "<Figure size 432x288 with 1 Axes>"
      ]
     },
     "metadata": {
      "needs_background": "light"
     },
     "output_type": "display_data"
    }
   ],
   "source": [
    "# plotting of silhouette score, clusters_n = 10-1000 w/ step size 10\n",
    "plt.plot(cluster_n_list, ss_list)\n",
    "plt.xlabel(\"Number of Clusters\")\n",
    "plt.ylabel(\"Silhouette Score\")\n",
    "plt.title(\"KMeans Clustering Silhouette Analysis\")"
   ]
  },
  {
   "cell_type": "code",
   "execution_count": 219,
   "id": "b65ee831",
   "metadata": {},
   "outputs": [
    {
     "name": "stdout",
     "output_type": "stream",
     "text": [
      "Highest Silhouette Score: 0.9205400845056463\n",
      "Optimal # of Clusters based on SS: 480\n"
     ]
    }
   ],
   "source": [
    "print(\"Highest Silhouette Score: {}\".format(max(ss_list)))\n",
    "print(\"Optimal # of Clusters based on SS: {}\".format(10 + (ss_list.index(max(ss_list)) * 10)))"
   ]
  },
  {
   "cell_type": "code",
   "execution_count": 220,
   "id": "0f75866a",
   "metadata": {},
   "outputs": [],
   "source": [
    "# Silhouette score of 2-10 clusters calculations\n",
    "calc_ss = False\n",
    "if calc_ss:\n",
    "    # create empty lists for clustering algo to append silhouette scores to for plotting\n",
    "    cluster_n_list = range(2, 10)\n",
    "    ss_list = []\n",
    "    for i in cluster_n_list:\n",
    "        # train unsupervised KNN model on giving data to determine clusters for donations\n",
    "        k_means = cluster.KMeans(n_clusters=i)\n",
    "        k_means.fit(X_limited)\n",
    "        pairs = pairwise_distances(X_limited)\n",
    "        cur_ss = silhouette_score(pairs, k_means.labels_)\n",
    "        print(\"Avg. Silhouette Score is: {}\".format(cur_ss))\n",
    "        ss_list.append(cur_ss)"
   ]
  },
  {
   "cell_type": "code",
   "execution_count": 221,
   "id": "6b0fd968",
   "metadata": {},
   "outputs": [
    {
     "data": {
      "text/plain": [
       "Text(0.5, 1.0, 'KMeans Clustering Silhouette Analysis')"
      ]
     },
     "execution_count": 221,
     "metadata": {},
     "output_type": "execute_result"
    },
    {
     "data": {
      "image/png": "[encoded data removed]",
      "text/plain": [
       "<Figure size 432x288 with 1 Axes>"
      ]
     },
     "metadata": {
      "needs_background": "light"
     },
     "output_type": "display_data"
    }
   ],
   "source": [
    "# Silhouette score of 2-10 clusters\n",
    "plt.plot(cluster_n_list, ss_list)\n",
    "plt.xlabel(\"Number of Clusters\")\n",
    "plt.ylabel(\"Silhouette Score\")\n",
    "plt.title(\"KMeans Clustering Silhouette Analysis\")"
   ]
  },
  {
   "cell_type": "code",
   "execution_count": 222,
   "id": "bcda7e5f",
   "metadata": {},
   "outputs": [
    {
     "data": {
      "text/plain": [
       "<matplotlib.collections.PathCollection at 0x151615e1ee0>"
      ]
     },
     "execution_count": 222,
     "metadata": {},
     "output_type": "execute_result"
    },
    {
     "data": {
      "image/png": "[encoded data removed]",
      "text/plain": [
       "<Figure size 432x288 with 1 Axes>"
      ]
     },
     "metadata": {
      "needs_background": "light"
     },
     "output_type": "display_data"
    }
   ],
   "source": [
    "# scatterplot of the data, campaign vs. amount given in each campaign\n",
    "plt.scatter(gt_df_cat['Campaign Cat Number'], gt_df_cat['Amount'])"
   ]
  },
  {
   "cell_type": "code",
   "execution_count": 223,
   "id": "4e6c6617",
   "metadata": {},
   "outputs": [],
   "source": [
    "from sklearn.neighbors import KernelDensity"
   ]
  },
  {
   "cell_type": "code",
   "execution_count": 224,
   "id": "e3293810",
   "metadata": {},
   "outputs": [
    {
     "data": {
      "text/plain": [
       "array([-8.11172808, -5.37088806, -4.40034399, ..., -3.60823171,\n",
       "       -4.27950597, -3.74290854])"
      ]
     },
     "execution_count": 224,
     "metadata": {},
     "output_type": "execute_result"
    }
   ],
   "source": [
    "kd = KernelDensity(kernel=\"exponential\")\n",
    "kd.fit(X_limited)\n",
    "kd.score_samples(X_limited)"
   ]
  },
  {
   "cell_type": "code",
   "execution_count": 225,
   "id": "16fc138a",
   "metadata": {},
   "outputs": [
    {
     "data": {
      "text/plain": [
       "<AxesSubplot:ylabel='Density'>"
      ]
     },
     "execution_count": 225,
     "metadata": {},
     "output_type": "execute_result"
    },
    {
     "data": {
      "image/png": "[encoded data removed]",
      "text/plain": [
       "<Figure size 432x288 with 1 Axes>"
      ]
     },
     "metadata": {
      "needs_background": "light"
     },
     "output_type": "display_data"
    }
   ],
   "source": [
    "import seaborn as sns\n",
    "sns.kdeplot(data=X_limited[0:50])"
   ]
  },
  {
   "cell_type": "code",
   "execution_count": null,
   "id": "2d3b8749",
   "metadata": {},
   "outputs": [],
   "source": []
  }
 ],
 "metadata": {
  "kernelspec": {
   "display_name": "Python 3",
   "language": "python",
   "name": "python3"
  },
  "language_info": {
   "codemirror_mode": {
    "name": "ipython",
    "version": 3
   },
   "file_extension": ".py",
   "mimetype": "text/x-python",
   "name": "python",
   "nbconvert_exporter": "python",
   "pygments_lexer": "ipython3",
   "version": "3.8.8"
  }
 },
 "nbformat": 4,
 "nbformat_minor": 5
}
